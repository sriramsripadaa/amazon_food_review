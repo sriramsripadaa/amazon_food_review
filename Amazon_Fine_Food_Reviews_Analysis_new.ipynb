{
  "nbformat": 4,
  "nbformat_minor": 0,
  "metadata": {
    "colab": {
      "provenance": [],
      "collapsed_sections": [
        "TX5b3dc5CAZS"
      ]
    },
    "kernelspec": {
      "display_name": "Python 3",
      "language": "python",
      "name": "python3"
    },
    "language_info": {
      "codemirror_mode": {
        "name": "ipython",
        "version": 3
      },
      "file_extension": ".py",
      "mimetype": "text/x-python",
      "name": "python",
      "nbconvert_exporter": "python",
      "pygments_lexer": "ipython3",
      "version": "3.7.4"
    },
    "gpuClass": "standard",
    "accelerator": "TPU"
  },
  "cells": [
    {
      "cell_type": "markdown",
      "metadata": {
        "id": "X-cp_kAxCAY2"
      },
      "source": [
        "# Amazon Fine Food Reviews Analysis\n",
        "\n",
        "\n",
        "Data Source: https://www.kaggle.com/snap/amazon-fine-food-reviews <br>\n",
        "\n",
        "EDA: https://nycdatascience.com/blog/student-works/amazon-fine-foods-visualization/\n",
        "\n",
        "\n",
        "The Amazon Fine Food Reviews dataset consists of reviews of fine foods from Amazon.<br>\n",
        "\n",
        "Number of reviews: 568,454<br>\n",
        "Number of users: 256,059<br>\n",
        "Number of products: 74,258<br>\n",
        "Timespan: Oct 1999 - Oct 2012<br>\n",
        "Number of Attributes/Columns in data: 10 \n",
        "\n",
        "Attribute Information:\n",
        "\n",
        "1. Id\n",
        "2. ProductId - unique identifier for the product\n",
        "3. UserId - unqiue identifier for the user\n",
        "4. ProfileName\n",
        "5. HelpfulnessNumerator - number of users who found the review helpful (no of people who said this review is helpful)\n",
        "6. HelpfulnessDenominator - number of users who indicated whether they found the review helpful or not ((no of people who said this review is helpful + (no of people who said no this review is not helpful)). So HelpfulnessDenominator should be greater than HelpfulnessNumerator>\n",
        "7. Score - rating between 1 and 5\n",
        "8. Time - timestamp for the review\n",
        "9. Summary - brief summary of the review\n",
        "10. Text - text of the review\n",
        "\n",
        "\n",
        "#### Objective:\n",
        "Given a review, determine whether the review is positive (Rating of 4 or 5) or negative (rating of 1 or 2).\n",
        "\n",
        "<br>\n",
        "[Q] How to determine if a review is positive or negative?<br>\n",
        "<br> \n",
        "[Ans] We could use the Score/Rating. A rating of 4 or 5 could be cosnidered a positive review. A review of 1 or 2 could be considered negative. A review of 3 is nuetral and ignored. This is an approximate and proxy way of determining the polarity (positivity/negativity) of a review.\n",
        "\n",
        "\n"
      ]
    },
    {
      "cell_type": "markdown",
      "metadata": {
        "id": "Ybb6jxtlWHgB"
      },
      "source": [
        "To mount Google Drive"
      ]
    },
    {
      "cell_type": "code",
      "metadata": {
        "colab": {
          "base_uri": "https://localhost:8080/"
        },
        "id": "sEXStcjbWB6p",
        "outputId": "820792be-74d0-420f-85ae-63e607fe1ffe"
      },
      "source": [
        "from google.colab import drive\n",
        "drive.mount('/content/drive')"
      ],
      "execution_count": 1,
      "outputs": [
        {
          "output_type": "stream",
          "name": "stdout",
          "text": [
            "Mounted at /content/drive\n"
          ]
        }
      ]
    },
    {
      "cell_type": "markdown",
      "metadata": {
        "id": "WHC_UQTuCAY4"
      },
      "source": [
        "## Loading the data\n",
        "\n",
        "The dataset is available in two forms\n",
        "1. .csv file\n",
        "2. SQLite Database\n",
        "\n",
        "In order to load the data, We have used the SQLITE dataset as it easier to query the data and visualise the data efficiently.\n",
        "<br> \n",
        "\n",
        "Here as we only want to get the global sentiment of the recommendations (positive or negative), we will purposefully ignore all Scores equal to 3. If the score id above 3, then the recommendation wil be set to \"positive\". Otherwise, it will be set to \"negative\"."
      ]
    },
    {
      "cell_type": "code",
      "metadata": {
        "id": "PvDdRsHgCAY5"
      },
      "source": [
        "%matplotlib inline\n",
        "import warnings\n",
        "warnings.filterwarnings(\"ignore\")\n",
        "\n",
        "\n",
        "import sqlite3\n",
        "import pandas as pd\n",
        "import numpy as np\n",
        "import nltk\n",
        "import string\n",
        "import matplotlib.pyplot as plt\n",
        "import seaborn as sns\n",
        "from sklearn.feature_extraction.text import TfidfTransformer\n",
        "from sklearn.feature_extraction.text import TfidfVectorizer\n",
        "\n",
        "from sklearn.feature_extraction.text import CountVectorizer\n",
        "from sklearn.metrics import confusion_matrix\n",
        "from sklearn import metrics\n",
        "from sklearn.metrics import roc_curve, auc\n",
        "from nltk.stem.porter import PorterStemmer\n",
        "\n",
        "import seaborn as sns\n",
        "from sklearn.metrics import accuracy_score\n",
        "from sklearn.metrics import confusion_matrix\n",
        "from sklearn.metrics import precision_score\n",
        "from sklearn.metrics import f1_score\n",
        "from sklearn.metrics import recall_score\n",
        "from sklearn.metrics import f1_score\n",
        "from sklearn.neighbors import KNeighborsClassifier\n",
        "from sklearn.preprocessing import StandardScaler\n",
        "from sklearn.manifold import TSNE\n",
        "from sklearn.linear_model import LogisticRegression\n",
        "from sklearn.model_selection import GridSearchCV\n",
        "\n",
        "import re\n",
        "# Tutorial about Python regular expressions: https://pymotw.com/2/re/\n",
        "import string\n",
        "from nltk.corpus import stopwords\n",
        "from nltk.stem import PorterStemmer\n",
        "from nltk.stem.wordnet import WordNetLemmatizer\n",
        "\n",
        "from gensim.models import Word2Vec\n",
        "from gensim.models import KeyedVectors\n",
        "import pickle\n",
        "\n",
        "from tqdm import tqdm\n",
        "import os"
      ],
      "execution_count": 2,
      "outputs": []
    },
    {
      "cell_type": "markdown",
      "metadata": {
        "id": "QOI7X2YgCAY_"
      },
      "source": [
        "# [1]. Reading Data"
      ]
    },
    {
      "cell_type": "code",
      "metadata": {
        "id": "3iYH2p1ECAZA",
        "colab": {
          "base_uri": "https://localhost:8080/",
          "height": 239
        },
        "outputId": "d9f68946-cbf5-4476-a39e-8fbd0ca84957"
      },
      "source": [
        "# using the SQLite Table to read data.\n",
        "con = sqlite3.connect('/content/drive/MyDrive/Kaggle Datasets/database.sqlite') \n",
        "\n",
        "filtered_data = pd.read_sql_query(\"\"\" SELECT * FROM Reviews \"\"\", con) \n",
        "filtered_data.head(3)"
      ],
      "execution_count": 3,
      "outputs": [
        {
          "output_type": "execute_result",
          "data": {
            "text/plain": [
              "   Id   ProductId          UserId                      ProfileName  \\\n",
              "0   1  B001E4KFG0  A3SGXH7AUHU8GW                       delmartian   \n",
              "1   2  B00813GRG4  A1D87F6ZCVE5NK                           dll pa   \n",
              "2   3  B000LQOCH0   ABXLMWJIXXAIN  Natalia Corres \"Natalia Corres\"   \n",
              "\n",
              "   HelpfulnessNumerator  HelpfulnessDenominator  Score        Time  \\\n",
              "0                     1                       1      5  1303862400   \n",
              "1                     0                       0      1  1346976000   \n",
              "2                     1                       1      4  1219017600   \n",
              "\n",
              "                 Summary                                               Text  \n",
              "0  Good Quality Dog Food  I have bought several of the Vitality canned d...  \n",
              "1      Not as Advertised  Product arrived labeled as Jumbo Salted Peanut...  \n",
              "2  \"Delight\" says it all  This is a confection that has been around a fe...  "
            ],
            "text/html": [
              "\n",
              "  <div id=\"df-0bec38ec-a1c2-477e-ba90-5f76e70ead06\">\n",
              "    <div class=\"colab-df-container\">\n",
              "      <div>\n",
              "<style scoped>\n",
              "    .dataframe tbody tr th:only-of-type {\n",
              "        vertical-align: middle;\n",
              "    }\n",
              "\n",
              "    .dataframe tbody tr th {\n",
              "        vertical-align: top;\n",
              "    }\n",
              "\n",
              "    .dataframe thead th {\n",
              "        text-align: right;\n",
              "    }\n",
              "</style>\n",
              "<table border=\"1\" class=\"dataframe\">\n",
              "  <thead>\n",
              "    <tr style=\"text-align: right;\">\n",
              "      <th></th>\n",
              "      <th>Id</th>\n",
              "      <th>ProductId</th>\n",
              "      <th>UserId</th>\n",
              "      <th>ProfileName</th>\n",
              "      <th>HelpfulnessNumerator</th>\n",
              "      <th>HelpfulnessDenominator</th>\n",
              "      <th>Score</th>\n",
              "      <th>Time</th>\n",
              "      <th>Summary</th>\n",
              "      <th>Text</th>\n",
              "    </tr>\n",
              "  </thead>\n",
              "  <tbody>\n",
              "    <tr>\n",
              "      <th>0</th>\n",
              "      <td>1</td>\n",
              "      <td>B001E4KFG0</td>\n",
              "      <td>A3SGXH7AUHU8GW</td>\n",
              "      <td>delmartian</td>\n",
              "      <td>1</td>\n",
              "      <td>1</td>\n",
              "      <td>5</td>\n",
              "      <td>1303862400</td>\n",
              "      <td>Good Quality Dog Food</td>\n",
              "      <td>I have bought several of the Vitality canned d...</td>\n",
              "    </tr>\n",
              "    <tr>\n",
              "      <th>1</th>\n",
              "      <td>2</td>\n",
              "      <td>B00813GRG4</td>\n",
              "      <td>A1D87F6ZCVE5NK</td>\n",
              "      <td>dll pa</td>\n",
              "      <td>0</td>\n",
              "      <td>0</td>\n",
              "      <td>1</td>\n",
              "      <td>1346976000</td>\n",
              "      <td>Not as Advertised</td>\n",
              "      <td>Product arrived labeled as Jumbo Salted Peanut...</td>\n",
              "    </tr>\n",
              "    <tr>\n",
              "      <th>2</th>\n",
              "      <td>3</td>\n",
              "      <td>B000LQOCH0</td>\n",
              "      <td>ABXLMWJIXXAIN</td>\n",
              "      <td>Natalia Corres \"Natalia Corres\"</td>\n",
              "      <td>1</td>\n",
              "      <td>1</td>\n",
              "      <td>4</td>\n",
              "      <td>1219017600</td>\n",
              "      <td>\"Delight\" says it all</td>\n",
              "      <td>This is a confection that has been around a fe...</td>\n",
              "    </tr>\n",
              "  </tbody>\n",
              "</table>\n",
              "</div>\n",
              "      <button class=\"colab-df-convert\" onclick=\"convertToInteractive('df-0bec38ec-a1c2-477e-ba90-5f76e70ead06')\"\n",
              "              title=\"Convert this dataframe to an interactive table.\"\n",
              "              style=\"display:none;\">\n",
              "        \n",
              "  <svg xmlns=\"http://www.w3.org/2000/svg\" height=\"24px\"viewBox=\"0 0 24 24\"\n",
              "       width=\"24px\">\n",
              "    <path d=\"M0 0h24v24H0V0z\" fill=\"none\"/>\n",
              "    <path d=\"M18.56 5.44l.94 2.06.94-2.06 2.06-.94-2.06-.94-.94-2.06-.94 2.06-2.06.94zm-11 1L8.5 8.5l.94-2.06 2.06-.94-2.06-.94L8.5 2.5l-.94 2.06-2.06.94zm10 10l.94 2.06.94-2.06 2.06-.94-2.06-.94-.94-2.06-.94 2.06-2.06.94z\"/><path d=\"M17.41 7.96l-1.37-1.37c-.4-.4-.92-.59-1.43-.59-.52 0-1.04.2-1.43.59L10.3 9.45l-7.72 7.72c-.78.78-.78 2.05 0 2.83L4 21.41c.39.39.9.59 1.41.59.51 0 1.02-.2 1.41-.59l7.78-7.78 2.81-2.81c.8-.78.8-2.07 0-2.86zM5.41 20L4 18.59l7.72-7.72 1.47 1.35L5.41 20z\"/>\n",
              "  </svg>\n",
              "      </button>\n",
              "      \n",
              "  <style>\n",
              "    .colab-df-container {\n",
              "      display:flex;\n",
              "      flex-wrap:wrap;\n",
              "      gap: 12px;\n",
              "    }\n",
              "\n",
              "    .colab-df-convert {\n",
              "      background-color: #E8F0FE;\n",
              "      border: none;\n",
              "      border-radius: 50%;\n",
              "      cursor: pointer;\n",
              "      display: none;\n",
              "      fill: #1967D2;\n",
              "      height: 32px;\n",
              "      padding: 0 0 0 0;\n",
              "      width: 32px;\n",
              "    }\n",
              "\n",
              "    .colab-df-convert:hover {\n",
              "      background-color: #E2EBFA;\n",
              "      box-shadow: 0px 1px 2px rgba(60, 64, 67, 0.3), 0px 1px 3px 1px rgba(60, 64, 67, 0.15);\n",
              "      fill: #174EA6;\n",
              "    }\n",
              "\n",
              "    [theme=dark] .colab-df-convert {\n",
              "      background-color: #3B4455;\n",
              "      fill: #D2E3FC;\n",
              "    }\n",
              "\n",
              "    [theme=dark] .colab-df-convert:hover {\n",
              "      background-color: #434B5C;\n",
              "      box-shadow: 0px 1px 3px 1px rgba(0, 0, 0, 0.15);\n",
              "      filter: drop-shadow(0px 1px 2px rgba(0, 0, 0, 0.3));\n",
              "      fill: #FFFFFF;\n",
              "    }\n",
              "  </style>\n",
              "\n",
              "      <script>\n",
              "        const buttonEl =\n",
              "          document.querySelector('#df-0bec38ec-a1c2-477e-ba90-5f76e70ead06 button.colab-df-convert');\n",
              "        buttonEl.style.display =\n",
              "          google.colab.kernel.accessAllowed ? 'block' : 'none';\n",
              "\n",
              "        async function convertToInteractive(key) {\n",
              "          const element = document.querySelector('#df-0bec38ec-a1c2-477e-ba90-5f76e70ead06');\n",
              "          const dataTable =\n",
              "            await google.colab.kernel.invokeFunction('convertToInteractive',\n",
              "                                                     [key], {});\n",
              "          if (!dataTable) return;\n",
              "\n",
              "          const docLinkHtml = 'Like what you see? Visit the ' +\n",
              "            '<a target=\"_blank\" href=https://colab.research.google.com/notebooks/data_table.ipynb>data table notebook</a>'\n",
              "            + ' to learn more about interactive tables.';\n",
              "          element.innerHTML = '';\n",
              "          dataTable['output_type'] = 'display_data';\n",
              "          await google.colab.output.renderOutput(dataTable, element);\n",
              "          const docLink = document.createElement('div');\n",
              "          docLink.innerHTML = docLinkHtml;\n",
              "          element.appendChild(docLink);\n",
              "        }\n",
              "      </script>\n",
              "    </div>\n",
              "  </div>\n",
              "  "
            ]
          },
          "metadata": {},
          "execution_count": 3
        }
      ]
    },
    {
      "cell_type": "code",
      "metadata": {
        "id": "I1jf03kECAZF"
      },
      "source": [
        "display = pd.read_sql_query(\"\"\"\n",
        "SELECT UserId, ProductId, ProfileName, Time, Score, Text, COUNT(*)\n",
        "FROM Reviews\n",
        "GROUP BY UserId\n",
        "HAVING COUNT(*)>1\n",
        "\"\"\", con)"
      ],
      "execution_count": 4,
      "outputs": []
    },
    {
      "cell_type": "code",
      "metadata": {
        "id": "Ja8xSefOCAZH",
        "colab": {
          "base_uri": "https://localhost:8080/",
          "height": 223
        },
        "outputId": "0b35a26d-24f2-4609-ea27-6239a194bbf8"
      },
      "source": [
        "print(display.shape)\n",
        "display.head()"
      ],
      "execution_count": 5,
      "outputs": [
        {
          "output_type": "stream",
          "name": "stdout",
          "text": [
            "(80668, 7)\n"
          ]
        },
        {
          "output_type": "execute_result",
          "data": {
            "text/plain": [
              "               UserId   ProductId             ProfileName        Time  Score  \\\n",
              "0  #oc-R115TNMSPFT9I7  B007Y59HVM                 Breyton  1331510400      2   \n",
              "1  #oc-R11D9D7SHXIJB9  B005HG9ET0  Louis E. Emory \"hoppy\"  1342396800      5   \n",
              "2  #oc-R11DNU2NBKQ23Z  B007Y59HVM        Kim Cieszykowski  1348531200      1   \n",
              "3  #oc-R11O5J5ZVQE25C  B005HG9ET0           Penguin Chick  1346889600      5   \n",
              "4  #oc-R12KPBODL2B5ZD  B007OSBE1U   Christopher P. Presta  1348617600      1   \n",
              "\n",
              "                                                Text  COUNT(*)  \n",
              "0  Overall its just OK when considering the price...         2  \n",
              "1  My wife has recurring extreme muscle spasms, u...         3  \n",
              "2  This coffee is horrible and unfortunately not ...         2  \n",
              "3  This will be the bottle that you grab from the...         3  \n",
              "4  I didnt like this coffee. Instead of telling y...         2  "
            ],
            "text/html": [
              "\n",
              "  <div id=\"df-07cfe6b2-435d-4a4a-81f1-b6adbae23fbb\">\n",
              "    <div class=\"colab-df-container\">\n",
              "      <div>\n",
              "<style scoped>\n",
              "    .dataframe tbody tr th:only-of-type {\n",
              "        vertical-align: middle;\n",
              "    }\n",
              "\n",
              "    .dataframe tbody tr th {\n",
              "        vertical-align: top;\n",
              "    }\n",
              "\n",
              "    .dataframe thead th {\n",
              "        text-align: right;\n",
              "    }\n",
              "</style>\n",
              "<table border=\"1\" class=\"dataframe\">\n",
              "  <thead>\n",
              "    <tr style=\"text-align: right;\">\n",
              "      <th></th>\n",
              "      <th>UserId</th>\n",
              "      <th>ProductId</th>\n",
              "      <th>ProfileName</th>\n",
              "      <th>Time</th>\n",
              "      <th>Score</th>\n",
              "      <th>Text</th>\n",
              "      <th>COUNT(*)</th>\n",
              "    </tr>\n",
              "  </thead>\n",
              "  <tbody>\n",
              "    <tr>\n",
              "      <th>0</th>\n",
              "      <td>#oc-R115TNMSPFT9I7</td>\n",
              "      <td>B007Y59HVM</td>\n",
              "      <td>Breyton</td>\n",
              "      <td>1331510400</td>\n",
              "      <td>2</td>\n",
              "      <td>Overall its just OK when considering the price...</td>\n",
              "      <td>2</td>\n",
              "    </tr>\n",
              "    <tr>\n",
              "      <th>1</th>\n",
              "      <td>#oc-R11D9D7SHXIJB9</td>\n",
              "      <td>B005HG9ET0</td>\n",
              "      <td>Louis E. Emory \"hoppy\"</td>\n",
              "      <td>1342396800</td>\n",
              "      <td>5</td>\n",
              "      <td>My wife has recurring extreme muscle spasms, u...</td>\n",
              "      <td>3</td>\n",
              "    </tr>\n",
              "    <tr>\n",
              "      <th>2</th>\n",
              "      <td>#oc-R11DNU2NBKQ23Z</td>\n",
              "      <td>B007Y59HVM</td>\n",
              "      <td>Kim Cieszykowski</td>\n",
              "      <td>1348531200</td>\n",
              "      <td>1</td>\n",
              "      <td>This coffee is horrible and unfortunately not ...</td>\n",
              "      <td>2</td>\n",
              "    </tr>\n",
              "    <tr>\n",
              "      <th>3</th>\n",
              "      <td>#oc-R11O5J5ZVQE25C</td>\n",
              "      <td>B005HG9ET0</td>\n",
              "      <td>Penguin Chick</td>\n",
              "      <td>1346889600</td>\n",
              "      <td>5</td>\n",
              "      <td>This will be the bottle that you grab from the...</td>\n",
              "      <td>3</td>\n",
              "    </tr>\n",
              "    <tr>\n",
              "      <th>4</th>\n",
              "      <td>#oc-R12KPBODL2B5ZD</td>\n",
              "      <td>B007OSBE1U</td>\n",
              "      <td>Christopher P. Presta</td>\n",
              "      <td>1348617600</td>\n",
              "      <td>1</td>\n",
              "      <td>I didnt like this coffee. Instead of telling y...</td>\n",
              "      <td>2</td>\n",
              "    </tr>\n",
              "  </tbody>\n",
              "</table>\n",
              "</div>\n",
              "      <button class=\"colab-df-convert\" onclick=\"convertToInteractive('df-07cfe6b2-435d-4a4a-81f1-b6adbae23fbb')\"\n",
              "              title=\"Convert this dataframe to an interactive table.\"\n",
              "              style=\"display:none;\">\n",
              "        \n",
              "  <svg xmlns=\"http://www.w3.org/2000/svg\" height=\"24px\"viewBox=\"0 0 24 24\"\n",
              "       width=\"24px\">\n",
              "    <path d=\"M0 0h24v24H0V0z\" fill=\"none\"/>\n",
              "    <path d=\"M18.56 5.44l.94 2.06.94-2.06 2.06-.94-2.06-.94-.94-2.06-.94 2.06-2.06.94zm-11 1L8.5 8.5l.94-2.06 2.06-.94-2.06-.94L8.5 2.5l-.94 2.06-2.06.94zm10 10l.94 2.06.94-2.06 2.06-.94-2.06-.94-.94-2.06-.94 2.06-2.06.94z\"/><path d=\"M17.41 7.96l-1.37-1.37c-.4-.4-.92-.59-1.43-.59-.52 0-1.04.2-1.43.59L10.3 9.45l-7.72 7.72c-.78.78-.78 2.05 0 2.83L4 21.41c.39.39.9.59 1.41.59.51 0 1.02-.2 1.41-.59l7.78-7.78 2.81-2.81c.8-.78.8-2.07 0-2.86zM5.41 20L4 18.59l7.72-7.72 1.47 1.35L5.41 20z\"/>\n",
              "  </svg>\n",
              "      </button>\n",
              "      \n",
              "  <style>\n",
              "    .colab-df-container {\n",
              "      display:flex;\n",
              "      flex-wrap:wrap;\n",
              "      gap: 12px;\n",
              "    }\n",
              "\n",
              "    .colab-df-convert {\n",
              "      background-color: #E8F0FE;\n",
              "      border: none;\n",
              "      border-radius: 50%;\n",
              "      cursor: pointer;\n",
              "      display: none;\n",
              "      fill: #1967D2;\n",
              "      height: 32px;\n",
              "      padding: 0 0 0 0;\n",
              "      width: 32px;\n",
              "    }\n",
              "\n",
              "    .colab-df-convert:hover {\n",
              "      background-color: #E2EBFA;\n",
              "      box-shadow: 0px 1px 2px rgba(60, 64, 67, 0.3), 0px 1px 3px 1px rgba(60, 64, 67, 0.15);\n",
              "      fill: #174EA6;\n",
              "    }\n",
              "\n",
              "    [theme=dark] .colab-df-convert {\n",
              "      background-color: #3B4455;\n",
              "      fill: #D2E3FC;\n",
              "    }\n",
              "\n",
              "    [theme=dark] .colab-df-convert:hover {\n",
              "      background-color: #434B5C;\n",
              "      box-shadow: 0px 1px 3px 1px rgba(0, 0, 0, 0.15);\n",
              "      filter: drop-shadow(0px 1px 2px rgba(0, 0, 0, 0.3));\n",
              "      fill: #FFFFFF;\n",
              "    }\n",
              "  </style>\n",
              "\n",
              "      <script>\n",
              "        const buttonEl =\n",
              "          document.querySelector('#df-07cfe6b2-435d-4a4a-81f1-b6adbae23fbb button.colab-df-convert');\n",
              "        buttonEl.style.display =\n",
              "          google.colab.kernel.accessAllowed ? 'block' : 'none';\n",
              "\n",
              "        async function convertToInteractive(key) {\n",
              "          const element = document.querySelector('#df-07cfe6b2-435d-4a4a-81f1-b6adbae23fbb');\n",
              "          const dataTable =\n",
              "            await google.colab.kernel.invokeFunction('convertToInteractive',\n",
              "                                                     [key], {});\n",
              "          if (!dataTable) return;\n",
              "\n",
              "          const docLinkHtml = 'Like what you see? Visit the ' +\n",
              "            '<a target=\"_blank\" href=https://colab.research.google.com/notebooks/data_table.ipynb>data table notebook</a>'\n",
              "            + ' to learn more about interactive tables.';\n",
              "          element.innerHTML = '';\n",
              "          dataTable['output_type'] = 'display_data';\n",
              "          await google.colab.output.renderOutput(dataTable, element);\n",
              "          const docLink = document.createElement('div');\n",
              "          docLink.innerHTML = docLinkHtml;\n",
              "          element.appendChild(docLink);\n",
              "        }\n",
              "      </script>\n",
              "    </div>\n",
              "  </div>\n",
              "  "
            ]
          },
          "metadata": {},
          "execution_count": 5
        }
      ]
    },
    {
      "cell_type": "code",
      "metadata": {
        "id": "u5ctUTW-CAZK",
        "colab": {
          "base_uri": "https://localhost:8080/",
          "height": 81
        },
        "outputId": "0661d8e4-9c95-486a-f6ab-710db0373b71"
      },
      "source": [
        "display[display['UserId']=='AZY10LLTJ71NX']"
      ],
      "execution_count": 6,
      "outputs": [
        {
          "output_type": "execute_result",
          "data": {
            "text/plain": [
              "              UserId   ProductId                      ProfileName        Time  \\\n",
              "80638  AZY10LLTJ71NX  B006P7E5ZI  undertheshrine \"undertheshrine\"  1334707200   \n",
              "\n",
              "       Score                                               Text  COUNT(*)  \n",
              "80638      5  I was recommended to try green tea extract to ...         5  "
            ],
            "text/html": [
              "\n",
              "  <div id=\"df-73f02e23-b1ba-4620-bc7a-f2813c2afd2f\">\n",
              "    <div class=\"colab-df-container\">\n",
              "      <div>\n",
              "<style scoped>\n",
              "    .dataframe tbody tr th:only-of-type {\n",
              "        vertical-align: middle;\n",
              "    }\n",
              "\n",
              "    .dataframe tbody tr th {\n",
              "        vertical-align: top;\n",
              "    }\n",
              "\n",
              "    .dataframe thead th {\n",
              "        text-align: right;\n",
              "    }\n",
              "</style>\n",
              "<table border=\"1\" class=\"dataframe\">\n",
              "  <thead>\n",
              "    <tr style=\"text-align: right;\">\n",
              "      <th></th>\n",
              "      <th>UserId</th>\n",
              "      <th>ProductId</th>\n",
              "      <th>ProfileName</th>\n",
              "      <th>Time</th>\n",
              "      <th>Score</th>\n",
              "      <th>Text</th>\n",
              "      <th>COUNT(*)</th>\n",
              "    </tr>\n",
              "  </thead>\n",
              "  <tbody>\n",
              "    <tr>\n",
              "      <th>80638</th>\n",
              "      <td>AZY10LLTJ71NX</td>\n",
              "      <td>B006P7E5ZI</td>\n",
              "      <td>undertheshrine \"undertheshrine\"</td>\n",
              "      <td>1334707200</td>\n",
              "      <td>5</td>\n",
              "      <td>I was recommended to try green tea extract to ...</td>\n",
              "      <td>5</td>\n",
              "    </tr>\n",
              "  </tbody>\n",
              "</table>\n",
              "</div>\n",
              "      <button class=\"colab-df-convert\" onclick=\"convertToInteractive('df-73f02e23-b1ba-4620-bc7a-f2813c2afd2f')\"\n",
              "              title=\"Convert this dataframe to an interactive table.\"\n",
              "              style=\"display:none;\">\n",
              "        \n",
              "  <svg xmlns=\"http://www.w3.org/2000/svg\" height=\"24px\"viewBox=\"0 0 24 24\"\n",
              "       width=\"24px\">\n",
              "    <path d=\"M0 0h24v24H0V0z\" fill=\"none\"/>\n",
              "    <path d=\"M18.56 5.44l.94 2.06.94-2.06 2.06-.94-2.06-.94-.94-2.06-.94 2.06-2.06.94zm-11 1L8.5 8.5l.94-2.06 2.06-.94-2.06-.94L8.5 2.5l-.94 2.06-2.06.94zm10 10l.94 2.06.94-2.06 2.06-.94-2.06-.94-.94-2.06-.94 2.06-2.06.94z\"/><path d=\"M17.41 7.96l-1.37-1.37c-.4-.4-.92-.59-1.43-.59-.52 0-1.04.2-1.43.59L10.3 9.45l-7.72 7.72c-.78.78-.78 2.05 0 2.83L4 21.41c.39.39.9.59 1.41.59.51 0 1.02-.2 1.41-.59l7.78-7.78 2.81-2.81c.8-.78.8-2.07 0-2.86zM5.41 20L4 18.59l7.72-7.72 1.47 1.35L5.41 20z\"/>\n",
              "  </svg>\n",
              "      </button>\n",
              "      \n",
              "  <style>\n",
              "    .colab-df-container {\n",
              "      display:flex;\n",
              "      flex-wrap:wrap;\n",
              "      gap: 12px;\n",
              "    }\n",
              "\n",
              "    .colab-df-convert {\n",
              "      background-color: #E8F0FE;\n",
              "      border: none;\n",
              "      border-radius: 50%;\n",
              "      cursor: pointer;\n",
              "      display: none;\n",
              "      fill: #1967D2;\n",
              "      height: 32px;\n",
              "      padding: 0 0 0 0;\n",
              "      width: 32px;\n",
              "    }\n",
              "\n",
              "    .colab-df-convert:hover {\n",
              "      background-color: #E2EBFA;\n",
              "      box-shadow: 0px 1px 2px rgba(60, 64, 67, 0.3), 0px 1px 3px 1px rgba(60, 64, 67, 0.15);\n",
              "      fill: #174EA6;\n",
              "    }\n",
              "\n",
              "    [theme=dark] .colab-df-convert {\n",
              "      background-color: #3B4455;\n",
              "      fill: #D2E3FC;\n",
              "    }\n",
              "\n",
              "    [theme=dark] .colab-df-convert:hover {\n",
              "      background-color: #434B5C;\n",
              "      box-shadow: 0px 1px 3px 1px rgba(0, 0, 0, 0.15);\n",
              "      filter: drop-shadow(0px 1px 2px rgba(0, 0, 0, 0.3));\n",
              "      fill: #FFFFFF;\n",
              "    }\n",
              "  </style>\n",
              "\n",
              "      <script>\n",
              "        const buttonEl =\n",
              "          document.querySelector('#df-73f02e23-b1ba-4620-bc7a-f2813c2afd2f button.colab-df-convert');\n",
              "        buttonEl.style.display =\n",
              "          google.colab.kernel.accessAllowed ? 'block' : 'none';\n",
              "\n",
              "        async function convertToInteractive(key) {\n",
              "          const element = document.querySelector('#df-73f02e23-b1ba-4620-bc7a-f2813c2afd2f');\n",
              "          const dataTable =\n",
              "            await google.colab.kernel.invokeFunction('convertToInteractive',\n",
              "                                                     [key], {});\n",
              "          if (!dataTable) return;\n",
              "\n",
              "          const docLinkHtml = 'Like what you see? Visit the ' +\n",
              "            '<a target=\"_blank\" href=https://colab.research.google.com/notebooks/data_table.ipynb>data table notebook</a>'\n",
              "            + ' to learn more about interactive tables.';\n",
              "          element.innerHTML = '';\n",
              "          dataTable['output_type'] = 'display_data';\n",
              "          await google.colab.output.renderOutput(dataTable, element);\n",
              "          const docLink = document.createElement('div');\n",
              "          docLink.innerHTML = docLinkHtml;\n",
              "          element.appendChild(docLink);\n",
              "        }\n",
              "      </script>\n",
              "    </div>\n",
              "  </div>\n",
              "  "
            ]
          },
          "metadata": {},
          "execution_count": 6
        }
      ]
    },
    {
      "cell_type": "code",
      "metadata": {
        "id": "tiaXnkZxCAZO",
        "colab": {
          "base_uri": "https://localhost:8080/"
        },
        "outputId": "5a203089-7ca1-44a2-89f5-9389b428dd89"
      },
      "source": [
        "display['COUNT(*)'].sum()"
      ],
      "execution_count": 7,
      "outputs": [
        {
          "output_type": "execute_result",
          "data": {
            "text/plain": [
              "393063"
            ]
          },
          "metadata": {},
          "execution_count": 7
        }
      ]
    },
    {
      "cell_type": "markdown",
      "metadata": {
        "id": "TX5b3dc5CAZS"
      },
      "source": [
        "#  Exploratory Data Analysis"
      ]
    },
    {
      "cell_type": "markdown",
      "metadata": {
        "id": "58KZVW4oyoMW"
      },
      "source": [
        "#Data cleaning¶\n",
        "\n",
        "First we will check for missing values"
      ]
    },
    {
      "cell_type": "code",
      "metadata": {
        "colab": {
          "base_uri": "https://localhost:8080/"
        },
        "id": "riEVJJqxynUM",
        "outputId": "db57b89f-e395-4b6c-f451-99fdd162579e"
      },
      "source": [
        "filtered_data.info()"
      ],
      "execution_count": 8,
      "outputs": [
        {
          "output_type": "stream",
          "name": "stdout",
          "text": [
            "<class 'pandas.core.frame.DataFrame'>\n",
            "RangeIndex: 568454 entries, 0 to 568453\n",
            "Data columns (total 10 columns):\n",
            " #   Column                  Non-Null Count   Dtype \n",
            "---  ------                  --------------   ----- \n",
            " 0   Id                      568454 non-null  int64 \n",
            " 1   ProductId               568454 non-null  object\n",
            " 2   UserId                  568454 non-null  object\n",
            " 3   ProfileName             568454 non-null  object\n",
            " 4   HelpfulnessNumerator    568454 non-null  int64 \n",
            " 5   HelpfulnessDenominator  568454 non-null  int64 \n",
            " 6   Score                   568454 non-null  int64 \n",
            " 7   Time                    568454 non-null  int64 \n",
            " 8   Summary                 568454 non-null  object\n",
            " 9   Text                    568454 non-null  object\n",
            "dtypes: int64(5), object(5)\n",
            "memory usage: 43.4+ MB\n"
          ]
        }
      ]
    },
    {
      "cell_type": "markdown",
      "metadata": {
        "id": "PulY0AZ5y2gh"
      },
      "source": [
        "We can see that we don't have any null values.\n",
        "\n",
        "Now we will check for duplicate entries"
      ]
    },
    {
      "cell_type": "markdown",
      "metadata": {
        "id": "KioCl-zXziDC"
      },
      "source": [
        "Pandas duplicated() method helps in analyzing duplicate values only.\n",
        "\n",
        "keep parameter is set to False, so that only Unique values are taken and the duplicate values are removed from data"
      ]
    },
    {
      "cell_type": "code",
      "metadata": {
        "colab": {
          "base_uri": "https://localhost:8080/"
        },
        "id": "KR_pvBQWyndi",
        "outputId": "aa869ada-4053-4c6d-e1ba-a5aa33c7c99c"
      },
      "source": [
        "# filtered_data = data.drop(columns=['ProductId'])\n",
        "dup = filtered_data[filtered_data.duplicated(subset=['UserId','ProfileName','Time','Text'],keep=False)]\n",
        "dup.shape"
      ],
      "execution_count": 9,
      "outputs": [
        {
          "output_type": "execute_result",
          "data": {
            "text/plain": [
              "(232415, 10)"
            ]
          },
          "metadata": {},
          "execution_count": 9
        }
      ]
    },
    {
      "cell_type": "code",
      "metadata": {
        "colab": {
          "base_uri": "https://localhost:8080/",
          "height": 143
        },
        "id": "Uwg2_QvA0DsL",
        "outputId": "3214eddc-543e-4ffd-c8d8-9f8f5e55ba0f"
      },
      "source": [
        "# example for duplicate entry\n",
        "# 'AR5J8UI46CURR'\n",
        "dup[dup['UserId'] == 'A395BORC6FGVXV']"
      ],
      "execution_count": 10,
      "outputs": [
        {
          "output_type": "execute_result",
          "data": {
            "text/plain": [
              "            Id   ProductId          UserId ProfileName  HelpfulnessNumerator  \\\n",
              "3            4  B000UA0QIQ  A395BORC6FGVXV        Karl                     3   \n",
              "136303  136304  B002Y7526Y  A395BORC6FGVXV        Karl                     3   \n",
              "544172  544173  B000U9WZ54  A395BORC6FGVXV        Karl                     3   \n",
              "\n",
              "        HelpfulnessDenominator  Score        Time         Summary  \\\n",
              "3                            3      2  1307923200  Cough Medicine   \n",
              "136303                       3      2  1307923200  Cough Medicine   \n",
              "544172                       3      2  1307923200  Cough Medicine   \n",
              "\n",
              "                                                     Text  \n",
              "3       If you are looking for the secret ingredient i...  \n",
              "136303  If you are looking for the secret ingredient i...  \n",
              "544172  If you are looking for the secret ingredient i...  "
            ],
            "text/html": [
              "\n",
              "  <div id=\"df-d6ff7b6b-4510-41b5-985c-ec93a54d48db\">\n",
              "    <div class=\"colab-df-container\">\n",
              "      <div>\n",
              "<style scoped>\n",
              "    .dataframe tbody tr th:only-of-type {\n",
              "        vertical-align: middle;\n",
              "    }\n",
              "\n",
              "    .dataframe tbody tr th {\n",
              "        vertical-align: top;\n",
              "    }\n",
              "\n",
              "    .dataframe thead th {\n",
              "        text-align: right;\n",
              "    }\n",
              "</style>\n",
              "<table border=\"1\" class=\"dataframe\">\n",
              "  <thead>\n",
              "    <tr style=\"text-align: right;\">\n",
              "      <th></th>\n",
              "      <th>Id</th>\n",
              "      <th>ProductId</th>\n",
              "      <th>UserId</th>\n",
              "      <th>ProfileName</th>\n",
              "      <th>HelpfulnessNumerator</th>\n",
              "      <th>HelpfulnessDenominator</th>\n",
              "      <th>Score</th>\n",
              "      <th>Time</th>\n",
              "      <th>Summary</th>\n",
              "      <th>Text</th>\n",
              "    </tr>\n",
              "  </thead>\n",
              "  <tbody>\n",
              "    <tr>\n",
              "      <th>3</th>\n",
              "      <td>4</td>\n",
              "      <td>B000UA0QIQ</td>\n",
              "      <td>A395BORC6FGVXV</td>\n",
              "      <td>Karl</td>\n",
              "      <td>3</td>\n",
              "      <td>3</td>\n",
              "      <td>2</td>\n",
              "      <td>1307923200</td>\n",
              "      <td>Cough Medicine</td>\n",
              "      <td>If you are looking for the secret ingredient i...</td>\n",
              "    </tr>\n",
              "    <tr>\n",
              "      <th>136303</th>\n",
              "      <td>136304</td>\n",
              "      <td>B002Y7526Y</td>\n",
              "      <td>A395BORC6FGVXV</td>\n",
              "      <td>Karl</td>\n",
              "      <td>3</td>\n",
              "      <td>3</td>\n",
              "      <td>2</td>\n",
              "      <td>1307923200</td>\n",
              "      <td>Cough Medicine</td>\n",
              "      <td>If you are looking for the secret ingredient i...</td>\n",
              "    </tr>\n",
              "    <tr>\n",
              "      <th>544172</th>\n",
              "      <td>544173</td>\n",
              "      <td>B000U9WZ54</td>\n",
              "      <td>A395BORC6FGVXV</td>\n",
              "      <td>Karl</td>\n",
              "      <td>3</td>\n",
              "      <td>3</td>\n",
              "      <td>2</td>\n",
              "      <td>1307923200</td>\n",
              "      <td>Cough Medicine</td>\n",
              "      <td>If you are looking for the secret ingredient i...</td>\n",
              "    </tr>\n",
              "  </tbody>\n",
              "</table>\n",
              "</div>\n",
              "      <button class=\"colab-df-convert\" onclick=\"convertToInteractive('df-d6ff7b6b-4510-41b5-985c-ec93a54d48db')\"\n",
              "              title=\"Convert this dataframe to an interactive table.\"\n",
              "              style=\"display:none;\">\n",
              "        \n",
              "  <svg xmlns=\"http://www.w3.org/2000/svg\" height=\"24px\"viewBox=\"0 0 24 24\"\n",
              "       width=\"24px\">\n",
              "    <path d=\"M0 0h24v24H0V0z\" fill=\"none\"/>\n",
              "    <path d=\"M18.56 5.44l.94 2.06.94-2.06 2.06-.94-2.06-.94-.94-2.06-.94 2.06-2.06.94zm-11 1L8.5 8.5l.94-2.06 2.06-.94-2.06-.94L8.5 2.5l-.94 2.06-2.06.94zm10 10l.94 2.06.94-2.06 2.06-.94-2.06-.94-.94-2.06-.94 2.06-2.06.94z\"/><path d=\"M17.41 7.96l-1.37-1.37c-.4-.4-.92-.59-1.43-.59-.52 0-1.04.2-1.43.59L10.3 9.45l-7.72 7.72c-.78.78-.78 2.05 0 2.83L4 21.41c.39.39.9.59 1.41.59.51 0 1.02-.2 1.41-.59l7.78-7.78 2.81-2.81c.8-.78.8-2.07 0-2.86zM5.41 20L4 18.59l7.72-7.72 1.47 1.35L5.41 20z\"/>\n",
              "  </svg>\n",
              "      </button>\n",
              "      \n",
              "  <style>\n",
              "    .colab-df-container {\n",
              "      display:flex;\n",
              "      flex-wrap:wrap;\n",
              "      gap: 12px;\n",
              "    }\n",
              "\n",
              "    .colab-df-convert {\n",
              "      background-color: #E8F0FE;\n",
              "      border: none;\n",
              "      border-radius: 50%;\n",
              "      cursor: pointer;\n",
              "      display: none;\n",
              "      fill: #1967D2;\n",
              "      height: 32px;\n",
              "      padding: 0 0 0 0;\n",
              "      width: 32px;\n",
              "    }\n",
              "\n",
              "    .colab-df-convert:hover {\n",
              "      background-color: #E2EBFA;\n",
              "      box-shadow: 0px 1px 2px rgba(60, 64, 67, 0.3), 0px 1px 3px 1px rgba(60, 64, 67, 0.15);\n",
              "      fill: #174EA6;\n",
              "    }\n",
              "\n",
              "    [theme=dark] .colab-df-convert {\n",
              "      background-color: #3B4455;\n",
              "      fill: #D2E3FC;\n",
              "    }\n",
              "\n",
              "    [theme=dark] .colab-df-convert:hover {\n",
              "      background-color: #434B5C;\n",
              "      box-shadow: 0px 1px 3px 1px rgba(0, 0, 0, 0.15);\n",
              "      filter: drop-shadow(0px 1px 2px rgba(0, 0, 0, 0.3));\n",
              "      fill: #FFFFFF;\n",
              "    }\n",
              "  </style>\n",
              "\n",
              "      <script>\n",
              "        const buttonEl =\n",
              "          document.querySelector('#df-d6ff7b6b-4510-41b5-985c-ec93a54d48db button.colab-df-convert');\n",
              "        buttonEl.style.display =\n",
              "          google.colab.kernel.accessAllowed ? 'block' : 'none';\n",
              "\n",
              "        async function convertToInteractive(key) {\n",
              "          const element = document.querySelector('#df-d6ff7b6b-4510-41b5-985c-ec93a54d48db');\n",
              "          const dataTable =\n",
              "            await google.colab.kernel.invokeFunction('convertToInteractive',\n",
              "                                                     [key], {});\n",
              "          if (!dataTable) return;\n",
              "\n",
              "          const docLinkHtml = 'Like what you see? Visit the ' +\n",
              "            '<a target=\"_blank\" href=https://colab.research.google.com/notebooks/data_table.ipynb>data table notebook</a>'\n",
              "            + ' to learn more about interactive tables.';\n",
              "          element.innerHTML = '';\n",
              "          dataTable['output_type'] = 'display_data';\n",
              "          await google.colab.output.renderOutput(dataTable, element);\n",
              "          const docLink = document.createElement('div');\n",
              "          docLink.innerHTML = docLinkHtml;\n",
              "          element.appendChild(docLink);\n",
              "        }\n",
              "      </script>\n",
              "    </div>\n",
              "  </div>\n",
              "  "
            ]
          },
          "metadata": {},
          "execution_count": 10
        }
      ]
    },
    {
      "cell_type": "markdown",
      "metadata": {
        "id": "bhJ5ncMo0KzA"
      },
      "source": [
        "Now we will keep only the first entry and will delete rest of the entry"
      ]
    },
    {
      "cell_type": "code",
      "metadata": {
        "colab": {
          "base_uri": "https://localhost:8080/"
        },
        "id": "Ic41B1Si0KTL",
        "outputId": "0db99b65-2787-45bc-b4eb-f5d429a19583"
      },
      "source": [
        "df = filtered_data.drop_duplicates(subset=['UserId','ProfileName','Time','Text'],keep='first',inplace=False)\n",
        "df.shape"
      ],
      "execution_count": 11,
      "outputs": [
        {
          "output_type": "execute_result",
          "data": {
            "text/plain": [
              "(393933, 10)"
            ]
          },
          "metadata": {},
          "execution_count": 11
        }
      ]
    },
    {
      "cell_type": "markdown",
      "metadata": {
        "id": "ncUSAqDp0b7A"
      },
      "source": [
        "Our data points gets reduced to approx 80%"
      ]
    },
    {
      "cell_type": "code",
      "metadata": {
        "colab": {
          "base_uri": "https://localhost:8080/"
        },
        "id": "E3eoeqJt0KWH",
        "outputId": "81c83ca1-90a7-4c45-aa7d-decffe191192"
      },
      "source": [
        "#Checking to see how much % of data still remains\n",
        "print(f'Remaining data is {((df.shape[0]*1.0)/(filtered_data.shape[0]*1.0))*100}')"
      ],
      "execution_count": 12,
      "outputs": [
        {
          "output_type": "stream",
          "name": "stdout",
          "text": [
            "Remaining data is 69.29901100176971\n"
          ]
        }
      ]
    },
    {
      "cell_type": "code",
      "metadata": {
        "colab": {
          "base_uri": "https://localhost:8080/"
        },
        "id": "1PB11yCm0KY2",
        "outputId": "f9e79055-0dc9-4e0c-9676-214c950a2f85"
      },
      "source": [
        "df.shape"
      ],
      "execution_count": 13,
      "outputs": [
        {
          "output_type": "execute_result",
          "data": {
            "text/plain": [
              "(393933, 10)"
            ]
          },
          "metadata": {},
          "execution_count": 13
        }
      ]
    },
    {
      "cell_type": "code",
      "metadata": {
        "colab": {
          "base_uri": "https://localhost:8080/",
          "height": 641
        },
        "id": "4TVfrzRT5fpZ",
        "outputId": "558e9ddb-83ef-4f5f-a7ed-60c64ed387a4"
      },
      "source": [
        "df"
      ],
      "execution_count": 14,
      "outputs": [
        {
          "output_type": "execute_result",
          "data": {
            "text/plain": [
              "            Id   ProductId          UserId                      ProfileName  \\\n",
              "0            1  B001E4KFG0  A3SGXH7AUHU8GW                       delmartian   \n",
              "1            2  B00813GRG4  A1D87F6ZCVE5NK                           dll pa   \n",
              "2            3  B000LQOCH0   ABXLMWJIXXAIN  Natalia Corres \"Natalia Corres\"   \n",
              "3            4  B000UA0QIQ  A395BORC6FGVXV                             Karl   \n",
              "4            5  B006K2ZZ7K  A1UQRSCLF8GW1T    Michael D. Bigham \"M. Wassir\"   \n",
              "...        ...         ...             ...                              ...   \n",
              "568449  568450  B001EO7N10  A28KG5XORO54AY                 Lettie D. Carter   \n",
              "568450  568451  B003S1WTCU  A3I8AFVPEE8KI5                        R. Sawyer   \n",
              "568451  568452  B004I613EE  A121AA1GQV751Z                    pksd \"pk_007\"   \n",
              "568452  568453  B004I613EE   A3IBEVCTXKNOH          Kathy A. Welch \"katwel\"   \n",
              "568453  568454  B001LR2CU2  A3LGQPJCZVL9UC                         srfell17   \n",
              "\n",
              "        HelpfulnessNumerator  HelpfulnessDenominator  Score        Time  \\\n",
              "0                          1                       1      5  1303862400   \n",
              "1                          0                       0      1  1346976000   \n",
              "2                          1                       1      4  1219017600   \n",
              "3                          3                       3      2  1307923200   \n",
              "4                          0                       0      5  1350777600   \n",
              "...                      ...                     ...    ...         ...   \n",
              "568449                     0                       0      5  1299628800   \n",
              "568450                     0                       0      2  1331251200   \n",
              "568451                     2                       2      5  1329782400   \n",
              "568452                     1                       1      5  1331596800   \n",
              "568453                     0                       0      5  1338422400   \n",
              "\n",
              "                                   Summary  \\\n",
              "0                    Good Quality Dog Food   \n",
              "1                        Not as Advertised   \n",
              "2                    \"Delight\" says it all   \n",
              "3                           Cough Medicine   \n",
              "4                              Great taffy   \n",
              "...                                    ...   \n",
              "568449                 Will not do without   \n",
              "568450                        disappointed   \n",
              "568451            Perfect for our maltipoo   \n",
              "568452  Favorite Training and reward treat   \n",
              "568453                         Great Honey   \n",
              "\n",
              "                                                     Text  \n",
              "0       I have bought several of the Vitality canned d...  \n",
              "1       Product arrived labeled as Jumbo Salted Peanut...  \n",
              "2       This is a confection that has been around a fe...  \n",
              "3       If you are looking for the secret ingredient i...  \n",
              "4       Great taffy at a great price.  There was a wid...  \n",
              "...                                                   ...  \n",
              "568449  Great for sesame chicken..this is a good if no...  \n",
              "568450  I'm disappointed with the flavor. The chocolat...  \n",
              "568451  These stars are small, so you can give 10-15 o...  \n",
              "568452  These are the BEST treats for training and rew...  \n",
              "568453  I am very satisfied ,product is as advertised,...  \n",
              "\n",
              "[393933 rows x 10 columns]"
            ],
            "text/html": [
              "\n",
              "  <div id=\"df-95fc0e0c-fb41-48fa-9cc1-da4a32ed2975\">\n",
              "    <div class=\"colab-df-container\">\n",
              "      <div>\n",
              "<style scoped>\n",
              "    .dataframe tbody tr th:only-of-type {\n",
              "        vertical-align: middle;\n",
              "    }\n",
              "\n",
              "    .dataframe tbody tr th {\n",
              "        vertical-align: top;\n",
              "    }\n",
              "\n",
              "    .dataframe thead th {\n",
              "        text-align: right;\n",
              "    }\n",
              "</style>\n",
              "<table border=\"1\" class=\"dataframe\">\n",
              "  <thead>\n",
              "    <tr style=\"text-align: right;\">\n",
              "      <th></th>\n",
              "      <th>Id</th>\n",
              "      <th>ProductId</th>\n",
              "      <th>UserId</th>\n",
              "      <th>ProfileName</th>\n",
              "      <th>HelpfulnessNumerator</th>\n",
              "      <th>HelpfulnessDenominator</th>\n",
              "      <th>Score</th>\n",
              "      <th>Time</th>\n",
              "      <th>Summary</th>\n",
              "      <th>Text</th>\n",
              "    </tr>\n",
              "  </thead>\n",
              "  <tbody>\n",
              "    <tr>\n",
              "      <th>0</th>\n",
              "      <td>1</td>\n",
              "      <td>B001E4KFG0</td>\n",
              "      <td>A3SGXH7AUHU8GW</td>\n",
              "      <td>delmartian</td>\n",
              "      <td>1</td>\n",
              "      <td>1</td>\n",
              "      <td>5</td>\n",
              "      <td>1303862400</td>\n",
              "      <td>Good Quality Dog Food</td>\n",
              "      <td>I have bought several of the Vitality canned d...</td>\n",
              "    </tr>\n",
              "    <tr>\n",
              "      <th>1</th>\n",
              "      <td>2</td>\n",
              "      <td>B00813GRG4</td>\n",
              "      <td>A1D87F6ZCVE5NK</td>\n",
              "      <td>dll pa</td>\n",
              "      <td>0</td>\n",
              "      <td>0</td>\n",
              "      <td>1</td>\n",
              "      <td>1346976000</td>\n",
              "      <td>Not as Advertised</td>\n",
              "      <td>Product arrived labeled as Jumbo Salted Peanut...</td>\n",
              "    </tr>\n",
              "    <tr>\n",
              "      <th>2</th>\n",
              "      <td>3</td>\n",
              "      <td>B000LQOCH0</td>\n",
              "      <td>ABXLMWJIXXAIN</td>\n",
              "      <td>Natalia Corres \"Natalia Corres\"</td>\n",
              "      <td>1</td>\n",
              "      <td>1</td>\n",
              "      <td>4</td>\n",
              "      <td>1219017600</td>\n",
              "      <td>\"Delight\" says it all</td>\n",
              "      <td>This is a confection that has been around a fe...</td>\n",
              "    </tr>\n",
              "    <tr>\n",
              "      <th>3</th>\n",
              "      <td>4</td>\n",
              "      <td>B000UA0QIQ</td>\n",
              "      <td>A395BORC6FGVXV</td>\n",
              "      <td>Karl</td>\n",
              "      <td>3</td>\n",
              "      <td>3</td>\n",
              "      <td>2</td>\n",
              "      <td>1307923200</td>\n",
              "      <td>Cough Medicine</td>\n",
              "      <td>If you are looking for the secret ingredient i...</td>\n",
              "    </tr>\n",
              "    <tr>\n",
              "      <th>4</th>\n",
              "      <td>5</td>\n",
              "      <td>B006K2ZZ7K</td>\n",
              "      <td>A1UQRSCLF8GW1T</td>\n",
              "      <td>Michael D. Bigham \"M. Wassir\"</td>\n",
              "      <td>0</td>\n",
              "      <td>0</td>\n",
              "      <td>5</td>\n",
              "      <td>1350777600</td>\n",
              "      <td>Great taffy</td>\n",
              "      <td>Great taffy at a great price.  There was a wid...</td>\n",
              "    </tr>\n",
              "    <tr>\n",
              "      <th>...</th>\n",
              "      <td>...</td>\n",
              "      <td>...</td>\n",
              "      <td>...</td>\n",
              "      <td>...</td>\n",
              "      <td>...</td>\n",
              "      <td>...</td>\n",
              "      <td>...</td>\n",
              "      <td>...</td>\n",
              "      <td>...</td>\n",
              "      <td>...</td>\n",
              "    </tr>\n",
              "    <tr>\n",
              "      <th>568449</th>\n",
              "      <td>568450</td>\n",
              "      <td>B001EO7N10</td>\n",
              "      <td>A28KG5XORO54AY</td>\n",
              "      <td>Lettie D. Carter</td>\n",
              "      <td>0</td>\n",
              "      <td>0</td>\n",
              "      <td>5</td>\n",
              "      <td>1299628800</td>\n",
              "      <td>Will not do without</td>\n",
              "      <td>Great for sesame chicken..this is a good if no...</td>\n",
              "    </tr>\n",
              "    <tr>\n",
              "      <th>568450</th>\n",
              "      <td>568451</td>\n",
              "      <td>B003S1WTCU</td>\n",
              "      <td>A3I8AFVPEE8KI5</td>\n",
              "      <td>R. Sawyer</td>\n",
              "      <td>0</td>\n",
              "      <td>0</td>\n",
              "      <td>2</td>\n",
              "      <td>1331251200</td>\n",
              "      <td>disappointed</td>\n",
              "      <td>I'm disappointed with the flavor. The chocolat...</td>\n",
              "    </tr>\n",
              "    <tr>\n",
              "      <th>568451</th>\n",
              "      <td>568452</td>\n",
              "      <td>B004I613EE</td>\n",
              "      <td>A121AA1GQV751Z</td>\n",
              "      <td>pksd \"pk_007\"</td>\n",
              "      <td>2</td>\n",
              "      <td>2</td>\n",
              "      <td>5</td>\n",
              "      <td>1329782400</td>\n",
              "      <td>Perfect for our maltipoo</td>\n",
              "      <td>These stars are small, so you can give 10-15 o...</td>\n",
              "    </tr>\n",
              "    <tr>\n",
              "      <th>568452</th>\n",
              "      <td>568453</td>\n",
              "      <td>B004I613EE</td>\n",
              "      <td>A3IBEVCTXKNOH</td>\n",
              "      <td>Kathy A. Welch \"katwel\"</td>\n",
              "      <td>1</td>\n",
              "      <td>1</td>\n",
              "      <td>5</td>\n",
              "      <td>1331596800</td>\n",
              "      <td>Favorite Training and reward treat</td>\n",
              "      <td>These are the BEST treats for training and rew...</td>\n",
              "    </tr>\n",
              "    <tr>\n",
              "      <th>568453</th>\n",
              "      <td>568454</td>\n",
              "      <td>B001LR2CU2</td>\n",
              "      <td>A3LGQPJCZVL9UC</td>\n",
              "      <td>srfell17</td>\n",
              "      <td>0</td>\n",
              "      <td>0</td>\n",
              "      <td>5</td>\n",
              "      <td>1338422400</td>\n",
              "      <td>Great Honey</td>\n",
              "      <td>I am very satisfied ,product is as advertised,...</td>\n",
              "    </tr>\n",
              "  </tbody>\n",
              "</table>\n",
              "<p>393933 rows × 10 columns</p>\n",
              "</div>\n",
              "      <button class=\"colab-df-convert\" onclick=\"convertToInteractive('df-95fc0e0c-fb41-48fa-9cc1-da4a32ed2975')\"\n",
              "              title=\"Convert this dataframe to an interactive table.\"\n",
              "              style=\"display:none;\">\n",
              "        \n",
              "  <svg xmlns=\"http://www.w3.org/2000/svg\" height=\"24px\"viewBox=\"0 0 24 24\"\n",
              "       width=\"24px\">\n",
              "    <path d=\"M0 0h24v24H0V0z\" fill=\"none\"/>\n",
              "    <path d=\"M18.56 5.44l.94 2.06.94-2.06 2.06-.94-2.06-.94-.94-2.06-.94 2.06-2.06.94zm-11 1L8.5 8.5l.94-2.06 2.06-.94-2.06-.94L8.5 2.5l-.94 2.06-2.06.94zm10 10l.94 2.06.94-2.06 2.06-.94-2.06-.94-.94-2.06-.94 2.06-2.06.94z\"/><path d=\"M17.41 7.96l-1.37-1.37c-.4-.4-.92-.59-1.43-.59-.52 0-1.04.2-1.43.59L10.3 9.45l-7.72 7.72c-.78.78-.78 2.05 0 2.83L4 21.41c.39.39.9.59 1.41.59.51 0 1.02-.2 1.41-.59l7.78-7.78 2.81-2.81c.8-.78.8-2.07 0-2.86zM5.41 20L4 18.59l7.72-7.72 1.47 1.35L5.41 20z\"/>\n",
              "  </svg>\n",
              "      </button>\n",
              "      \n",
              "  <style>\n",
              "    .colab-df-container {\n",
              "      display:flex;\n",
              "      flex-wrap:wrap;\n",
              "      gap: 12px;\n",
              "    }\n",
              "\n",
              "    .colab-df-convert {\n",
              "      background-color: #E8F0FE;\n",
              "      border: none;\n",
              "      border-radius: 50%;\n",
              "      cursor: pointer;\n",
              "      display: none;\n",
              "      fill: #1967D2;\n",
              "      height: 32px;\n",
              "      padding: 0 0 0 0;\n",
              "      width: 32px;\n",
              "    }\n",
              "\n",
              "    .colab-df-convert:hover {\n",
              "      background-color: #E2EBFA;\n",
              "      box-shadow: 0px 1px 2px rgba(60, 64, 67, 0.3), 0px 1px 3px 1px rgba(60, 64, 67, 0.15);\n",
              "      fill: #174EA6;\n",
              "    }\n",
              "\n",
              "    [theme=dark] .colab-df-convert {\n",
              "      background-color: #3B4455;\n",
              "      fill: #D2E3FC;\n",
              "    }\n",
              "\n",
              "    [theme=dark] .colab-df-convert:hover {\n",
              "      background-color: #434B5C;\n",
              "      box-shadow: 0px 1px 3px 1px rgba(0, 0, 0, 0.15);\n",
              "      filter: drop-shadow(0px 1px 2px rgba(0, 0, 0, 0.3));\n",
              "      fill: #FFFFFF;\n",
              "    }\n",
              "  </style>\n",
              "\n",
              "      <script>\n",
              "        const buttonEl =\n",
              "          document.querySelector('#df-95fc0e0c-fb41-48fa-9cc1-da4a32ed2975 button.colab-df-convert');\n",
              "        buttonEl.style.display =\n",
              "          google.colab.kernel.accessAllowed ? 'block' : 'none';\n",
              "\n",
              "        async function convertToInteractive(key) {\n",
              "          const element = document.querySelector('#df-95fc0e0c-fb41-48fa-9cc1-da4a32ed2975');\n",
              "          const dataTable =\n",
              "            await google.colab.kernel.invokeFunction('convertToInteractive',\n",
              "                                                     [key], {});\n",
              "          if (!dataTable) return;\n",
              "\n",
              "          const docLinkHtml = 'Like what you see? Visit the ' +\n",
              "            '<a target=\"_blank\" href=https://colab.research.google.com/notebooks/data_table.ipynb>data table notebook</a>'\n",
              "            + ' to learn more about interactive tables.';\n",
              "          element.innerHTML = '';\n",
              "          dataTable['output_type'] = 'display_data';\n",
              "          await google.colab.output.renderOutput(dataTable, element);\n",
              "          const docLink = document.createElement('div');\n",
              "          docLink.innerHTML = docLinkHtml;\n",
              "          element.appendChild(docLink);\n",
              "        }\n",
              "      </script>\n",
              "    </div>\n",
              "  </div>\n",
              "  "
            ]
          },
          "metadata": {},
          "execution_count": 14
        }
      ]
    },
    {
      "cell_type": "markdown",
      "metadata": {
        "id": "IgYg7xBY6hHL"
      },
      "source": [
        "\n",
        "**Analysis on Score (Target Variable)**\n",
        "\n",
        "Now we will create our target variable from review stars. Before that we will filter only those reviews with rating > 3(positive) and less than 3(negative)"
      ]
    },
    {
      "cell_type": "code",
      "metadata": {
        "colab": {
          "base_uri": "https://localhost:8080/"
        },
        "id": "ULpUL5-A0hk_",
        "outputId": "fc1f4786-9eb3-4cf2-d444-4bebdcd3afa9"
      },
      "source": [
        "df = df[df['Score'] != 3]\n",
        "df.shape \n",
        "#Checking to see how much % of data still remains\n",
        "print(f'Remaining data is {((df.shape[0]*1.0)/(filtered_data.shape[0]*1.0))*100}')"
      ],
      "execution_count": 15,
      "outputs": [
        {
          "output_type": "stream",
          "name": "stdout",
          "text": [
            "Remaining data is 64.06217565537405\n"
          ]
        }
      ]
    },
    {
      "cell_type": "code",
      "metadata": {
        "colab": {
          "base_uri": "https://localhost:8080/",
          "height": 239
        },
        "id": "qohrce8E0hnD",
        "outputId": "03e03390-83a4-46a9-86a0-89e49fdb432f"
      },
      "source": [
        "score = df['Score'].apply(lambda x: 1 if x > 3 else 0)\n",
        "df['Score'] = score\n",
        "df.head(3)"
      ],
      "execution_count": 16,
      "outputs": [
        {
          "output_type": "execute_result",
          "data": {
            "text/plain": [
              "   Id   ProductId          UserId                      ProfileName  \\\n",
              "0   1  B001E4KFG0  A3SGXH7AUHU8GW                       delmartian   \n",
              "1   2  B00813GRG4  A1D87F6ZCVE5NK                           dll pa   \n",
              "2   3  B000LQOCH0   ABXLMWJIXXAIN  Natalia Corres \"Natalia Corres\"   \n",
              "\n",
              "   HelpfulnessNumerator  HelpfulnessDenominator  Score        Time  \\\n",
              "0                     1                       1      1  1303862400   \n",
              "1                     0                       0      0  1346976000   \n",
              "2                     1                       1      1  1219017600   \n",
              "\n",
              "                 Summary                                               Text  \n",
              "0  Good Quality Dog Food  I have bought several of the Vitality canned d...  \n",
              "1      Not as Advertised  Product arrived labeled as Jumbo Salted Peanut...  \n",
              "2  \"Delight\" says it all  This is a confection that has been around a fe...  "
            ],
            "text/html": [
              "\n",
              "  <div id=\"df-16e16a9e-d6a7-4a32-952c-8e639fc33945\">\n",
              "    <div class=\"colab-df-container\">\n",
              "      <div>\n",
              "<style scoped>\n",
              "    .dataframe tbody tr th:only-of-type {\n",
              "        vertical-align: middle;\n",
              "    }\n",
              "\n",
              "    .dataframe tbody tr th {\n",
              "        vertical-align: top;\n",
              "    }\n",
              "\n",
              "    .dataframe thead th {\n",
              "        text-align: right;\n",
              "    }\n",
              "</style>\n",
              "<table border=\"1\" class=\"dataframe\">\n",
              "  <thead>\n",
              "    <tr style=\"text-align: right;\">\n",
              "      <th></th>\n",
              "      <th>Id</th>\n",
              "      <th>ProductId</th>\n",
              "      <th>UserId</th>\n",
              "      <th>ProfileName</th>\n",
              "      <th>HelpfulnessNumerator</th>\n",
              "      <th>HelpfulnessDenominator</th>\n",
              "      <th>Score</th>\n",
              "      <th>Time</th>\n",
              "      <th>Summary</th>\n",
              "      <th>Text</th>\n",
              "    </tr>\n",
              "  </thead>\n",
              "  <tbody>\n",
              "    <tr>\n",
              "      <th>0</th>\n",
              "      <td>1</td>\n",
              "      <td>B001E4KFG0</td>\n",
              "      <td>A3SGXH7AUHU8GW</td>\n",
              "      <td>delmartian</td>\n",
              "      <td>1</td>\n",
              "      <td>1</td>\n",
              "      <td>1</td>\n",
              "      <td>1303862400</td>\n",
              "      <td>Good Quality Dog Food</td>\n",
              "      <td>I have bought several of the Vitality canned d...</td>\n",
              "    </tr>\n",
              "    <tr>\n",
              "      <th>1</th>\n",
              "      <td>2</td>\n",
              "      <td>B00813GRG4</td>\n",
              "      <td>A1D87F6ZCVE5NK</td>\n",
              "      <td>dll pa</td>\n",
              "      <td>0</td>\n",
              "      <td>0</td>\n",
              "      <td>0</td>\n",
              "      <td>1346976000</td>\n",
              "      <td>Not as Advertised</td>\n",
              "      <td>Product arrived labeled as Jumbo Salted Peanut...</td>\n",
              "    </tr>\n",
              "    <tr>\n",
              "      <th>2</th>\n",
              "      <td>3</td>\n",
              "      <td>B000LQOCH0</td>\n",
              "      <td>ABXLMWJIXXAIN</td>\n",
              "      <td>Natalia Corres \"Natalia Corres\"</td>\n",
              "      <td>1</td>\n",
              "      <td>1</td>\n",
              "      <td>1</td>\n",
              "      <td>1219017600</td>\n",
              "      <td>\"Delight\" says it all</td>\n",
              "      <td>This is a confection that has been around a fe...</td>\n",
              "    </tr>\n",
              "  </tbody>\n",
              "</table>\n",
              "</div>\n",
              "      <button class=\"colab-df-convert\" onclick=\"convertToInteractive('df-16e16a9e-d6a7-4a32-952c-8e639fc33945')\"\n",
              "              title=\"Convert this dataframe to an interactive table.\"\n",
              "              style=\"display:none;\">\n",
              "        \n",
              "  <svg xmlns=\"http://www.w3.org/2000/svg\" height=\"24px\"viewBox=\"0 0 24 24\"\n",
              "       width=\"24px\">\n",
              "    <path d=\"M0 0h24v24H0V0z\" fill=\"none\"/>\n",
              "    <path d=\"M18.56 5.44l.94 2.06.94-2.06 2.06-.94-2.06-.94-.94-2.06-.94 2.06-2.06.94zm-11 1L8.5 8.5l.94-2.06 2.06-.94-2.06-.94L8.5 2.5l-.94 2.06-2.06.94zm10 10l.94 2.06.94-2.06 2.06-.94-2.06-.94-.94-2.06-.94 2.06-2.06.94z\"/><path d=\"M17.41 7.96l-1.37-1.37c-.4-.4-.92-.59-1.43-.59-.52 0-1.04.2-1.43.59L10.3 9.45l-7.72 7.72c-.78.78-.78 2.05 0 2.83L4 21.41c.39.39.9.59 1.41.59.51 0 1.02-.2 1.41-.59l7.78-7.78 2.81-2.81c.8-.78.8-2.07 0-2.86zM5.41 20L4 18.59l7.72-7.72 1.47 1.35L5.41 20z\"/>\n",
              "  </svg>\n",
              "      </button>\n",
              "      \n",
              "  <style>\n",
              "    .colab-df-container {\n",
              "      display:flex;\n",
              "      flex-wrap:wrap;\n",
              "      gap: 12px;\n",
              "    }\n",
              "\n",
              "    .colab-df-convert {\n",
              "      background-color: #E8F0FE;\n",
              "      border: none;\n",
              "      border-radius: 50%;\n",
              "      cursor: pointer;\n",
              "      display: none;\n",
              "      fill: #1967D2;\n",
              "      height: 32px;\n",
              "      padding: 0 0 0 0;\n",
              "      width: 32px;\n",
              "    }\n",
              "\n",
              "    .colab-df-convert:hover {\n",
              "      background-color: #E2EBFA;\n",
              "      box-shadow: 0px 1px 2px rgba(60, 64, 67, 0.3), 0px 1px 3px 1px rgba(60, 64, 67, 0.15);\n",
              "      fill: #174EA6;\n",
              "    }\n",
              "\n",
              "    [theme=dark] .colab-df-convert {\n",
              "      background-color: #3B4455;\n",
              "      fill: #D2E3FC;\n",
              "    }\n",
              "\n",
              "    [theme=dark] .colab-df-convert:hover {\n",
              "      background-color: #434B5C;\n",
              "      box-shadow: 0px 1px 3px 1px rgba(0, 0, 0, 0.15);\n",
              "      filter: drop-shadow(0px 1px 2px rgba(0, 0, 0, 0.3));\n",
              "      fill: #FFFFFF;\n",
              "    }\n",
              "  </style>\n",
              "\n",
              "      <script>\n",
              "        const buttonEl =\n",
              "          document.querySelector('#df-16e16a9e-d6a7-4a32-952c-8e639fc33945 button.colab-df-convert');\n",
              "        buttonEl.style.display =\n",
              "          google.colab.kernel.accessAllowed ? 'block' : 'none';\n",
              "\n",
              "        async function convertToInteractive(key) {\n",
              "          const element = document.querySelector('#df-16e16a9e-d6a7-4a32-952c-8e639fc33945');\n",
              "          const dataTable =\n",
              "            await google.colab.kernel.invokeFunction('convertToInteractive',\n",
              "                                                     [key], {});\n",
              "          if (!dataTable) return;\n",
              "\n",
              "          const docLinkHtml = 'Like what you see? Visit the ' +\n",
              "            '<a target=\"_blank\" href=https://colab.research.google.com/notebooks/data_table.ipynb>data table notebook</a>'\n",
              "            + ' to learn more about interactive tables.';\n",
              "          element.innerHTML = '';\n",
              "          dataTable['output_type'] = 'display_data';\n",
              "          await google.colab.output.renderOutput(dataTable, element);\n",
              "          const docLink = document.createElement('div');\n",
              "          docLink.innerHTML = docLinkHtml;\n",
              "          element.appendChild(docLink);\n",
              "        }\n",
              "      </script>\n",
              "    </div>\n",
              "  </div>\n",
              "  "
            ]
          },
          "metadata": {},
          "execution_count": 16
        }
      ]
    },
    {
      "cell_type": "code",
      "metadata": {
        "colab": {
          "base_uri": "https://localhost:8080/",
          "height": 404
        },
        "id": "r51x2rVL0hpc",
        "outputId": "e2464434-9019-4b6a-d2bd-7082f413fb37"
      },
      "source": [
        "plt.figure(figsize=(8,6))\n",
        "sns.countplot(df['Score'])\n",
        "plt.title('Target')\n",
        "plt.show()"
      ],
      "execution_count": 17,
      "outputs": [
        {
          "output_type": "display_data",
          "data": {
            "text/plain": [
              "<Figure size 576x432 with 1 Axes>"
            ],
            "image/png": "[encoded data removed]"
          },
          "metadata": {
            "needs_background": "light"
          }
        }
      ]
    },
    {
      "cell_type": "markdown",
      "metadata": {
        "id": "xXIJIlK16y_t"
      },
      "source": [
        "As we can clearly observe that dataset is imbalanced, we cannot use Accuracy as metric to eavluate our Model\n",
        "\n",
        "So we use Metric called AUC ROC \n",
        "\n",
        "\n",
        "AUC is the area under ROC curve.It tells how much model is capable of distinguishing between classes. Higher the AUC, better the model is at predicting 0s as 0s and 1s as 1s. The ROC curve is plotted with TPR against the FPR where TPR is on y-axis and FPR is on the x-axis."
      ]
    },
    {
      "cell_type": "markdown",
      "metadata": {
        "id": "S2sOluz77vxa"
      },
      "source": [
        "**Analysis on HelpfulnessNumerator and HelpfulnessDenominator**\n",
        "\n",
        "HelpfulnessNumerator - number of users who found the review helpful (no of people who said this review is helpful)\n",
        "\n",
        "HelpfulnessDenominator - number of users who indicated whether they found the review helpful or not ((no of people who said this review is helpful + (no of people who said no this review is not helpful)).\n",
        "\n",
        "So HelpfulnessDenominator should be greater than HelpfulnessNumerator"
      ]
    },
    {
      "cell_type": "code",
      "metadata": {
        "colab": {
          "base_uri": "https://localhost:8080/",
          "height": 191
        },
        "id": "3NIsGWTI77-m",
        "outputId": "868651d1-d995-4cc6-e683-98d62955bdd8"
      },
      "source": [
        "df[df['HelpfulnessNumerator'] > df['HelpfulnessDenominator']]"
      ],
      "execution_count": 18,
      "outputs": [
        {
          "output_type": "execute_result",
          "data": {
            "text/plain": [
              "          Id   ProductId          UserId              ProfileName  \\\n",
              "44736  44737  B001EQ55RW  A2V0I904FH7ABY                      Ram   \n",
              "64421  64422  B000MIDROQ  A161DK06JJMCYF  J. E. Stephens \"Jeanne\"   \n",
              "\n",
              "       HelpfulnessNumerator  HelpfulnessDenominator  Score        Time  \\\n",
              "44736                     3                       2      1  1212883200   \n",
              "64421                     3                       1      1  1224892800   \n",
              "\n",
              "                                            Summary  \\\n",
              "44736  Pure cocoa taste with crunchy almonds inside   \n",
              "64421             Bought This for My Son at College   \n",
              "\n",
              "                                                    Text  \n",
              "44736  It was almost a 'love at first bite' - the per...  \n",
              "64421  My son loves spaghetti so I didn't hesitate or...  "
            ],
            "text/html": [
              "\n",
              "  <div id=\"df-b9d4090f-a95e-411e-ae97-eb9463b99602\">\n",
              "    <div class=\"colab-df-container\">\n",
              "      <div>\n",
              "<style scoped>\n",
              "    .dataframe tbody tr th:only-of-type {\n",
              "        vertical-align: middle;\n",
              "    }\n",
              "\n",
              "    .dataframe tbody tr th {\n",
              "        vertical-align: top;\n",
              "    }\n",
              "\n",
              "    .dataframe thead th {\n",
              "        text-align: right;\n",
              "    }\n",
              "</style>\n",
              "<table border=\"1\" class=\"dataframe\">\n",
              "  <thead>\n",
              "    <tr style=\"text-align: right;\">\n",
              "      <th></th>\n",
              "      <th>Id</th>\n",
              "      <th>ProductId</th>\n",
              "      <th>UserId</th>\n",
              "      <th>ProfileName</th>\n",
              "      <th>HelpfulnessNumerator</th>\n",
              "      <th>HelpfulnessDenominator</th>\n",
              "      <th>Score</th>\n",
              "      <th>Time</th>\n",
              "      <th>Summary</th>\n",
              "      <th>Text</th>\n",
              "    </tr>\n",
              "  </thead>\n",
              "  <tbody>\n",
              "    <tr>\n",
              "      <th>44736</th>\n",
              "      <td>44737</td>\n",
              "      <td>B001EQ55RW</td>\n",
              "      <td>A2V0I904FH7ABY</td>\n",
              "      <td>Ram</td>\n",
              "      <td>3</td>\n",
              "      <td>2</td>\n",
              "      <td>1</td>\n",
              "      <td>1212883200</td>\n",
              "      <td>Pure cocoa taste with crunchy almonds inside</td>\n",
              "      <td>It was almost a 'love at first bite' - the per...</td>\n",
              "    </tr>\n",
              "    <tr>\n",
              "      <th>64421</th>\n",
              "      <td>64422</td>\n",
              "      <td>B000MIDROQ</td>\n",
              "      <td>A161DK06JJMCYF</td>\n",
              "      <td>J. E. Stephens \"Jeanne\"</td>\n",
              "      <td>3</td>\n",
              "      <td>1</td>\n",
              "      <td>1</td>\n",
              "      <td>1224892800</td>\n",
              "      <td>Bought This for My Son at College</td>\n",
              "      <td>My son loves spaghetti so I didn't hesitate or...</td>\n",
              "    </tr>\n",
              "  </tbody>\n",
              "</table>\n",
              "</div>\n",
              "      <button class=\"colab-df-convert\" onclick=\"convertToInteractive('df-b9d4090f-a95e-411e-ae97-eb9463b99602')\"\n",
              "              title=\"Convert this dataframe to an interactive table.\"\n",
              "              style=\"display:none;\">\n",
              "        \n",
              "  <svg xmlns=\"http://www.w3.org/2000/svg\" height=\"24px\"viewBox=\"0 0 24 24\"\n",
              "       width=\"24px\">\n",
              "    <path d=\"M0 0h24v24H0V0z\" fill=\"none\"/>\n",
              "    <path d=\"M18.56 5.44l.94 2.06.94-2.06 2.06-.94-2.06-.94-.94-2.06-.94 2.06-2.06.94zm-11 1L8.5 8.5l.94-2.06 2.06-.94-2.06-.94L8.5 2.5l-.94 2.06-2.06.94zm10 10l.94 2.06.94-2.06 2.06-.94-2.06-.94-.94-2.06-.94 2.06-2.06.94z\"/><path d=\"M17.41 7.96l-1.37-1.37c-.4-.4-.92-.59-1.43-.59-.52 0-1.04.2-1.43.59L10.3 9.45l-7.72 7.72c-.78.78-.78 2.05 0 2.83L4 21.41c.39.39.9.59 1.41.59.51 0 1.02-.2 1.41-.59l7.78-7.78 2.81-2.81c.8-.78.8-2.07 0-2.86zM5.41 20L4 18.59l7.72-7.72 1.47 1.35L5.41 20z\"/>\n",
              "  </svg>\n",
              "      </button>\n",
              "      \n",
              "  <style>\n",
              "    .colab-df-container {\n",
              "      display:flex;\n",
              "      flex-wrap:wrap;\n",
              "      gap: 12px;\n",
              "    }\n",
              "\n",
              "    .colab-df-convert {\n",
              "      background-color: #E8F0FE;\n",
              "      border: none;\n",
              "      border-radius: 50%;\n",
              "      cursor: pointer;\n",
              "      display: none;\n",
              "      fill: #1967D2;\n",
              "      height: 32px;\n",
              "      padding: 0 0 0 0;\n",
              "      width: 32px;\n",
              "    }\n",
              "\n",
              "    .colab-df-convert:hover {\n",
              "      background-color: #E2EBFA;\n",
              "      box-shadow: 0px 1px 2px rgba(60, 64, 67, 0.3), 0px 1px 3px 1px rgba(60, 64, 67, 0.15);\n",
              "      fill: #174EA6;\n",
              "    }\n",
              "\n",
              "    [theme=dark] .colab-df-convert {\n",
              "      background-color: #3B4455;\n",
              "      fill: #D2E3FC;\n",
              "    }\n",
              "\n",
              "    [theme=dark] .colab-df-convert:hover {\n",
              "      background-color: #434B5C;\n",
              "      box-shadow: 0px 1px 3px 1px rgba(0, 0, 0, 0.15);\n",
              "      filter: drop-shadow(0px 1px 2px rgba(0, 0, 0, 0.3));\n",
              "      fill: #FFFFFF;\n",
              "    }\n",
              "  </style>\n",
              "\n",
              "      <script>\n",
              "        const buttonEl =\n",
              "          document.querySelector('#df-b9d4090f-a95e-411e-ae97-eb9463b99602 button.colab-df-convert');\n",
              "        buttonEl.style.display =\n",
              "          google.colab.kernel.accessAllowed ? 'block' : 'none';\n",
              "\n",
              "        async function convertToInteractive(key) {\n",
              "          const element = document.querySelector('#df-b9d4090f-a95e-411e-ae97-eb9463b99602');\n",
              "          const dataTable =\n",
              "            await google.colab.kernel.invokeFunction('convertToInteractive',\n",
              "                                                     [key], {});\n",
              "          if (!dataTable) return;\n",
              "\n",
              "          const docLinkHtml = 'Like what you see? Visit the ' +\n",
              "            '<a target=\"_blank\" href=https://colab.research.google.com/notebooks/data_table.ipynb>data table notebook</a>'\n",
              "            + ' to learn more about interactive tables.';\n",
              "          element.innerHTML = '';\n",
              "          dataTable['output_type'] = 'display_data';\n",
              "          await google.colab.output.renderOutput(dataTable, element);\n",
              "          const docLink = document.createElement('div');\n",
              "          docLink.innerHTML = docLinkHtml;\n",
              "          element.appendChild(docLink);\n",
              "        }\n",
              "      </script>\n",
              "    </div>\n",
              "  </div>\n",
              "  "
            ]
          },
          "metadata": {},
          "execution_count": 18
        }
      ]
    },
    {
      "cell_type": "markdown",
      "metadata": {
        "id": "mA2TUcjK8Bhq"
      },
      "source": [
        "It was also seen that in two rows given below the value of HelpfulnessNumerator is greater than HelpfulnessDenominator which is not practically possible hence these two rows too are removed from calcualtions"
      ]
    },
    {
      "cell_type": "code",
      "metadata": {
        "colab": {
          "base_uri": "https://localhost:8080/"
        },
        "id": "XZc6aLpU78Ax",
        "outputId": "01eebb3e-2fb6-4315-98e5-c766839a137a"
      },
      "source": [
        "df = df[df['HelpfulnessNumerator'] <= df['HelpfulnessDenominator']]\n",
        "df.shape"
      ],
      "execution_count": 19,
      "outputs": [
        {
          "output_type": "execute_result",
          "data": {
            "text/plain": [
              "(364162, 10)"
            ]
          },
          "metadata": {},
          "execution_count": 19
        }
      ]
    },
    {
      "cell_type": "code",
      "metadata": {
        "colab": {
          "base_uri": "https://localhost:8080/"
        },
        "id": "T0yL3f4i78D6",
        "outputId": "96ab99cd-9ee3-414f-f609-e2dc5548b091"
      },
      "source": [
        "#Checking to see how much % of data still remains\n",
        "print(f'Remaining data is {((df.shape[0]*1.0)/(filtered_data.shape[0]*1.0))*100}')"
      ],
      "execution_count": 20,
      "outputs": [
        {
          "output_type": "stream",
          "name": "stdout",
          "text": [
            "Remaining data is 64.06182382391539\n"
          ]
        }
      ]
    },
    {
      "cell_type": "code",
      "metadata": {
        "colab": {
          "base_uri": "https://localhost:8080/"
        },
        "id": "5wJXT_fZ8TNK",
        "outputId": "21228e6b-7e26-43e0-fc00-0dcaf45f5fdb"
      },
      "source": [
        "#Before starting the next phase of preprocessing lets see the number of entries left\n",
        "print(df.shape)\n",
        "\n",
        "#How many positive and negative reviews are present in our dataset?\n",
        "df['Score'].value_counts()"
      ],
      "execution_count": 21,
      "outputs": [
        {
          "output_type": "stream",
          "name": "stdout",
          "text": [
            "(364162, 10)\n"
          ]
        },
        {
          "output_type": "execute_result",
          "data": {
            "text/plain": [
              "1    307054\n",
              "0     57108\n",
              "Name: Score, dtype: int64"
            ]
          },
          "metadata": {},
          "execution_count": 21
        }
      ]
    },
    {
      "cell_type": "markdown",
      "metadata": {
        "id": "Hh--rLHR8ip9"
      },
      "source": [
        "\n",
        "**Preprocessing Text data**\n",
        "\n",
        "\n",
        "Now that we have finished deduplication. Our data requires some preprocessing before we go on further with analysis and making the prediction model.\n",
        "\n",
        "Hence in the Preprocessing phase we do the following in the order below:-\n",
        "\n",
        "1.Begin by removing the html tags\n",
        "\n",
        "2.Remove any punctuations or limited set of special characters like , or . or # etc.\n",
        "\n",
        "3.Check if the word is made up of english letters and is not alpha-numeric\n",
        "\n",
        "4.Check to see if the length of the word is greater than 2 (as it was researched that there is no adjective in 2-letters)\n",
        "\n",
        "5.Convert the word to lowercase\n",
        "\n",
        "6.Remove Stopwords"
      ]
    },
    {
      "cell_type": "markdown",
      "source": [
        "**finding number of sentences containing HTML tags**"
      ],
      "metadata": {
        "id": "8HruYkbvxvGf"
      }
    },
    {
      "cell_type": "code",
      "source": [
        "import re\n",
        "i=0;\n",
        "for sentences in df['Text'].values:\n",
        "    if (len(re.findall('<.*?>', sentences))):\n",
        "        print(i)\n",
        "        print(sentences)\n",
        "        break;\n",
        "    i += 1;"
      ],
      "metadata": {
        "colab": {
          "base_uri": "https://localhost:8080/"
        },
        "id": "c94lZ78Xwfgt",
        "outputId": "2471b985-4dc1-47ca-ac47-dbb839320ab3"
      },
      "execution_count": 22,
      "outputs": [
        {
          "output_type": "stream",
          "name": "stdout",
          "text": [
            "10\n",
            "I don't know if it's the cactus or the tequila or just the unique combination of ingredients, but the flavour of this hot sauce makes it one of a kind!  We picked up a bottle once on a trip we were on and brought it back home with us and were totally blown away!  When we realized that we simply couldn't find it anywhere in our city we were bummed.<br /><br />Now, because of the magic of the internet, we have a case of the sauce and are ecstatic because of it.<br /><br />If you love hot sauce..I mean really love hot sauce, but don't want a sauce that tastelessly burns your throat, grab a bottle of Tequila Picante Gourmet de Inclan.  Just realize that once you taste it, you will never want to use any other sauce.<br /><br />Thank you for the personal, incredible service!\n"
          ]
        }
      ]
    },
    {
      "cell_type": "code",
      "metadata": {
        "id": "a_FVzJy-Djhv"
      },
      "source": [
        "# remove urls from text python: https://stackoverflow.com/a/40823105/4084039\n",
        "#sent_0 = re.sub(r\"http\\S+\", \"\", sent_0)\n",
        "#print(sent_0)"
      ],
      "execution_count": 23,
      "outputs": []
    },
    {
      "cell_type": "code",
      "source": [
        "# printing some random reviews\n",
        "sent_0 = df['Text'].values[0]\n",
        "print(sent_0)\n",
        "print(\"=\"*50)\n",
        "\n",
        "sent_1000 = df['Text'].values[1000]\n",
        "print(sent_1000)\n",
        "print(\"=\"*50)"
      ],
      "metadata": {
        "colab": {
          "base_uri": "https://localhost:8080/"
        },
        "id": "JhJI3RWJ9PgG",
        "outputId": "c2875a7a-7dc8-4360-9273-bfd0e353a099"
      },
      "execution_count": 24,
      "outputs": [
        {
          "output_type": "stream",
          "name": "stdout",
          "text": [
            "I have bought several of the Vitality canned dog food products and have found them all to be of good quality. The product looks more like a stew than a processed meat and it smells better. My Labrador is finicky and she appreciates this product better than  most.\n",
            "==================================================\n",
            "This is not jerky, this is processed, hard like a rock, very greasy and stale smelling stripe of something that you can't break into anything smaller than 2 inches long and that certainly is not the size of a training treat! The dogs- 45lb dogs that will eat anything- were not impressed, it was hard to chew, and it sounded like they were crunching rocks, most of them spat it out after a few chews, left it there, this would be the first time they would not eat something in their entire lives, these dogs will work for lettuce. Where is a zero star button?\n",
            "==================================================\n"
          ]
        }
      ]
    },
    {
      "cell_type": "code",
      "metadata": {
        "colab": {
          "base_uri": "https://localhost:8080/"
        },
        "id": "nM4VODwRDjpH",
        "outputId": "8272340a-bbb7-48b2-d008-c77d381121ce"
      },
      "source": [
        "# https://stackoverflow.com/questions/16206380/python-beautifulsoup-how-to-remove-all-tags-from-an-element\n",
        "from bs4 import BeautifulSoup\n",
        "\n",
        "soup = BeautifulSoup(sent_0, 'lxml')\n",
        "text = soup.get_text()\n",
        "print(text)\n",
        "print(\"=\"*50)\n",
        "\n",
        "soup = BeautifulSoup(sent_1000, 'lxml')\n",
        "text = soup.get_text()\n",
        "print(text)\n",
        "print(\"=\"*50)"
      ],
      "execution_count": 25,
      "outputs": [
        {
          "output_type": "stream",
          "name": "stdout",
          "text": [
            "I have bought several of the Vitality canned dog food products and have found them all to be of good quality. The product looks more like a stew than a processed meat and it smells better. My Labrador is finicky and she appreciates this product better than  most.\n",
            "==================================================\n",
            "This is not jerky, this is processed, hard like a rock, very greasy and stale smelling stripe of something that you can't break into anything smaller than 2 inches long and that certainly is not the size of a training treat! The dogs- 45lb dogs that will eat anything- were not impressed, it was hard to chew, and it sounded like they were crunching rocks, most of them spat it out after a few chews, left it there, this would be the first time they would not eat something in their entire lives, these dogs will work for lettuce. Where is a zero star button?\n",
            "==================================================\n"
          ]
        }
      ]
    },
    {
      "cell_type": "code",
      "metadata": {
        "id": "eoYwyamY8TPJ"
      },
      "source": [
        "\n",
        "# replacing some phrases like won't with will not\n",
        "\n",
        "def decontracted(phrase):\n",
        "    # specific\n",
        "    phrase = re.sub(r\"won't\", \"will not\", phrase)\n",
        "    phrase = re.sub(r\"can\\'t\", \"can not\", phrase)\n",
        "\n",
        "    # general\n",
        "    phrase = re.sub(r\"n\\'t\", \" not\", phrase)\n",
        "    phrase = re.sub(r\"\\'re\", \" are\", phrase)\n",
        "    phrase = re.sub(r\"\\'s\", \" is\", phrase)\n",
        "    phrase = re.sub(r\"\\'d\", \" would\", phrase)\n",
        "    phrase = re.sub(r\"\\'ll\", \" will\", phrase)\n",
        "    phrase = re.sub(r\"\\'t\", \" not\", phrase)\n",
        "    phrase = re.sub(r\"\\'ve\", \" have\", phrase)\n",
        "    phrase = re.sub(r\"\\'m\", \" am\", phrase)\n",
        "    return phrase"
      ],
      "execution_count": 26,
      "outputs": []
    },
    {
      "cell_type": "code",
      "metadata": {
        "colab": {
          "base_uri": "https://localhost:8080/"
        },
        "id": "k6mBi5_m8TRg",
        "outputId": "c705c321-1cfe-420b-f520-84c90350a556"
      },
      "source": [
        "sent_1000 = decontracted(sent_1000)\n",
        "print(sent_1000)\n",
        "print(\"=\"*50)"
      ],
      "execution_count": 27,
      "outputs": [
        {
          "output_type": "stream",
          "name": "stdout",
          "text": [
            "This is not jerky, this is processed, hard like a rock, very greasy and stale smelling stripe of something that you can not break into anything smaller than 2 inches long and that certainly is not the size of a training treat! The dogs- 45lb dogs that will eat anything- were not impressed, it was hard to chew, and it sounded like they were crunching rocks, most of them spat it out after a few chews, left it there, this would be the first time they would not eat something in their entire lives, these dogs will work for lettuce. Where is a zero star button?\n",
            "==================================================\n"
          ]
        }
      ]
    },
    {
      "cell_type": "code",
      "metadata": {
        "id": "mO7oZJqm8TUo"
      },
      "source": [
        "stopwords= set(['br', 'the', 'i', 'me', 'my', 'myself', 'we', 'our', 'ours', 'ourselves', 'you', \"you're\", \"you've\",\\\n",
        "            \"you'll\", \"you'd\", 'your', 'yours', 'yourself', 'yourselves', 'he', 'him', 'his', 'himself', \\\n",
        "            'she', \"she's\", 'her', 'hers', 'herself', 'it', \"it's\", 'its', 'itself', 'they', 'them', 'their',\\\n",
        "            'theirs', 'themselves', 'what', 'which', 'who', 'whom', 'this', 'that', \"that'll\", 'these', 'those', \\\n",
        "            'am', 'is', 'are', 'was', 'were', 'be', 'been', 'being', 'have', 'has', 'had', 'having', 'do', 'does', \\\n",
        "            'did', 'doing', 'a', 'an', 'the', 'and', 'but', 'if', 'or', 'because', 'as', 'until', 'while', 'of', \\\n",
        "            'at', 'by', 'for', 'with', 'about', 'against', 'between', 'into', 'through', 'during', 'before', 'after',\\\n",
        "            'above', 'below', 'to', 'from', 'up', 'down', 'in', 'out', 'on', 'off', 'over', 'under', 'again', 'further',\\\n",
        "            'then', 'once', 'here', 'there', 'when', 'where', 'why', 'how', 'all', 'any', 'both', 'each', 'few', 'more',\\\n",
        "            'most', 'other', 'some', 'such', 'only', 'own', 'same', 'so', 'than', 'too', 'very', \\\n",
        "            's', 't', 'can', 'will', 'just', 'don', \"don't\", 'should', \"should've\", 'now', 'd', 'll', 'm', 'o', 're', \\\n",
        "            've', 'y', 'ain', 'aren', \"aren't\", 'couldn', \"couldn't\", 'didn', \"didn't\", 'doesn', \"doesn't\", 'hadn',\\\n",
        "            \"hadn't\", 'hasn', \"hasn't\", 'haven', \"haven't\", 'isn', \"isn't\", 'ma', 'mightn', \"mightn't\", 'mustn',\\\n",
        "            \"mustn't\", 'needn', \"needn't\", 'shan', \"shan't\", 'shouldn', \"shouldn't\", 'wasn', \"wasn't\", 'weren', \"weren't\", \\\n",
        "            'won', \"won't\", 'wouldn', \"wouldn't\"])\n"
      ],
      "execution_count": 28,
      "outputs": []
    },
    {
      "cell_type": "code",
      "metadata": {
        "id": "mhEVv1JoELNv"
      },
      "source": [
        "df['text'] = df['Text']"
      ],
      "execution_count": 29,
      "outputs": []
    },
    {
      "cell_type": "code",
      "metadata": {
        "colab": {
          "base_uri": "https://localhost:8080/"
        },
        "id": "gjbNx5UUEApG",
        "outputId": "d59c789c-bf0f-475a-fe69-870f1bd8f7e7"
      },
      "source": [
        "preprocessed_reviews = []\n",
        "# tqdm is for printing the status bar\n",
        "for sentance in tqdm(df['text'].values):\n",
        "    sentance = re.sub(r\"http\\S+\", \"\", sentance)\n",
        "    # removing html tags\n",
        "    sentance = BeautifulSoup(sentance, 'lxml').get_text()\n",
        "    sentance = decontracted(sentance)\n",
        "    # removing extra spaces and numbers\n",
        "    sentance = re.sub(\"\\S*\\d\\S*\", \"\", sentance).strip()\n",
        "    #to clean the word of any punctuation or special characters\n",
        "    sentance = re.sub(r'[?|!|\\'|\"|#]',r'',sentance)\n",
        "    sentance = re.sub(r'[.|,|)|(|\\|/]',r' ',sentance)\n",
        "    # removing non alphabels\n",
        "    sentance = re.sub('[^A-Za-z]+', ' ', sentance)\n",
        "    # https://gist.github.com/sebleier/554280\n",
        "    sentance = ' '.join(e.lower() for e in sentance.split() if e.lower() not in stopwords)\n",
        "    preprocessed_reviews.append(sentance.strip())"
      ],
      "execution_count": 30,
      "outputs": [
        {
          "output_type": "stream",
          "name": "stderr",
          "text": [
            "100%|██████████| 364162/364162 [02:36<00:00, 2319.73it/s]\n"
          ]
        }
      ]
    },
    {
      "cell_type": "code",
      "metadata": {
        "id": "HJGfVTvbEAro"
      },
      "source": [
        "#combining required columns\n",
        "df['clean_text'] = preprocessed_reviews"
      ],
      "execution_count": 31,
      "outputs": []
    },
    {
      "cell_type": "code",
      "source": [
        "df = df[['Time','clean_text','Score']]\n",
        "#reseting index\n",
        "df = df.reset_index(drop=True)\n",
        "#saving processed file\n",
        "df.to_csv('processed_df.csv',index=False)"
      ],
      "metadata": {
        "id": "oaIEG6gn0zvW"
      },
      "execution_count": 32,
      "outputs": []
    },
    {
      "cell_type": "markdown",
      "metadata": {
        "id": "3K8d3UQQEqK_"
      },
      "source": [
        "Reading peprocessed data"
      ]
    },
    {
      "cell_type": "code",
      "metadata": {
        "colab": {
          "base_uri": "https://localhost:8080/",
          "height": 223
        },
        "id": "3MXiMH-0EAt2",
        "outputId": "2e2181fd-3743-4e26-afb1-e568cfc3972f"
      },
      "source": [
        "df = pd.read_csv('processed_df.csv')\n",
        "print(df.shape)\n",
        "df.head()"
      ],
      "execution_count": 33,
      "outputs": [
        {
          "output_type": "stream",
          "name": "stdout",
          "text": [
            "(364162, 3)\n"
          ]
        },
        {
          "output_type": "execute_result",
          "data": {
            "text/plain": [
              "         Time                                         clean_text  Score\n",
              "0  1303862400  bought several vitality canned dog food produc...      1\n",
              "1  1346976000  product arrived labeled jumbo salted peanuts p...      0\n",
              "2  1219017600  confection around centuries light pillowy citr...      1\n",
              "3  1307923200  looking secret ingredient robitussin believe f...      0\n",
              "4  1350777600  great taffy great price wide assortment yummy ...      1"
            ],
            "text/html": [
              "\n",
              "  <div id=\"df-452abc4a-03e8-4e30-ab48-3e4b875897d4\">\n",
              "    <div class=\"colab-df-container\">\n",
              "      <div>\n",
              "<style scoped>\n",
              "    .dataframe tbody tr th:only-of-type {\n",
              "        vertical-align: middle;\n",
              "    }\n",
              "\n",
              "    .dataframe tbody tr th {\n",
              "        vertical-align: top;\n",
              "    }\n",
              "\n",
              "    .dataframe thead th {\n",
              "        text-align: right;\n",
              "    }\n",
              "</style>\n",
              "<table border=\"1\" class=\"dataframe\">\n",
              "  <thead>\n",
              "    <tr style=\"text-align: right;\">\n",
              "      <th></th>\n",
              "      <th>Time</th>\n",
              "      <th>clean_text</th>\n",
              "      <th>Score</th>\n",
              "    </tr>\n",
              "  </thead>\n",
              "  <tbody>\n",
              "    <tr>\n",
              "      <th>0</th>\n",
              "      <td>1303862400</td>\n",
              "      <td>bought several vitality canned dog food produc...</td>\n",
              "      <td>1</td>\n",
              "    </tr>\n",
              "    <tr>\n",
              "      <th>1</th>\n",
              "      <td>1346976000</td>\n",
              "      <td>product arrived labeled jumbo salted peanuts p...</td>\n",
              "      <td>0</td>\n",
              "    </tr>\n",
              "    <tr>\n",
              "      <th>2</th>\n",
              "      <td>1219017600</td>\n",
              "      <td>confection around centuries light pillowy citr...</td>\n",
              "      <td>1</td>\n",
              "    </tr>\n",
              "    <tr>\n",
              "      <th>3</th>\n",
              "      <td>1307923200</td>\n",
              "      <td>looking secret ingredient robitussin believe f...</td>\n",
              "      <td>0</td>\n",
              "    </tr>\n",
              "    <tr>\n",
              "      <th>4</th>\n",
              "      <td>1350777600</td>\n",
              "      <td>great taffy great price wide assortment yummy ...</td>\n",
              "      <td>1</td>\n",
              "    </tr>\n",
              "  </tbody>\n",
              "</table>\n",
              "</div>\n",
              "      <button class=\"colab-df-convert\" onclick=\"convertToInteractive('df-452abc4a-03e8-4e30-ab48-3e4b875897d4')\"\n",
              "              title=\"Convert this dataframe to an interactive table.\"\n",
              "              style=\"display:none;\">\n",
              "        \n",
              "  <svg xmlns=\"http://www.w3.org/2000/svg\" height=\"24px\"viewBox=\"0 0 24 24\"\n",
              "       width=\"24px\">\n",
              "    <path d=\"M0 0h24v24H0V0z\" fill=\"none\"/>\n",
              "    <path d=\"M18.56 5.44l.94 2.06.94-2.06 2.06-.94-2.06-.94-.94-2.06-.94 2.06-2.06.94zm-11 1L8.5 8.5l.94-2.06 2.06-.94-2.06-.94L8.5 2.5l-.94 2.06-2.06.94zm10 10l.94 2.06.94-2.06 2.06-.94-2.06-.94-.94-2.06-.94 2.06-2.06.94z\"/><path d=\"M17.41 7.96l-1.37-1.37c-.4-.4-.92-.59-1.43-.59-.52 0-1.04.2-1.43.59L10.3 9.45l-7.72 7.72c-.78.78-.78 2.05 0 2.83L4 21.41c.39.39.9.59 1.41.59.51 0 1.02-.2 1.41-.59l7.78-7.78 2.81-2.81c.8-.78.8-2.07 0-2.86zM5.41 20L4 18.59l7.72-7.72 1.47 1.35L5.41 20z\"/>\n",
              "  </svg>\n",
              "      </button>\n",
              "      \n",
              "  <style>\n",
              "    .colab-df-container {\n",
              "      display:flex;\n",
              "      flex-wrap:wrap;\n",
              "      gap: 12px;\n",
              "    }\n",
              "\n",
              "    .colab-df-convert {\n",
              "      background-color: #E8F0FE;\n",
              "      border: none;\n",
              "      border-radius: 50%;\n",
              "      cursor: pointer;\n",
              "      display: none;\n",
              "      fill: #1967D2;\n",
              "      height: 32px;\n",
              "      padding: 0 0 0 0;\n",
              "      width: 32px;\n",
              "    }\n",
              "\n",
              "    .colab-df-convert:hover {\n",
              "      background-color: #E2EBFA;\n",
              "      box-shadow: 0px 1px 2px rgba(60, 64, 67, 0.3), 0px 1px 3px 1px rgba(60, 64, 67, 0.15);\n",
              "      fill: #174EA6;\n",
              "    }\n",
              "\n",
              "    [theme=dark] .colab-df-convert {\n",
              "      background-color: #3B4455;\n",
              "      fill: #D2E3FC;\n",
              "    }\n",
              "\n",
              "    [theme=dark] .colab-df-convert:hover {\n",
              "      background-color: #434B5C;\n",
              "      box-shadow: 0px 1px 3px 1px rgba(0, 0, 0, 0.15);\n",
              "      filter: drop-shadow(0px 1px 2px rgba(0, 0, 0, 0.3));\n",
              "      fill: #FFFFFF;\n",
              "    }\n",
              "  </style>\n",
              "\n",
              "      <script>\n",
              "        const buttonEl =\n",
              "          document.querySelector('#df-452abc4a-03e8-4e30-ab48-3e4b875897d4 button.colab-df-convert');\n",
              "        buttonEl.style.display =\n",
              "          google.colab.kernel.accessAllowed ? 'block' : 'none';\n",
              "\n",
              "        async function convertToInteractive(key) {\n",
              "          const element = document.querySelector('#df-452abc4a-03e8-4e30-ab48-3e4b875897d4');\n",
              "          const dataTable =\n",
              "            await google.colab.kernel.invokeFunction('convertToInteractive',\n",
              "                                                     [key], {});\n",
              "          if (!dataTable) return;\n",
              "\n",
              "          const docLinkHtml = 'Like what you see? Visit the ' +\n",
              "            '<a target=\"_blank\" href=https://colab.research.google.com/notebooks/data_table.ipynb>data table notebook</a>'\n",
              "            + ' to learn more about interactive tables.';\n",
              "          element.innerHTML = '';\n",
              "          dataTable['output_type'] = 'display_data';\n",
              "          await google.colab.output.renderOutput(dataTable, element);\n",
              "          const docLink = document.createElement('div');\n",
              "          docLink.innerHTML = docLinkHtml;\n",
              "          element.appendChild(docLink);\n",
              "        }\n",
              "      </script>\n",
              "    </div>\n",
              "  </div>\n",
              "  "
            ]
          },
          "metadata": {},
          "execution_count": 33
        }
      ]
    },
    {
      "cell_type": "code",
      "metadata": {
        "colab": {
          "base_uri": "https://localhost:8080/"
        },
        "id": "lU9hObrREAwW",
        "outputId": "2c2335b2-bf1b-47ed-fe4d-f8d4b79123ab"
      },
      "source": [
        "df.info()"
      ],
      "execution_count": 34,
      "outputs": [
        {
          "output_type": "stream",
          "name": "stdout",
          "text": [
            "<class 'pandas.core.frame.DataFrame'>\n",
            "RangeIndex: 364162 entries, 0 to 364161\n",
            "Data columns (total 3 columns):\n",
            " #   Column      Non-Null Count   Dtype \n",
            "---  ------      --------------   ----- \n",
            " 0   Time        364162 non-null  int64 \n",
            " 1   clean_text  363184 non-null  object\n",
            " 2   Score       364162 non-null  int64 \n",
            "dtypes: int64(2), object(1)\n",
            "memory usage: 8.3+ MB\n"
          ]
        }
      ]
    },
    {
      "cell_type": "code",
      "metadata": {
        "colab": {
          "base_uri": "https://localhost:8080/"
        },
        "id": "-Um0i4N6EAyu",
        "outputId": "72329bcf-057d-4ab7-c280-6185e0246533"
      },
      "source": [
        "#one row is empty.we will drop it\n",
        "df = df.dropna(axis=0)\n",
        "df.shape"
      ],
      "execution_count": 35,
      "outputs": [
        {
          "output_type": "execute_result",
          "data": {
            "text/plain": [
              "(363184, 3)"
            ]
          },
          "metadata": {},
          "execution_count": 35
        }
      ]
    },
    {
      "cell_type": "markdown",
      "metadata": {
        "id": "dZsEMbpOFL-Y"
      },
      "source": [
        "As our reviews have been develped over time, we are appying **time based spliting** \n",
        "\n",
        "creatin a sample of 80k points for faster training"
      ]
    },
    {
      "cell_type": "code",
      "metadata": {
        "id": "csIGfp7VFJLX"
      },
      "source": [
        "#sampling 80k points \n",
        "df = df.sample(80000,random_state=100)"
      ],
      "execution_count": 36,
      "outputs": []
    },
    {
      "cell_type": "code",
      "metadata": {
        "id": "arbcM7OzFJQV"
      },
      "source": [
        "#sortimg based on time\n",
        "df['Time'] = pd.to_datetime(df['Time'],unit='s')\n",
        "df = df.sort_values('Time')\n",
        "df = df.reset_index(drop=True)"
      ],
      "execution_count": 37,
      "outputs": []
    },
    {
      "cell_type": "markdown",
      "metadata": {
        "id": "72rD1AI3HC8a"
      },
      "source": [
        " **spliting the data to Train,CV and Test**"
      ]
    },
    {
      "cell_type": "code",
      "metadata": {
        "id": "CRRgZaPMFJSx"
      },
      "source": [
        "from sklearn.model_selection import train_test_split\n",
        "x = df['clean_text']\n",
        "y = df['Score']"
      ],
      "execution_count": 38,
      "outputs": []
    },
    {
      "cell_type": "code",
      "metadata": {
        "colab": {
          "base_uri": "https://localhost:8080/"
        },
        "id": "ZLfPlTaWG8PJ",
        "outputId": "1fd54dbf-0f83-4470-f15d-823b0fa12ff8"
      },
      "source": [
        "X_train,X_test,y_train,y_test = train_test_split(x,y,test_size=0.2,stratify=y,random_state=100)\n",
        "\n",
        "print(f'shape of X_train is {X_train.shape}')\n",
        "print(f'shape of X_test is {X_test.shape}')\n",
        "print(f'shape of y_train is {y_train.shape}')\n",
        "print(f'shape of y_test is {y_test.shape}')"
      ],
      "execution_count": 39,
      "outputs": [
        {
          "output_type": "stream",
          "name": "stdout",
          "text": [
            "shape of X_train is (64000,)\n",
            "shape of X_test is (16000,)\n",
            "shape of y_train is (64000,)\n",
            "shape of y_test is (16000,)\n"
          ]
        }
      ]
    },
    {
      "cell_type": "code",
      "metadata": {
        "colab": {
          "base_uri": "https://localhost:8080/"
        },
        "id": "vko8h_AJQlVB",
        "outputId": "463cfe68-73b7-488a-9e4c-cdc61bfdc5cb"
      },
      "source": [
        "X_train.head(3)"
      ],
      "execution_count": 40,
      "outputs": [
        {
          "output_type": "execute_result",
          "data": {
            "text/plain": [
              "76865    used make khanafa dinner guests perfect shippe...\n",
              "34357    drink black coffee usually grind beans swing s...\n",
              "64592    item described arrived time would buy item wou...\n",
              "Name: clean_text, dtype: object"
            ]
          },
          "metadata": {},
          "execution_count": 40
        }
      ]
    },
    {
      "cell_type": "markdown",
      "metadata": {
        "id": "Ox-Tm_y_xHBk"
      },
      "source": [
        "Splitting dataset into Train and Cross Validations"
      ]
    },
    {
      "cell_type": "code",
      "metadata": {
        "id": "pSTO2wlPxDmg"
      },
      "source": [
        "#X_tr,X_cv,y_tr,y_cv = train_test_split(X_train,y_train,test_size=0.3,stratify=y_train,random_state=100)"
      ],
      "execution_count": 41,
      "outputs": []
    },
    {
      "cell_type": "markdown",
      "metadata": {
        "id": "RFRssn_uOPZd"
      },
      "source": [
        "#**Featurization**\n",
        "\n"
      ]
    },
    {
      "cell_type": "markdown",
      "metadata": {
        "id": "Gx9ix2wyOCNR"
      },
      "source": [
        "**1. Bag of Words**"
      ]
    },
    {
      "cell_type": "code",
      "metadata": {
        "colab": {
          "base_uri": "https://localhost:8080/"
        },
        "id": "TJo84kjtG8Tr",
        "outputId": "82831204-0088-4ab3-d531-35606a69ad78"
      },
      "source": [
        "bow = CountVectorizer()\n",
        "bow.fit(X_train)\n",
        "X_train_bow = bow.transform(X_train)\n",
        "X_test_bow = bow.transform(X_test)\n",
        "bow_features = bow.get_feature_names()\n",
        "\n",
        "print('shape of X_train_bow is {}'.format(X_train_bow.get_shape()))\n",
        "print('shape of X_test_bow is {}'.format(X_test_bow.get_shape()))"
      ],
      "execution_count": 42,
      "outputs": [
        {
          "output_type": "stream",
          "name": "stdout",
          "text": [
            "shape of X_train_bow is (64000, 52207)\n",
            "shape of X_test_bow is (16000, 52207)\n"
          ]
        }
      ]
    },
    {
      "cell_type": "code",
      "metadata": {
        "colab": {
          "base_uri": "https://localhost:8080/"
        },
        "id": "bE3bYlG9Pz89",
        "outputId": "7deb5c4a-7b95-40b3-87ad-4835097662ac"
      },
      "source": [
        "print(\"the number of unique words \", X_train_bow.get_shape()[1])"
      ],
      "execution_count": 43,
      "outputs": [
        {
          "output_type": "stream",
          "name": "stdout",
          "text": [
            "the number of unique words  52207\n"
          ]
        }
      ]
    },
    {
      "cell_type": "code",
      "metadata": {
        "colab": {
          "base_uri": "https://localhost:8080/"
        },
        "id": "fd-VhnIKG8WK",
        "outputId": "73e54fd8-899e-4057-f5e4-175041d021e9"
      },
      "source": [
        "bow_features[0:9]"
      ],
      "execution_count": 44,
      "outputs": [
        {
          "output_type": "execute_result",
          "data": {
            "text/plain": [
              "['aa',\n",
              " 'aaa',\n",
              " 'aaaa',\n",
              " 'aaaaa',\n",
              " 'aaaaaaaaaaaaa',\n",
              " 'aaaaaah',\n",
              " 'aaaaaahhhhh',\n",
              " 'aaaaaahhhhhyaaaaaa',\n",
              " 'aaaah']"
            ]
          },
          "metadata": {},
          "execution_count": 44
        }
      ]
    },
    {
      "cell_type": "markdown",
      "source": [
        "# KNN Classifier\n",
        "\n",
        "**Finding the optimal K**"
      ],
      "metadata": {
        "id": "2n4m1WAN6JZs"
      }
    },
    {
      "cell_type": "code",
      "source": [
        "def KNN(Xtr,Ytr,Xte,Yte):\n",
        "\tmyList = list(range(0,30))\n",
        "\tneighbors = list(filter(lambda x: x % 2 != 0, myList))\n",
        "\tscores=[]\n",
        "\tfor i in neighbors:\n",
        "\t\t# instantiating brute force method of searching for K values\n",
        "\t\tKnn = KNeighborsClassifier(n_neighbors=i,algorithm='brute')\n",
        "\n",
        "\t\t# fitting the model on crossvalidation train\n",
        "\t\tKnn.fit(Xtr,Ytr)\n",
        "\n",
        "\t\t# predict the response on the crossvalidation train\n",
        "\t\tpred = Knn.predict(Xte)\n",
        "\t\t# evaluate CV accuracy\n",
        "\t\tscore = f1_score(Yte, pred,average='micro')\n",
        "\t\tscores.append(score)\n",
        "    \n",
        "\tMSE = [1 - x for x in scores]\n",
        "\n",
        "\t#determining best k\n",
        "\toptimal_k = neighbors[MSE.index(min(MSE))]\n",
        "\tprint('\\nThe optimal number of neighbors is %d.' % optimal_k)\n",
        "\treturn optimal_k"
      ],
      "metadata": {
        "id": "iNF2Ypkx_y35"
      },
      "execution_count": null,
      "outputs": []
    },
    {
      "cell_type": "code",
      "source": [
        "KNNBOW = KNN(X_train_bow,y_train,X_test_bow,y_test)"
      ],
      "metadata": {
        "colab": {
          "base_uri": "https://localhost:8080/"
        },
        "id": "OmO5l5qWAABI",
        "outputId": "b388d755-71a2-44ca-c1f2-c272ae69e3d7"
      },
      "execution_count": null,
      "outputs": [
        {
          "output_type": "stream",
          "name": "stdout",
          "text": [
            "\n",
            "The optimal number of neighbors is 17.\n"
          ]
        }
      ]
    },
    {
      "cell_type": "code",
      "source": [
        "knn = KNeighborsClassifier(n_neighbors=17)\n",
        "knn.fit(X_train_bow,y_train)\n",
        "y_pred = knn.predict(X_test_bow)\n",
        "print(\"Accuracy on test set: %0.3f%%\"%(accuracy_score(y_test, y_pred)*100))\n",
        "print(\"Precision on test set: %0.3f\"%(precision_score(y_test, y_pred,average='macro')))\n",
        "print(\"Recall on test set: %0.3f\"%(recall_score(y_test, y_pred,average='macro')))\n",
        "print(\"F1-Score on test set: %0.3f\"%(f1_score(y_test, y_pred,average='macro')))\n",
        "print(\"Confusion Matrix of test set:\\n [ [TN  FP]\\n [FN TP] ]\\n\")\n",
        "df_cm = pd.DataFrame(confusion_matrix(y_test, y_pred), range(2),range(2))\n",
        "sns.set(font_scale=1.4)#for label size\n",
        "sns.heatmap(df_cm, annot=True,annot_kws={\"size\": 16}, fmt='g')"
      ],
      "metadata": {
        "colab": {
          "base_uri": "https://localhost:8080/",
          "height": 429
        },
        "id": "uyy2QXt16O54",
        "outputId": "bec72635-8139-4e21-c255-ebd802b666d8"
      },
      "execution_count": null,
      "outputs": [
        {
          "output_type": "stream",
          "name": "stdout",
          "text": [
            "Accuracy on test set: 84.162%\n",
            "Precision on test set: 0.674\n",
            "Recall on test set: 0.574\n",
            "F1-Score on test set: 0.590\n",
            "Confusion Matrix of test set:\n",
            " [ [TN  FP]\n",
            " [FN TP] ]\n",
            "\n"
          ]
        },
        {
          "output_type": "execute_result",
          "data": {
            "text/plain": [
              "<matplotlib.axes._subplots.AxesSubplot at 0x7f7a1fca5050>"
            ]
          },
          "metadata": {},
          "execution_count": 50
        },
        {
          "output_type": "display_data",
          "data": {
            "text/plain": [
              "<Figure size 432x288 with 2 Axes>"
            ],
            "image/png": "[encoded data removed]"
          },
          "metadata": {}
        }
      ]
    },
    {
      "cell_type": "markdown",
      "metadata": {
        "id": "x0IZpuJxQTb1"
      },
      "source": [
        "**Bi-Grams and n-Grams.**"
      ]
    },
    {
      "cell_type": "code",
      "metadata": {
        "id": "ldqZ73hwG8Y7"
      },
      "source": [
        "# you can choose these numebrs min_df=10, max_features=5000, of your choice\n",
        "count_vect = CountVectorizer(ngram_range=(1,2), min_df=10, max_features=5000)\n",
        "final_bigram_counts = count_vect.fit(X_train)\n",
        "\n",
        "# we use the fitted CountVectorizer to convert the text to vector\n",
        "X_train_ngram = final_bigram_counts.transform(X_train)\n",
        "#X_cv_ngram = final_bigram_counts.transform(X_cv)\n",
        "X_test_ngram = final_bigram_counts.transform(X_test)"
      ],
      "execution_count": 45,
      "outputs": []
    },
    {
      "cell_type": "code",
      "source": [
        "KNNngram = KNN(X_train_ngram,y_train,X_test_ngram,y_test)"
      ],
      "metadata": {
        "colab": {
          "base_uri": "https://localhost:8080/"
        },
        "id": "Bc4qHARkdIjJ",
        "outputId": "8c6c9fb9-a8ad-447c-d704-cba08f6c1d4a"
      },
      "execution_count": null,
      "outputs": [
        {
          "output_type": "stream",
          "name": "stdout",
          "text": [
            "\n",
            "The optimal number of neighbors is 25.\n"
          ]
        }
      ]
    },
    {
      "cell_type": "code",
      "source": [
        "knn = KNeighborsClassifier(n_neighbors=25)\n",
        "knn.fit(X_train_ngram,y_train)\n",
        "y_pred = knn.predict(X_test_ngram)\n",
        "print(\"Accuracy on test set: %0.3f%%\"%(accuracy_score(y_test, y_pred)*100))\n",
        "print(\"Precision on test set: %0.3f\"%(precision_score(y_test, y_pred,average='macro')))\n",
        "print(\"Recall on test set: %0.3f\"%(recall_score(y_test, y_pred,average='macro')))\n",
        "print(\"F1-Score on test set: %0.3f\"%(f1_score(y_test, y_pred,average='macro')))\n",
        "print(\"Confusion Matrix of test set:\\n [ [TN  FP]\\n [FN TP] ]\\n\")\n",
        "df_cm = pd.DataFrame(confusion_matrix(y_test, y_pred), range(2),range(2))\n",
        "sns.set(font_scale=1.4)#for label size\n",
        "sns.heatmap(df_cm, annot=True,annot_kws={\"size\": 16}, fmt='g')"
      ],
      "metadata": {
        "colab": {
          "base_uri": "https://localhost:8080/",
          "height": 429
        },
        "id": "dh7AIpQMdIm3",
        "outputId": "c51d3ead-cd0b-49f2-ac21-3d503b881ad9"
      },
      "execution_count": null,
      "outputs": [
        {
          "output_type": "stream",
          "name": "stdout",
          "text": [
            "Accuracy on test set: 84.806%\n",
            "Precision on test set: 0.705\n",
            "Recall on test set: 0.570\n",
            "F1-Score on test set: 0.584\n",
            "Confusion Matrix of test set:\n",
            " [ [TN  FP]\n",
            " [FN TP] ]\n",
            "\n"
          ]
        },
        {
          "output_type": "execute_result",
          "data": {
            "text/plain": [
              "<matplotlib.axes._subplots.AxesSubplot at 0x7f7a17e5c190>"
            ]
          },
          "metadata": {},
          "execution_count": 53
        },
        {
          "output_type": "display_data",
          "data": {
            "text/plain": [
              "<Figure size 432x288 with 2 Axes>"
            ],
            "image/png": "[encoded data removed]"
          },
          "metadata": {}
        }
      ]
    },
    {
      "cell_type": "markdown",
      "metadata": {
        "id": "LeMYLgjMRWxm"
      },
      "source": [
        "**TF-IDF**"
      ]
    },
    {
      "cell_type": "code",
      "metadata": {
        "colab": {
          "base_uri": "https://localhost:8080/"
        },
        "id": "Bk2__bxMRowJ",
        "outputId": "da08f877-31ed-4d7a-b1d8-642dbd2bf5de"
      },
      "source": [
        "#applying bow on x_train and x_test\n",
        "vectorizer = TfidfVectorizer(ngram_range=(1,2), min_df=10)\n",
        "vectorizer.fit(X_train)\n",
        "tfidf_features = vectorizer.get_feature_names()\n",
        "print(\"some sample features(unique words in the corpus)\",tfidf_features)\n",
        "print('='*50)\n",
        "\n",
        "# we use the fitted CountVectorizer to convert the text to vector\n",
        "X_train_tfidf = vectorizer.transform(X_train)\n",
        "#X_cv_tfidf = vectorizer.transform(X_cv)\n",
        "X_test_tfidf = vectorizer.transform(X_test)"
      ],
      "execution_count": 46,
      "outputs": [
        {
          "output_type": "stream",
          "name": "stdout",
          "text": [
            "some sample features(unique words in the corpus) ['aa', 'abandoned', 'abdominal', 'ability', 'able', 'able buy', 'able chew', 'able drink', 'able eat', 'able enjoy', 'able find', 'able finish', 'able get', 'able give', 'able go', 'able keep', 'able locate', 'able make', 'able order', 'able pick', 'able purchase', 'able put', 'able save', 'able see', 'able stop', 'able take', 'able taste', 'able tell', 'able try', 'able use', 'abomination', 'abroad', 'absence', 'absent', 'absolute', 'absolute best', 'absolute favorite', 'absolutely', 'absolutely adore', 'absolutely amazing', 'absolutely best', 'absolutely delicious', 'absolutely fabulous', 'absolutely fantastic', 'absolutely favorite', 'absolutely great', 'absolutely horrible', 'absolutely love', 'absolutely loved', 'absolutely loves', 'absolutely no', 'absolutely not', 'absolutely nothing', 'absolutely perfect', 'absolutely recommend', 'absolutely wonderful', 'absolutely worth', 'absolutly', 'absorb', 'absorb flavor', 'absorbed', 'absorbing', 'absorbs', 'absorption', 'absurd', 'abundance', 'abundant', 'abuse', 'acacia', 'acai', 'acai berry', 'acana', 'accent', 'accents', 'accept', 'accept returns', 'acceptable', 'acceptable substitute', 'accepted', 'access', 'accessible', 'accessories', 'accident', 'accidentally', 'accidently', 'accommodate', 'accompaniment', 'accompany', 'accompanying', 'accomplish', 'according', 'according directions', 'according label', 'according package', 'according taste', 'accordingly', 'account', 'accounts', 'accurate', 'accurately', 'accustomed', 'acerola', 'acesulfame', 'acesulfame potassium', 'ache', 'aches', 'achieve', 'achieved', 'acid', 'acid coffee', 'acid natural', 'acid not', 'acid reflux', 'acid stomach', 'acid vitamin', 'acidic', 'acidic aftertaste', 'acidic taste', 'acidity', 'acids', 'acne', 'acquire', 'acquire taste', 'acquired', 'acquired taste', 'acrid', 'across', 'across amazon', 'across brand', 'across country', 'across product', 'act', 'act like', 'acted', 'acting', 'action', 'active', 'actively', 'activities', 'activity', 'acts', 'acts like', 'actual', 'actual coffee', 'actual flavor', 'actual food', 'actual product', 'actual tea', 'actually', 'actually ate', 'actually better', 'actually bit', 'actually bought', 'actually cheaper', 'actually chew', 'actually comes', 'actually contains', 'actually drink', 'actually eat', 'actually enjoy', 'actually enjoyed', 'actually feel', 'actually found', 'actually get', 'actually good', 'actually got', 'actually great', 'actually like', 'actually liked', 'actually look', 'actually looks', 'actually made', 'actually make', 'actually makes', 'actually much', 'actually not', 'actually one', 'actually ordered', 'actually prefer', 'actually pretty', 'actually purchased', 'actually put', 'actually quite', 'actually really', 'actually received', 'actually see', 'actually smells', 'actually surprised', 'actually taste', 'actually tasted', 'actually tastes', 'actually think', 'actually thought', 'actually tried', 'actually use', 'actually used', 'actually work', 'actually works', 'acv', 'ad', 'adapted', 'add', 'add additional', 'add another', 'add anything', 'add bit', 'add boiling', 'add butter', 'add cheese', 'add chicken', 'add chocolate', 'add chopped', 'add cinnamon', 'add coconut', 'add coffee', 'add cold', 'add couple', 'add cream', 'add creamer', 'add cup', 'add cups', 'add dash', 'add dried', 'add drops', 'add egg', 'add eggs', 'add enough', 'add extra', 'add favorite', 'add flavor', 'add flavored', 'add food', 'add fresh', 'add frozen', 'add fruit', 'add good', 'add great', 'add ground', 'add half', 'add honey', 'add hot', 'add ice', 'add ingredients', 'add lemon', 'add liquid', 'add little', 'add lot', 'add lots', 'add meat', 'add milk', 'add mix', 'add much', 'add nice', 'add noodles', 'add not', 'add oatmeal', 'add oil', 'add olive', 'add one', 'add packet', 'add pasta', 'add pinch', 'add powder', 'add protein', 'add raisins', 'add red', 'add rice', 'add salad', 'add salt', 'add sauce', 'add shipping', 'add small', 'add smoothies', 'add something', 'add soy', 'add spice', 'add spices', 'add splenda', 'add stuff', 'add sugar', 'add sweetener', 'add tablespoon', 'add tablespoons', 'add taste', 'add tea', 'add teaspoon', 'add things', 'add touch', 'add two', 'add vanilla', 'add variety', 'add vegetables', 'add veggies', 'add water', 'add whatever', 'add yogurt', 'added', 'added benefit', 'added bit', 'added bonus', 'added chicken', 'added coffee', 'added cup', 'added extra', 'added fat', 'added flavor', 'added fresh', 'added great', 'added hot', 'added ingredients', 'added little', 'added make', 'added mix', 'added much', 'added nice', 'added no', 'added not', 'added one', 'added plus', 'added salt', 'added sugar', 'added sugars', 'added vitamins', 'added water', 'addendum', 'addict', 'addicted', 'addicted not', 'addicted stuff', 'addicting', 'addiction', 'addictive', 'addictive not', 'addicts', 'adding', 'adding bit', 'adding extra', 'adding flavor', 'adding honey', 'adding hot', 'adding little', 'adding milk', 'adding salt', 'adding sugar', 'adding water', 'addition', 'addition coffee', 'addition diet', 'addition many', 'additional', 'additionally', 'additions', 'additive', 'additives', 'additives preservatives', 'address', 'addressed', 'adds', 'adds bit', 'adds flavor', 'adds good', 'adds great', 'adds little', 'adds lot', 'adds much', 'adds nice', 'adds right', 'adds wonderful', 'adequate', 'adequately', 'adhere', 'adhesive', 'adjust', 'adjusted', 'adjusting', 'adjustment', 'admit', 'admit first', 'admit love', 'admit not', 'admitted', 'admittedly', 'adopted', 'adopting', 'adorable', 'adore', 'adored', 'adores', 'ads', 'adult', 'adult dogs', 'adulterated', 'adults', 'adults alike', 'adults love', 'advance', 'advanced', 'advantage', 'advantages', 'adventure', 'adventurous', 'adverse', 'advertise', 'advertised', 'advertised not', 'advertisement', 'advertises', 'advertising', 'advertized', 'advice', 'advise', 'advised', 'aerator', 'aerogarden', 'affect', 'affected', 'affecting', 'affects', 'affiliated', 'afford', 'afford buy', 'affordable', 'affordable price', 'afghanistan', 'aficionado', 'aficionados', 'aforementioned', 'afraid', 'afraid try', 'afraid would', 'africa', 'african', 'afternoon', 'afternoon cup', 'afternoon evening', 'afternoon pick', 'afternoon snack', 'afternoon tea', 'afternoon treat', 'afternoons', 'aftertaste', 'aftertaste also', 'aftertaste artificial', 'aftertaste even', 'aftertaste good', 'aftertaste like', 'aftertaste mouth', 'aftertaste no', 'aftertaste not', 'aftertaste tried', 'aftertaste would', 'aftertastes', 'afterward', 'afterwards', 'afterwards not', 'agave', 'agave nectar', 'agave syrup', 'age', 'age not', 'aged', 'agent', 'agents', 'ages', 'aggressive', 'aggressive chewer', 'aggressively', 'agility', 'aging', 'ago', 'ago bought', 'ago came', 'ago decided', 'ago first', 'ago found', 'ago good', 'ago got', 'ago great', 'ago hooked', 'ago local', 'ago love', 'ago loved', 'ago never', 'ago no', 'ago not', 'ago really', 'ago since', 'ago started', 'ago still', 'ago tried', 'ago used', 'ago would', 'agree', 'agree another', 'agree not', 'agree one', 'agree others', 'agree previous', 'agree reviewer', 'agree reviewers', 'agree reviews', 'agreeable', 'agreed', 'agreement', 'agrees', 'agressive', 'agriculture', 'ah', 'ahead', 'ahead order', 'ahead ordered', 'ahead schedule', 'ahead time', 'ahh', 'ahhh', 'ahmad', 'ahmad tea', 'ahoy', 'ahoy chewy', 'ahoy cookies', 'ai', 'ai not', 'aid', 'aids', 'ailments', 'air', 'air popper', 'air tight', 'airline', 'airplane', 'airport', 'airtight', 'airtight container', 'airy', 'aisle', 'aisles', 'ak', 'aka', 'akin', 'al', 'al dente', 'alabama', 'alarm', 'alarming', 'alas', 'alas not', 'alaska', 'alaskan', 'albacore', 'albacore tuna', 'albanese', 'albeit', 'albertson', 'alcohol', 'alcoholic', 'alcohols', 'ale', 'alert', 'alertness', 'alfalfa', 'alfredo', 'alfredo sauce', 'algae', 'alike', 'alimentum', 'alittle', 'alive', 'alkali', 'alkaline', 'alleged', 'allergen', 'allergen free', 'allergens', 'allergic', 'allergic corn', 'allergic dairy', 'allergic eggs', 'allergic gluten', 'allergic peanuts', 'allergic reaction', 'allergic reactions', 'allergic wheat', 'allergies', 'allergies food', 'allergies not', 'allergy', 'allergy free', 'alleviate', 'alley', 'alliance', 'allot', 'allow', 'allowance', 'allowed', 'allowing', 'allows', 'allows us', 'allspice', 'almond', 'almond butter', 'almond butters', 'almond coconut', 'almond extract', 'almond flavor', 'almond flour', 'almond joy', 'almond milk', 'almond taste', 'almonds', 'almonds good', 'almonds great', 'almonds not', 'almonds peanuts', 'almost', 'almost always', 'almost anything', 'almost completely', 'almost daily', 'almost double', 'almost every', 'almost everyday', 'almost everyone', 'almost everything', 'almost exactly', 'almost exclusively', 'almost food', 'almost forgot', 'almost gone', 'almost good', 'almost half', 'almost identical', 'almost immediately', 'almost impossible', 'almost instantly', 'almost like', 'almost month', 'almost months', 'almost much', 'almost never', 'almost no', 'almost non', 'almost not', 'almost nothing', 'almost sweet', 'almost taste', 'almost tasteless', 'almost tastes', 'almost three', 'almost twice', 'almost two', 'almost year', 'almost years', 'aloe', 'aloe vera', 'aloha', 'alone', 'alone not', 'alone would', 'along', 'along lines', 'along side', 'along way', 'alongside', 'alot', 'alot better', 'alot coffee', 'alot different', 'alot money', 'alpha', 'already', 'already bought', 'already cooked', 'already eaten', 'already gone', 'already ground', 'already knew', 'already know', 'already made', 'already not', 'already ordered', 'already said', 'already tried', 'already used', 'alright', 'also', 'also add', 'also added', 'also adds', 'also agree', 'also allergic', 'also always', 'also amazon', 'also appreciate', 'also arrived', 'also available', 'also best', 'also better', 'also big', 'also bit', 'also bought', 'also buy', 'also came', 'also cheaper', 'also check', 'also come', 'also comes', 'also contain', 'also contains', 'also convenient', 'also delicious', 'also disappointed', 'also dog', 'also drink', 'also easy', 'also eat', 'also enjoy', 'also enjoyed', 'also excellent', 'also extremely', 'also fairly', 'also feed', 'also feel', 'also filling', 'also find', 'also found', 'also free', 'also gave', 'also get', 'also getting', 'also give', 'also gives', 'also gluten', 'also go', 'also goes', 'also going', 'also good', 'also got', 'also great', 'also happy', 'also hard', 'also healthy', 'also help', 'also helped', 'also helps', 'also high', 'also highly', 'also included', 'also includes', 'also keep', 'also keeps', 'also know', 'also known', 'also less', 'also like', 'also liked', 'also likes', 'also little', 'also lot', 'also love', 'also loved', 'also loves', 'also low', 'also made', 'also make', 'also makes', 'also many', 'also means', 'also mix', 'also mixed', 'also mixes', 'also much', 'also natural', 'also need', 'also never', 'also nice', 'also no', 'also not', 'also note', 'also noted', 'also noticed', 'also offers', 'also one', 'also order', 'also ordered', 'also organic', 'also perfect', 'also picky', 'also prefer', 'also pretty', 'also price', 'also processes', 'also product', 'also purchase', 'also purchased', 'also put', 'also quite', 'also read', 'also really', 'also received', 'also recommend', 'also right', 'also said', 'also save', 'also say', 'also says', 'also seem', 'also seems', 'also sells', 'also since', 'also small', 'also sold', 'also something', 'also started', 'also sweet', 'also take', 'also takes', 'also taste', 'also tasted', 'also tastes', 'also tasty', 'also tea', 'also think', 'also thought', 'also tried', 'also try', 'also use', 'also used', 'also uses', 'also using', 'also want', 'also wanted', 'also way', 'also wish', 'also wonderful', 'also work', 'also works', 'also would', 'alter', 'altered', 'alternate', 'alternating', 'alternative', 'alternative coffee', 'alternative found', 'alternative junk', 'alternative not', 'alternative potato', 'alternative regular', 'alternative soda', 'alternative sugar', 'alternative sugary', 'alternative traditional', 'alternatives', 'although', 'although bit', 'although could', 'although good', 'although like', 'although little', 'although love', 'although may', 'although never', 'although no', 'although not', 'although prefer', 'although price', 'although product', 'although still', 'although taste', 'although think', 'although would', 'altitude', 'altogether', 'altoid', 'altoids', 'alton', 'alton brown', 'altura', 'aluminum', 'aluminum foil', 'always', 'always able', 'always add', 'always amazon', 'always arrive', 'always arrives', 'always ask', 'always asking', 'always asks', 'always available', 'always best', 'always better', 'always big', 'always bought', 'always buy', 'always carry', 'always case', 'always check', 'always coffee', 'always come', 'always comes', 'always delicious', 'always drink', 'always easy', 'always eat', 'always end', 'always enjoyed', 'always fan', 'always favorite', 'always felt', 'always find', 'always found', 'always fresh', 'always get', 'always gets', 'always go', 'always good', 'always great', 'always hand', 'always happy', 'always hard', 'always high', 'always hit', 'always keep', 'always least', 'always like', 'always liked', 'always look', 'always looking', 'always lookout', 'always love', 'always loved', 'always made', 'always make', 'always makes', 'always nice', 'always one', 'always order', 'always pleased', 'always plus', 'always preferred', 'always purchase', 'always running', 'always satisfied', 'always searching', 'always seem', 'always seems', 'always sold', 'always stock', 'always take', 'always taste', 'always tasted', 'always tastes', 'always thought', 'always time', 'always top', 'always try', 'always trying', 'always turns', 'always use', 'always used', 'always want', 'always wanted', 'always wants', 'amaranth', 'amaretto', 'amaze', 'amazed', 'amazement', 'amazes', 'amazing', 'amazing coffee', 'amazing deal', 'amazing even', 'amazing flavor', 'amazing grass', 'amazing great', 'amazing like', 'amazing love', 'amazing no', 'amazing not', 'amazing one', 'amazing price', 'amazing product', 'amazing really', 'amazing stuff', 'amazing taste', 'amazing tastes', 'amazing tea', 'amazing thing', 'amazingly', 'amazingly delicious', 'amazingly good', 'amazon', 'amazon able', 'amazon actually', 'amazon also', 'amazon always', 'amazon amazing', 'amazon amazon', 'amazon arrived', 'amazon auto', 'amazon automatic', 'amazon available', 'amazon awesome', 'amazon best', 'amazon better', 'amazon bought', 'amazon box', 'amazon bulk', 'amazon buy', 'amazon buying', 'amazon came', 'amazon carried', 'amazon carries', 'amazon carry', 'amazon carrying', 'amazon case', 'amazon charging', 'amazon cheaper', 'amazon cheapest', 'amazon coffee', 'amazon com', 'amazon comes', 'amazon compared', 'amazon continue', 'amazon continues', 'amazon cost', 'amazon could', 'amazon customer', 'amazon deal', 'amazon decided', 'amazon definitely', 'amazon delicious', 'amazon delivered', 'amazon delivery', 'amazon description', 'amazon easy', 'amazon even', 'amazon everything', 'amazon excellent', 'amazon fantastic', 'amazon far', 'amazon fast', 'amazon favorite', 'amazon finally', 'amazon find', 'amazon first', 'amazon found', 'amazon free', 'amazon gave', 'amazon get', 'amazon gets', 'amazon getting', 'amazon give', 'amazon glad', 'amazon go', 'amazon good', 'amazon got', 'amazon great', 'amazon grocery', 'amazon happy', 'amazon hard', 'amazon hope', 'amazon hoping', 'amazon however', 'amazon instead', 'amazon keep', 'amazon keeps', 'amazon knew', 'amazon know', 'amazon last', 'amazon less', 'amazon let', 'amazon like', 'amazon listing', 'amazon little', 'amazon local', 'amazon look', 'amazon looking', 'amazon love', 'amazon made', 'amazon make', 'amazon makes', 'amazon making', 'amazon many', 'amazon much', 'amazon must', 'amazon need', 'amazon needs', 'amazon never', 'amazon nice', 'amazon no', 'amazon not', 'amazon offered', 'amazon offering', 'amazon offers', 'amazon one', 'amazon order', 'amazon ordered', 'amazon packaging', 'amazon page', 'amazon place', 'amazon please', 'amazon pleased', 'amazon policy', 'amazon price', 'amazon prices', 'amazon pricing', 'amazon prime', 'amazon problem', 'amazon product', 'amazon purchase', 'amazon purchased', 'amazon put', 'amazon quick', 'amazon really', 'amazon reasonable', 'amazon received', 'amazon rescue', 'amazon review', 'amazon reviews', 'amazon right', 'amazon said', 'amazon save', 'amazon saved', 'amazon see', 'amazon seems', 'amazon sell', 'amazon seller', 'amazon sellers', 'amazon selling', 'amazon sells', 'amazon sent', 'amazon service', 'amazon ship', 'amazon shipped', 'amazon shipping', 'amazon ships', 'amazon since', 'amazon site', 'amazon sold', 'amazon soon', 'amazon started', 'amazon still', 'amazon stock', 'amazon store', 'amazon stores', 'amazon subscribe', 'amazon subscription', 'amazon sure', 'amazon taste', 'amazon thank', 'amazon thanks', 'amazon think', 'amazon though', 'amazon thought', 'amazon thrilled', 'amazon time', 'amazon told', 'amazon tried', 'amazon try', 'amazon two', 'amazon unfortunately', 'amazon use', 'amazon used', 'amazon using', 'amazon usually', 'amazon vine', 'amazon wanted', 'amazon warehouse', 'amazon way', 'amazon website', 'amazon well', 'amazon went', 'amazon wish', 'amazon wonderful', 'amazon would', 'amazon years', 'amazon yet', 'amazons', 'amber', 'amber color', 'ambrosia', 'america', 'american', 'american chocolate', 'american coffee', 'american made', 'american style', 'american version', 'americano', 'americans', 'americolor', 'amino', 'amino acids', 'aminos', 'amish', 'amon', 'among', 'among best', 'among favorite', 'among favorites', 'among others', 'among things', 'amongst', 'amore', 'amores', 'amoretti', 'amount', 'amount add', 'amount caffeine', 'amount calories', 'amount chocolate', 'amount cinnamon', 'amount coffee', 'amount dry', 'amount energy', 'amount fat', 'amount fiber', 'amount flavor', 'amount food', 'amount get', 'amount heat', 'amount liquid', 'amount milk', 'amount money', 'amount need', 'amount not', 'amount one', 'amount price', 'amount product', 'amount protein', 'amount salt', 'amount sodium', 'amount spice', 'amount sugar', 'amount sweetness', 'amount syrup', 'amount tea', 'amount time', 'amount used', 'amount water', 'amounts', 'ample', 'amt', 'amusing', 'amy', 'amy brian', 'analysis', 'anchovies', 'anchovy', 'ancient', 'angel', 'angel hair', 'angeles', 'angle', 'angry', 'animal', 'animal crackers', 'animal fat', 'animal products', 'animals', 'anise', 'ann', 'annie', 'annie chun', 'annie products', 'annies', 'anniversary', 'annoyance', 'annoyed', 'annoying', 'annual', 'another', 'another bag', 'another batch', 'another bottle', 'another box', 'another brand', 'another case', 'another company', 'another container', 'another cup', 'another customer', 'another dog', 'another favorite', 'another flavor', 'another food', 'another good', 'another great', 'another item', 'another jar', 'another minutes', 'another nice', 'another one', 'another order', 'another pack', 'another person', 'another piece', 'another place', 'another plus', 'another product', 'another reason', 'another review', 'another reviewer', 'another seller', 'another site', 'another source', 'another state', 'another thing', 'another three', 'another time', 'another try', 'another type', 'another variety', 'another vendor', 'another way', 'another website', 'another winner', 'answer', 'answered', 'answers', 'ant', 'anti', 'anti dandruff', 'anti inflammatory', 'anti oxidant', 'anti oxidants', 'antibiotic', 'antibiotics', 'anticipate', 'anticipated', 'anticipating', 'anticipation', 'antioxidant', 'antioxidants', 'antioxidents', 'antler', 'antlers', 'antonio', 'ants', 'anxiety', 'anxious', 'anxious try', 'anxiously', 'anybody', 'anyday', 'anyhow', 'anymore', 'anymore glad', 'anymore not', 'anyone', 'anyone considering', 'anyone could', 'anyone dog', 'anyone else', 'anyone enjoys', 'anyone ever', 'anyone gluten', 'anyone interested', 'anyone know', 'anyone knows', 'anyone likes', 'anyone looking', 'anyone loves', 'anyone needs', 'anyone not', 'anyone trying', 'anyone uses', 'anyone want', 'anyone wanting', 'anyone wants', 'anyone would', 'anything', 'anything added', 'anything amazon', 'anything artificial', 'anything bad', 'anything better', 'anything buy', 'anything chocolate', 'anything could', 'anything delicious', 'anything else', 'anything even', 'anything ever', 'anything everything', 'anything except', 'anything find', 'anything get', 'anything give', 'anything good', 'anything great', 'anything healthy', 'anything less', 'anything like', 'anything made', 'anything make', 'anything new', 'anything not', 'anything one', 'anything put', 'anything really', 'anything sweet', 'anything taste', 'anything tastes', 'anything think', 'anything tried', 'anything use', 'anything want', 'anything would', 'anything wrong', 'anytime', 'anytime day', 'anytime soon', 'anytime want', 'anyway', 'anyway great', 'anyway not', 'anyway would', 'anyways', 'anywhere', 'anywhere amazon', 'anywhere close', 'anywhere else', 'anywhere locally', 'anywhere near', 'anywhere not', 'anywhere stores', 'anywhere would', 'apart', 'apart easily', 'apartment', 'apiece', 'apo', 'apologize', 'apology', 'appalled', 'apparent', 'apparently', 'apparently not', 'appeal', 'appealed', 'appealing', 'appeals', 'appear', 'appearance', 'appeared', 'appears', 'appetit', 'appetite', 'appetizer', 'appetizers', 'appetizing', 'applaud', 'apple', 'apple banana', 'apple chips', 'apple cider', 'apple cinnamon', 'apple flavor', 'apple flavored', 'apple grape', 'apple juice', 'apple pie', 'apple sauce', 'apple slices', 'apple taste', 'apples', 'applesauce', 'appletini', 'application', 'applications', 'applied', 'applies', 'apply', 'applying', 'appreciate', 'appreciate able', 'appreciate fact', 'appreciate good', 'appreciated', 'appreciated benefit', 'appreciates', 'appreciation', 'apprehensive', 'approach', 'approached', 'approaches', 'approaching', 'appropriate', 'appropriately', 'approval', 'approve', 'approved', 'approx', 'approximately', 'apricot', 'apricots', 'april', 'apt', 'ar', 'ara', 'arabic', 'arabica', 'arabica beans', 'arabica coffee', 'arctic', 'arctic zero', 'area', 'area amazon', 'area glad', 'area no', 'area not', 'area stopped', 'areal', 'areas', 'arent', 'argentina', 'arguably', 'argue', 'arise', 'arizona', 'arm', 'arm leg', 'arms', 'army', 'aroma', 'aroma brewing', 'aroma coffee', 'aroma flavor', 'aroma good', 'aroma great', 'aroma not', 'aroma open', 'aroma taste', 'aroma tea', 'aroma wonderful', 'aromas', 'aromatic', 'around', 'around amazon', 'around area', 'around best', 'around bit', 'around box', 'around corner', 'around day', 'around edges', 'around even', 'around find', 'around found', 'around get', 'around good', 'around great', 'around holidays', 'around house', 'around kitchen', 'around like', 'around live', 'around local', 'around long', 'around minutes', 'around months', 'around mouth', 'around much', 'around not', 'around one', 'around per', 'around product', 'around since', 'around time', 'around town', 'around tried', 'around world', 'around would', 'around years', 'arrange', 'arranged', 'arrangement', 'arrangements', 'array', 'arrival', 'arrive', 'arrive time', 'arrived', 'arrived box', 'arrived broken', 'arrived damaged', 'arrived day', 'arrived days', 'arrived dented', 'arrived door', 'arrived earlier', 'arrived early', 'arrived excellent', 'arrived expected', 'arrived fast', 'arrived fresh', 'arrived good', 'arrived great', 'arrived home', 'arrived intact', 'arrived no', 'arrived not', 'arrived one', 'arrived opened', 'arrived perfect', 'arrived promised', 'arrived promptly', 'arrived quickly', 'arrived sooner', 'arrived time', 'arrived timely', 'arrived today', 'arrived two', 'arrived well', 'arrived within', 'arrives', 'arriving', 'arrowhead', 'arrowhead mills', 'arrowroot', 'arsenic', 'art', 'arteries', 'arthritic', 'arthritis', 'arthur', 'artichoke', 'artichoke hearts', 'artichokes', 'article', 'articles', 'artifical', 'artificial', 'artificial coloring', 'artificial colors', 'artificial flavor', 'artificial flavoring', 'artificial flavorings', 'artificial flavors', 'artificial ingredients', 'artificial like', 'artificial preservatives', 'artificial stuff', 'artificial sweetener', 'artificial sweeteners', 'artificial sweetner', 'artificial sweetners', 'artificial taste', 'artificial tasting', 'artificially', 'artificially flavored', 'artificially sweetened', 'artisan', 'artisana', 'asap', 'ascorbic', 'ascorbic acid', 'aseptic', 'ash', 'ashamed', 'asia', 'asiago', 'asian', 'asian food', 'asian grocery', 'asian market', 'asian markets', 'asian store', 'asian supermarket', 'aside', 'asin', 'ask', 'asked', 'asked could', 'asked not', 'asking', 'asks', 'asleep', 'asparagus', 'aspartame', 'aspect', 'aspects', 'aspertame', 'aspirin', 'ass', 'assam', 'assam black', 'assemble', 'assessment', 'assist', 'associate', 'associated', 'association', 'assorted', 'assorted flavors', 'assortment', 'assortment flavors', 'assume', 'assumed', 'assumed would', 'assuming', 'assumption', 'assure', 'assured', 'asthma', 'astounding', 'astringent', 'ate', 'ate could', 'ate couple', 'ate entire', 'ate first', 'ate food', 'ate half', 'ate like', 'ate no', 'ate not', 'ate one', 'ate right', 'ate two', 'ate whole', 'athlete', 'athletes', 'atkins', 'atlanta', 'atlantic', 'atleast', 'atomic', 'atop', 'attach', 'attached', 'attachment', 'attack', 'attacks', 'attempt', 'attempted', 'attempting', 'attempts', 'attending', 'attention', 'attest', 'attitude', 'attract', 'attracted', 'attractive', 'attribute', 'attributed', 'attributes', 'au', 'audience', 'aug', 'august', 'aunt', 'aussie', 'austin', 'australia', 'australian', 'australian shepherd', 'authentic', 'authentic taste', 'author', 'autism', 'auto', 'auto delivery', 'auto order', 'auto ship', 'auto shipment', 'autolyzed', 'autolyzed yeast', 'automated', 'automatic', 'automatic delivery', 'automatic order', 'automatic shipment', 'automatic shipments', 'automatically', 'autoship', 'autumn', 'avail', 'availability', 'available', 'available amazon', 'available area', 'available bulk', 'available costco', 'available everywhere', 'available good', 'available great', 'available grocery', 'available like', 'available line', 'available live', 'available local', 'available locally', 'available many', 'available market', 'available not', 'available one', 'available online', 'available price', 'available purchase', 'available store', 'available stores', 'available subscribe', 'available us', 'available via', 'available year', 'avenue', 'average', 'average size', 'aversion', 'avid', 'avid coffee', 'avid tea', 'avocado', 'avocado oil', 'avoderm', 'avoid', 'avoid eating', 'avoid gluten', 'avoid product', 'avoid sugar', 'avoided', 'avoiding', 'avoids', 'awaiting', 'awake', 'award', 'aware', 'away', 'away best', 'away coffee', 'away could', 'away entire', 'away even', 'away flavor', 'away food', 'away friends', 'away gifts', 'away good', 'away great', 'away half', 'away home', 'away like', 'away no', 'away not', 'away one', 'away product', 'away really', 'away rest', 'away two', 'away using', 'away would', 'aweful', 'awesome', 'awesome deal', 'awesome flavor', 'awesome great', 'awesome like', 'awesome love', 'awesome not', 'awesome price', 'awesome product', 'awesome taste', 'awesome tastes', 'awesomeness', 'awful', 'awful not', 'awful stuff', 'awful taste', 'awfully', 'awhile', 'awhile not', 'awkward', 'awsome', 'axe', 'az', 'babies', 'baby', 'baby brezza', 'baby food', 'baby foods', 'baby formula', 'baby girl', 'baby gourmet', 'baby likes', 'baby loved', 'baby loves', 'baby not', 'baby products', 'baby shower', 'baby would', 'babycook', 'babyfood', 'back', 'back amazon', 'back bag', 'back bought', 'back box', 'back buy', 'back childhood', 'back coffee', 'back day', 'back drawing', 'back eating', 'back flavor', 'back forth', 'back get', 'back good', 'back great', 'back happy', 'back home', 'back like', 'back little', 'back many', 'back memories', 'back nature', 'back next', 'back no', 'back normal', 'back not', 'back old', 'back one', 'back order', 'back ordered', 'back original', 'back package', 'back product', 'back regular', 'back see', 'back since', 'back soon', 'back still', 'back stock', 'back store', 'back sugar', 'back tea', 'back throat', 'back time', 'back tried', 'back trip', 'back us', 'back using', 'back work', 'back would', 'back yard', 'backed', 'background', 'backpack', 'backpacking', 'backup', 'backyard', 'bacon', 'bacon bits', 'bacon flavor', 'bacon salt', 'bacteria', 'bacterial', 'bad', 'bad actually', 'bad aftertaste', 'bad amazon', 'bad bad', 'bad bag', 'bad batch', 'bad bought', 'bad boys', 'bad breath', 'bad coffee', 'bad could', 'bad cup', 'bad deal', 'bad dogs', 'bad either', 'bad enough', 'bad even', 'bad experience', 'bad experiences', 'bad first', 'bad flavor', 'bad giving', 'bad good', 'bad idea', 'bad like', 'bad little', 'bad love', 'bad news', 'bad no', 'bad not', 'bad one', 'bad ones', 'bad price', 'bad product', 'bad really', 'bad review', 'bad reviews', 'bad say', 'bad smell', 'bad stuff', 'bad taste', 'bad tastes', 'bad tasting', 'bad tea', 'bad teeth', 'bad thing', 'bad things', 'bad think', 'bad though', 'bad try', 'bad way', 'bad would', 'badly', 'badly dented', 'baffled', 'bag', 'bag also', 'bag amazon', 'bag another', 'bag arrived', 'bag away', 'bag back', 'bag bag', 'bag bags', 'bag beans', 'bag best', 'bag big', 'bag bought', 'bag box', 'bag buy', 'bag calories', 'bag came', 'bag candy', 'bag car', 'bag case', 'bag chips', 'bag chocolate', 'bag coffee', 'bag comes', 'bag contains', 'bag could', 'bag cup', 'bag day', 'bag definitely', 'bag dog', 'bag easy', 'bag enough', 'bag even', 'bag every', 'bag first', 'bag food', 'bag found', 'bag fresh', 'bag full', 'bag get', 'bag go', 'bag goes', 'bag going', 'bag gone', 'bag good', 'bag got', 'bag great', 'bag grocery', 'bag individually', 'bag inside', 'bag instead', 'bag keep', 'bag know', 'bag large', 'bag last', 'bag lasts', 'bag left', 'bag let', 'bag like', 'bag little', 'bag local', 'bag lot', 'bag love', 'bag made', 'bag make', 'bag makes', 'bag may', 'bag month', 'bag much', 'bag never', 'bag no', 'bag not', 'bag one', 'bag open', 'bag opened', 'bag ordered', 'bag per', 'bag perfect', 'bag price', 'bag purchased', 'bag purse', 'bag put', 'bag really', 'bag received', 'bag resealable', 'bag right', 'bag says', 'bag sealed', 'bag see', 'bag shipping', 'bag since', 'bag size', 'bag small', 'bag snack', 'bag still', 'bag store', 'bag stuff', 'bag take', 'bag taste', 'bag tea', 'bag think', 'bag three', 'bag time', 'bag treats', 'bag tried', 'bag try', 'bag two', 'bag use', 'bag used', 'bag well', 'bag went', 'bag within', 'bag without', 'bag work', 'bag would', 'bagel', 'bagels', 'bagged', 'bagged tea', 'baggie', 'baggies', 'bags', 'bags also', 'bags amazon', 'bags bag', 'bags box', 'bags boxes', 'bags chips', 'bags coffee', 'bags come', 'bags could', 'bags day', 'bags every', 'bags first', 'bags get', 'bags good', 'bags great', 'bags grocery', 'bags inside', 'bags keep', 'bags large', 'bags last', 'bags like', 'bags little', 'bags make', 'bags much', 'bags no', 'bags not', 'bags one', 'bags pack', 'bags per', 'bags perfect', 'bags pretty', 'bags received', 'bags small', 'bags store', 'bags tea', 'bags time', 'bags use', 'bags used', 'bags work', 'bags would', 'bai', 'bait', 'baja', 'bake', 'bake cookies', 'bake lot', 'bake minutes', 'bake oven', 'baked', 'baked beans', 'baked bread', 'baked chicken', 'baked chips', 'baked goods', 'baked oatmeal', 'baked potato', 'baked potatoes', 'baker', 'bakeries', 'bakers', 'bakery', 'bakery main', 'bakes', 'baking', 'baking cooking', 'baking mix', 'baking needs', 'baking not', 'baking pan', 'baking powder', 'baking recipes', 'baking soda', 'balance', 'balance flavor', 'balance flavors', 'balance not', 'balance sweet', 'balanced', 'balanced diet', 'balanced flavor', 'balances', 'balancing', 'bald', 'ball', 'ball not', 'balls', 'balm', 'balsamic', 'balsamic vinegar', 'bam', 'bamboo', 'bamboo box', 'ban', 'banana', 'banana bread', 'banana chips', 'banana flavor', 'banana nut', 'bananas', 'band', 'bang', 'bang buck', 'bank', 'banks', 'banned', 'bar', 'bar also', 'bar best', 'bar better', 'bar calories', 'bar chocolate', 'bar contains', 'bar definitely', 'bar delicious', 'bar eat', 'bar ever', 'bar good', 'bar great', 'bar harbor', 'bar instead', 'bar like', 'bar none', 'bar not', 'bar one', 'bar perfect', 'bar really', 'bar soft', 'bar taste', 'bar tastes', 'bar tried', 'bar would', 'barbara', 'barbecue', 'barbecue sauce', 'barbeque', 'bare', 'barely', 'barely taste', 'bargain', 'bargain compared', 'bargain not', 'bargain price', 'barilla', 'barista', 'bark', 'barking', 'barley', 'barn', 'barney', 'barney butter', 'baronet', 'barrel', 'barrels', 'barrier', 'barry', 'barry farm', 'barry farms', 'bars', 'bars also', 'bars best', 'bars chocolate', 'bars contain', 'bars delicious', 'bars eat', 'bars ever', 'bars found', 'bars get', 'bars good', 'bars great', 'bars like', 'bars little', 'bars local', 'bars love', 'bars made', 'bars make', 'bars market', 'bars natural', 'bars nice', 'bars not', 'bars one', 'bars perfect', 'bars really', 'bars soft', 'bars taste', 'bars tasty', 'bars time', 'bars tried', 'bars try', 'bars would', 'base', 'base add', 'base not', 'baseball', 'based', 'based experience', 'based good', 'based positive', 'based price', 'based products', 'based reviews', 'based sauce', 'based sauces', 'based taste', 'based upon', 'basement', 'bases', 'bash', 'basic', 'basically', 'basically like', 'basics', 'basil', 'basis', 'basket', 'baskets', 'basmati', 'basmati rice', 'baste', 'bat', 'batch', 'batch batch', 'batch made', 'batch not', 'batches', 'bath', 'bath beyond', 'bathroom', 'batter', 'battle', 'bavarian', 'bay', 'bay area', 'bay coffee', 'bay leaves', 'bb', 'bbq', 'bbq flavor', 'bbq sauce', 'bbq sauces', 'bc', 'beaba', 'beach', 'beagle', 'beagles', 'beam', 'bean', 'bean coffee', 'bean direct', 'bean flavor', 'bean flour', 'bean not', 'bean soup', 'bean tea', 'beans', 'beans also', 'beans always', 'beans amazon', 'beans arrived', 'beans best', 'beans coffee', 'beans even', 'beans fresh', 'beans get', 'beans good', 'beans great', 'beans grind', 'beans like', 'beans make', 'beans much', 'beans no', 'beans not', 'beans one', 'beans really', 'beans rice', 'beans roasted', 'beans taste', 'beans tried', 'beans used', 'beans would', 'bear', 'bear mind', 'bear naked', 'bearable', 'bearing', 'bears', 'beast', 'beat', 'beat amazon', 'beat price', 'beaten', 'beating', 'beats', 'beautiful', 'beautifully', 'beauty', 'became', 'became addicted', 'became favorite', 'become', 'become addicted', 'become available', 'become daily', 'become favorite', 'become go', 'become hard', 'become new', 'become one', 'become regular', 'become staple', 'becomes', 'becomes available', 'becoming', 'becuase', 'bed', 'bed bath', 'bed time', 'bedroom', 'bedtime', 'bee', 'beef', 'beef also', 'beef broth', 'beef chicken', 'beef flavor', 'beef flavored', 'beef jerky', 'beef lamb', 'beef not', 'beef pork', 'beef stew', 'beef sticks', 'beef turkey', 'beefy', 'beer', 'beers', 'bees', 'beet', 'beetle', 'beetlejuice', 'beets', 'beforehand', 'beg', 'began', 'began using', 'begged', 'beggin', 'begging', 'begin', 'beginning', 'begins', 'begs', 'begun', 'behalf', 'behave', 'behavior', 'behind', 'behold', 'beleive', 'belgian', 'belgian chocolate', 'belgian waffle', 'belgium', 'belief', 'believe', 'believe amazon', 'believe best', 'believe better', 'believe good', 'believe great', 'believe much', 'believe no', 'believe not', 'believe product', 'believe sugar', 'believe tried', 'believe would', 'believed', 'believer', 'believes', 'believing', 'belive', 'bell', 'bell pepper', 'bell peppers', 'bellies', 'belly', 'belly flops', 'belly jelly', 'belong', 'belongs', 'beloved', 'belt', 'ben', 'bend', 'beneath', 'benecol', 'beneficial', 'benefit', 'benefit search', 'benefits', 'benefits coconut', 'benefits green', 'benefits not', 'beneful', 'bengal', 'bent', 'bentley', 'benzoate', 'bergamot', 'bergamot flavor', 'berger', 'bergin', 'bergin nut', 'berkeley', 'berries', 'berries not', 'berry', 'berry flavor', 'berry taste', 'beside', 'besides', 'best', 'best also', 'best alternative', 'best amazon', 'best apple', 'best around', 'best available', 'best baby', 'best bbq', 'best beef', 'best best', 'best bet', 'best black', 'best blend', 'best brand', 'best brands', 'best bread', 'best brownies', 'best bunch', 'best buy', 'best candy', 'best canned', 'best cat', 'best cereal', 'best chai', 'best cheese', 'best chips', 'best chocolate', 'best choice', 'best coconut', 'best coffee', 'best coffees', 'best cookies', 'best could', 'best crackers', 'best cup', 'best cups', 'best dark', 'best date', 'best deal', 'best decaf', 'best described', 'best dog', 'best dogs', 'best drink', 'best dry', 'best earl', 'best energy', 'best especially', 'best espresso', 'best even', 'best ever', 'best family', 'best far', 'best find', 'best flavor', 'best flavored', 'best flavors', 'best food', 'best foods', 'best formula', 'best found', 'best friend', 'best friends', 'best get', 'best gf', 'best ginger', 'best gluten', 'best good', 'best granola', 'best great', 'best green', 'best gum', 'best gummi', 'best hard', 'best healthy', 'best honey', 'best hot', 'best iced', 'best ingredients', 'best instant', 'best jerky', 'best kind', 'best licorice', 'best like', 'best little', 'best love', 'best low', 'best made', 'best market', 'best mint', 'best mix', 'best natural', 'best no', 'best not', 'best oatmeal', 'best one', 'best ones', 'best opinion', 'best option', 'best organic', 'best part', 'best pasta', 'best peanut', 'best place', 'best popcorn', 'best pretzels', 'best price', 'best prices', 'best pricing', 'best product', 'best products', 'best protein', 'best quality', 'best really', 'best results', 'best rice', 'best salt', 'best sauce', 'best seasoning', 'best served', 'best snack', 'best snacks', 'best soup', 'best stuff', 'best sugar', 'best sweet', 'best taste', 'best tasted', 'best tastes', 'best tasting', 'best tea', 'best teas', 'best thing', 'best things', 'best treat', 'best treats', 'best tried', 'best try', 'best use', 'best used', 'best value', 'best vanilla', 'best waffles', 'best way', 'best whole', 'best world', 'best worlds', 'best would', 'best yet', 'bet', 'bet would', 'beta', 'better', 'better add', 'better added', 'better also', 'better alternative', 'better amazon', 'better anything', 'better best', 'better better', 'better big', 'better bought', 'better bouillon', 'better brand', 'better brands', 'better buy', 'better buying', 'better candy', 'better canned', 'better cheaper', 'better chicken', 'better chocolate', 'better choice', 'better choices', 'better coffee', 'better cold', 'better could', 'better cup', 'better deal', 'better definitely', 'better diet', 'better dog', 'better drink', 'better drinking', 'better eat', 'better eating', 'better energy', 'better even', 'better ever', 'better expected', 'better expensive', 'better find', 'better first', 'better flavor', 'better food', 'better found', 'better fresh', 'better get', 'better giving', 'better gluten', 'better going', 'better good', 'better great', 'better grocery', 'better half', 'better happy', 'better health', 'better hot', 'better ingredients', 'better instant', 'better job', 'better knowing', 'better last', 'better less', 'better like', 'better little', 'better local', 'better looking', 'better lot', 'better love', 'better luck', 'better made', 'better make', 'better making', 'better many', 'better milk', 'better much', 'better no', 'better non', 'better not', 'better nothing', 'better one', 'better ones', 'better opinion', 'better option', 'better options', 'better organic', 'better original', 'better others', 'better peanut', 'better plain', 'better price', 'better prices', 'better product', 'better products', 'better put', 'better quality', 'better real', 'better really', 'better regular', 'better results', 'better rice', 'better shape', 'better since', 'better starbucks', 'better still', 'better store', 'better stuff', 'better sugar', 'better supermarket', 'better take', 'better taste', 'better tastes', 'better tasting', 'better tea', 'better texture', 'better think', 'better though', 'better thought', 'better traditional', 'better tried', 'better two', 'better us', 'better use', 'better used', 'better using', 'better usual', 'better value', 'better warm', 'better way', 'better well', 'better wheat', 'better whole', 'better without', 'better would', 'better yet', 'betty', 'betty crocker', 'beverage', 'beverage not', 'beverages', 'beware', 'beware not', 'beyond', 'bf', 'bff', 'bha', 'bht', 'bhut', 'bhut jolokia', 'bi', 'bialetti', 'biased', 'bib', 'bicarbonate', 'bichon', 'big', 'big bag', 'big bags', 'big batch', 'big bottle', 'big bowl', 'big box', 'big bucks', 'big cans', 'big chocolate', 'big chunks', 'big coffee', 'big container', 'big cup', 'big deal', 'big difference', 'big disappointment', 'big dog', 'big dogs', 'big easy', 'big enough', 'big fan', 'big fans', 'big hit', 'big jar', 'big lots', 'big mess', 'big mistake', 'big name', 'big not', 'big nut', 'big one', 'big ones', 'big part', 'big plastic', 'big plus', 'big pot', 'big problem', 'big red', 'big size', 'big small', 'big tea', 'big thumbs', 'big time', 'big train', 'bigelow', 'bigger', 'bigger bag', 'bigger bags', 'bigger dog', 'bigger size', 'biggest', 'biggest complaint', 'biggest problem', 'biggie', 'bike', 'biking', 'bile', 'bill', 'bill perfectly', 'billed', 'billion', 'bills', 'bin', 'bind', 'binge', 'bingo', 'bins', 'bio', 'biodegradable', 'birch', 'bird', 'birds', 'birth', 'birthday', 'birthday cake', 'birthday gift', 'birthday party', 'birthday present', 'birthdays', 'biryani', 'biscoff', 'biscoff spread', 'biscotti', 'biscuit', 'biscuits', 'biscuits not', 'bison', 'bisque', 'bisquick', 'bistro', 'bit', 'bit better', 'bit bigger', 'bit bite', 'bit bitter', 'bit bland', 'bit butter', 'bit caffeine', 'bit cheaper', 'bit chewy', 'bit chocolate', 'bit coffee', 'bit concerned', 'bit different', 'bit disappointed', 'bit dry', 'bit easier', 'bit energy', 'bit expensive', 'bit extra', 'bit first', 'bit flavor', 'bit get', 'bit goes', 'bit good', 'bit grainy', 'bit hard', 'bit heat', 'bit heavy', 'bit high', 'bit higher', 'bit honey', 'bit hot', 'bit kick', 'bit larger', 'bit lemon', 'bit less', 'bit lighter', 'bit like', 'bit longer', 'bit messy', 'bit mild', 'bit milk', 'bit money', 'bit much', 'bit not', 'bit oil', 'bit oily', 'bit one', 'bit picky', 'bit pricey', 'bit pricy', 'bit salt', 'bit salty', 'bit skeptical', 'bit small', 'bit smaller', 'bit softer', 'bit sour', 'bit spicy', 'bit stale', 'bit steep', 'bit strong', 'bit stronger', 'bit sugar', 'bit sweet', 'bit sweeter', 'bit sweetness', 'bit tart', 'bit taste', 'bit tea', 'bit thick', 'bit thicker', 'bit time', 'bit water', 'bit watery', 'bit weak', 'bit work', 'bit would', 'bite', 'bite like', 'bite not', 'bite one', 'bite size', 'bite sized', 'bite taste', 'bites', 'biting', 'bits', 'bits not', 'bitten', 'bitter', 'bitter acidic', 'bitter aftertaste', 'bitter also', 'bitter burnt', 'bitter coffee', 'bitter dark', 'bitter even', 'bitter flavor', 'bitter good', 'bitter great', 'bitter like', 'bitter no', 'bitter not', 'bitter one', 'bitter strong', 'bitter sweet', 'bitter taste', 'bitter tasting', 'bitter tea', 'bitter would', 'bitterness', 'bitterness no', 'bitterness not', 'bitters', 'bittersweet', 'bittersweet chocolate', 'bizarre', 'bj', 'bjs', 'black', 'black bean', 'black beans', 'black cherry', 'black coffee', 'black currant', 'black diamond', 'black green', 'black lab', 'black licorice', 'black no', 'black not', 'black olives', 'black pepper', 'black tea', 'black teas', 'black tiger', 'black white', 'blackberries', 'blackberry', 'blackberry flavor', 'blackberry vanilla', 'bladder', 'blade', 'blah', 'blah blah', 'blair', 'blame', 'blanc', 'bland', 'bland diet', 'bland not', 'bland taste', 'bland tasteless', 'bland tasting', 'blanket', 'blast', 'bleach', 'bleached', 'blech', 'bleeding', 'blend', 'blend best', 'blend black', 'blend chocolate', 'blend coffee', 'blend cups', 'blend favorite', 'blend flavor', 'blend flavors', 'blend good', 'blend great', 'blend green', 'blend medium', 'blend not', 'blend one', 'blend perfect', 'blend spices', 'blend still', 'blend sweet', 'blend tastes', 'blend tea', 'blend well', 'blended', 'blended well', 'blender', 'blending', 'blends', 'blends coffee', 'blends not', 'blends well', 'bless', 'blessed', 'blessing', 'blew', 'blind', 'blind taste', 'bliss', 'blk', 'bloat', 'bloated', 'bloating', 'blob', 'block', 'blocks', 'blog', 'blogs', 'blonde', 'blood', 'blood glucose', 'blood orange', 'blood pressure', 'blood sugar', 'blood sugars', 'blood work', 'bloody', 'bloody mary', 'bloom', 'blooming', 'blooms', 'blossom', 'blossoms', 'blow', 'blowing', 'blown', 'blown away', 'blows', 'blu', 'blue', 'blue agave', 'blue box', 'blue buffalo', 'blue cheese', 'blue diamond', 'blue dog', 'blue mountain', 'blue raspberry', 'blue sky', 'blueberries', 'blueberry', 'blueberry coffee', 'blueberry flavor', 'blueberry flavored', 'blueberry muffin', 'blueberry muffins', 'blueberry taste', 'blues', 'bm', 'board', 'boasts', 'boat', 'bob', 'bob products', 'bob red', 'boba', 'bobs', 'bodied', 'bodied coffee', 'bodied flavor', 'bodied not', 'bodied taste', 'bodied tea', 'bodies', 'bodum', 'body', 'body also', 'body coffee', 'body flavor', 'body moisturizer', 'body needs', 'body not', 'body wash', 'boil', 'boil minutes', 'boil water', 'boiled', 'boiled water', 'boiler', 'boiling', 'boiling hot', 'boiling water', 'boils', 'bold', 'bold black', 'bold coffee', 'bold coffees', 'bold cup', 'bold cups', 'bold dark', 'bold enough', 'bold flavor', 'bold flavorful', 'bold flavors', 'bold like', 'bold not', 'bold rich', 'bold smooth', 'bold strong', 'bold taste', 'bold without', 'bold yet', 'bolder', 'boldness', 'bomb', 'bon', 'bone', 'bone not', 'boneless', 'boneless chicken', 'boneless skinless', 'bones', 'bones great', 'bones not', 'bonito', 'bonito flakes', 'bonkers', 'bonsai', 'bonsai tree', 'bonus', 'boo', 'book', 'booklet', 'books', 'boom', 'boost', 'boost energy', 'boost need', 'boost without', 'booster', 'boosting', 'boosts', 'boot', 'booty', 'border', 'border collie', 'borderline', 'borders', 'bored', 'boring', 'born', 'born raised', 'boss', 'boston', 'boston terrier', 'boston terriers', 'bother', 'bother much', 'bother not', 'bother trying', 'bothered', 'bothering', 'bothers', 'bothersome', 'bottle', 'bottle also', 'bottle around', 'bottle comes', 'bottle could', 'bottle day', 'bottle design', 'bottle get', 'bottle go', 'bottle got', 'bottle last', 'bottle lasts', 'bottle like', 'bottle little', 'bottle makes', 'bottle not', 'bottle one', 'bottle pretty', 'bottle says', 'bottle size', 'bottle stuff', 'bottle time', 'bottle water', 'bottle wine', 'bottle would', 'bottled', 'bottled water', 'bottled waters', 'bottles', 'bottles not', 'bottles time', 'bottles would', 'bottling', 'bottom', 'bottom bag', 'bottom bottle', 'bottom bowl', 'bottom box', 'bottom container', 'bottom cup', 'bottom line', 'bottom not', 'bottom pan', 'bottoms', 'bought', 'bought add', 'bought along', 'bought also', 'bought amazon', 'bought another', 'bought bag', 'bought bags', 'bought based', 'bought big', 'bought bottle', 'bought bottles', 'bought box', 'bought boxes', 'bought brand', 'bought brands', 'bought bulk', 'bought bunch', 'bought candy', 'bought cans', 'bought case', 'bought cases', 'bought cereal', 'bought chocolate', 'bought christmas', 'bought coffee', 'bought cookies', 'bought costco', 'bought could', 'bought couple', 'bought dad', 'bought daughter', 'bought different', 'bought dog', 'bought first', 'bought flavor', 'bought flavors', 'bought food', 'bought four', 'bought friend', 'bought gift', 'bought good', 'bought great', 'bought grocery', 'bought hoping', 'bought husband', 'bought item', 'bought jar', 'bought keurig', 'bought large', 'bought last', 'bought lb', 'bought little', 'bought local', 'bought locally', 'bought lot', 'bought love', 'bought make', 'bought many', 'bought mine', 'bought mix', 'bought mom', 'bought new', 'bought not', 'bought one', 'bought online', 'bought oz', 'bought pack', 'bought package', 'bought packages', 'bought packs', 'bought pet', 'bought popcorn', 'bought pound', 'bought price', 'bought product', 'bought put', 'bought really', 'bought sale', 'bought sauce', 'bought second', 'bought set', 'bought several', 'bought since', 'bought single', 'bought six', 'bought small', 'bought smaller', 'bought son', 'bought store', 'bought stuff', 'bought supermarket', 'bought tea', 'bought thinking', 'bought three', 'bought today', 'bought toy', 'bought tried', 'bought try', 'bought two', 'bought use', 'bought used', 'bought variety', 'bought walmart', 'bought whim', 'bought whole', 'bought wife', 'bought year', 'bought years', 'bouillon', 'bouillon cubes', 'boulder', 'boullion', 'bounce', 'bouncing', 'bouncy', 'bound', 'bouquet', 'bourbon', 'bout', 'boutique', 'bow', 'bowel', 'bowel movements', 'bowels', 'bowl', 'bowl add', 'bowl cereal', 'bowl clean', 'bowl empty', 'bowl full', 'bowl like', 'bowl milk', 'bowl not', 'bowl oatmeal', 'bowl soup', 'bowls', 'box', 'box actually', 'box also', 'box amazon', 'box arrived', 'box away', 'box bag', 'box bags', 'box bars', 'box big', 'box bought', 'box box', 'box boxes', 'box broken', 'box buy', 'box came', 'box candy', 'box cereal', 'box chocolate', 'box chocolates', 'box christmas', 'box coffee', 'box comes', 'box contained', 'box containing', 'box contains', 'box cookies', 'box could', 'box cups', 'box day', 'box deal', 'box even', 'box every', 'box filled', 'box find', 'box first', 'box five', 'box found', 'box full', 'box get', 'box gone', 'box good', 'box got', 'box great', 'box grocery', 'box however', 'box inside', 'box know', 'box last', 'box lasts', 'box like', 'box little', 'box local', 'box looked', 'box looks', 'box love', 'box made', 'box make', 'box makes', 'box manufacturer', 'box many', 'box may', 'box mix', 'box much', 'box never', 'box no', 'box not', 'box one', 'box opened', 'box order', 'box ordered', 'box pack', 'box packages', 'box packaging', 'box packed', 'box packets', 'box packs', 'box perfect', 'box price', 'box put', 'box rather', 'box really', 'box received', 'box said', 'box saw', 'box says', 'box see', 'box shipped', 'box since', 'box six', 'box size', 'box states', 'box still', 'box store', 'box stores', 'box taste', 'box tea', 'box think', 'box thought', 'box three', 'box time', 'box today', 'box totally', 'box tried', 'box try', 'box two', 'box well', 'box whole', 'box without', 'box would', 'box wrapped', 'boxed', 'boxer', 'boxes', 'boxes amazon', 'boxes bags', 'boxes bought', 'boxes every', 'boxes go', 'boxes good', 'boxes got', 'boxes great', 'boxes last', 'boxes like', 'boxes not', 'boxes one', 'boxes pack', 'boxes price', 'boxes received', 'boxes tea', 'boxes time', 'boxes total', 'boxes would', 'boy', 'boy glad', 'boy loves', 'boy wrong', 'boyardee', 'boyfriend', 'boyfriend loves', 'boys', 'boys love', 'bpa', 'bpa free', 'braces', 'brach', 'bragg', 'braggs', 'brain', 'brainer', 'brains', 'bran', 'branch', 'branches', 'brand', 'brand also', 'brand always', 'brand amazon', 'brand best', 'brand better', 'brand bought', 'brand brand', 'brand buy', 'brand came', 'brand cat', 'brand chips', 'brand chocolate', 'brand coconut', 'brand coffee', 'brand could', 'brand cups', 'brand dog', 'brand even', 'brand ever', 'brand excellent', 'brand far', 'brand first', 'brand flavor', 'brand food', 'brand found', 'brand good', 'brand great', 'brand grocery', 'brand like', 'brand local', 'brand love', 'brand much', 'brand name', 'brand new', 'brand no', 'brand not', 'brand one', 'brand organic', 'brand price', 'brand product', 'brand products', 'brand really', 'brand since', 'brand sold', 'brand stevia', 'brand taste', 'brand tastes', 'brand tea', 'brand thought', 'brand treats', 'brand tried', 'brand try', 'brand type', 'brand use', 'brand used', 'brand well', 'brand whole', 'brand would', 'brand years', 'branded', 'brands', 'brands also', 'brands always', 'brands available', 'brands best', 'brands cat', 'brands coconut', 'brands coffee', 'brands dog', 'brands even', 'brands far', 'brands find', 'brands flavors', 'brands food', 'brands found', 'brands good', 'brands like', 'brands love', 'brands make', 'brands market', 'brands no', 'brands not', 'brands one', 'brands really', 'brands taste', 'brands tea', 'brands tried', 'brands try', 'brands types', 'brands use', 'brands used', 'brands well', 'brands would', 'brandy', 'brats', 'brave', 'brave enough', 'bravo', 'brazil', 'brazil nuts', 'brazilian', 'bread', 'bread also', 'bread baking', 'bread bread', 'bread crackers', 'bread crumbs', 'bread dipping', 'bread even', 'bread ever', 'bread flour', 'bread good', 'bread great', 'bread like', 'bread love', 'bread machine', 'bread made', 'bread make', 'bread maker', 'bread mix', 'bread mixes', 'bread not', 'bread one', 'bread pizza', 'bread products', 'bread recipe', 'bread recipes', 'bread taste', 'bread tastes', 'bread toast', 'bread tried', 'bread used', 'breadcrumbs', 'breading', 'breadmaker', 'breads', 'breadsticks', 'break', 'break apart', 'break bank', 'break easily', 'break half', 'break pieces', 'break room', 'break small', 'break smaller', 'break teeth', 'breakage', 'breakdown', 'breaker', 'breakers', 'breakfast', 'breakfast also', 'breakfast bar', 'breakfast bars', 'breakfast blend', 'breakfast cereal', 'breakfast cereals', 'breakfast coffee', 'breakfast cookies', 'breakfast dinner', 'breakfast drink', 'breakfast every', 'breakfast food', 'breakfast go', 'breakfast like', 'breakfast lunch', 'breakfast morning', 'breakfast not', 'breakfast snack', 'breakfast tea', 'breakfast teas', 'breakfast time', 'breakfasts', 'breaking', 'breaking bank', 'breaking pieces', 'breaks', 'breast', 'breast feeding', 'breast milk', 'breastfed', 'breastfeed', 'breastfeeding', 'breastmilk', 'breasts', 'breath', 'breath fresh', 'breath mints', 'breath not', 'breathe', 'breathing', 'breed', 'breed dog', 'breed dogs', 'breed puppy', 'breeder', 'breeds', 'breeze', 'brew', 'brew coffee', 'brew cup', 'brew large', 'brew minutes', 'brew not', 'brew one', 'brew strong', 'brew tea', 'brewed', 'brewed coffee', 'brewed cup', 'brewed pot', 'brewed strong', 'brewed tea', 'brewer', 'brewer not', 'brewers', 'brewing', 'brewing coffee', 'brewing tea', 'brews', 'brezza', 'brian', 'brick', 'brick mortar', 'bricks', 'bridal', 'bridal shower', 'bridge', 'brie', 'brief', 'briefcase', 'briefly', 'bright', 'bright green', 'bright orange', 'bright red', 'brighten', 'brighter', 'brightly', 'brilliant', 'brine', 'bring', 'bring back', 'bring boil', 'bring flavor', 'bring home', 'bring us', 'bring work', 'bringing', 'brings', 'brings back', 'brings flavor', 'brisk', 'brisket', 'brit', 'britain', 'british', 'brittle', 'broad', 'broccoli', 'broil', 'broke', 'broken', 'broken crackers', 'broken half', 'broken little', 'broken not', 'broken ones', 'broken open', 'broken pieces', 'broken smaller', 'brooklyn', 'brooklyn bean', 'bros', 'broth', 'broth not', 'brother', 'brother law', 'brothers', 'broths', 'brought', 'brought back', 'brought home', 'brought one', 'brought work', 'brown', 'brown color', 'brown gravy', 'brown not', 'brown paper', 'brown rice', 'brown sugar', 'brown water', 'browned', 'brownie', 'brownie mix', 'brownie mixes', 'brownies', 'brownies ever', 'brownies not', 'browning', 'brownish', 'browns', 'browsing', 'brulee', 'brunch', 'brush', 'brush teeth', 'brushed', 'brushing', 'brushing teeth', 'brussel', 'brussels', 'bs', 'btw', 'btw not', 'bubble', 'bubble gum', 'bubble wrap', 'bubbles', 'bubbling', 'bubbly', 'buck', 'bucket', 'buckets', 'bucks', 'buckwheat', 'bud', 'buddies', 'buddy', 'budget', 'buds', 'buds not', 'bueno', 'buffalo', 'buffalo bills', 'buffalo wilderness', 'buffalo wings', 'buffet', 'bug', 'buggers', 'bugs', 'build', 'building', 'builds', 'buildup', 'built', 'bulb', 'bulbs', 'bulgur', 'bulk', 'bulk amazon', 'bulk like', 'bulk not', 'bulk pack', 'bulk package', 'bulk price', 'bulk purchase', 'bulk save', 'bulk tea', 'bulky', 'bull', 'bull monster', 'bulldog', 'bulldogs', 'bullet', 'bullion', 'bully', 'bully stick', 'bully sticks', 'bumble', 'bummed', 'bummer', 'bump', 'bumps', 'bun', 'bunch', 'bunch different', 'bunches', 'bunches oats', 'bundle', 'bunn', 'bunnies', 'bunny', 'buns', 'burger', 'burgers', 'buried', 'burke', 'burn', 'burn mouth', 'burn not', 'burned', 'burner', 'burning', 'burns', 'burnt', 'burnt bitter', 'burnt flavor', 'burnt taste', 'burr', 'burr grinder', 'burrito', 'burritos', 'burst', 'burst energy', 'bursting', 'bursting flavor', 'bursts', 'burton', 'bury', 'bus', 'bush', 'bushes', 'business', 'business days', 'business trip', 'bust', 'busted', 'bustelo', 'buster', 'busy', 'busy buddy', 'busy day', 'busy long', 'butcher', 'butt', 'butter', 'butter add', 'butter also', 'butter banana', 'butter bars', 'butter best', 'butter cheese', 'butter chicken', 'butter chocolate', 'butter cookie', 'butter cookies', 'butter crackers', 'butter cream', 'butter creme', 'butter cup', 'butter cups', 'butter delicious', 'butter even', 'butter ever', 'butter flavor', 'butter flavored', 'butter good', 'butter great', 'butter jelly', 'butter like', 'butter little', 'butter love', 'butter lover', 'butter milk', 'butter much', 'butter no', 'butter not', 'butter oil', 'butter one', 'butter really', 'butter salt', 'butter sandwiches', 'butter spread', 'butter still', 'butter substitute', 'butter sugar', 'butter taste', 'butter tastes', 'butter toast', 'butter toffee', 'butter top', 'butter use', 'butter used', 'butter way', 'butter would', 'buttercream', 'buttered', 'buttered popcorn', 'butterfinger', 'buttermilk', 'butternut', 'butternut squash', 'butters', 'butterscotch', 'buttery', 'buttery flavor', 'buttery taste', 'button', 'buy', 'buy also', 'buy always', 'buy amazon', 'buy another', 'buy anymore', 'buy anything', 'buy anywhere', 'buy bag', 'buy bags', 'buy beans', 'buy best', 'buy big', 'buy bottle', 'buy bottles', 'buy box', 'buy boxes', 'buy brand', 'buy bulk', 'buy buy', 'buy candy', 'buy case', 'buy cases', 'buy cheaper', 'buy chocolate', 'buy coconut', 'buy coffee', 'buy company', 'buy cookies', 'buy costco', 'buy couple', 'buy different', 'buy direct', 'buy directly', 'buy dog', 'buy dogs', 'buy drink', 'buy eat', 'buy elsewhere', 'buy enjoy', 'buy enough', 'buy especially', 'buy even', 'buy every', 'buy expensive', 'buy extra', 'buy first', 'buy flavor', 'buy food', 'buy fresh', 'buy future', 'buy get', 'buy give', 'buy good', 'buy great', 'buy grocery', 'buy highly', 'buy however', 'buy huge', 'buy instead', 'buy item', 'buy keep', 'buy kind', 'buy large', 'buy larger', 'buy lb', 'buy least', 'buy like', 'buy line', 'buy little', 'buy local', 'buy locally', 'buy long', 'buy looking', 'buy lot', 'buy love', 'buy make', 'buy many', 'buy mine', 'buy mix', 'buy much', 'buy natural', 'buy need', 'buy new', 'buy next', 'buy no', 'buy not', 'buy often', 'buy one', 'buy online', 'buy order', 'buy organic', 'buy oz', 'buy pack', 'buy package', 'buy packs', 'buy price', 'buy product', 'buy products', 'buy quantity', 'buy real', 'buy really', 'buy recommend', 'buy regular', 'buy regularly', 'buy run', 'buy sale', 'buy sam', 'buy seller', 'buy several', 'buy since', 'buy single', 'buy six', 'buy small', 'buy smaller', 'buy something', 'buy starbucks', 'buy store', 'buy stores', 'buy stuff', 'buy supermarket', 'buy sure', 'buy taste', 'buy tea', 'buy think', 'buy though', 'buy three', 'buy time', 'buy trader', 'buy treats', 'buy tried', 'buy try', 'buy two', 'buy unless', 'buy use', 'buy variety', 'buy vendor', 'buy walmart', 'buy want', 'buy way', 'buy whole', 'buy would', 'buyer', 'buyer beware', 'buyers', 'buying', 'buying amazon', 'buying another', 'buying anymore', 'buying anything', 'buying bags', 'buying big', 'buying box', 'buying boxes', 'buying brand', 'buying bulk', 'buying case', 'buying coffee', 'buying expensive', 'buying flavor', 'buying food', 'buying future', 'buying grocery', 'buying item', 'buying large', 'buying larger', 'buying line', 'buying local', 'buying locally', 'buying long', 'buying many', 'buying much', 'buying not', 'buying one', 'buying online', 'buying organic', 'buying pack', 'buying pound', 'buying product', 'buying products', 'buying quantity', 'buying regular', 'buying regularly', 'buying single', 'buying small', 'buying smaller', 'buying something', 'buying store', 'buying sure', 'buying tea', 'buying time', 'buying treats', 'buying two', 'buying way', 'buying whole', 'buying years', 'buys', 'buzz', 'bye', 'bye bye', 'bypass', 'byproducts', 'ca', 'ca not', 'cabbage', 'cabernet', 'cabinet', 'cabinets', 'cacao', 'cacao nibs', 'cacao powder', 'cactus', 'cadbury', 'caesar', 'caf', 'cafe', 'cafe altura', 'cafe collection', 'cafe du', 'cafe escapes', 'cafe mocha', 'cafes', 'cafeteria', 'caff', 'caffe', 'caffeinated', 'caffeine', 'caffeine also', 'caffeine coffee', 'caffeine content', 'caffeine free', 'caffeine get', 'caffeine intake', 'caffeine kick', 'caffeine not', 'caffeine one', 'caffeine per', 'caffeine tea', 'caffiene', 'caffine', 'cajun', 'cake', 'cake batter', 'cake ever', 'cake frosting', 'cake like', 'cake made', 'cake mix', 'cake mixes', 'cake moist', 'cake no', 'cake not', 'cake pops', 'cake recipe', 'cakes', 'cakes cookies', 'cakey', 'caking', 'cal', 'cal fat', 'cal low', 'calcium', 'calcium iron', 'calcium vitamin', 'calculated', 'calculations', 'california', 'california natural', 'call', 'call back', 'call company', 'called', 'called amazon', 'called company', 'called customer', 'called recipe', 'calling', 'calls', 'calm', 'calming', 'calms', 'caloric', 'caloric intake', 'calorie', 'calorie content', 'calorie count', 'calorie diet', 'calorie drink', 'calorie fat', 'calorie free', 'calorie intake', 'calorie low', 'calorie packs', 'calorie snack', 'calorie treat', 'calories', 'calories also', 'calories bag', 'calories calories', 'calories carbs', 'calories compared', 'calories cup', 'calories drink', 'calories eat', 'calories fat', 'calories good', 'calories grams', 'calories great', 'calories high', 'calories like', 'calories little', 'calories low', 'calories no', 'calories not', 'calories one', 'calories per', 'calories really', 'calories regular', 'calories serving', 'calories sodium', 'calories sugar', 'calories taste', 'calories total', 'calories use', 'calories would', 'calories zero', 'cals', 'came', 'came across', 'came along', 'came amazon', 'came back', 'came bigger', 'came box', 'came close', 'came days', 'came fast', 'came fresh', 'came good', 'came great', 'came highly', 'came home', 'came house', 'came larger', 'came like', 'came little', 'came mail', 'came new', 'came nice', 'came nicely', 'came not', 'came one', 'came packaged', 'came perfect', 'came plastic', 'came pretty', 'came promptly', 'came quick', 'came quickly', 'came really', 'came rescue', 'came right', 'came small', 'came time', 'came timely', 'came two', 'came upon', 'came visit', 'came well', 'came within', 'camel', 'cameron', 'camp', 'campbell', 'campbells', 'camper', 'campfire', 'camping', 'camping trip', 'camping trips', 'canada', 'canadian', 'cancel', 'cancel order', 'cancel subscription', 'canceled', 'canceled subscription', 'cancelled', 'cancelled subscription', 'cancer', 'cancer causing', 'candida', 'candied', 'candied ginger', 'candies', 'candies ever', 'candies good', 'candies great', 'candies not', 'candle', 'candy', 'candy also', 'candy amazon', 'candy arrived', 'candy bar', 'candy bars', 'candy best', 'candy box', 'candy cane', 'candy canes', 'candy company', 'candy delicious', 'candy dish', 'candy ever', 'candy flavor', 'candy fresh', 'candy good', 'candy great', 'candy hard', 'candy jar', 'candy like', 'candy love', 'candy machine', 'candy melts', 'candy not', 'candy perfect', 'candy really', 'candy store', 'candy stores', 'candy sugar', 'candy sweet', 'candy taste', 'candy time', 'candy without', 'candy would', 'cane', 'cane juice', 'cane sugar', 'canes', 'canidae', 'canin', 'canine', 'canister', 'canisters', 'canned', 'canned beans', 'canned cat', 'canned chicken', 'canned chili', 'canned coffee', 'canned dog', 'canned dry', 'canned fish', 'canned food', 'canned foods', 'canned goods', 'canned pumpkin', 'canned salmon', 'canned soup', 'canned soups', 'canned tomatoes', 'canned tuna', 'canned version', 'canning', 'cannister', 'cannot', 'cannot beat', 'cannot believe', 'cannot comment', 'cannot compare', 'cannot drink', 'cannot eat', 'cannot even', 'cannot find', 'cannot get', 'cannot go', 'cannot imagine', 'cannot recommend', 'cannot return', 'cannot returned', 'cannot say', 'cannot seem', 'cannot speak', 'cannot stand', 'cannot stop', 'cannot taste', 'cannot tell', 'cannot tolerate', 'cannot use', 'cannot wait', 'canola', 'canola oil', 'cans', 'cans arrived', 'cans case', 'cans could', 'cans dented', 'cans food', 'cans not', 'cans per', 'cans product', 'cans small', 'cans would', 'cant', 'cant beat', 'cant believe', 'cant find', 'cant get', 'cant go', 'cant say', 'cant stop', 'cant wait', 'canyon', 'cap', 'capable', 'capacity', 'cape', 'capers', 'cappuccino', 'cappuccinos', 'cappucino', 'capresso', 'caps', 'capsule', 'capsules', 'captain', 'capture', 'car', 'car not', 'caramel', 'caramel apple', 'caramel chocolate', 'caramel color', 'caramel corn', 'caramel flavor', 'caramel flavored', 'caramel not', 'caramel popcorn', 'caramel taste', 'caramel vanilla', 'caramels', 'caraway', 'carb', 'carb count', 'carb diet', 'carb diets', 'carb free', 'carb intake', 'carb lifestyle', 'carb low', 'carb pasta', 'carb per', 'carb snack', 'carbohydrate', 'carbohydrate dietary', 'carbohydrates', 'carbohydrates fiber', 'carbon', 'carbonate', 'carbonated', 'carbonated drinks', 'carbonated fruit', 'carbonated juice', 'carbonated water', 'carbonation', 'carboy', 'carbs', 'carbs calories', 'carbs fiber', 'carbs grams', 'carbs no', 'carbs not', 'carbs per', 'carbs protein', 'carbs sugar', 'carcinogenic', 'card', 'cardamom', 'cardamon', 'cardboard', 'cardboard box', 'cardboard like', 'cardboard not', 'cardboard taste', 'cardio', 'cardiovascular', 'cards', 'care', 'care less', 'care much', 'care not', 'care package', 'care product', 'care taste', 'cared', 'careful', 'careful eat', 'careful not', 'carefully', 'cares', 'caribbean', 'caribou', 'caribou coffee', 'caring', 'carmel', 'carnation', 'carnation instant', 'carnival', 'carnivores', 'carob', 'carolina', 'carousel', 'carpet', 'carpets', 'carrageenan', 'carried', 'carried local', 'carrier', 'carries', 'carries product', 'carring', 'carrot', 'carrot cake', 'carrots', 'carry', 'carry anymore', 'carry around', 'carry bag', 'carry brand', 'carry flavor', 'carry not', 'carry product', 'carry purse', 'carrying', 'carrying amazon', 'carrying anymore', 'carrying not', 'carrying product', 'cars', 'cart', 'carton', 'cartons', 'cascadian', 'case', 'case amazon', 'case anyone', 'case boxes', 'case cans', 'case every', 'case get', 'case good', 'case great', 'case like', 'case need', 'case no', 'case not', 'case one', 'case price', 'case product', 'case someone', 'case stuff', 'case tea', 'case time', 'case use', 'case would', 'casein', 'casein free', 'cases', 'cases amazon', 'cases month', 'cash', 'cashew', 'cashews', 'casing', 'casings', 'casserole', 'casseroles', 'cast', 'cast iron', 'castor', 'castor pollux', 'casual', 'cat', 'cat always', 'cat dog', 'cat eat', 'cat eating', 'cat eats', 'cat food', 'cat foods', 'cat gets', 'cat got', 'cat happy', 'cat kitten', 'cat like', 'cat likes', 'cat litter', 'cat love', 'cat loved', 'cat loves', 'cat needs', 'cat not', 'cat one', 'cat owners', 'cat picky', 'cat really', 'cat seems', 'cat treat', 'cat treats', 'cat used', 'cat would', 'cat years', 'catalog', 'catch', 'catches', 'catching', 'category', 'catfood', 'catnip', 'cats', 'cats absolutely', 'cats also', 'cats always', 'cats cats', 'cats come', 'cats dogs', 'cats eat', 'cats enjoy', 'cats food', 'cats get', 'cats go', 'cats happy', 'cats like', 'cats liked', 'cats love', 'cats loved', 'cats not', 'cats one', 'cats prefer', 'cats really', 'cats seem', 'cats two', 'cats used', 'cats would', 'cats years', 'cattle', 'caught', 'caught eye', 'cauliflower', 'cause', 'cause not', 'cause problems', 'cause stomach', 'caused', 'causes', 'causing', 'caution', 'caution not', 'cautious', 'cavalier', 'cavalier king', 'caveat', 'caveat emptor', 'caviar', 'cavities', 'cavity', 'cayenne', 'cayenne pepper', 'cbd', 'cd', 'cecco', 'celebrate', 'celebration', 'celebrity', 'celery', 'celestial', 'celestial seasonings', 'celiac', 'celiac disease', 'celiacs', 'cell', 'cellar', 'cellophane', 'cells', 'cellulose', 'celsius', 'celtic', 'cement', 'cent', 'center', 'centers', 'central', 'cents', 'cents cup', 'cents less', 'cents per', 'centuries', 'century', 'ceramic', 'cereal', 'cereal also', 'cereal amazon', 'cereal bar', 'cereal bars', 'cereal best', 'cereal bowl', 'cereal breakfast', 'cereal delicious', 'cereal eat', 'cereal ever', 'cereal every', 'cereal get', 'cereal good', 'cereal great', 'cereal healthy', 'cereal like', 'cereal little', 'cereal market', 'cereal milk', 'cereal morning', 'cereal much', 'cereal nice', 'cereal no', 'cereal not', 'cereal oatmeal', 'cereal one', 'cereal really', 'cereal since', 'cereal taste', 'cereal tasted', 'cereal tastes', 'cereal tasty', 'cereal use', 'cereal without', 'cereal would', 'cereal years', 'cereal yogurt', 'cereals', 'cereals like', 'cereals not', 'cerelac', 'certain', 'certainly', 'certainly better', 'certainly buy', 'certainly good', 'certainly not', 'certainly order', 'certainly recommend', 'certainly worth', 'certainly would', 'certification', 'certified', 'certified kosher', 'certified organic', 'cesar', 'cet', 'ceylon', 'ceylon cinnamon', 'ceylon tea', 'cha', 'chai', 'chai latte', 'chai lattes', 'chai mix', 'chai not', 'chai tea', 'chai teas', 'chain', 'chain store', 'chain stores', 'chains', 'chair', 'chais', 'chalk', 'chalky', 'chalky taste', 'challenge', 'challenged', 'challenging', 'chamber', 'chamomile', 'chamomile tea', 'champagne', 'chance', 'chance get', 'chance ordered', 'chance try', 'chances', 'chang', 'change', 'change diet', 'change flavor', 'change food', 'change formula', 'change life', 'change not', 'change pace', 'change taste', 'changed', 'changed food', 'changed formula', 'changed life', 'changed mind', 'changed not', 'changed product', 'changed recipe', 'changed taste', 'changes', 'changing', 'channel', 'character', 'characteristic', 'characteristics', 'characters', 'charcoal', 'chardonnay', 'charge', 'charge shipping', 'charged', 'charges', 'charging', 'charity', 'charles', 'charlie', 'charm', 'charms', 'chart', 'chase', 'chaser', 'chasing', 'cheap', 'cheap food', 'cheap get', 'cheap not', 'cheap price', 'cheap store', 'cheap stuff', 'cheaper', 'cheaper alternative', 'cheaper amazon', 'cheaper brand', 'cheaper brands', 'cheaper buy', 'cheaper buying', 'cheaper elsewhere', 'cheaper get', 'cheaper getting', 'cheaper grocery', 'cheaper local', 'cheaper make', 'cheaper not', 'cheaper order', 'cheaper per', 'cheaper pet', 'cheaper price', 'cheaper store', 'cheaper stores', 'cheaper way', 'cheaper would', 'cheapest', 'cheapest found', 'cheapest price', 'cheapest way', 'cheaply', 'cheaply made', 'cheat', 'cheated', 'cheating', 'chebe', 'check', 'check amazon', 'check ingredients', 'check local', 'check see', 'check vegan', 'checked', 'checked amazon', 'checked label', 'checking', 'checkout', 'cheddar', 'cheddar cheese', 'cheddar flavor', 'cheddar popcorn', 'chedder', 'cheerios', 'cheers', 'cheese', 'cheese also', 'cheese cheese', 'cheese crackers', 'cheese etc', 'cheese even', 'cheese flavor', 'cheese good', 'cheese great', 'cheese like', 'cheese love', 'cheese not', 'cheese one', 'cheese packet', 'cheese peanut', 'cheese popcorn', 'cheese powder', 'cheese puffs', 'cheese really', 'cheese sauce', 'cheese spread', 'cheese taste', 'cheese tastes', 'cheese top', 'cheesecake', 'cheesecakes', 'cheeses', 'cheesy', 'cheesy flavor', 'cheesy skillets', 'cheetos', 'cheez', 'cheeze', 'chef', 'chef boyardee', 'chef michael', 'chefs', 'chemical', 'chemical aftertaste', 'chemical flavor', 'chemical smell', 'chemical taste', 'chemically', 'chemically taste', 'chemicals', 'chemicals no', 'chemicals not', 'chemistry', 'chemo', 'cherries', 'cherries not', 'cherry', 'cherry flavor', 'cherry flavored', 'cherry juice', 'cherry not', 'cherry pie', 'cherry soda', 'cherry tomatoes', 'cherrybrook', 'chest', 'chestnut', 'chestnuts', 'chew', 'chew bones', 'chew dog', 'chew gum', 'chew like', 'chew lot', 'chew not', 'chew one', 'chew piece', 'chew things', 'chew toy', 'chew toys', 'chew treat', 'chew treats', 'chew would', 'chewable', 'chewed', 'chewer', 'chewers', 'chewey', 'chewier', 'chewies', 'chewiness', 'chewing', 'chewing gum', 'chewing not', 'chews', 'chews not', 'chewy', 'chewy consistency', 'chewy crunchy', 'chewy delicious', 'chewy good', 'chewy gooey', 'chewy granola', 'chewy like', 'chewy not', 'chewy sweet', 'chewy texture', 'chex', 'chex mix', 'chi', 'chi chi', 'chia', 'chia seed', 'chia seeds', 'chicago', 'chick', 'chick peas', 'chicken', 'chicken also', 'chicken beef', 'chicken breast', 'chicken breasts', 'chicken broccoli', 'chicken broth', 'chicken chicken', 'chicken curry', 'chicken dinner', 'chicken even', 'chicken fat', 'chicken fish', 'chicken flavor', 'chicken flavored', 'chicken formula', 'chicken great', 'chicken jerky', 'chicken liver', 'chicken meal', 'chicken meat', 'chicken noodle', 'chicken not', 'chicken one', 'chicken pork', 'chicken product', 'chicken rice', 'chicken salad', 'chicken salmon', 'chicken sea', 'chicken shrimp', 'chicken soup', 'chicken stock', 'chicken strips', 'chicken thighs', 'chicken treats', 'chicken tuna', 'chicken turkey', 'chicken vegetables', 'chicken veggies', 'chicken wings', 'chickens', 'chickpeas', 'chiclets', 'chicory', 'chicory root', 'chihuahua', 'chihuahuas', 'child', 'child loved', 'child loves', 'child not', 'child would', 'childhood', 'childhood memories', 'children', 'children adults', 'children eat', 'children love', 'children not', 'children would', 'chile', 'chiles', 'chili', 'chili lime', 'chili mix', 'chili not', 'chili pepper', 'chili peppers', 'chili powder', 'chili sauce', 'chilies', 'chilis', 'chill', 'chilled', 'chilli', 'chilling', 'chilly', 'chin', 'china', 'china not', 'china would', 'chinese', 'chinese food', 'chinese restaurant', 'chinese tea', 'chip', 'chip cookie', 'chip cookies', 'chip ever', 'chip not', 'chipolte', 'chipotle', 'chipotle sauce', 'chipped', 'chips', 'chips ahoy', 'chips also', 'chips best', 'chips cookies', 'chips crackers', 'chips crunchy', 'chips delicious', 'chips eat', 'chips even', 'chips ever', 'chips good', 'chips great', 'chips like', 'chips love', 'chips make', 'chips much', 'chips no', 'chips not', 'chips one', 'chips pretty', 'chips really', 'chips taste', 'chips would', 'chives', 'chloride', 'chlorine', 'choc', 'chocalate', 'chock', 'chock full', 'choclate', 'choco', 'chocofudge', 'chocoholic', 'chocoholics', 'chocolate', 'chocolate actually', 'chocolate add', 'chocolate almond', 'chocolate almonds', 'chocolate also', 'chocolate always', 'chocolate aroma', 'chocolate bar', 'chocolate bars', 'chocolate best', 'chocolate bits', 'chocolate brownie', 'chocolate cake', 'chocolate candy', 'chocolate caramel', 'chocolate cherry', 'chocolate chip', 'chocolate chips', 'chocolate chocolate', 'chocolate chunks', 'chocolate coated', 'chocolate coating', 'chocolate cocoa', 'chocolate coconut', 'chocolate coffee', 'chocolate cookie', 'chocolate cookies', 'chocolate could', 'chocolate course', 'chocolate covered', 'chocolate covering', 'chocolate craving', 'chocolate cravings', 'chocolate creamy', 'chocolate cups', 'chocolate dark', 'chocolate delicious', 'chocolate delight', 'chocolate dipped', 'chocolate drink', 'chocolate eat', 'chocolate even', 'chocolate ever', 'chocolate excellent', 'chocolate experience', 'chocolate fan', 'chocolate filling', 'chocolate find', 'chocolate first', 'chocolate fix', 'chocolate flavor', 'chocolate flavored', 'chocolate flavors', 'chocolate frosting', 'chocolate fudge', 'chocolate glazed', 'chocolate go', 'chocolate good', 'chocolate granola', 'chocolate great', 'chocolate hazelnut', 'chocolate hot', 'chocolate ice', 'chocolate icing', 'chocolate inside', 'chocolate like', 'chocolate little', 'chocolate looking', 'chocolate love', 'chocolate lover', 'chocolate lovers', 'chocolate made', 'chocolate make', 'chocolate malt', 'chocolate melted', 'chocolate melts', 'chocolate might', 'chocolate milk', 'chocolate mint', 'chocolate mix', 'chocolate mocha', 'chocolate much', 'chocolate nice', 'chocolate no', 'chocolate not', 'chocolate nuts', 'chocolate one', 'chocolate ones', 'chocolate orange', 'chocolate peanut', 'chocolate perfect', 'chocolate pieces', 'chocolate powder', 'chocolate pretty', 'chocolate product', 'chocolate products', 'chocolate protein', 'chocolate pudding', 'chocolate raspberry', 'chocolate really', 'chocolate rich', 'chocolate right', 'chocolate sauce', 'chocolate smooth', 'chocolate soy', 'chocolate square', 'chocolate squares', 'chocolate still', 'chocolate sugar', 'chocolate sweet', 'chocolate syrup', 'chocolate taste', 'chocolate tasted', 'chocolate tastes', 'chocolate tea', 'chocolate treat', 'chocolate tried', 'chocolate truffle', 'chocolate truffles', 'chocolate try', 'chocolate usually', 'chocolate vanilla', 'chocolate version', 'chocolate well', 'chocolate white', 'chocolate without', 'chocolate wonderful', 'chocolate would', 'chocolately', 'chocolates', 'chocolates not', 'chocolatey', 'chocolatey flavor', 'chocolaty', 'choice', 'choice coffee', 'choice like', 'choice not', 'choice organic', 'choice would', 'choices', 'choices check', 'choke', 'choked', 'choking', 'choking hazard', 'cholesterol', 'cholesterol free', 'cholesterol levels', 'cholesterol no', 'cholesterol sodium', 'cholula', 'chomp', 'chondroitin', 'choose', 'choose eat', 'choose one', 'chooses', 'choosing', 'chop', 'chopped', 'chopped green', 'chopped onion', 'chopped onions', 'chopped pecans', 'chopping', 'chops', 'chore', 'chose', 'chose not', 'chosen', 'chow', 'chowder', 'choy', 'christmas', 'christmas cookies', 'christmas eve', 'christmas gift', 'christmas gifts', 'christmas morning', 'christmas not', 'christmas present', 'christmas presents', 'christmas season', 'christmas stocking', 'christmas time', 'chronic', 'chubby', 'chuck', 'chug', 'chun', 'chunk', 'chunkier', 'chunks', 'chunks not', 'chunky', 'church', 'chutney', 'cider', 'cider vinegar', 'cigarette', 'cigarettes', 'cigars', 'cilantro', 'cinammon', 'cincinnati', 'cinnabon', 'cinnamon', 'cinnamon brown', 'cinnamon cloves', 'cinnamon flavor', 'cinnamon flavored', 'cinnamon ginger', 'cinnamon like', 'cinnamon not', 'cinnamon nutmeg', 'cinnamon raisin', 'cinnamon roll', 'cinnamon rolls', 'cinnamon spice', 'cinnamon stick', 'cinnamon sticks', 'cinnamon sugar', 'cinnamon taste', 'cinnamon toast', 'cinnamon vanilla', 'cinnamony', 'circle', 'circles', 'circular', 'circumstances', 'cities', 'citrate', 'citric', 'citric acid', 'citrus', 'citrus flavor', 'citrus taste', 'citrusy', 'city', 'city roast', 'claim', 'claimed', 'claiming', 'claims', 'clam', 'clam chowder', 'clam sauce', 'clams', 'clarified', 'clarify', 'clarity', 'class', 'classes', 'classic', 'classify', 'classy', 'claws', 'clay', 'clay litter', 'clean', 'clean easy', 'clean flavor', 'clean fresh', 'clean not', 'clean refreshing', 'clean taste', 'clean tasting', 'clean teeth', 'cleaned', 'cleaner', 'cleaning', 'cleaning teeth', 'cleanly', 'cleans', 'cleanse', 'cleanser', 'cleansing', 'cleanup', 'clear', 'clear liquid', 'clear not', 'clear plastic', 'clear product', 'clear scalp', 'clearance', 'cleared', 'clearer', 'clearing', 'clearly', 'clearly labeled', 'clearly not', 'clearly states', 'clears', 'clementine', 'clerk', 'clever', 'click', 'client', 'clients', 'clif', 'cliff', 'climate', 'climb', 'clinic', 'clinical', 'clip', 'clock', 'clog', 'clogged', 'clogging', 'clogs', 'close', 'close enough', 'close expiration', 'close eyes', 'close get', 'close not', 'close one', 'close quality', 'close real', 'close regular', 'close second', 'close taste', 'close would', 'closed', 'closely', 'closer', 'closes', 'closest', 'closest thing', 'closet', 'closing', 'closure', 'cloth', 'clothes', 'clothing', 'cloud', 'cloudy', 'clove', 'clover', 'clover honey', 'cloves', 'cloying', 'cloyingly', 'cloyingly sweet', 'club', 'club soda', 'clubs', 'clue', 'clump', 'clumped', 'clumping', 'clumps', 'clumpy', 'cluster', 'clusters', 'co', 'co op', 'co worker', 'co workers', 'coach', 'coarse', 'coarsely', 'coarser', 'coast', 'coat', 'coat shiny', 'coated', 'coating', 'coating not', 'coats', 'coats shiny', 'cob', 'cobbler', 'coca', 'coca cola', 'cocaine', 'cockapoo', 'cocker', 'cocker spaniel', 'cocktail', 'cocktail sauce', 'cocktails', 'coco', 'cocoa', 'cocoa butter', 'cocoa content', 'cocoa ever', 'cocoa flavor', 'cocoa good', 'cocoa mix', 'cocoa not', 'cocoa powder', 'cocoa puffs', 'cocoa roast', 'cocoa taste', 'cocoas', 'coconut', 'coconut butter', 'coconut chocolate', 'coconut coffee', 'coconut cream', 'coconut flavor', 'coconut flour', 'coconut juice', 'coconut love', 'coconut milk', 'coconut not', 'coconut oil', 'coconut oils', 'coconut sugar', 'coconut taste', 'coconut water', 'coconut waters', 'coconuts', 'coconutty', 'cod', 'code', 'codes', 'cofee', 'coffe', 'coffee', 'coffee absolutely', 'coffee actually', 'coffee add', 'coffee addict', 'coffee almost', 'coffee also', 'coffee although', 'coffee always', 'coffee amazing', 'coffee amazon', 'coffee another', 'coffee anyone', 'coffee aroma', 'coffee around', 'coffee arrived', 'coffee available', 'coffee awesome', 'coffee bad', 'coffee bag', 'coffee bags', 'coffee bean', 'coffee beans', 'coffee best', 'coffee better', 'coffee beverage', 'coffee bit', 'coffee bitter', 'coffee black', 'coffee blend', 'coffee blends', 'coffee bold', 'coffee bought', 'coffee brand', 'coffee brands', 'coffee brew', 'coffee brewed', 'coffee brewer', 'coffee brewing', 'coffee brews', 'coffee buy', 'coffee caffeine', 'coffee cake', 'coffee came', 'coffee candy', 'coffee cannot', 'coffee chicory', 'coffee chocolate', 'coffee choice', 'coffee cocoa', 'coffee coffee', 'coffee come', 'coffee comes', 'coffee company', 'coffee connoisseur', 'coffee could', 'coffee cream', 'coffee creamer', 'coffee cup', 'coffee cups', 'coffee daily', 'coffee dark', 'coffee day', 'coffee decaf', 'coffee decided', 'coffee deep', 'coffee definitely', 'coffee delicious', 'coffee delivered', 'coffee different', 'coffee disappointed', 'coffee drink', 'coffee drinker', 'coffee drinkers', 'coffee drinking', 'coffee drinks', 'coffee easy', 'coffee either', 'coffee enjoy', 'coffee enjoyed', 'coffee enough', 'coffee especially', 'coffee espresso', 'coffee etc', 'coffee even', 'coffee ever', 'coffee every', 'coffee everyday', 'coffee excellent', 'coffee expert', 'coffee extra', 'coffee extremely', 'coffee fact', 'coffee fan', 'coffee fantastic', 'coffee far', 'coffee favorite', 'coffee filter', 'coffee filters', 'coffee find', 'coffee fine', 'coffee first', 'coffee flavor', 'coffee flavored', 'coffee flavorful', 'coffee flavors', 'coffee found', 'coffee french', 'coffee fresh', 'coffee full', 'coffee gave', 'coffee get', 'coffee give', 'coffee gives', 'coffee go', 'coffee goes', 'coffee going', 'coffee good', 'coffee got', 'coffee great', 'coffee green', 'coffee grind', 'coffee grinder', 'coffee grinds', 'coffee grocery', 'coffee ground', 'coffee grounds', 'coffee half', 'coffee hard', 'coffee highly', 'coffee hint', 'coffee home', 'coffee hot', 'coffee house', 'coffee houses', 'coffee however', 'coffee husband', 'coffee ice', 'coffee iced', 'coffee instant', 'coffee instead', 'coffee keep', 'coffee keurig', 'coffee know', 'coffee large', 'coffee last', 'coffee less', 'coffee light', 'coffee like', 'coffee liked', 'coffee little', 'coffee local', 'coffee long', 'coffee look', 'coffee looking', 'coffee lot', 'coffee love', 'coffee loved', 'coffee lover', 'coffee lovers', 'coffee machine', 'coffee made', 'coffee make', 'coffee maker', 'coffee makers', 'coffee makes', 'coffee many', 'coffee masters', 'coffee mate', 'coffee may', 'coffee maybe', 'coffee medium', 'coffee might', 'coffee mild', 'coffee milk', 'coffee mix', 'coffee months', 'coffee morning', 'coffee much', 'coffee mug', 'coffee must', 'coffee need', 'coffee never', 'coffee new', 'coffee nice', 'coffee no', 'coffee not', 'coffee nothing', 'coffee office', 'coffee often', 'coffee one', 'coffee order', 'coffee ordered', 'coffee organic', 'coffee others', 'coffee oz', 'coffee past', 'coffee people', 'coffee per', 'coffee perfect', 'coffee person', 'coffee pod', 'coffee pods', 'coffee pot', 'coffee prefer', 'coffee press', 'coffee pretty', 'coffee price', 'coffee probably', 'coffee product', 'coffee purchased', 'coffee put', 'coffee quality', 'coffee quite', 'coffee real', 'coffee really', 'coffee reasonable', 'coffee recommend', 'coffee regular', 'coffee rich', 'coffee right', 'coffee roasters', 'coffee said', 'coffee say', 'coffee seems', 'coffee senseo', 'coffee served', 'coffee several', 'coffee shop', 'coffee shops', 'coffee simply', 'coffee since', 'coffee smell', 'coffee smells', 'coffee smooth', 'coffee snob', 'coffee sometimes', 'coffee starbucks', 'coffee start', 'coffee started', 'coffee still', 'coffee store', 'coffee stores', 'coffee strong', 'coffee stuff', 'coffee substitute', 'coffee sugar', 'coffee sweet', 'coffee syrup', 'coffee taste', 'coffee tasted', 'coffee tastes', 'coffee tea', 'coffee thanks', 'coffee think', 'coffee though', 'coffee thought', 'coffee time', 'coffee tried', 'coffee try', 'coffee two', 'coffee use', 'coffee used', 'coffee using', 'coffee usually', 'coffee vanilla', 'coffee want', 'coffee wanted', 'coffee water', 'coffee way', 'coffee weak', 'coffee well', 'coffee wife', 'coffee wish', 'coffee without', 'coffee wonderful', 'coffee work', 'coffee works', 'coffee world', 'coffee worth', 'coffee would', 'coffee years', 'coffee yummy', 'coffeemaker', 'coffeemakers', 'coffees', 'coffees available', 'coffees ever', 'coffees great', 'coffees like', 'coffees not', 'coffees one', 'coffees teas', 'coffees tried', 'coin', 'coincidence', 'coins', 'coke', 'coke pepsi', 'cola', 'cola flavor', 'colada', 'colander', 'colas', 'cold', 'cold brew', 'cold cereal', 'cold coffee', 'cold day', 'cold drink', 'cold drinks', 'cold flu', 'cold great', 'cold hot', 'cold ice', 'cold milk', 'cold not', 'cold pressed', 'cold tea', 'cold warm', 'cold water', 'cold weather', 'cold winter', 'colder', 'colds', 'cole', 'cole slaw', 'colic', 'colitis', 'collect', 'collected', 'collecting', 'collection', 'collects', 'college', 'college student', 'college students', 'collie', 'cologne', 'colombia', 'colombian', 'colombian coffee', 'colon', 'colony', 'color', 'color flavor', 'color no', 'color not', 'color taste', 'color texture', 'color treated', 'colorado', 'colored', 'colored water', 'colorful', 'coloring', 'colorings', 'colors', 'colors flavors', 'colour', 'columbia', 'columbian', 'columbian coffee', 'com', 'com always', 'com best', 'com find', 'com good', 'com great', 'com love', 'com not', 'com price', 'comb', 'combat', 'combination', 'combination flavors', 'combination ingredients', 'combination sweet', 'combination two', 'combinations', 'combine', 'combined', 'combines', 'combining', 'combo', 'combos', 'come', 'come across', 'come along', 'come amazon', 'come apart', 'come around', 'come back', 'come box', 'come china', 'come close', 'come expect', 'come find', 'come good', 'come great', 'come handy', 'come home', 'come house', 'come individually', 'come like', 'come little', 'come long', 'come love', 'come nice', 'come not', 'come one', 'come pack', 'come packaged', 'come perfect', 'come resealable', 'come right', 'come running', 'come small', 'come think', 'come true', 'come two', 'comes', 'comes along', 'comes back', 'comes box', 'comes close', 'comes coffee', 'comes eating', 'comes food', 'comes great', 'comes handy', 'comes highly', 'comes large', 'comes like', 'comes little', 'comes nice', 'comes nicely', 'comes one', 'comes pack', 'comes package', 'comes packaged', 'comes perfect', 'comes perfectly', 'comes plastic', 'comes pretty', 'comes right', 'comes running', 'comes sealed', 'comes several', 'comes small', 'comes tea', 'comes time', 'comes two', 'comfort', 'comfort food', 'comfortable', 'comfortably', 'comforting', 'coming', 'coming back', 'command', 'commands', 'comment', 'comment taste', 'commented', 'commenting', 'comments', 'commercial', 'commercial brands', 'commercial products', 'commercially', 'commercially available', 'commercials', 'commit', 'commitment', 'committed', 'committing', 'common', 'common sense', 'commonly', 'communication', 'communities', 'community', 'community coffee', 'commute', 'compact', 'companies', 'companies not', 'companies sell', 'companies use', 'companion', 'companions', 'company', 'company also', 'company comes', 'company could', 'company customer', 'company excellent', 'company first', 'company good', 'company great', 'company like', 'company made', 'company make', 'company makes', 'company never', 'company no', 'company not', 'company offers', 'company one', 'company product', 'company products', 'company really', 'company sells', 'company sent', 'company website', 'company well', 'company would', 'comparable', 'comparable price', 'comparatively', 'compare', 'compare price', 'compared', 'compared brands', 'compared buying', 'compared grocery', 'compared local', 'compared many', 'compared others', 'compared price', 'compared regular', 'compared similar', 'compared store', 'compares', 'comparing', 'comparison', 'comparisons', 'compartment', 'compatible', 'compelled', 'compensate', 'compete', 'competing', 'competition', 'competitive', 'competitive price', 'competitively', 'competitor', 'competitors', 'complain', 'complain not', 'complained', 'complaining', 'complains', 'complaint', 'complaint not', 'complaint price', 'complaint wish', 'complaint would', 'complaints', 'complaints product', 'complement', 'complemented', 'complements', 'complete', 'complete meal', 'complete protein', 'complete waste', 'completed', 'completely', 'completely different', 'completely gone', 'completely satisfied', 'complex', 'complex flavor', 'complex flavors', 'complex taste', 'complexity', 'complicated', 'compliment', 'complimentary', 'complimented', 'compliments', 'component', 'components', 'composed', 'composition', 'compost', 'compost bin', 'compostable', 'composting', 'compound', 'compounds', 'compressed', 'comprised', 'compromise', 'compromised', 'computer', 'con', 'concentrate', 'concentrate not', 'concentrated', 'concentrates', 'concentration', 'concept', 'concern', 'concerned', 'concerned not', 'concerned would', 'concerning', 'concerns', 'concert', 'conclude', 'concluded', 'conclusion', 'concoction', 'concoctions', 'concrete', 'condensed', 'condensed milk', 'condiment', 'condiments', 'condition', 'condition no', 'condition not', 'condition product', 'conditioned', 'conditioner', 'conditioner hair', 'conditioner not', 'conditioners', 'conditioning', 'conditions', 'cone', 'cones', 'confection', 'confections', 'confess', 'confidence', 'confident', 'confirm', 'confirmation', 'confirmed', 'confuse', 'confused', 'confusing', 'confusion', 'congestion', 'conjunction', 'connected', 'connection', 'connoisseur', 'connoisseurs', 'cons', 'conscience', 'conscious', 'consensus', 'consequences', 'consequently', 'consider', 'consider buying', 'consider purchasing', 'considerable', 'considerable amount', 'considerably', 'consideration', 'considered', 'considering', 'considering buying', 'considering much', 'considering price', 'considers', 'consist', 'consistancy', 'consistant', 'consistantly', 'consisted', 'consistency', 'consistency flavor', 'consistency great', 'consistency like', 'consistency not', 'consistent', 'consistent quality', 'consistently', 'consistently good', 'consists', 'constant', 'constant comment', 'constantly', 'constipated', 'constipation', 'constructed', 'construction', 'consult', 'consume', 'consumed', 'consumer', 'consumer reports', 'consumers', 'consuming', 'consumption', 'contact', 'contact amazon', 'contact company', 'contacted', 'contacted amazon', 'contacted company', 'contacted seller', 'contacting', 'contain', 'contain artificial', 'contain corn', 'contain high', 'contain msg', 'contain no', 'contain sugar', 'contain wheat', 'contained', 'container', 'container makes', 'container not', 'container one', 'container use', 'container would', 'containers', 'containers not', 'containing', 'contains', 'contains caffeine', 'contains calories', 'contains corn', 'contains grams', 'contains high', 'contains less', 'contains mg', 'contains milk', 'contains msg', 'contains natural', 'contains no', 'contains servings', 'contains soy', 'contains sugar', 'contains two', 'contains wheat', 'contaminants', 'contaminate', 'contaminated', 'contamination', 'contemplating', 'content', 'content high', 'content not', 'contents', 'contents not', 'contest', 'continually', 'continue', 'continue buy', 'continue buying', 'continue drink', 'continue drinking', 'continue enjoy', 'continue get', 'continue make', 'continue order', 'continue purchase', 'continue purchasing', 'continue use', 'continue using', 'continued', 'continues', 'continues carry', 'continuing', 'continuous', 'contrary', 'contrast', 'contribute', 'contributed', 'contributes', 'control', 'control blood', 'control much', 'control not', 'controlled', 'controlling', 'controls', 'controversial', 'convenience', 'convenience not', 'convenience store', 'convenience stores', 'convenient', 'convenient carry', 'convenient easy', 'convenient go', 'convenient not', 'convenient package', 'convenient packaging', 'convenient size', 'convenient take', 'convenient use', 'convenient way', 'conveniently', 'conventional', 'conversation', 'conversation piece', 'conversation starter', 'convert', 'converted', 'converts', 'convience', 'convienent', 'convient', 'convince', 'convinced', 'cook', 'cook eat', 'cook like', 'cook little', 'cook long', 'cook lot', 'cook minutes', 'cook much', 'cook noodles', 'cook not', 'cook quickly', 'cook rice', 'cook something', 'cook stove', 'cook time', 'cook use', 'cook well', 'cookbook', 'cookbooks', 'cooked', 'cooked chicken', 'cooked long', 'cooked meat', 'cooked minutes', 'cooked not', 'cooked pasta', 'cooked rice', 'cooker', 'cookie', 'cookie calories', 'cookie chocolate', 'cookie dough', 'cookie ever', 'cookie good', 'cookie influenster', 'cookie like', 'cookie mix', 'cookie not', 'cookie really', 'cookie recipe', 'cookie sheet', 'cookie soft', 'cookie taste', 'cookie without', 'cookie would', 'cookies', 'cookies also', 'cookies always', 'cookies arrived', 'cookies best', 'cookies bit', 'cookies calories', 'cookies chocolate', 'cookies come', 'cookies cookies', 'cookies could', 'cookies delicious', 'cookies etc', 'cookies even', 'cookies ever', 'cookies far', 'cookies fresh', 'cookies go', 'cookies good', 'cookies great', 'cookies hard', 'cookies like', 'cookies little', 'cookies local', 'cookies love', 'cookies made', 'cookies make', 'cookies much', 'cookies muffins', 'cookies no', 'cookies not', 'cookies oatmeal', 'cookies one', 'cookies per', 'cookies perfect', 'cookies pretty', 'cookies really', 'cookies small', 'cookies soft', 'cookies still', 'cookies sweet', 'cookies taste', 'cookies tasted', 'cookies tasty', 'cookies tried', 'cookies two', 'cookies used', 'cookies well', 'cookies would', 'cooking', 'cooking add', 'cooking also', 'cooking baking', 'cooking instructions', 'cooking like', 'cooking not', 'cooking oil', 'cooking one', 'cooking process', 'cooking time', 'cooking use', 'cooking water', 'cooks', 'cooks quickly', 'cooks well', 'cool', 'cool not', 'cool whip', 'cooled', 'cooler', 'cooling', 'cooling effect', 'cools', 'coombs', 'coon', 'coop', 'copied', 'copper', 'copy', 'core', 'corgi', 'coriander', 'corks', 'corn', 'corn based', 'corn bread', 'corn chips', 'corn cob', 'corn flakes', 'corn flavor', 'corn flour', 'corn free', 'corn gluten', 'corn great', 'corn meal', 'corn no', 'corn not', 'corn oil', 'corn pasta', 'corn products', 'corn soy', 'corn starch', 'corn syrup', 'corn wheat', 'cornbread', 'cornbread mix', 'corner', 'corners', 'cornmeal', 'cornstarch', 'corporate', 'correct', 'correct amount', 'corrected', 'correctly', 'cos', 'cosmetic', 'cosmic', 'cost', 'cost almost', 'cost amazon', 'cost bit', 'cost effective', 'cost efficient', 'cost half', 'cost high', 'cost least', 'cost less', 'cost little', 'cost lot', 'cost much', 'cost no', 'cost not', 'cost one', 'cost per', 'cost plus', 'cost product', 'cost really', 'cost savings', 'cost shipping', 'cost worth', 'cost would', 'costa', 'costa rica', 'costa rican', 'costco', 'costco no', 'costco not', 'costco stopped', 'costco store', 'costing', 'costly', 'costs', 'costs less', 'costs little', 'costs much', 'costs per', 'cottage', 'cottage cheese', 'cotton', 'cotton candy', 'cottonseed', 'cottonseed oil', 'couch', 'cough', 'cough drop', 'cough drops', 'cough medicine', 'cough syrup', 'coughing', 'could', 'could actually', 'could add', 'could afford', 'could also', 'could always', 'could ask', 'could barely', 'could better', 'could bit', 'could bought', 'could buy', 'could care', 'could cause', 'could change', 'could come', 'could definitely', 'could done', 'could drink', 'could easily', 'could eat', 'could enjoy', 'could even', 'could ever', 'could feel', 'could find', 'could finish', 'could found', 'could get', 'could give', 'could go', 'could good', 'could gotten', 'could hardly', 'could help', 'could imagine', 'could keep', 'could little', 'could live', 'could made', 'could make', 'could never', 'could no', 'could not', 'could order', 'could pick', 'could possibly', 'could probably', 'could purchase', 'could purchased', 'could put', 'could rate', 'could really', 'could return', 'could save', 'could say', 'could see', 'could smell', 'could still', 'could take', 'could taste', 'could tell', 'could try', 'could use', 'could used', 'could want', 'could well', 'could without', 'could write', 'couldnt', 'count', 'count box', 'count boxes', 'count calories', 'count not', 'counted', 'counter', 'counter space', 'counter top', 'counterpart', 'counterparts', 'counters', 'countertop', 'counting', 'countless', 'countries', 'country', 'country not', 'country origin', 'counts', 'county', 'couple', 'couple bags', 'couple bites', 'couple boxes', 'couple brands', 'couple bucks', 'couple cans', 'couple cases', 'couple cups', 'couple days', 'couple different', 'couple dollars', 'couple drops', 'couple hours', 'couple minutes', 'couple months', 'couple pieces', 'couple pounds', 'couple tablespoons', 'couple things', 'couple times', 'couple weeks', 'couple years', 'coupled', 'coupon', 'coupons', 'courage', 'course', 'course also', 'course amazon', 'course could', 'course get', 'course not', 'course use', 'course would', 'courteous', 'courtesy', 'couscous', 'cousin', 'cousins', 'cover', 'coverage', 'covered', 'covered chocolate', 'covering', 'covers', 'cow', 'cow milk', 'coworker', 'coworkers', 'cows', 'coz', 'cozy', 'crab', 'crab meat', 'crack', 'cracked', 'cracked open', 'cracked pepper', 'cracker', 'cracker crust', 'cracker like', 'cracker not', 'crackers', 'crackers also', 'crackers best', 'crackers box', 'crackers cheese', 'crackers delicious', 'crackers eat', 'crackers ever', 'crackers good', 'crackers great', 'crackers like', 'crackers nice', 'crackers no', 'crackers not', 'crackers really', 'crackers taste', 'crackers tasty', 'crackers would', 'cracking', 'cracks', 'craft', 'crafted', 'craisins', 'cramping', 'cramps', 'cranberries', 'cranberry', 'cranberry juice', 'crank', 'crap', 'crappy', 'crash', 'crashing', 'crate', 'crave', 'craved', 'craving', 'craving chocolate', 'craving something', 'craving without', 'cravings', 'crawling', 'craze', 'crazy', 'crazy cups', 'crazy not', 'crazy treats', 'cream', 'cream also', 'cream cheese', 'cream coffee', 'cream flavor', 'cream great', 'cream like', 'cream make', 'cream maker', 'cream milk', 'cream mix', 'cream mushroom', 'cream no', 'cream not', 'cream onion', 'cream soda', 'cream sugar', 'cream top', 'cream topping', 'cream use', 'cream wheat', 'creamed', 'creamer', 'creamer coffee', 'creamer not', 'creamer sugar', 'creamers', 'creamier', 'creaminess', 'creams', 'creamy', 'creamy chocolate', 'creamy consistency', 'creamy delicious', 'creamy flavor', 'creamy like', 'creamy not', 'creamy peanut', 'creamy rich', 'creamy smooth', 'creamy sweet', 'creamy taste', 'creamy texture', 'create', 'created', 'creates', 'creating', 'creation', 'creations', 'creative', 'creator', 'creature', 'credit', 'credit card', 'credited', 'creek', 'crema', 'crema gusto', 'creme', 'creme brulee', 'creole', 'crepes', 'crew', 'cried', 'cringe', 'crisco', 'crisp', 'crisp crunchy', 'crisp fresh', 'crisp not', 'crisp refreshing', 'crisp rice', 'crisp tasty', 'crispbread', 'crisped', 'crisper', 'crispier', 'crispies', 'crispiness', 'crispness', 'crisps', 'crispy', 'crispy crunchy', 'crispy not', 'crispy outside', 'criteria', 'critic', 'critical', 'criticism', 'critics', 'critter', 'critter ridder', 'critters', 'crock', 'crock pot', 'crocker', 'crockpot', 'crop', 'crops', 'cross', 'cross contamination', 'cross country', 'crossed', 'crossing', 'croutons', 'crowd', 'crown', 'crown prince', 'crude', 'cruise', 'crumb', 'crumble', 'crumbled', 'crumbles', 'crumbling', 'crumbly', 'crumbly texture', 'crumbs', 'crunch', 'crunch also', 'crunch cereal', 'crunch flavor', 'crunch great', 'crunch not', 'crunched', 'crunchie', 'crunchier', 'crunchies', 'crunchiness', 'crunching', 'crunchy', 'crunchy bits', 'crunchy chewy', 'crunchy delicious', 'crunchy enough', 'crunchy flavorful', 'crunchy good', 'crunchy granola', 'crunchy great', 'crunchy like', 'crunchy little', 'crunchy milk', 'crunchy not', 'crunchy nut', 'crunchy outside', 'crunchy salty', 'crunchy snack', 'crunchy sweet', 'crunchy taste', 'crunchy tasty', 'crunchy texture', 'crunchy treats', 'crunchy without', 'crush', 'crushed', 'crushed ice', 'crushed red', 'crushing', 'crust', 'crust mix', 'crust not', 'crusts', 'crusty', 'crusty bread', 'cry', 'crying', 'crystal', 'crystal light', 'crystallized', 'crystallized ginger', 'crystals', 'cs', 'ct', 'cuban', 'cube', 'cubed', 'cubes', 'cucumber', 'cucumbers', 'cuisinart', 'cuisine', 'culinary', 'culprit', 'culture', 'cultured', 'cultures', 'cumin', 'cup', 'cup add', 'cup also', 'cup black', 'cup brands', 'cup brew', 'cup brewed', 'cup brewer', 'cup calories', 'cup chai', 'cup cocoa', 'cup coffe', 'cup coffee', 'cup coffees', 'cup cold', 'cup could', 'cup cup', 'cup day', 'cup decaf', 'cup delicious', 'cup drink', 'cup drip', 'cup dry', 'cup espresso', 'cup even', 'cup every', 'cup first', 'cup flavor', 'cup flavors', 'cup food', 'cup found', 'cup full', 'cup get', 'cup go', 'cup good', 'cup great', 'cup green', 'cup half', 'cup holder', 'cup hot', 'cup ice', 'cup joe', 'cup keep', 'cup keurig', 'cup like', 'cup little', 'cup machine', 'cup made', 'cup make', 'cup makes', 'cup milk', 'cup mix', 'cup morning', 'cup no', 'cup noodles', 'cup not', 'cup oats', 'cup one', 'cup organic', 'cup per', 'cup pot', 'cup pour', 'cup put', 'cup really', 'cup rice', 'cup right', 'cup serving', 'cup setting', 'cup size', 'cup soup', 'cup starbucks', 'cup still', 'cup strong', 'cup sugar', 'cup tastes', 'cup tea', 'cup time', 'cup tried', 'cup try', 'cup twice', 'cup two', 'cup use', 'cup used', 'cup using', 'cup water', 'cup works', 'cup would', 'cupboard', 'cupboards', 'cupcake', 'cupcakes', 'cuppa', 'cups', 'cups always', 'cups amazon', 'cups coffee', 'cups day', 'cups easy', 'cups every', 'cups far', 'cups get', 'cups good', 'cups great', 'cups green', 'cups hot', 'cups keurig', 'cups like', 'cups make', 'cups milk', 'cups much', 'cups no', 'cups not', 'cups one', 'cups per', 'cups perfect', 'cups tea', 'cups time', 'cups tried', 'cups use', 'cups water', 'cups without', 'cups work', 'cups would', 'curb', 'curbs', 'curbs appetite', 'curd', 'cure', 'cured', 'cures', 'curing', 'curiosity', 'curious', 'curiously', 'curl', 'curls', 'curly', 'curly hair', 'currant', 'currants', 'current', 'current favorite', 'current price', 'currently', 'currently available', 'curries', 'curry', 'curry flavor', 'curry not', 'curry paste', 'curry powder', 'curry sauce', 'curve', 'custard', 'custards', 'custom', 'customer', 'customer life', 'customer reviews', 'customer service', 'customers', 'customize', 'cut', 'cut back', 'cut caffeine', 'cut calories', 'cut half', 'cut little', 'cut not', 'cut oatmeal', 'cut oats', 'cut open', 'cut pieces', 'cut small', 'cut smaller', 'cut sugar', 'cute', 'cute little', 'cuts', 'cutter', 'cutting', 'cutting back', 'cutting board', 'cuz', 'cvs', 'cycle', 'cycles', 'cycling', 'cytomax', 'da', 'da bomb', 'dab', 'dachshund', 'dachshunds', 'dad', 'daddy', 'daily', 'daily allowance', 'daily basis', 'daily diet', 'daily dose', 'daily fiber', 'daily intake', 'daily recommended', 'daily routine', 'daily treat', 'daily use', 'daily value', 'dairy', 'dairy allergy', 'dairy creamer', 'dairy free', 'dairy no', 'dairy products', 'dairy soy', 'dal', 'dalfour', 'dallas', 'damage', 'damaged', 'damaged not', 'damaged shipping', 'damaging', 'damn', 'damn good', 'damp', 'dance', 'dancing', 'dandelion', 'dandruff', 'dandruff shampoo', 'dandy', 'dane', 'dang', 'danger', 'dangerous', 'dangers', 'danish', 'dare', 'dare say', 'darjeeling', 'dark', 'dark blend', 'dark bold', 'dark brown', 'dark chocolate', 'dark chocolates', 'dark cocoa', 'dark coffee', 'dark color', 'dark flavor', 'dark french', 'dark green', 'dark magic', 'dark milk', 'dark not', 'dark place', 'dark red', 'dark rich', 'dark roast', 'dark roasted', 'dark roasts', 'dark side', 'dark smooth', 'dark strong', 'darker', 'darker color', 'darker roast', 'darker roasts', 'darkest', 'darkness', 'darn', 'darn close', 'darn good', 'darned', 'dash', 'data', 'date', 'date box', 'date good', 'date months', 'date no', 'date not', 'date ordered', 'date package', 'date still', 'date year', 'dated', 'dates', 'dating', 'daughter', 'daughter absolutely', 'daughter allergic', 'daughter also', 'daughter birthday', 'daughter celiac', 'daughter favorite', 'daughter gluten', 'daughter law', 'daughter likes', 'daughter love', 'daughter loved', 'daughter loves', 'daughter months', 'daughter not', 'daughter really', 'daughter tried', 'daughter wedding', 'daughter would', 'daughters', 'daughters love', 'dave', 'dave insanity', 'david', 'davidson', 'davinci', 'davis', 'dawn', 'day', 'day add', 'day also', 'day always', 'day amazon', 'day arrived', 'day bought', 'day breakfast', 'day came', 'day coffee', 'day could', 'day day', 'day days', 'day decided', 'day delicious', 'day dog', 'day drink', 'day eat', 'day enjoy', 'day even', 'day every', 'day feel', 'day flavor', 'day food', 'day found', 'day free', 'day friend', 'day get', 'day gift', 'day give', 'day going', 'day good', 'day got', 'day great', 'day healthy', 'day hot', 'day however', 'day instead', 'day last', 'day later', 'day like', 'day little', 'day long', 'day love', 'day loves', 'day lunch', 'day made', 'day make', 'day makes', 'day making', 'day morning', 'day need', 'day never', 'day next', 'day night', 'day no', 'day not', 'day one', 'day order', 'day ordered', 'day product', 'day really', 'day received', 'day right', 'day said', 'day saw', 'day see', 'day shipping', 'day since', 'day snack', 'day sometimes', 'day started', 'day still', 'day take', 'day taste', 'day tea', 'day think', 'day tried', 'day two', 'day use', 'day used', 'day usually', 'day week', 'day well', 'day went', 'day without', 'day work', 'day would', 'day year', 'daybreak', 'daycare', 'days', 'days ago', 'days also', 'days could', 'days even', 'days get', 'days good', 'days got', 'days great', 'days happy', 'days later', 'days like', 'days love', 'days no', 'days not', 'days one', 'days order', 'days ordered', 'days ordering', 'days really', 'days use', 'days using', 'days week', 'days without', 'days would', 'dc', 'dd', 'de', 'de cecco', 'de la', 'de sel', 'dead', 'deal', 'deal amazon', 'deal breaker', 'deal buy', 'deal buying', 'deal compared', 'deal could', 'deal especially', 'deal even', 'deal found', 'deal get', 'deal good', 'deal great', 'deal like', 'deal love', 'deal not', 'deal price', 'deal would', 'dealer', 'dealing', 'deals', 'dealt', 'dean', 'dear', 'dear friend', 'dearly', 'death', 'deaths', 'debate', 'debating', 'debbie', 'deboles', 'debris', 'dec', 'decade', 'decadent', 'decades', 'decades ago', 'decaf', 'decaf coffee', 'decaf coffees', 'decaf cups', 'decaf good', 'decaf great', 'decaf green', 'decaf instant', 'decaf not', 'decaf regular', 'decaf tea', 'decaf version', 'decaff', 'decaffeinated', 'decaffeinated coffee', 'decaffinated', 'decafs', 'decay', 'deceived', 'deceiving', 'december', 'decent', 'decent amount', 'decent cup', 'decent flavor', 'decent not', 'decent price', 'decent product', 'decent quality', 'decently', 'deceptive', 'decide', 'decide buy', 'decided', 'decided add', 'decided buy', 'decided check', 'decided get', 'decided give', 'decided go', 'decided look', 'decided make', 'decided not', 'decided order', 'decided purchase', 'decided put', 'decided see', 'decided start', 'decided switch', 'decided take', 'decided try', 'decided use', 'decided wanted', 'decided would', 'decidedly', 'decides', 'deciding', 'decision', 'deck', 'declared', 'decor', 'decorate', 'decorated', 'decorating', 'decoration', 'decorations', 'decorative', 'decrease', 'decreased', 'dedicated', 'deducted', 'deep', 'deep chocolate', 'deep dark', 'deep flavor', 'deep fried', 'deep red', 'deep rich', 'deeper', 'deeply', 'deer', 'def', 'default', 'defeats', 'defeats purpose', 'defect', 'defective', 'defects', 'defense', 'defiantly', 'definately', 'definately buy', 'definately not', 'definately order', 'definately recommend', 'defined', 'definetly', 'definite', 'definitely', 'definitely best', 'definitely better', 'definitely buy', 'definitely buying', 'definitely continue', 'definitely favorite', 'definitely get', 'definitely getting', 'definitely give', 'definitely go', 'definitely going', 'definitely good', 'definitely great', 'definitely helps', 'definitely keep', 'definitely keeper', 'definitely like', 'definitely make', 'definitely need', 'definitely not', 'definitely one', 'definitely order', 'definitely ordering', 'definitely prefer', 'definitely purchase', 'definitely purchasing', 'definitely recommend', 'definitely recommended', 'definitely reorder', 'definitely something', 'definitely taste', 'definitely tastes', 'definitely tell', 'definitely try', 'definitely use', 'definitely want', 'definitely worth', 'definitely would', 'definition', 'definitly', 'defintely', 'defrost', 'defrosted', 'degree', 'degrees', 'dehydrate', 'dehydrated', 'dehydration', 'dehydrator', 'del', 'delay', 'delayed', 'delectable', 'deleted', 'deli', 'delicacy', 'delicate', 'delicate flavor', 'delicate not', 'delicate taste', 'delicately', 'delicious', 'delicious add', 'delicious added', 'delicious also', 'delicious best', 'delicious better', 'delicious blend', 'delicious bought', 'delicious buy', 'delicious cereal', 'delicious chewy', 'delicious chocolate', 'delicious coffee', 'delicious cookie', 'delicious cookies', 'delicious could', 'delicious crunchy', 'delicious cup', 'delicious dark', 'delicious definitely', 'delicious drink', 'delicious easy', 'delicious eat', 'delicious enough', 'delicious especially', 'delicious even', 'delicious favorite', 'delicious filling', 'delicious first', 'delicious flavor', 'delicious flavors', 'delicious food', 'delicious fresh', 'delicious good', 'delicious got', 'delicious great', 'delicious hard', 'delicious healthy', 'delicious highly', 'delicious hot', 'delicious however', 'delicious iced', 'delicious kids', 'delicious light', 'delicious like', 'delicious little', 'delicious love', 'delicious low', 'delicious made', 'delicious makes', 'delicious meal', 'delicious much', 'delicious must', 'delicious natural', 'delicious need', 'delicious never', 'delicious nice', 'delicious no', 'delicious not', 'delicious nutritious', 'delicious one', 'delicious organic', 'delicious peanut', 'delicious perfect', 'delicious prefer', 'delicious price', 'delicious product', 'delicious real', 'delicious really', 'delicious recommend', 'delicious refreshing', 'delicious rich', 'delicious right', 'delicious satisfying', 'delicious smooth', 'delicious snack', 'delicious soft', 'delicious sweet', 'delicious taste', 'delicious tastes', 'delicious tea', 'delicious texture', 'delicious thank', 'delicious think', 'delicious though', 'delicious treat', 'delicious tried', 'delicious use', 'delicious used', 'delicious way', 'delicious well', 'delicious wish', 'delicious without', 'delicious wonderful', 'delicious would', 'deliciousi', 'deliciously', 'deliciousness', 'delicous', 'delight', 'delight granola', 'delighted', 'delighted able', 'delighted find', 'delighted found', 'delightful', 'delightful taste', 'delightfully', 'delights', 'delish', 'deliver', 'delivered', 'delivered amazon', 'delivered door', 'delivered every', 'delivered fast', 'delivered free', 'delivered front', 'delivered home', 'delivered house', 'delivered promptly', 'delivered quickly', 'delivered right', 'delivered time', 'delivered timely', 'deliveries', 'delivering', 'delivers', 'delivery', 'delivery always', 'delivery amazon', 'delivery arrived', 'delivery date', 'delivery every', 'delivery excellent', 'delivery fast', 'delivery good', 'delivery great', 'delivery not', 'delivery product', 'delivery prompt', 'delivery quick', 'delivery service', 'delivery time', 'delonghi', 'deluxe', 'demand', 'demanding', 'demands', 'demi', 'demi glace', 'denmark', 'dense', 'dense not', 'denser', 'density', 'dent', 'dental', 'dental chews', 'dental cleaning', 'dental health', 'dental work', 'dentastix', 'dente', 'dented', 'dented cans', 'dented not', 'dentist', 'dents', 'dentures', 'dentyne', 'denver', 'deodorant', 'department', 'departure', 'depend', 'dependable', 'depending', 'depending much', 'depending size', 'depending upon', 'depends', 'depicted', 'deployed', 'deposits', 'depot', 'depression', 'deprived', 'dept', 'depth', 'depth flavor', 'derivatives', 'derived', 'descent', 'describe', 'describe flavor', 'describe taste', 'described', 'described not', 'describes', 'describing', 'description', 'description amazon', 'description not', 'description product', 'description said', 'description says', 'description states', 'descriptions', 'desert', 'deserts', 'deserve', 'deserved', 'deserves', 'design', 'designated', 'designed', 'designer', 'designs', 'desirable', 'desire', 'desired', 'desired consistency', 'desires', 'desk', 'desk drawer', 'desk work', 'desperate', 'desperately', 'desperation', 'despise', 'despite', 'despite fact', 'dessert', 'dessert coffee', 'desserts', 'destination', 'destined', 'destroy', 'destroyed', 'destroying', 'destroys', 'detail', 'detailed', 'details', 'detect', 'detectable', 'detected', 'deter', 'detergent', 'determine', 'determined', 'detest', 'detox', 'detract', 'detracts', 'devastated', 'develop', 'developed', 'developed taste', 'developing', 'development', 'develops', 'device', 'devil', 'deviled', 'deviled eggs', 'devoid', 'devoted', 'devour', 'devoured', 'devouring', 'devours', 'dew', 'dextrose', 'dh', 'dha', 'dha ara', 'di', 'diabetes', 'diabetic', 'diabetic cat', 'diabetic not', 'diabetics', 'diagnosed', 'diagnosed celiac', 'diagnosed diabetes', 'diagnosed gluten', 'diagnosis', 'diameter', 'diamond', 'diamond almonds', 'diamond naturals', 'diaper', 'diaper bag', 'diapers', 'diarrhea', 'dice', 'diced', 'diced tomatoes', 'didnt', 'didnt know', 'didnt like', 'die', 'die hard', 'died', 'diego', 'diet', 'diet also', 'diet coke', 'diet dog', 'diet drink', 'diet drinks', 'diet eat', 'diet even', 'diet exercise', 'diet food', 'diet good', 'diet great', 'diet highly', 'diet like', 'diet looking', 'diet love', 'diet loves', 'diet make', 'diet no', 'diet not', 'diet one', 'diet product', 'diet really', 'diet since', 'diet soda', 'diet sodas', 'diet taste', 'diet tried', 'diet use', 'diet version', 'diet without', 'diet would', 'diet years', 'dietary', 'dietary fiber', 'dieter', 'dieters', 'dieting', 'diets', 'diff', 'differ', 'difference', 'difference flavor', 'difference made', 'difference not', 'difference one', 'difference regular', 'difference see', 'difference taste', 'difference two', 'differences', 'different', 'different blends', 'different brand', 'different brands', 'different coffee', 'different coffees', 'different colors', 'different companies', 'different company', 'different cup', 'different cups', 'different dog', 'different flavor', 'different flavors', 'different food', 'different foods', 'different good', 'different green', 'different ingredients', 'different kind', 'different kinds', 'different like', 'different not', 'different one', 'different ones', 'different packaging', 'different people', 'different places', 'different product', 'different products', 'different recipes', 'different regular', 'different sizes', 'different story', 'different sugar', 'different taste', 'different tastes', 'different teas', 'different texture', 'different things', 'different times', 'different treats', 'different type', 'different types', 'different usual', 'different varieties', 'different variety', 'different way', 'different ways', 'different would', 'differently', 'differnt', 'difficult', 'difficult chew', 'difficult eat', 'difficult find', 'difficult get', 'difficult open', 'difficult time', 'difficulties', 'difficulty', 'difficulty finding', 'dig', 'digest', 'digested', 'digestible', 'digesting', 'digestion', 'digestive', 'digestive health', 'digestive issues', 'digestive problems', 'digestive system', 'digestive systems', 'digestive tract', 'digging', 'digress', 'dijon', 'dijon mustard', 'dill', 'dill pickle', 'dilmah', 'dilute', 'diluted', 'diluting', 'dime', 'dimension', 'diminished', 'diner', 'ding', 'dingo', 'dining', 'dinner', 'dinner coffee', 'dinner dessert', 'dinner guests', 'dinner not', 'dinner one', 'dinner party', 'dinner snack', 'dinner table', 'dinner time', 'dinner treat', 'dinners', 'dinosaur', 'dioxide', 'dip', 'dipped', 'dipped chocolate', 'dipping', 'dipping bread', 'dipping sauce', 'dips', 'direct', 'directed', 'direction', 'directions', 'directions add', 'directions box', 'directions call', 'directions easy', 'directions not', 'directions package', 'directions say', 'directly', 'directly amazon', 'directly company', 'dirt', 'dirty', 'dirty martini', 'disabled', 'disagree', 'disapointed', 'disappear', 'disappeared', 'disappeared shelves', 'disappearing', 'disappears', 'disappoint', 'disappointed', 'disappointed amazon', 'disappointed coffee', 'disappointed could', 'disappointed find', 'disappointed flavor', 'disappointed lack', 'disappointed like', 'disappointed no', 'disappointed not', 'disappointed opened', 'disappointed product', 'disappointed purchase', 'disappointed quality', 'disappointed really', 'disappointed see', 'disappointed taste', 'disappointing', 'disappointing not', 'disappointment', 'disappointment not', 'disappoints', 'disaster', 'disc', 'discard', 'discarded', 'discern', 'discernible', 'discerning', 'discipline', 'disclaimer', 'disclose', 'disclosed', 'disclosure', 'discolored', 'discomfort', 'discontinue', 'discontinued', 'discontinuing', 'discount', 'discount store', 'discounted', 'discounted price', 'discounts', 'discourage', 'discover', 'discovered', 'discovered amazon', 'discovered product', 'discovered wonderful', 'discovering', 'discovery', 'discriminating', 'discription', 'discs', 'discuss', 'discussing', 'discussion', 'disease', 'disease gluten', 'diseases', 'disguise', 'disgust', 'disgusted', 'disgusting', 'disgusting not', 'disgusting taste', 'disgustingly', 'dish', 'dish not', 'dish use', 'dish would', 'dishes', 'dishes like', 'dishes not', 'dishonest', 'dishwasher', 'dishwasher safe', 'dishwater', 'disintegrate', 'disks', 'dislike', 'disliked', 'dislikes', 'dismay', 'dismayed', 'disney', 'disolves', 'disorders', 'dispense', 'dispensed', 'dispenser', 'dispensers', 'dispensing', 'display', 'displayed', 'displeased', 'disposable', 'disposal', 'dispose', 'dissapointed', 'dissappointed', 'dissatisfied', 'dissolve', 'dissolve easily', 'dissolve mouth', 'dissolve well', 'dissolved', 'dissolves', 'dissolves easily', 'dissolves quickly', 'dissolving', 'distance', 'distant', 'distilled', 'distilled water', 'distinct', 'distinct flavor', 'distinct taste', 'distinction', 'distinctive', 'distinctive flavor', 'distinctly', 'distinguish', 'distract', 'distracted', 'distress', 'distribute', 'distributed', 'distribution', 'distributor', 'distributors', 'disturbing', 'ditch', 'ditto', 'diverse', 'divide', 'divided', 'divine', 'dixie', 'doberman', 'doc', 'doctor', 'doctor recommended', 'doctor told', 'doctored', 'doctoring', 'doctors', 'doesnt', 'doesnt taste', 'dog', 'dog absolutely', 'dog actually', 'dog allergic', 'dog also', 'dog always', 'dog anything', 'dog ate', 'dog bakery', 'dog biscuits', 'dog busy', 'dog cannot', 'dog cat', 'dog chew', 'dog chews', 'dog could', 'dog diet', 'dog dog', 'dog eat', 'dog eating', 'dog eats', 'dog enjoys', 'dog even', 'dog favorite', 'dog food', 'dog foods', 'dog get', 'dog gets', 'dog goes', 'dog good', 'dog happy', 'dog healthy', 'dog like', 'dog liked', 'dog likes', 'dog little', 'dog love', 'dog loved', 'dog loves', 'dog needs', 'dog never', 'dog no', 'dog not', 'dog one', 'dog owner', 'dog owners', 'dog park', 'dog picky', 'dog pounds', 'dog really', 'dog seemed', 'dog seems', 'dog sensitive', 'dog size', 'dog still', 'dog take', 'dog teeth', 'dog treat', 'dog treats', 'dog well', 'dog went', 'dog would', 'dog year', 'dog years', 'dogfood', 'doggie', 'doggies', 'doggy', 'dogs', 'dogs absolutely', 'dogs actually', 'dogs allergies', 'dogs also', 'dogs always', 'dogs ate', 'dogs cannot', 'dogs cats', 'dogs chew', 'dogs dog', 'dogs dogs', 'dogs eat', 'dogs eating', 'dogs enjoy', 'dogs favorite', 'dogs food', 'dogs get', 'dogs getting', 'dogs go', 'dogs happy', 'dogs lbs', 'dogs like', 'dogs love', 'dogs loved', 'dogs may', 'dogs need', 'dogs never', 'dogs no', 'dogs not', 'dogs one', 'dogs pounds', 'dogs really', 'dogs seem', 'dogs sensitive', 'dogs sick', 'dogs small', 'dogs take', 'dogs teeth', 'dogs treats', 'dogs two', 'dogs well', 'dogs would', 'dogs years', 'dogswell', 'dolce', 'dolce gusto', 'dole', 'dollar', 'dollar per', 'dollar store', 'dollar tree', 'dollars', 'dollars bag', 'dollars cheaper', 'dollars less', 'dollars per', 'dollars worth', 'dollop', 'domestic', 'dominant', 'dominate', 'dominated', 'dominates', 'donate', 'donated', 'donating', 'done', 'done great', 'done not', 'done research', 'done well', 'done without', 'dont', 'dont buy', 'dont care', 'dont drink', 'dont eat', 'dont even', 'dont feel', 'dont get', 'dont know', 'dont like', 'dont mind', 'dont need', 'dont taste', 'dont think', 'dont use', 'dont want', 'dont waste', 'donut', 'donut house', 'donut shop', 'donuts', 'donuts coffee', 'doo', 'door', 'door free', 'door great', 'door no', 'door not', 'door step', 'door would', 'doors', 'doorstep', 'doritos', 'dorm', 'doro', 'dosage', 'dose', 'doses', 'dot', 'dot com', 'dots', 'double', 'double amount', 'double bergamot', 'double black', 'double boxed', 'double check', 'double chocolate', 'double pack', 'double price', 'doubled', 'doubles', 'doubling', 'doubt', 'doubt best', 'doubt would', 'doubtful', 'doubts', 'dough', 'dough not', 'doughnut', 'doughy', 'douwe', 'douwe egberts', 'dove', 'downed', 'downfall', 'downright', 'downside', 'downside price', 'downsides', 'downtown', 'doxie', 'dozen', 'dozen different', 'dozens', 'dr', 'dr mcdougall', 'dr oz', 'dr pepper', 'dr zevia', 'drag', 'dragging', 'dragon', 'drain', 'drain water', 'drained', 'draining', 'dramatic', 'dramatically', 'drank', 'drank coffee', 'drank one', 'drank tea', 'drank whole', 'drastic', 'drastically', 'draw', 'draw back', 'drawback', 'drawback not', 'drawbacks', 'drawer', 'drawer work', 'drawers', 'drawing', 'drawing board', 'drawn', 'dreaded', 'dreadful', 'dream', 'dreamfields', 'dreaming', 'dreams', 'drenched', 'dress', 'dressed', 'dressing', 'dressing also', 'dressing mix', 'dressing not', 'dressings', 'drew', 'dribble', 'dried', 'dried apples', 'dried apricots', 'dried beans', 'dried berries', 'dried blueberries', 'dried cherries', 'dried chicken', 'dried coconut', 'dried cranberries', 'dried food', 'dried fruit', 'dried fruits', 'dried liver', 'dried mango', 'dried mushrooms', 'dried strawberries', 'dried tomatoes', 'dried vegetables', 'drier', 'dries', 'drift', 'drink', 'drink alot', 'drink also', 'drink anything', 'drink black', 'drink bottle', 'drink breakfast', 'drink caffeine', 'drink choice', 'drink coffee', 'drink cold', 'drink could', 'drink couple', 'drink cup', 'drink cups', 'drink daily', 'drink day', 'drink decaf', 'drink definitely', 'drink diet', 'drink drink', 'drink enough', 'drink especially', 'drink even', 'drink evening', 'drink ever', 'drink every', 'drink everyday', 'drink feel', 'drink first', 'drink flavor', 'drink found', 'drink get', 'drink glass', 'drink good', 'drink got', 'drink great', 'drink green', 'drink half', 'drink home', 'drink hot', 'drink however', 'drink iced', 'drink instead', 'drink kind', 'drink least', 'drink less', 'drink like', 'drink little', 'drink lot', 'drink lots', 'drink love', 'drink made', 'drink make', 'drink makes', 'drink might', 'drink milk', 'drink mine', 'drink mix', 'drink mixes', 'drink morning', 'drink much', 'drink natural', 'drink never', 'drink nice', 'drink night', 'drink no', 'drink not', 'drink often', 'drink one', 'drink plain', 'drink pretty', 'drink product', 'drink really', 'drink regular', 'drink right', 'drink several', 'drink since', 'drink soda', 'drink something', 'drink starbucks', 'drink straight', 'drink strong', 'drink stuff', 'drink sweet', 'drink taste', 'drink tasted', 'drink tastes', 'drink tea', 'drink think', 'drink three', 'drink time', 'drink tried', 'drink two', 'drink use', 'drink want', 'drink water', 'drink well', 'drink whole', 'drink without', 'drink would', 'drinkable', 'drinkable not', 'drinker', 'drinker like', 'drinker not', 'drinker tried', 'drinker years', 'drinkers', 'drinkers like', 'drinking', 'drinking coconut', 'drinking coffee', 'drinking cup', 'drinking cups', 'drinking diet', 'drinking every', 'drinking green', 'drinking hot', 'drinking not', 'drinking one', 'drinking plain', 'drinking regular', 'drinking right', 'drinking since', 'drinking soda', 'drinking something', 'drinking straight', 'drinking stuff', 'drinking tea', 'drinking water', 'drinking years', 'drinks', 'drinks also', 'drinks coffee', 'drinks even', 'drinks like', 'drinks lot', 'drinks market', 'drinks not', 'drinks one', 'drinks taste', 'drip', 'drip coffee', 'drip machine', 'dripping', 'drippings', 'drips', 'drive', 'drive miles', 'drive thru', 'driven', 'driver', 'drives', 'driving', 'drizzle', 'drizzled', 'drizzling', 'drool', 'drooling', 'drop', 'drop two', 'dropped', 'dropper', 'dropping', 'drops', 'drops per', 'drove', 'drown', 'drug', 'drug store', 'drugs', 'drugstore', 'drunk', 'dry', 'dry cat', 'dry cereal', 'dry dog', 'dry food', 'dry foods', 'dry hair', 'dry hard', 'dry ice', 'dry ingredients', 'dry itchy', 'dry kibble', 'dry like', 'dry milk', 'dry mix', 'dry mouth', 'dry no', 'dry not', 'dry roasted', 'dry scalp', 'dry side', 'dry skin', 'dry snack', 'dry taste', 'dry tasteless', 'dry wet', 'dryer', 'drying', 'dryness', 'du', 'du monde', 'dubious', 'duck', 'duck potato', 'dud', 'dude', 'due', 'due cost', 'due fact', 'due health', 'due high', 'due lack', 'due low', 'due poor', 'due price', 'dug', 'duh', 'dull', 'dumb', 'dump', 'dumped', 'dumping', 'dumplings', 'duncan', 'dunk', 'dunked', 'dunkin', 'dunkin donuts', 'dunking', 'duped', 'duplicate', 'duplicates', 'durability', 'durable', 'duration', 'durkee', 'dust', 'dusted', 'dusting', 'dusty', 'dutch', 'dutch processed', 'duty', 'dv', 'dvd', 'dvita', 'dye', 'dyed', 'dyes', 'dying', 'dynamic', 'ea', 'eager', 'eager try', 'eagerly', 'ear', 'ear infections', 'earl', 'earl gray', 'earl grey', 'earlier', 'earlier expected', 'earlier year', 'early', 'early morning', 'earn', 'earned', 'ears', 'earth', 'earth best', 'earth friendly', 'earths', 'earths best', 'earthy', 'earthy flavor', 'earthy taste', 'ease', 'ease preparation', 'ease use', 'easier', 'easier chew', 'easier digest', 'easier eat', 'easier find', 'easier get', 'easier less', 'easier make', 'easier not', 'easier open', 'easier use', 'easiest', 'easiest way', 'easily', 'easily able', 'easily add', 'easily available', 'easily best', 'easily broken', 'easily eat', 'easily found', 'easily get', 'easily make', 'easily not', 'easily removed', 'east', 'east coast', 'easter', 'eastern', 'easy', 'easy access', 'easy add', 'easy bake', 'easy bold', 'easy break', 'easy carry', 'easy chew', 'easy clean', 'easy convenient', 'easy cook', 'easy delicious', 'easy digest', 'easy drink', 'easy eat', 'easy enough', 'easy fast', 'easy fill', 'easy find', 'easy fix', 'easy follow', 'easy fun', 'easy get', 'easy give', 'easy go', 'easy good', 'easy grab', 'easy great', 'easy grow', 'easy healthy', 'easy heat', 'easy keep', 'easy make', 'easy meal', 'easy mix', 'easy no', 'easy not', 'easy one', 'easy open', 'easy order', 'easy pack', 'easy pour', 'easy prepare', 'easy product', 'easy put', 'easy quick', 'easy scoop', 'easy set', 'easy snack', 'easy spread', 'easy squeeze', 'easy stomach', 'easy store', 'easy take', 'easy tasty', 'easy throw', 'easy transport', 'easy use', 'easy way', 'easy work', 'eat', 'eat actually', 'eat almost', 'eat alone', 'eat alot', 'eat also', 'eat another', 'eat anymore', 'eat anything', 'eat anyway', 'eat bag', 'eat bars', 'eat better', 'eat big', 'eat bowl', 'eat box', 'eat brand', 'eat bread', 'eat breakfast', 'eat candy', 'eat cat', 'eat cereal', 'eat cheese', 'eat chicken', 'eat chips', 'eat chocolate', 'eat cold', 'eat cookies', 'eat couple', 'eat daily', 'eat day', 'eat delicious', 'eat dinner', 'eat dog', 'eat drink', 'eat dry', 'eat eat', 'eat either', 'eat em', 'eat enjoy', 'eat entire', 'eat even', 'eat every', 'eat everyday', 'eat everything', 'eat fast', 'eat favorite', 'eat first', 'eat flavor', 'eat food', 'eat fresh', 'eat fruit', 'eat get', 'eat gf', 'eat gluten', 'eat go', 'eat good', 'eat granola', 'eat great', 'eat half', 'eat handful', 'eat happy', 'eat hard', 'eat healthier', 'eat healthy', 'eat high', 'eat hot', 'eat however', 'eat instead', 'eat keep', 'eat kid', 'eat kind', 'eat least', 'eat less', 'eat like', 'eat little', 'eat lot', 'eat love', 'eat loves', 'eat low', 'eat lunch', 'eat many', 'eat maybe', 'eat meal', 'eat meals', 'eat meat', 'eat mix', 'eat much', 'eat natural', 'eat need', 'eat nice', 'eat no', 'eat noodles', 'eat not', 'eat nothing', 'eat oatmeal', 'eat often', 'eat one', 'eat organic', 'eat pasta', 'eat peanut', 'eat plain', 'eat popcorn', 'eat pretty', 'eat product', 'eat put', 'eat quickly', 'eat raw', 'eat real', 'eat really', 'eat regular', 'eat regularly', 'eat rest', 'eat rice', 'eat right', 'eat several', 'eat since', 'eat small', 'eat snack', 'eat snacks', 'eat something', 'eat spoon', 'eat straight', 'eat stuff', 'eat sugar', 'eat taste', 'eat things', 'eat think', 'eat though', 'eat three', 'eat time', 'eat treat', 'eat treats', 'eat tried', 'eat two', 'eat use', 'eat vegetables', 'eat want', 'eat way', 'eat well', 'eat wheat', 'eat whole', 'eat without', 'eat would', 'eatable', 'eaten', 'eaten alone', 'eaten life', 'eaten lot', 'eaten not', 'eaten one', 'eaten whole', 'eater', 'eater loves', 'eater not', 'eaters', 'eating', 'eating also', 'eating bag', 'eating better', 'eating breakfast', 'eating candy', 'eating cereal', 'eating chips', 'eating chocolate', 'eating couple', 'eating delicious', 'eating dry', 'eating even', 'eating every', 'eating fast', 'eating first', 'eating food', 'eating foods', 'eating fresh', 'eating friends', 'eating fruit', 'eating gluten', 'eating good', 'eating great', 'eating habits', 'eating healthier', 'eating healthy', 'eating less', 'eating like', 'eating little', 'eating lot', 'eating low', 'eating many', 'eating meat', 'eating months', 'eating much', 'eating no', 'eating not', 'eating nuts', 'eating oatmeal', 'eating one', 'eating peanut', 'eating plain', 'eating plan', 'eating product', 'eating real', 'eating really', 'eating regular', 'eating right', 'eating several', 'eating since', 'eating something', 'eating straight', 'eating stuff', 'eating sugar', 'eating taste', 'eating things', 'eating two', 'eating well', 'eating whole', 'eating would', 'eating years', 'eats', 'eats almost', 'eats anything', 'eats every', 'eats everything', 'eats food', 'eats like', 'eats not', 'eats one', 'eats right', 'eb', 'ebay', 'echinacea', 'echo', 'eclipse', 'eco', 'eco friendly', 'economic', 'economical', 'economical buy', 'economical way', 'economically', 'economy', 'ecstatic', 'ect', 'eczema', 'ed', 'edamame', 'eden', 'eden organic', 'edge', 'edges', 'edible', 'edible not', 'edit', 'edited', 'edition', 'educated', 'edward', 'effect', 'effect blood', 'effect not', 'effective', 'effectively', 'effectiveness', 'effects', 'effects like', 'efficient', 'efficiently', 'effort', 'effort get', 'efforts', 'eg', 'egberts', 'egg', 'egg free', 'egg noodles', 'egg replacer', 'egg salad', 'egg white', 'egg whites', 'eggnog', 'eggplant', 'eggs', 'eggs not', 'eh', 'eight', 'eight oclock', 'eight ounce', 'either', 'either good', 'either hot', 'either like', 'either love', 'either no', 'either not', 'either one', 'either really', 'either taste', 'either use', 'either way', 'either would', 'ekobrew', 'el', 'el paso', 'el yucateco', 'elastic', 'elated', 'elbow', 'elbows', 'elderberry', 'elderly', 'electric', 'electrical', 'electrolyte', 'electrolytes', 'elegant', 'element', 'elements', 'elephant', 'elevated', 'eleven', 'eligible', 'eligible free', 'eligible return', 'eliminate', 'eliminated', 'eliminates', 'eliminating', 'elimination', 'elite', 'elk', 'ella', 'ella kitchen', 'else', 'else comes', 'else could', 'else found', 'else get', 'else great', 'else like', 'else mentioned', 'else no', 'else not', 'else really', 'else said', 'else say', 'else taste', 'else tastes', 'else tried', 'else want', 'else would', 'elsewhere', 'elsewhere not', 'em', 'email', 'email amazon', 'emailed', 'emailed company', 'emails', 'embarrassed', 'embarrassing', 'emerald', 'emergen', 'emergencies', 'emergency', 'emergency food', 'emeril', 'emeril big', 'emotional', 'emphasis', 'emphasize', 'employee', 'employees', 'emptied', 'emptor', 'empty', 'empty bag', 'empty calories', 'empty stomach', 'emptying', 'emulsifier', 'en', 'enables', 'enchilada', 'enchilada sauce', 'enchiladas', 'enclosed', 'encounter', 'encountered', 'encourage', 'encouraged', 'encouraging', 'end', 'end buying', 'end cooking', 'end day', 'end eating', 'end getting', 'end not', 'end product', 'end result', 'end spectrum', 'end throwing', 'endangered', 'endangered species', 'ended', 'ended buying', 'ended eating', 'ended getting', 'ended giving', 'ended ordering', 'ended paying', 'ended throwing', 'ended using', 'ending', 'endless', 'endorse', 'endorsement', 'ends', 'endurance', 'ener', 'energetic', 'energize', 'energized', 'energizing', 'energy', 'energy also', 'energy bar', 'energy bars', 'energy boost', 'energy drink', 'energy drinks', 'energy get', 'energy level', 'energy levels', 'energy need', 'energy no', 'energy not', 'energy plus', 'energy shots', 'energy without', 'enfamil', 'engine', 'engineer', 'engineered', 'england', 'english', 'english breakfast', 'english bulldog', 'english muffin', 'english muffins', 'english tea', 'english toffee', 'enhance', 'enhance flavor', 'enhanced', 'enhancement', 'enhancer', 'enhancers', 'enhances', 'enhances flavor', 'enhancing', 'enjoy', 'enjoy also', 'enjoy best', 'enjoy brand', 'enjoy chocolate', 'enjoy coffee', 'enjoy cookies', 'enjoy cup', 'enjoy drink', 'enjoy drinking', 'enjoy eating', 'enjoy even', 'enjoy every', 'enjoy flavor', 'enjoy flavored', 'enjoy flavors', 'enjoy food', 'enjoy good', 'enjoy great', 'enjoy healthy', 'enjoy home', 'enjoy hot', 'enjoy life', 'enjoy like', 'enjoy little', 'enjoy lot', 'enjoy making', 'enjoy moderation', 'enjoy much', 'enjoy not', 'enjoy one', 'enjoy pasta', 'enjoy product', 'enjoy snack', 'enjoy sweet', 'enjoy taste', 'enjoy tea', 'enjoy trying', 'enjoy using', 'enjoy well', 'enjoy without', 'enjoy wonderful', 'enjoy would', 'enjoyable', 'enjoyable tea', 'enjoyed', 'enjoyed coffee', 'enjoyed cup', 'enjoyed eating', 'enjoyed every', 'enjoyed flavor', 'enjoyed flavors', 'enjoyed much', 'enjoyed not', 'enjoyed one', 'enjoyed product', 'enjoyed taste', 'enjoyed tea', 'enjoyed would', 'enjoying', 'enjoying much', 'enjoyment', 'enjoys', 'enjoys eating', 'enormous', 'enough', 'enough add', 'enough buy', 'enough caffeine', 'enough chocolate', 'enough coffee', 'enough could', 'enough cover', 'enough drink', 'enough eat', 'enough energy', 'enough enjoy', 'enough even', 'enough feel', 'enough fill', 'enough find', 'enough flavor', 'enough food', 'enough get', 'enough give', 'enough go', 'enough good', 'enough great', 'enough heat', 'enough hold', 'enough keep', 'enough know', 'enough last', 'enough like', 'enough love', 'enough make', 'enough milk', 'enough mix', 'enough no', 'enough not', 'enough one', 'enough people', 'enough product', 'enough protein', 'enough really', 'enough said', 'enough salt', 'enough satisfy', 'enough serve', 'enough share', 'enough small', 'enough spice', 'enough stand', 'enough still', 'enough stuff', 'enough sugar', 'enough sweet', 'enough sweetness', 'enough take', 'enough taste', 'enough tea', 'enough time', 'enough try', 'enough two', 'enough use', 'enough water', 'enough without', 'enough would', 'enriched', 'ensure', 'ensures', 'enter', 'entered', 'entertain', 'entertained', 'entertaining', 'entertainment', 'enthusiasm', 'enthusiast', 'enthusiastic', 'enthusiastically', 'enthusiasts', 'enticing', 'entire', 'entire bag', 'entire batch', 'entire bottle', 'entire bowl', 'entire box', 'entire case', 'entire container', 'entire day', 'entire family', 'entire house', 'entire life', 'entire package', 'entire packet', 'entire pot', 'entire thing', 'entire time', 'entirely', 'entree', 'entrees', 'entry', 'envelope', 'envelopes', 'environment', 'environmental', 'environmentally', 'environmentally friendly', 'envy', 'enzyme', 'enzymes', 'epa', 'episode', 'episodes', 'equal', 'equally', 'equally good', 'equals', 'equate', 'equipment', 'equivalent', 'er', 'era', 'erewhon', 'erh', 'erin', 'erin baker', 'errands', 'error', 'erythritol', 'escape', 'escapes', 'ese', 'ese pods', 'esp', 'especially', 'especially add', 'especially amazon', 'especially cold', 'especially compared', 'especially considering', 'especially free', 'especially get', 'especially good', 'especially great', 'especially high', 'especially like', 'especially liked', 'especially love', 'especially nice', 'especially not', 'especially one', 'especially ones', 'especially price', 'especially since', 'especially subscribe', 'especially use', 'especially want', 'especially well', 'especially winter', 'espresso', 'espresso beans', 'espresso blend', 'espresso coffee', 'espresso drinks', 'espresso flavor', 'espresso good', 'espresso machine', 'espresso maker', 'espresso not', 'espresso pods', 'espresso roast', 'espressos', 'essence', 'essentia', 'essential', 'essential amino', 'essential fatty', 'essentially', 'essentials', 'establish', 'established', 'estate', 'estimate', 'estimated', 'estimation', 'estrogen', 'et', 'etc', 'etc also', 'etc etc', 'etc good', 'etc great', 'etc however', 'etc like', 'etc love', 'etc no', 'etc not', 'etc one', 'etc taste', 'etc think', 'etc use', 'etc would', 'ethical', 'ethiopian', 'ethnic', 'eukanuba', 'euro', 'europe', 'european', 'european style', 'evaluate', 'evaporate', 'evaporated', 'evaporated cane', 'eve', 'even', 'even able', 'even add', 'even added', 'even amazon', 'even asked', 'even ate', 'even begin', 'even best', 'even better', 'even bit', 'even bother', 'even bought', 'even buy', 'even call', 'even called', 'even cheaper', 'even close', 'even coffee', 'even come', 'even comes', 'even compare', 'even compared', 'even consider', 'even cooked', 'even daughter', 'even decaf', 'even delicious', 'even dog', 'even dogs', 'even drink', 'even easier', 'even eat', 'even enjoy', 'even expensive', 'even family', 'even feel', 'even find', 'even finish', 'even found', 'even free', 'even friends', 'even gave', 'even get', 'even give', 'even gluten', 'even go', 'even going', 'even good', 'even got', 'even great', 'even half', 'even harder', 'even heard', 'even high', 'even hint', 'even husband', 'even ice', 'even keep', 'even kids', 'even know', 'even leave', 'even left', 'even less', 'even like', 'even liked', 'even likes', 'even little', 'even local', 'even longer', 'even look', 'even loves', 'even lower', 'even made', 'even make', 'even makes', 'even mix', 'even mixed', 'even money', 'even much', 'even need', 'even no', 'even non', 'even not', 'even notice', 'even one', 'even ones', 'even people', 'even picky', 'even plain', 'even price', 'even put', 'even realize', 'even really', 'even regular', 'even remotely', 'even said', 'even sent', 'even shipping', 'even slightly', 'even small', 'even smaller', 'even smallest', 'even smell', 'even smells', 'even started', 'even still', 'even stronger', 'even sure', 'even swallow', 'even take', 'even taste', 'even tastes', 'even tell', 'even think', 'even tho', 'even though', 'even thought', 'even took', 'even touch', 'even tried', 'even try', 'even trying', 'even two', 'even use', 'even used', 'even using', 'even want', 'even wanted', 'even water', 'even whole', 'even without', 'even work', 'even worse', 'even would', 'even year', 'evening', 'evening meal', 'evenings', 'evenly', 'evenly distributed', 'event', 'events', 'eventually', 'ever', 'ever able', 'ever also', 'ever ate', 'ever bought', 'ever buy', 'ever come', 'ever could', 'ever created', 'ever drank', 'ever drink', 'ever eat', 'ever eaten', 'ever encountered', 'ever even', 'ever experienced', 'ever find', 'ever found', 'ever get', 'ever given', 'ever go', 'ever going', 'ever good', 'ever great', 'ever life', 'ever like', 'ever love', 'ever made', 'ever make', 'ever need', 'ever no', 'ever not', 'ever one', 'ever perfect', 'ever purchased', 'ever put', 'ever really', 'ever run', 'ever seen', 'ever since', 'ever slightly', 'ever stop', 'ever taste', 'ever tasted', 'ever think', 'ever tried', 'ever try', 'ever use', 'ever used', 'ever want', 'ever wish', 'ever would', 'everlasting', 'everlasting treat', 'every', 'every bag', 'every bit', 'every bite', 'every bottle', 'every box', 'every brand', 'every cat', 'every cent', 'every christmas', 'every coffee', 'every couple', 'every cup', 'every day', 'every days', 'every dog', 'every evening', 'every flavor', 'every food', 'every grocery', 'every hours', 'every kind', 'every last', 'every meal', 'every minute', 'every month', 'every months', 'every morning', 'every night', 'every often', 'every one', 'every order', 'every penny', 'every piece', 'every recipe', 'every single', 'every sip', 'every six', 'every store', 'every tea', 'every thing', 'every three', 'every time', 'every two', 'every type', 'every way', 'every week', 'every weekend', 'every weeks', 'every year', 'everybody', 'everybody loves', 'everyday', 'everyday coffee', 'everyday tea', 'everyday use', 'everyone', 'everyone different', 'everyone else', 'everyone family', 'everyone give', 'everyone happy', 'everyone house', 'everyone know', 'everyone knows', 'everyone liked', 'everyone likes', 'everyone loved', 'everyone loves', 'everyone needs', 'everyone not', 'everyone raved', 'everyone seems', 'everyone taste', 'everyone tastes', 'everyone tried', 'everyone tries', 'everyone try', 'everyone wants', 'everyone would', 'everything', 'everything amazon', 'everything arrived', 'everything could', 'everything eat', 'everything else', 'everything especially', 'everything even', 'everything expected', 'everything fine', 'everything good', 'everything great', 'everything including', 'everything like', 'everything love', 'everything make', 'everything need', 'everything not', 'everything right', 'everything taste', 'everything tastes', 'everything tried', 'everything use', 'everything would', 'everytime', 'everywhere', 'everywhere go', 'evidence', 'evident', 'evidently', 'evil', 'evo', 'evoo', 'ex', 'exact', 'exact product', 'exact thing', 'exactly', 'exactly advertised', 'exactly described', 'exactly expected', 'exactly like', 'exactly looking', 'exactly needed', 'exactly one', 'exactly ordered', 'exactly pictured', 'exactly remember', 'exactly remembered', 'exactly right', 'exactly want', 'exactly wanted', 'exactly would', 'exaggeration', 'examined', 'example', 'exceed', 'exceeded', 'exceeded expectations', 'exceeds', 'excelent', 'excellant', 'excellence', 'excellent', 'excellent alternative', 'excellent buy', 'excellent choice', 'excellent coffee', 'excellent condition', 'excellent cup', 'excellent customer', 'excellent deal', 'excellent flavor', 'excellent food', 'excellent full', 'excellent gift', 'excellent good', 'excellent great', 'excellent no', 'excellent not', 'excellent price', 'excellent product', 'excellent quality', 'excellent results', 'excellent service', 'excellent shape', 'excellent snack', 'excellent source', 'excellent substitute', 'excellent taste', 'excellent tasting', 'excellent tea', 'excellent texture', 'excellent use', 'excellent value', 'excellent way', 'excellent well', 'excellent would', 'except', 'except maybe', 'except not', 'except one', 'exception', 'exceptional', 'exceptionally', 'exceptionally good', 'exceptions', 'excess', 'excessive', 'excessively', 'exchange', 'excited', 'excited find', 'excited found', 'excited get', 'excited product', 'excited receive', 'excited saw', 'excited see', 'excited taste', 'excited try', 'excitedly', 'excitement', 'exciting', 'exclusive', 'exclusively', 'excuse', 'execution', 'exercise', 'exercising', 'exhausted', 'exist', 'existed', 'existence', 'existent', 'existing', 'exists', 'exorbitant', 'exotic', 'exp', 'exp date', 'expand', 'expanded', 'expanding', 'expect', 'expect get', 'expect good', 'expect much', 'expect not', 'expect product', 'expect taste', 'expectation', 'expectations', 'expected', 'expected better', 'expected good', 'expected great', 'expected like', 'expected much', 'expected not', 'expected something', 'expected taste', 'expecting', 'expecting much', 'expecting something', 'expecting taste', 'expects', 'expedited', 'expedited shipping', 'expense', 'expensive', 'expensive also', 'expensive amazon', 'expensive bought', 'expensive brand', 'expensive brands', 'expensive buy', 'expensive buying', 'expensive coffee', 'expensive compared', 'expensive dog', 'expensive even', 'expensive found', 'expensive get', 'expensive good', 'expensive grocery', 'expensive hard', 'expensive however', 'expensive like', 'expensive little', 'expensive local', 'expensive no', 'expensive not', 'expensive one', 'expensive ones', 'expensive per', 'expensive price', 'expensive product', 'expensive really', 'expensive regular', 'expensive shipping', 'expensive side', 'expensive small', 'expensive stores', 'expensive stuff', 'expensive though', 'expensive use', 'expensive way', 'expensive well', 'expensive worth', 'expensive would', 'experience', 'experience not', 'experience product', 'experience would', 'experienced', 'experiences', 'experiencing', 'experiment', 'experimentation', 'experimented', 'experimenting', 'experiments', 'expert', 'experts', 'expiration', 'expiration date', 'expiration dates', 'expire', 'expired', 'expires', 'expiring', 'expiry', 'expiry date', 'explain', 'explained', 'explaining', 'explains', 'explanation', 'explode', 'exploded', 'explodes', 'explore', 'exploring', 'explosion', 'export', 'exposed', 'exposure', 'express', 'expressed', 'expresso', 'exquisite', 'extend', 'extended', 'extended family', 'extensive', 'extensively', 'extent', 'exterior', 'extra', 'extra bold', 'extra bonus', 'extra boost', 'extra bucks', 'extra calories', 'extra cost', 'extra dark', 'extra effort', 'extra energy', 'extra fiber', 'extra flavor', 'extra hot', 'extra kick', 'extra large', 'extra money', 'extra protein', 'extra salt', 'extra special', 'extra sugar', 'extra time', 'extra virgin', 'extra vitamins', 'extra water', 'extra work', 'extract', 'extract not', 'extracted', 'extraction', 'extracts', 'extraordinarily', 'extraordinary', 'extras', 'extreme', 'extremely', 'extremely bitter', 'extremely convenient', 'extremely difficult', 'extremely disappointed', 'extremely easy', 'extremely expensive', 'extremely fast', 'extremely fresh', 'extremely good', 'extremely happy', 'extremely hard', 'extremely healthy', 'extremely high', 'extremely hot', 'extremely low', 'extremely picky', 'extremely pleased', 'extremely salty', 'extremely satisfied', 'extremely sweet', 'extremely tasty', 'extremely well', 'extremly', 'eye', 'eyed', 'eyes', 'eyes not', 'ez', 'ezekiel', 'fab', 'fabric', 'fabulous', 'fabulous not', 'fabulous product', 'fabulously', 'face', 'face not', 'facebook', 'faced', 'faces', 'facial', 'facilities', 'facility', 'fact', 'fact amazon', 'fact contains', 'fact could', 'fact even', 'fact first', 'fact get', 'fact gluten', 'fact good', 'fact ingredients', 'fact like', 'fact little', 'fact made', 'fact make', 'fact natural', 'fact no', 'fact not', 'fact one', 'fact ordered', 'fact organic', 'fact product', 'fact tastes', 'fact think', 'fact would', 'factor', 'factors', 'factory', 'facts', 'fade', 'faded', 'fades', 'fail', 'failed', 'failing', 'fails', 'failure', 'faint', 'faint heart', 'faintly', 'fair', 'fair amount', 'fair price', 'fair share', 'fair trade', 'fairly', 'fairly easy', 'fairly expensive', 'fairly good', 'fairly healthy', 'fairly high', 'fairly large', 'fairly low', 'fairly new', 'fairly quickly', 'fairly small', 'fairly strong', 'fairly well', 'fairness', 'faith', 'faithful', 'fajita', 'fajitas', 'fake', 'fake sugar', 'falafel', 'fall', 'fall apart', 'fall asleep', 'fall love', 'fall winter', 'fallen', 'fallen love', 'falling', 'falling asleep', 'falls', 'falls apart', 'false', 'false advertising', 'fame', 'familiar', 'families', 'family', 'family also', 'family always', 'family could', 'family eat', 'family eating', 'family eats', 'family enjoy', 'family enjoyed', 'family enjoys', 'family favorite', 'family four', 'family friends', 'family gluten', 'family great', 'family happy', 'family hooked', 'family like', 'family liked', 'family likes', 'family love', 'family loved', 'family loves', 'family member', 'family members', 'family not', 'family one', 'family owned', 'family really', 'family size', 'family tradition', 'family tried', 'family used', 'family uses', 'family would', 'famous', 'fan', 'fan chocolate', 'fan coconut', 'fan coffee', 'fan dark', 'fan flavored', 'fan ginger', 'fan green', 'fan not', 'fan tea', 'fanatic', 'fancier', 'fancy', 'fancy feast', 'fans', 'fantastic', 'fantastic coffee', 'fantastic deal', 'fantastic flavor', 'fantastic love', 'fantastic not', 'fantastic price', 'fantastic product', 'fantastic taste', 'fantastically', 'far', 'far also', 'far away', 'far best', 'far better', 'far cheaper', 'far concerned', 'far cry', 'far delicious', 'far expensive', 'far far', 'far favorite', 'far flavor', 'far good', 'far great', 'far know', 'far less', 'far like', 'far love', 'far made', 'far much', 'far no', 'far not', 'far one', 'far product', 'far really', 'far say', 'far superior', 'far taste', 'far tastiest', 'far tell', 'far tried', 'far used', 'far worse', 'far worst', 'far would', 'fare', 'farm', 'farmer', 'farmer market', 'farmers', 'farmers market', 'farms', 'farms products', 'farther', 'fashion', 'fashioned', 'fashioned way', 'fast', 'fast delivery', 'fast easy', 'fast enough', 'fast food', 'fast forward', 'fast free', 'fast fresh', 'fast good', 'fast great', 'fast not', 'fast price', 'fast product', 'fast service', 'fast shipment', 'fast shipping', 'fast well', 'fast would', 'faster', 'fastest', 'fat', 'fat also', 'fat calorie', 'fat calories', 'fat carb', 'fat carbohydrates', 'fat carbs', 'fat cholesterol', 'fat content', 'fat daily', 'fat diet', 'fat fat', 'fat fiber', 'fat free', 'fat grams', 'fat high', 'fat intake', 'fat low', 'fat mg', 'fat milk', 'fat natural', 'fat no', 'fat not', 'fat one', 'fat per', 'fat product', 'fat protein', 'fat regular', 'fat salt', 'fat sat', 'fat saturated', 'fat snack', 'fat sodium', 'fat sugar', 'fat total', 'fat trans', 'fat version', 'fat would', 'father', 'father day', 'father law', 'fathers', 'fatigue', 'fats', 'fattening', 'fatty', 'fatty acids', 'fault', 'fault not', 'faulty', 'faux', 'fav', 'fave', 'favor', 'favor buy', 'favor try', 'favorable', 'favorably', 'favored', 'favorite', 'favorite also', 'favorite always', 'favorite brand', 'favorite breakfast', 'favorite candies', 'favorite candy', 'favorite cereal', 'favorite cereals', 'favorite chips', 'favorite chocolate', 'favorite coffee', 'favorite coffees', 'favorite cookie', 'favorite cookies', 'favorite cup', 'favorite cups', 'favorite drink', 'favorite family', 'favorite far', 'favorite flavor', 'favorite flavored', 'favorite flavors', 'favorite food', 'favorite foods', 'favorite gluten', 'favorite good', 'favorite great', 'favorite green', 'favorite gum', 'favorite hard', 'favorite hot', 'favorite house', 'favorite keep', 'favorite like', 'favorite love', 'favorite mine', 'favorite mix', 'favorite not', 'favorite one', 'favorite part', 'favorite pasta', 'favorite recipe', 'favorite recipes', 'favorite restaurant', 'favorite sauce', 'favorite since', 'favorite snack', 'favorite snacks', 'favorite store', 'favorite sweet', 'favorite taste', 'favorite tea', 'favorite teas', 'favorite thing', 'favorite things', 'favorite time', 'favorite toy', 'favorite treat', 'favorite treats', 'favorite type', 'favorite use', 'favorite way', 'favorite years', 'favorites', 'favorites far', 'favorites not', 'favorites vegan', 'favors', 'favourite', 'fda', 'fe', 'fear', 'feared', 'fears', 'feast', 'feat', 'feature', 'featured', 'features', 'featuring', 'feb', 'february', 'feces', 'fed', 'fed dogs', 'federal', 'fedex', 'fee', 'feed', 'feed baby', 'feed cat', 'feed cats', 'feed dog', 'feed dogs', 'feed family', 'feed one', 'feed pets', 'feedback', 'feeder', 'feeding', 'feeding baby', 'feeding cat', 'feeding cats', 'feeding dog', 'feeding dogs', 'feeding food', 'feeding time', 'feedings', 'feeds', 'feel', 'feel bad', 'feel best', 'feel better', 'feel bit', 'feel comfortable', 'feel compelled', 'feel confident', 'feel deprived', 'feel difference', 'feel energy', 'feel free', 'feel full', 'feel good', 'feel great', 'feel guilty', 'feel healthy', 'feel hungry', 'feel like', 'feel little', 'feel love', 'feel much', 'feel need', 'feel not', 'feel pretty', 'feel really', 'feel relaxed', 'feel ripped', 'feel safe', 'feel satisfied', 'feel sick', 'feel way', 'feeling', 'feeling better', 'feeling get', 'feeling good', 'feeling guilty', 'feeling like', 'feeling not', 'feeling well', 'feelings', 'feels', 'feels better', 'feels good', 'feels great', 'feels like', 'fees', 'feet', 'felidae', 'feline', 'feline pine', 'felines', 'fell', 'fell apart', 'fell love', 'fellow', 'felt', 'felt better', 'felt compelled', 'felt good', 'felt great', 'felt like', 'felt little', 'felt much', 'felt no', 'female', 'fence', 'fennel', 'fenugreek', 'feral', 'fermentation', 'fermented', 'fermenting', 'fertilizer', 'festival', 'festive', 'feta', 'fetch', 'fettuccine', 'fever', 'fever tree', 'fewer', 'fewer calories', 'ff', 'fiance', 'fiber', 'fiber also', 'fiber cereal', 'fiber content', 'fiber diet', 'fiber good', 'fiber grams', 'fiber great', 'fiber intake', 'fiber less', 'fiber low', 'fiber not', 'fiber one', 'fiber per', 'fiber protein', 'fiber sugar', 'fiber sugars', 'fibers', 'field', 'fields', 'fiend', 'fiery', 'fiesta', 'fifteen', 'fifth', 'fifty', 'fig', 'fig newton', 'fig newtons', 'fight', 'fighting', 'figs', 'figure', 'figured', 'figured could', 'figured might', 'figured not', 'figured worth', 'figured would', 'figures', 'figuring', 'fiji', 'filet', 'filet mignon', 'filets', 'fill', 'fill cup', 'fill glass', 'fill line', 'fill water', 'filled', 'filled water', 'filler', 'fillers', 'fillets', 'filling', 'filling also', 'filling breakfast', 'filling enough', 'filling good', 'filling great', 'filling healthy', 'filling meal', 'filling not', 'filling satisfying', 'filling snack', 'filling tastes', 'filling tasty', 'fillings', 'fills', 'fills bill', 'film', 'filter', 'filtered', 'filtered water', 'filtering', 'filters', 'final', 'final product', 'finally', 'finally able', 'finally came', 'finally decided', 'finally eat', 'finally find', 'finally found', 'finally gave', 'finally get', 'finally got', 'finally made', 'finally ordered', 'finally settled', 'finally tried', 'financial', 'find', 'find almost', 'find alternative', 'find amazon', 'find another', 'find anymore', 'find anything', 'find anywhere', 'find area', 'find around', 'find available', 'find bars', 'find best', 'find better', 'find big', 'find bit', 'find bitter', 'find box', 'find brand', 'find brands', 'find bulk', 'find buy', 'find candy', 'find cat', 'find cereal', 'find cheaper', 'find chocolate', 'find coffee', 'find cookies', 'find costco', 'find could', 'find decaf', 'find decent', 'find delicious', 'find difficult', 'find dog', 'find drinking', 'find easily', 'find easy', 'find eating', 'find elsewhere', 'find even', 'find except', 'find expensive', 'find favorite', 'find flavor', 'find food', 'find found', 'find get', 'find glad', 'find gluten', 'find good', 'find great', 'find green', 'find grocery', 'find happy', 'find hard', 'find healthy', 'find hot', 'find ingredients', 'find internet', 'find item', 'find kind', 'find large', 'find larger', 'find less', 'find like', 'find line', 'find little', 'find live', 'find local', 'find locally', 'find love', 'find low', 'find lower', 'find made', 'find many', 'find mix', 'find much', 'find natural', 'find need', 'find new', 'find no', 'find not', 'find old', 'find one', 'find online', 'find ordered', 'find organic', 'find particular', 'find perfect', 'find pet', 'find place', 'find price', 'find product', 'find products', 'find quality', 'find quite', 'find really', 'find reasonable', 'find refreshing', 'find regular', 'find replacement', 'find retail', 'find right', 'find sale', 'find similar', 'find since', 'find single', 'find small', 'find snack', 'find sold', 'find someone', 'find something', 'find source', 'find still', 'find store', 'find stores', 'find stuff', 'find substitute', 'find sugar', 'find supermarket', 'find supermarkets', 'find sweet', 'find taste', 'find tastes', 'find tasty', 'find tea', 'find things', 'find time', 'find treats', 'find tried', 'find us', 'find use', 'find using', 'find usually', 'find variety', 'find want', 'find way', 'find ways', 'find whole', 'find worth', 'find would', 'finding', 'finding amazon', 'finding food', 'finding good', 'finding local', 'finding product', 'finding something', 'finding stores', 'finds', 'fine', 'fine chocolate', 'fine coffee', 'fine cup', 'fine grind', 'fine ground', 'fine hair', 'fine however', 'fine like', 'fine mesh', 'fine no', 'fine not', 'fine one', 'fine powder', 'fine print', 'fine product', 'fine since', 'fine taste', 'fine tea', 'fine though', 'fine would', 'finely', 'finely chopped', 'finely ground', 'finer', 'finer grind', 'finest', 'finest quality', 'finger', 'finger food', 'fingers', 'fingers crossed', 'fingertips', 'finicky', 'finicky eater', 'finicky eaters', 'finish', 'finish bag', 'finish box', 'finish cup', 'finish entire', 'finish not', 'finish one', 'finish rest', 'finish whole', 'finished', 'finished bag', 'finished box', 'finished first', 'finished last', 'finished one', 'finished product', 'finishes', 'finishing', 'finishing salt', 'finland', 'fire', 'fire roasted', 'firm', 'firm not', 'firm texture', 'firmer', 'firmly', 'firmness', 'first', 'first add', 'first amazon', 'first ate', 'first attempt', 'first bag', 'first batch', 'first bite', 'first bottle', 'first bought', 'first bowl', 'first box', 'first brand', 'first buying', 'first came', 'first case', 'first cat', 'first choice', 'first coffee', 'first could', 'first couple', 'first cup', 'first day', 'first days', 'first discovered', 'first dog', 'first drink', 'first experience', 'first flavor', 'first food', 'first found', 'first four', 'first gave', 'first get', 'first glance', 'first gluten', 'first go', 'first good', 'first got', 'first heard', 'first impression', 'first ingredient', 'first ingredients', 'first introduced', 'first item', 'first jar', 'first last', 'first let', 'first like', 'first little', 'first love', 'first made', 'first make', 'first minutes', 'first month', 'first months', 'first must', 'first night', 'first not', 'first one', 'first ones', 'first open', 'first opened', 'first opening', 'first order', 'first ordered', 'first pack', 'first package', 'first piece', 'first place', 'first product', 'first purchase', 'first purchased', 'first put', 'first rate', 'first reaction', 'first really', 'first received', 'first review', 'first reviewer', 'first saw', 'first say', 'first second', 'first see', 'first shipment', 'first since', 'first sip', 'first started', 'first taste', 'first tasted', 'first tea', 'first thing', 'first things', 'first thought', 'first three', 'first time', 'first times', 'first tried', 'first try', 'first two', 'first use', 'first used', 'first want', 'first week', 'first would', 'first year', 'firstly', 'fish', 'fish chicken', 'fish meal', 'fish not', 'fish oil', 'fish sauce', 'fish smell', 'fishy', 'fishy smell', 'fishy taste', 'fist', 'fit', 'fit bill', 'fit perfectly', 'fit right', 'fit well', 'fitness', 'fits', 'fits bill', 'fits nicely', 'fits perfectly', 'fitting', 'five', 'five boxes', 'five bucks', 'five days', 'five dollars', 'five minutes', 'five pound', 'five pounds', 'five six', 'five star', 'five stars', 'five times', 'five year', 'five years', 'fix', 'fixed', 'fixed problem', 'fixes', 'fixing', 'fizz', 'fizzy', 'fl', 'fl oz', 'flair', 'flake', 'flaked', 'flakes', 'flakes not', 'flaking', 'flaky', 'flame', 'flare', 'flash', 'flat', 'flat bread', 'flat not', 'flatbread', 'flatten', 'flattened', 'flatulence', 'flavacol', 'flavor', 'flavor absolutely', 'flavor actually', 'flavor add', 'flavor added', 'flavor adding', 'flavor adds', 'flavor almost', 'flavor also', 'flavor although', 'flavor always', 'flavor amazing', 'flavor amazon', 'flavor another', 'flavor anything', 'flavor aroma', 'flavor artificial', 'flavor available', 'flavor awesome', 'flavor bad', 'flavor barely', 'flavor beans', 'flavor become', 'flavor best', 'flavor better', 'flavor big', 'flavor bit', 'flavor black', 'flavor bland', 'flavor blend', 'flavor body', 'flavor bold', 'flavor boost', 'flavor bought', 'flavor brand', 'flavor brands', 'flavor buy', 'flavor came', 'flavor cannot', 'flavor cat', 'flavor cereal', 'flavor certainly', 'flavor cherry', 'flavor chicken', 'flavor chips', 'flavor chocolate', 'flavor coconut', 'flavor coffee', 'flavor color', 'flavor combination', 'flavor come', 'flavor comes', 'flavor compared', 'flavor consistency', 'flavor cookies', 'flavor could', 'flavor course', 'flavor creamy', 'flavor crunch', 'flavor cup', 'flavor cups', 'flavor dark', 'flavor deep', 'flavor definitely', 'flavor delicate', 'flavor delicious', 'flavor different', 'flavor dish', 'flavor drink', 'flavor easy', 'flavor eat', 'flavor either', 'flavor enhanced', 'flavor enhancer', 'flavor enjoy', 'flavor enjoyed', 'flavor enough', 'flavor especially', 'flavor even', 'flavor ever', 'flavor every', 'flavor everyone', 'flavor everything', 'flavor exactly', 'flavor excellent', 'flavor fact', 'flavor fantastic', 'flavor far', 'flavor favorite', 'flavor feel', 'flavor find', 'flavor fine', 'flavor first', 'flavor flavor', 'flavor food', 'flavor foods', 'flavor found', 'flavor fresh', 'flavor freshness', 'flavor full', 'flavor get', 'flavor gets', 'flavor give', 'flavor gives', 'flavor go', 'flavor goes', 'flavor going', 'flavor good', 'flavor got', 'flavor great', 'flavor green', 'flavor gum', 'flavor happy', 'flavor hard', 'flavor heat', 'flavor highly', 'flavor hint', 'flavor home', 'flavor honey', 'flavor hot', 'flavor however', 'flavor husband', 'flavor ingredients', 'flavor instant', 'flavor instead', 'flavor intense', 'flavor keep', 'flavor kick', 'flavor kids', 'flavor kind', 'flavor last', 'flavor lasts', 'flavor left', 'flavor lemon', 'flavor less', 'flavor light', 'flavor like', 'flavor liked', 'flavor little', 'flavor local', 'flavor looking', 'flavor lot', 'flavor love', 'flavor low', 'flavor made', 'flavor make', 'flavor makes', 'flavor many', 'flavor may', 'flavor maybe', 'flavor meat', 'flavor might', 'flavor mild', 'flavor milk', 'flavor mint', 'flavor mix', 'flavor mixed', 'flavor much', 'flavor must', 'flavor natural', 'flavor need', 'flavor never', 'flavor next', 'flavor nice', 'flavor no', 'flavor none', 'flavor not', 'flavor nothing', 'flavor oh', 'flavor ok', 'flavor okay', 'flavor one', 'flavor ones', 'flavor opinion', 'flavor order', 'flavor organic', 'flavor others', 'flavor overall', 'flavor pack', 'flavor packaging', 'flavor packet', 'flavor people', 'flavor perfect', 'flavor perfectly', 'flavor personally', 'flavor plain', 'flavor pleasant', 'flavor plus', 'flavor prefer', 'flavor pretty', 'flavor price', 'flavor probably', 'flavor problem', 'flavor product', 'flavor profile', 'flavor put', 'flavor quality', 'flavor quite', 'flavor rather', 'flavor real', 'flavor really', 'flavor refreshing', 'flavor regular', 'flavor remember', 'flavor reminds', 'flavor rice', 'flavor rich', 'flavor right', 'flavor robust', 'flavor salt', 'flavor satisfying', 'flavor sauce', 'flavor say', 'flavor scent', 'flavor second', 'flavor seems', 'flavor similar', 'flavor simply', 'flavor since', 'flavor slight', 'flavor slightly', 'flavor small', 'flavor smell', 'flavor smells', 'flavor smooth', 'flavor something', 'flavor sometimes', 'flavor still', 'flavor strawberry', 'flavor strength', 'flavor strong', 'flavor stronger', 'flavor stuff', 'flavor subtle', 'flavor sugar', 'flavor sure', 'flavor sweet', 'flavor sweetness', 'flavor take', 'flavor takes', 'flavor taste', 'flavor tasted', 'flavor tastes', 'flavor tasty', 'flavor tea', 'flavor texture', 'flavor think', 'flavor though', 'flavor thought', 'flavor time', 'flavor tried', 'flavor try', 'flavor two', 'flavor unique', 'flavor unlike', 'flavor use', 'flavor used', 'flavor using', 'flavor usually', 'flavor vanilla', 'flavor variety', 'flavor want', 'flavor water', 'flavor way', 'flavor weak', 'flavor well', 'flavor went', 'flavor whatever', 'flavor whatsoever', 'flavor whole', 'flavor wife', 'flavor wise', 'flavor wish', 'flavor without', 'flavor wonderful', 'flavor works', 'flavor would', 'flavor yet', 'flavored', 'flavored black', 'flavored candy', 'flavored chips', 'flavored coffee', 'flavored coffees', 'flavored creamer', 'flavored cup', 'flavored cups', 'flavored drink', 'flavored drinks', 'flavored green', 'flavored liquid', 'flavored not', 'flavored one', 'flavored ones', 'flavored syrup', 'flavored syrups', 'flavored tea', 'flavored teas', 'flavored water', 'flavored waters', 'flavorful', 'flavorful coffee', 'flavorful cup', 'flavorful enough', 'flavorful good', 'flavorful great', 'flavorful like', 'flavorful not', 'flavorful taste', 'flavorful tea', 'flavorful without', 'flavoring', 'flavoring not', 'flavorings', 'flavorless', 'flavors', 'flavors added', 'flavors also', 'flavors available', 'flavors awesome', 'flavors best', 'flavors bit', 'flavors blend', 'flavors chocolate', 'flavors choose', 'flavors coffee', 'flavors colors', 'flavors come', 'flavors company', 'flavors could', 'flavors delicious', 'flavors especially', 'flavors even', 'flavors except', 'flavors far', 'flavors favorite', 'flavors found', 'flavors good', 'flavors got', 'flavors great', 'flavors however', 'flavors including', 'flavors ingredients', 'flavors instead', 'flavors like', 'flavors little', 'flavors love', 'flavors may', 'flavors natural', 'flavors no', 'flavors not', 'flavors offered', 'flavors one', 'flavors pretty', 'flavors probably', 'flavors quite', 'flavors really', 'flavors see', 'flavors since', 'flavors still', 'flavors taste', 'flavors tea', 'flavors textures', 'flavors though', 'flavors together', 'flavors tried', 'flavors try', 'flavors use', 'flavors used', 'flavors variety', 'flavors well', 'flavors without', 'flavors wonderful', 'flavors would', 'flavors yet', 'flavour', 'flavoured', 'flavourful', 'flavours', 'flaw', 'flawless', 'flax', 'flax seed', 'flax seeds', 'flaxseed', 'flaxseed meal', 'flaxseeds', 'flea', 'fleas', 'flecks', 'flesh', 'flew', 'flexibility', 'flexible', 'flies', 'flight', 'flimsy', 'flip', 'flipped', 'flipping', 'float', 'float top', 'floating', 'floating around', 'floats', 'floor', 'floored', 'floors', 'flops', 'floral', 'florida', 'floss', 'flossies', 'flour', 'flour also', 'flour baking', 'flour blend', 'flour bread', 'flour cup', 'flour good', 'flour great', 'flour make', 'flour makes', 'flour mix', 'flour not', 'flour organic', 'flour sugar', 'flour use', 'flour used', 'flour water', 'flour wheat', 'flour white', 'flour whole', 'flours', 'flow', 'flower', 'flowering', 'flowers', 'flowers not', 'flowery', 'flowing', 'flows', 'flu', 'flu season', 'fluctuate', 'fluff', 'fluffier', 'fluffy', 'fluid', 'fluid ounce', 'fluids', 'fluke', 'fluoride', 'flush', 'fly', 'flying', 'fo', 'foam', 'foamy', 'focus', 'focused', 'focusing', 'fog', 'fog chaser', 'foil', 'foil bag', 'foil lined', 'foil pouch', 'foil wrapped', 'fold', 'folded', 'folger', 'folgers', 'folgers coffee', 'folgers maxwell', 'folic', 'folic acid', 'folks', 'folks not', 'follow', 'follow directions', 'follow instructions', 'followed', 'followed directions', 'followed instructions', 'followed recipe', 'following', 'following day', 'following directions', 'following ingredients', 'follows', 'fond', 'fond memories', 'fondant', 'fong', 'food', 'food absolutely', 'food actually', 'food add', 'food added', 'food allergies', 'food allergy', 'food almost', 'food also', 'food always', 'food amazing', 'food amazon', 'food anyone', 'food ate', 'food available', 'food baby', 'food back', 'food bag', 'food bank', 'food bars', 'food best', 'food better', 'food blue', 'food bought', 'food bowl', 'food brand', 'food brands', 'food breakfast', 'food buy', 'food cat', 'food cats', 'food chain', 'food chicken', 'food choice', 'food coloring', 'food come', 'food comes', 'food companies', 'food company', 'food could', 'food couple', 'food course', 'food day', 'food days', 'food decided', 'food delivered', 'food diet', 'food dish', 'food dog', 'food dogs', 'food drink', 'food dry', 'food easy', 'food eat', 'food eating', 'food eats', 'food enjoy', 'food especially', 'food even', 'food ever', 'food every', 'food expensive', 'food fact', 'food feed', 'food feeding', 'food feel', 'food finally', 'food find', 'food fine', 'food first', 'food food', 'food found', 'food fresh', 'food gave', 'food get', 'food gets', 'food getting', 'food give', 'food given', 'food go', 'food goes', 'food going', 'food good', 'food got', 'food grade', 'food grain', 'food great', 'food hand', 'food happy', 'food hard', 'food healthy', 'food high', 'food highly', 'food home', 'food however', 'food ingredients', 'food instead', 'food item', 'food items', 'food keep', 'food kind', 'food know', 'food last', 'food less', 'food like', 'food likes', 'food little', 'food local', 'food look', 'food looks', 'food lot', 'food love', 'food loves', 'food low', 'food made', 'food make', 'food maker', 'food makes', 'food many', 'food market', 'food may', 'food meat', 'food mix', 'food mixed', 'food month', 'food months', 'food much', 'food network', 'food never', 'food nice', 'food no', 'food not', 'food nutrition', 'food offered', 'food often', 'food one', 'food online', 'food ordered', 'food organic', 'food pantry', 'food past', 'food perfect', 'food pet', 'food picky', 'food pretty', 'food price', 'food probably', 'food processor', 'food product', 'food products', 'food purchased', 'food put', 'food quality', 'food real', 'food really', 'food recalls', 'food recommend', 'food recommended', 'food research', 'food right', 'food safety', 'food section', 'food see', 'food seemed', 'food seems', 'food sensitivities', 'food several', 'food since', 'food small', 'food smell', 'food smells', 'food something', 'food sometimes', 'food source', 'food started', 'food still', 'food stopped', 'food storage', 'food store', 'food stores', 'food stuff', 'food supplement', 'food supply', 'food take', 'food taste', 'food tastes', 'food tasty', 'food think', 'food though', 'food thought', 'food three', 'food time', 'food treat', 'food treats', 'food tried', 'food try', 'food trying', 'food twice', 'food two', 'food use', 'food used', 'food using', 'food usually', 'food variety', 'food vet', 'food want', 'food wanted', 'food water', 'food way', 'food well', 'food went', 'food wet', 'food without', 'food works', 'food worth', 'food would', 'food year', 'food years', 'foodie', 'foodies', 'foods', 'foods also', 'foods amazon', 'foods brand', 'foods could', 'foods eat', 'foods especially', 'foods even', 'foods ever', 'foods expensive', 'foods find', 'foods found', 'foods give', 'foods good', 'foods great', 'foods including', 'foods like', 'foods love', 'foods made', 'foods make', 'foods market', 'foods much', 'foods never', 'foods no', 'foods not', 'foods one', 'foods really', 'foods since', 'foods store', 'foods tried', 'foods try', 'foods use', 'foods used', 'foods well', 'foods without', 'foods would', 'foods years', 'fool', 'fooled', 'foot', 'football', 'footprint', 'forbidden', 'force', 'forced', 'forced buy', 'forces', 'forcing', 'foreign', 'foremost', 'forest', 'forever', 'forewarned', 'forget', 'forgive', 'forgiving', 'forgot', 'forgotten', 'fork', 'form', 'form not', 'format', 'formed', 'former', 'formerly', 'forming', 'forms', 'formula', 'formula baby', 'formula change', 'formula changed', 'formula no', 'formula not', 'formula one', 'formula since', 'formula son', 'formulas', 'formulated', 'formulation', 'forth', 'fortified', 'fortified vitamins', 'fortunate', 'fortunate enough', 'fortunately', 'fortunately amazon', 'fortunately not', 'fortune', 'fortune cookies', 'forty', 'forum', 'forward', 'forward eating', 'forward getting', 'forward morning', 'forward next', 'forward trying', 'forward using', 'foster', 'foul', 'found', 'found actually', 'found adding', 'found also', 'found amazon', 'found another', 'found anything', 'found anywhere', 'found available', 'found bag', 'found best', 'found better', 'found bit', 'found bought', 'found box', 'found brand', 'found case', 'found cereal', 'found cheaper', 'found chocolate', 'found coffee', 'found cookies', 'found costco', 'found could', 'found delicious', 'found difficult', 'found dog', 'found dry', 'found enjoy', 'found exact', 'found excellent', 'found far', 'found favorite', 'found first', 'found flavor', 'found food', 'found get', 'found good', 'found got', 'found great', 'found green', 'found grocery', 'found hard', 'found health', 'found item', 'found like', 'found line', 'found little', 'found local', 'found locally', 'found lot', 'found made', 'found make', 'found many', 'found mix', 'found much', 'found needed', 'found new', 'found nice', 'found no', 'found not', 'found nothing', 'found one', 'found online', 'found order', 'found ordered', 'found perfect', 'found place', 'found pretty', 'found price', 'found product', 'found quality', 'found quite', 'found really', 'found recipe', 'found regular', 'found right', 'found several', 'found site', 'found something', 'found store', 'found stores', 'found stuff', 'found sugar', 'found sweet', 'found taste', 'found tastes', 'found tasty', 'found tea', 'found tried', 'found two', 'found use', 'found using', 'found walmart', 'found way', 'found website', 'found whole', 'found wonderful', 'found works', 'found yet', 'foundation', 'founded', 'fountain', 'four', 'four bags', 'four boxes', 'four cats', 'four cups', 'four days', 'four different', 'four dogs', 'four dollars', 'four five', 'four flavors', 'four hours', 'four ingredients', 'four minutes', 'four months', 'four pack', 'four people', 'four star', 'four stars', 'four times', 'four weeks', 'four year', 'four years', 'fourth', 'fox', 'fraction', 'fraction cost', 'fraction price', 'fragile', 'fragments', 'fragrance', 'fragrant', 'frame', 'france', 'francisco', 'francisco bay', 'frank', 'frankly', 'frankly not', 'franks', 'frappe', 'fraud', 'freak', 'freakin', 'freaking', 'fred', 'free', 'free also', 'free alternative', 'free amazon', 'free baking', 'free bread', 'free breads', 'free cake', 'free candy', 'free cans', 'free casein', 'free cereal', 'free cereals', 'free chai', 'free charge', 'free chocolate', 'free cookie', 'free cookies', 'free corn', 'free crackers', 'free dairy', 'free delivery', 'free diet', 'free dog', 'free drink', 'free dry', 'free even', 'free facility', 'free family', 'free flavors', 'free flour', 'free flours', 'free food', 'free foods', 'free gluten', 'free good', 'free granola', 'free great', 'free gum', 'free hard', 'free herbal', 'free like', 'free love', 'free low', 'free made', 'free makes', 'free milk', 'free mix', 'free mixes', 'free natural', 'free no', 'free non', 'free not', 'free nut', 'free oats', 'free one', 'free organic', 'free packaging', 'free pancakes', 'free pantry', 'free pasta', 'free pastas', 'free pizza', 'free prime', 'free product', 'free products', 'free range', 'free really', 'free sample', 'free samples', 'free shipping', 'free since', 'free snack', 'free snacks', 'free soy', 'free still', 'free stuff', 'free sugar', 'free super', 'free syrup', 'free syrups', 'free taste', 'free tastes', 'free tea', 'free treat', 'free treats', 'free vanilla', 'free vegan', 'free version', 'free well', 'free wheat', 'free whole', 'free would', 'free years', 'freedom', 'freely', 'freeze', 'freeze dried', 'freezer', 'freezer bags', 'freezer keep', 'freezer take', 'freezes', 'freezes well', 'freezing', 'freight', 'french', 'french bread', 'french fries', 'french market', 'french press', 'french roast', 'french roasts', 'french toast', 'french vanilla', 'frequency', 'frequent', 'frequently', 'frequently use', 'fresca', 'fresh', 'fresh also', 'fresh always', 'fresh arrived', 'fresh baked', 'fresh basil', 'fresh beans', 'fresh berries', 'fresh bread', 'fresh brewed', 'fresh chewy', 'fresh clean', 'fresh coconut', 'fresh coffee', 'fresh crisp', 'fresh crunchy', 'fresh cup', 'fresh delicious', 'fresh easy', 'fresh even', 'fresh every', 'fresh flavor', 'fresh flavorful', 'fresh food', 'fresh fragrant', 'fresh frozen', 'fresh fruit', 'fresh fruits', 'fresh garlic', 'fresh ginger', 'fresh good', 'fresh great', 'fresh green', 'fresh ground', 'fresh herbs', 'fresh ingredients', 'fresh lemon', 'fresh like', 'fresh long', 'fresh longer', 'fresh love', 'fresh made', 'fresh market', 'fresh milk', 'fresh mint', 'fresh nice', 'fresh no', 'fresh not', 'fresh one', 'fresh ones', 'fresh order', 'fresh organic', 'fresh oven', 'fresh product', 'fresh ready', 'fresh roasted', 'fresh smelling', 'fresh step', 'fresh still', 'fresh strawberries', 'fresh sweet', 'fresh taste', 'fresh tasted', 'fresh tasting', 'fresh tasty', 'fresh time', 'fresh tomato', 'fresh tomatoes', 'fresh use', 'fresh veggies', 'fresh water', 'fresh well', 'fresh whole', 'fresh would', 'fresh yummy', 'freshen', 'freshen breath', 'freshener', 'fresher', 'freshest', 'freshly', 'freshly brewed', 'freshly ground', 'freshly made', 'freshness', 'friday', 'friday sale', 'fridge', 'fridge not', 'fried', 'fried chicken', 'fried rice', 'friend', 'friend bought', 'friend brought', 'friend gave', 'friend house', 'friend introduced', 'friend loved', 'friend loves', 'friend mine', 'friend not', 'friend recommended', 'friend said', 'friend sent', 'friend suggested', 'friend told', 'friendly', 'friends', 'friends also', 'friends always', 'friends christmas', 'friends co', 'friends come', 'friends enjoy', 'friends family', 'friends house', 'friends like', 'friends love', 'friends loved', 'friends not', 'friends try', 'friends would', 'fries', 'frig', 'frise', 'friskies', 'frito', 'fritos', 'frizz', 'frizzy', 'fromm', 'front', 'front door', 'front not', 'front package', 'frontier', 'frost', 'frosted', 'frosted flakes', 'frosted mini', 'frosting', 'froth', 'frothed', 'frothy', 'froze', 'frozen', 'frozen food', 'frozen fresh', 'frozen fruit', 'frozen vegetables', 'frozen yogurt', 'fructose', 'fructose corn', 'frugal', 'fruit', 'fruit bits', 'fruit cake', 'fruit flavor', 'fruit flavored', 'fruit flavors', 'fruit good', 'fruit great', 'fruit juice', 'fruit juices', 'fruit leather', 'fruit leathers', 'fruit like', 'fruit not', 'fruit nut', 'fruit nuts', 'fruit pouches', 'fruit punch', 'fruit really', 'fruit roll', 'fruit salad', 'fruit snack', 'fruit snacks', 'fruit spread', 'fruit sweet', 'fruit taste', 'fruit tastes', 'fruit tea', 'fruit thins', 'fruit vegetable', 'fruit veggie', 'fruit veggies', 'fruit would', 'fruit yogurt', 'fruitables', 'fruitcake', 'fruitcakes', 'fruitiness', 'fruits', 'fruits like', 'fruits not', 'fruits nuts', 'fruits vegetables', 'fruits veggies', 'fruity', 'fruity flavor', 'fruity flavors', 'fruity not', 'fruity taste', 'frustrated', 'frustrating', 'frustration', 'fry', 'frying', 'frying pan', 'fudge', 'fudge center', 'fudgy', 'fuel', 'fuji', 'fulfill', 'fulfilled', 'fulfilled amazon', 'fulfilling', 'full', 'full amount', 'full bodied', 'full body', 'full box', 'full coffee', 'full cup', 'full day', 'full disclosure', 'full energy', 'full fat', 'full fiber', 'full flavor', 'full flavored', 'full good', 'full leaf', 'full meal', 'full not', 'full pot', 'full preservatives', 'full price', 'full protein', 'full refund', 'full rich', 'full serving', 'full size', 'full sized', 'full strength', 'full sugar', 'full taste', 'full time', 'full vitamins', 'fuller', 'fulls', 'fully', 'fully cooked', 'fun', 'fun easy', 'fun eat', 'fun gift', 'fun try', 'fun way', 'function', 'functional', 'functions', 'fund', 'fungus', 'funky', 'funky aftertaste', 'funky monkey', 'funky taste', 'funny', 'funny aftertaste', 'funny taste', 'funny thing', 'fur', 'furniture', 'furry', 'furthermore', 'fusion', 'fusions', 'fuss', 'fussiness', 'fussy', 'fussy eater', 'future', 'future not', 'future use', 'fuzzy', 'fyi', 'ga', 'gadget', 'gag', 'gag gift', 'gagged', 'gaggia', 'gagging', 'gain', 'gain weight', 'gained', 'gained weight', 'gaining', 'gaining weight', 'gal', 'gallon', 'gallon milk', 'gallon size', 'gallon water', 'gallons', 'gamble', 'game', 'games', 'gap', 'garage', 'garbage', 'garbage not', 'garbanzo', 'garbanzo beans', 'garden', 'garden greens', 'gardening', 'gardens', 'garlic', 'garlic bread', 'garlic flavor', 'garlic not', 'garlic onion', 'garlic powder', 'garlic salt', 'garlic taste', 'garlicky', 'garnish', 'gary', 'gary peterson', 'gas', 'gas bloating', 'gas not', 'gas station', 'gas stations', 'gasoline', 'gasp', 'gassy', 'gastric', 'gastric bypass', 'gastric distress', 'gastrointestinal', 'gather', 'gathering', 'gatherings', 'gatorade', 'gauge', 'gave', 'gave away', 'gave bag', 'gave box', 'gave christmas', 'gave coffee', 'gave dog', 'gave four', 'gave friend', 'gave friends', 'gave gift', 'gave good', 'gave great', 'gave little', 'gave one', 'gave product', 'gave rest', 'gave shot', 'gave star', 'gave stars', 'gave tea', 'gave try', 'gave two', 'gave us', 'gear', 'geared', 'gee', 'gel', 'gelatin', 'gelatinous', 'gels', 'gem', 'gems', 'general', 'general mills', 'general not', 'generally', 'generally like', 'generally love', 'generally not', 'generally prefer', 'generated', 'generation', 'generations', 'generic', 'generic brand', 'generous', 'generous amount', 'generously', 'genetic', 'genetically', 'genetically engineered', 'genetically modified', 'genius', 'gentle', 'gentlease', 'gentleman', 'gently', 'genuine', 'genuinely', 'george', 'georgia', 'gerber', 'gerd', 'germ', 'german', 'german chocolate', 'german shepard', 'german shepherd', 'german shepherds', 'germany', 'germinate', 'germinated', 'get', 'get addicted', 'get also', 'get amazon', 'get amount', 'get another', 'get anymore', 'get anything', 'get anywhere', 'get around', 'get away', 'get back', 'get bad', 'get bag', 'get bags', 'get bed', 'get benefits', 'get best', 'get better', 'get big', 'get bit', 'get bitter', 'get bored', 'get bottle', 'get bottles', 'get bottom', 'get box', 'get boxes', 'get brands', 'get bulk', 'get buy', 'get candy', 'get cans', 'get case', 'get chance', 'get cheaper', 'get chocolate', 'get close', 'get coffee', 'get compliments', 'get costco', 'get couple', 'get craving', 'get creative', 'get cup', 'get cups', 'get daily', 'get dark', 'get day', 'get days', 'get decent', 'get delicious', 'get delivered', 'get different', 'get discount', 'get dog', 'get dogs', 'get dried', 'get drink', 'get dry', 'get eat', 'get eaten', 'get eating', 'get enjoy', 'get enough', 'get even', 'get every', 'get excited', 'get expensive', 'get extra', 'get favorite', 'get fiber', 'get first', 'get five', 'get fix', 'get flavor', 'get food', 'get four', 'get free', 'get fresh', 'get full', 'get get', 'get go', 'get going', 'get good', 'get got', 'get great', 'get grocery', 'get half', 'get hands', 'get hang', 'get hard', 'get health', 'get healthy', 'get high', 'get hint', 'get home', 'get hooked', 'get hot', 'get house', 'get hungry', 'get idea', 'get item', 'get jar', 'get kids', 'get kind', 'get large', 'get larger', 'get last', 'get least', 'get less', 'get like', 'get little', 'get live', 'get local', 'get locally', 'get lot', 'get lots', 'get love', 'get low', 'get mail', 'get make', 'get many', 'get mix', 'get money', 'get mouth', 'get much', 'get mushy', 'get natural', 'get new', 'get nice', 'get no', 'get not', 'get often', 'get oil', 'get old', 'get older', 'get one', 'get online', 'get open', 'get order', 'get ordered', 'get original', 'get oz', 'get pack', 'get package', 'get past', 'get pay', 'get people', 'get perfect', 'get picture', 'get pretty', 'get price', 'get product', 'get protein', 'get put', 'get quite', 'get ready', 'get real', 'get really', 'get refund', 'get regular', 'get restaurant', 'get rid', 'get right', 'get sale', 'get servings', 'get shipped', 'get sick', 'get six', 'get sleep', 'get small', 'get smaller', 'get soft', 'get soggy', 'get someone', 'get something', 'get stale', 'get starbucks', 'get stars', 'get started', 'get sticky', 'get still', 'get store', 'get stores', 'get strong', 'get stuck', 'get stuff', 'get subscribe', 'get subscription', 'get sugar', 'get super', 'get supermarket', 'get sweet', 'get take', 'get taste', 'get tea', 'get things', 'get three', 'get thru', 'get time', 'get tired', 'get together', 'get treat', 'get treats', 'get try', 'get two', 'get us', 'get use', 'get used', 'get vanilla', 'get variety', 'get walmart', 'get want', 'get water', 'get way', 'get weird', 'get well', 'get whole', 'get without', 'get work', 'get would', 'get wrong', 'gets', 'gets better', 'gets excited', 'gets four', 'gets going', 'gets hard', 'gets little', 'gets low', 'gets much', 'gets old', 'gets one', 'gets really', 'gets stars', 'gets stuck', 'gets two', 'gets way', 'getting', 'getting amazon', 'getting another', 'getting back', 'getting better', 'getting coffee', 'getting enough', 'getting expensive', 'getting food', 'getting good', 'getting great', 'getting hard', 'getting harder', 'getting little', 'getting local', 'getting lot', 'getting low', 'getting much', 'getting not', 'getting older', 'getting one', 'getting product', 'getting ready', 'getting rid', 'getting sick', 'getting something', 'getting stale', 'getting tired', 'getting treat', 'getting used', 'gevalia', 'gevalia coffee', 'gf', 'gf bread', 'gf diet', 'gf foods', 'gf mix', 'gf pasta', 'gf products', 'gfcf', 'ghee', 'ghiradelli', 'ghirardelli', 'ghirardelli chocolate', 'ghost', 'ghost pepper', 'ghost peppers', 'gi', 'giant', 'gift', 'gift anyone', 'gift arrived', 'gift basket', 'gift baskets', 'gift box', 'gift card', 'gift christmas', 'gift daughter', 'gift family', 'gift father', 'gift friend', 'gift friends', 'gift give', 'gift giving', 'gift husband', 'gift idea', 'gift item', 'gift loved', 'gift mom', 'gift not', 'gift occasion', 'gift one', 'gift pack', 'gift really', 'gift recipient', 'gift sent', 'gift set', 'gift someone', 'gift son', 'gift tea', 'gift well', 'gift wife', 'gifted', 'gifting', 'gifts', 'gifts christmas', 'gifts friends', 'gigantic', 'gimmick', 'gimmicky', 'gin', 'ginger', 'ginger ale', 'ginger beer', 'ginger candy', 'ginger chews', 'ginger cookie', 'ginger cookies', 'ginger flavor', 'ginger flavored', 'ginger ginger', 'ginger lemon', 'ginger not', 'ginger peach', 'ginger people', 'ginger root', 'ginger snap', 'ginger snaps', 'ginger taste', 'ginger tea', 'gingerbread', 'gingery', 'ginseng', 'girl', 'girl scout', 'girlfriend', 'girlfriends', 'girls', 'girls love', 'give', 'give another', 'give away', 'give baby', 'give bit', 'give boost', 'give cat', 'give cats', 'give chance', 'give children', 'give chocolate', 'give coffee', 'give credit', 'give dog', 'give dogs', 'give em', 'give energy', 'give enough', 'give extra', 'give five', 'give food', 'give four', 'give friends', 'give gift', 'give gifts', 'give go', 'give good', 'give great', 'give half', 'give kids', 'give little', 'give many', 'give much', 'give nice', 'give no', 'give not', 'give one', 'give product', 'give rest', 'give shot', 'give small', 'give something', 'give star', 'give stars', 'give stuff', 'give taste', 'give tea', 'give three', 'give thumbs', 'give time', 'give treat', 'give treats', 'give try', 'give two', 'give us', 'give whirl', 'give zero', 'given', 'given away', 'given choice', 'given dog', 'given five', 'given gift', 'given gifts', 'given not', 'given one', 'given price', 'given product', 'given stars', 'given us', 'gives', 'gives boost', 'gives energy', 'gives enough', 'gives extra', 'gives good', 'gives great', 'gives little', 'gives nice', 'gives one', 'gives something', 'gives us', 'gives wonderful', 'giving', 'giving away', 'giving baby', 'giving dog', 'giving dogs', 'giving four', 'giving gift', 'giving kids', 'giving one', 'giving product', 'giving stars', 'giving treats', 'giving try', 'giving two', 'giving us', 'glace', 'glad', 'glad able', 'glad amazon', 'glad available', 'glad bought', 'glad buy', 'glad could', 'glad discovered', 'glad finally', 'glad find', 'glad found', 'glad get', 'glad got', 'glad know', 'glad not', 'glad order', 'glad ordered', 'glad purchased', 'glad see', 'glad still', 'glad took', 'glad tried', 'gladly', 'glance', 'glass', 'glass bottle', 'glass bottles', 'glass cold', 'glass container', 'glass ice', 'glass jar', 'glass jars', 'glass milk', 'glass not', 'glass tea', 'glass water', 'glass wine', 'glasses', 'glaze', 'glazed', 'glazed donut', 'glen', 'glob', 'global', 'gloria', 'gloria jean', 'gloria jeans', 'glory', 'glossy', 'glove', 'gloves', 'glow', 'glowing', 'glowing reviews', 'glucosamine', 'glucosamine chondroitin', 'glucose', 'glue', 'glued', 'glutamate', 'glutamic', 'gluten', 'gluten allergy', 'gluten dairy', 'gluten eating', 'gluten free', 'gluten intolerance', 'gluten intolerant', 'gluten meal', 'gluten no', 'gluten not', 'gluten sensitive', 'gluten soy', 'gluten wheat', 'glutino', 'glycemic', 'glycemic index', 'glycerin', 'glycol', 'gm', 'gmo', 'gmo corn', 'gmo free', 'gmos', 'gnaw', 'gnawing', 'gnc', 'gnocchi', 'go', 'go ahead', 'go along', 'go also', 'go amazon', 'go another', 'go anywhere', 'go around', 'go away', 'go back', 'go bad', 'go bag', 'go bathroom', 'go bed', 'go better', 'go box', 'go brand', 'go breakfast', 'go buy', 'go coffee', 'go crazy', 'go day', 'go easy', 'go eat', 'go even', 'go far', 'go fast', 'go figure', 'go find', 'go get', 'go gluten', 'go good', 'go great', 'go grocery', 'go home', 'go lean', 'go like', 'go line', 'go little', 'go local', 'go long', 'go lot', 'go make', 'go much', 'go near', 'go no', 'go not', 'go nuts', 'go one', 'go online', 'go order', 'go outside', 'go overboard', 'go picnic', 'go pretty', 'go product', 'go quick', 'go quickly', 'go rancid', 'go really', 'go right', 'go sale', 'go shopping', 'go sleep', 'go snack', 'go something', 'go stale', 'go starbucks', 'go store', 'go taste', 'go tea', 'go thru', 'go together', 'go two', 'go want', 'go waste', 'go way', 'go well', 'go whole', 'go without', 'go work', 'go would', 'go wrong', 'goal', 'goals', 'goat', 'goat cheese', 'goat milk', 'goats', 'goats milk', 'gobble', 'gobbled', 'gobbles', 'gobbling', 'god', 'god bless', 'god knows', 'god send', 'godiva', 'gods', 'godsend', 'goes', 'goes away', 'goes back', 'goes bad', 'goes crazy', 'goes fast', 'goes great', 'goes long', 'goes not', 'goes nuts', 'goes one', 'goes really', 'goes sale', 'goes smooth', 'goes well', 'going', 'going add', 'going back', 'going bad', 'going bed', 'going buy', 'going coffee', 'going continue', 'going drink', 'going eat', 'going find', 'going get', 'going give', 'going gluten', 'going go', 'going good', 'going great', 'going keep', 'going last', 'going like', 'going local', 'going look', 'going love', 'going make', 'going morning', 'going not', 'going order', 'going pay', 'going purchase', 'going put', 'going say', 'going see', 'going stale', 'going stick', 'going store', 'going strong', 'going take', 'going taste', 'going try', 'going use', 'going way', 'going work', 'goji', 'goji berries', 'goji berry', 'gold', 'gold bears', 'gold box', 'gold kili', 'gold standard', 'golden', 'golden brown', 'golden color', 'golden honey', 'golden malted', 'golden raisins', 'golden retriever', 'golden retrievers', 'goldfish', 'golean', 'golf', 'gone', 'gone back', 'gone bad', 'gone no', 'gone not', 'gone one', 'gone within', 'gonna', 'goo', 'good', 'good actually', 'good add', 'good addictive', 'good addition', 'good almost', 'good alone', 'good also', 'good alternative', 'good although', 'good always', 'good amazon', 'good amount', 'good another', 'good anything', 'good aroma', 'good around', 'good ate', 'good baby', 'good bad', 'good baking', 'good balance', 'good bargain', 'good basic', 'good batch', 'good beans', 'good beef', 'good behavior', 'good best', 'good bet', 'good better', 'good big', 'good bit', 'good black', 'good blend', 'good body', 'good bold', 'good book', 'good bought', 'good box', 'good brand', 'good brands', 'good bread', 'good breakfast', 'good buy', 'good buying', 'good calories', 'good came', 'good candy', 'good canned', 'good cat', 'good cats', 'good cereal', 'good chance', 'good change', 'good cheap', 'good cheese', 'good chew', 'good chicken', 'good chili', 'good chips', 'good chocolate', 'good choice', 'good clean', 'good cocoa', 'good coffee', 'good cold', 'good combination', 'good company', 'good compared', 'good compromise', 'good condition', 'good considering', 'good consistency', 'good convenient', 'good cook', 'good cookie', 'good cookies', 'good cooking', 'good could', 'good crunch', 'good crunchy', 'good cup', 'good customer', 'good dark', 'good day', 'good deal', 'good decaf', 'good decided', 'good definitely', 'good delivery', 'good diet', 'good different', 'good dog', 'good dogs', 'good drink', 'good drinking', 'good dry', 'good earth', 'good easy', 'good eat', 'good eating', 'good eats', 'good either', 'good enjoy', 'good enough', 'good especially', 'good espresso', 'good even', 'good ever', 'good every', 'good everyday', 'good everyone', 'good everything', 'good excellent', 'good except', 'good expensive', 'good experience', 'good fact', 'good family', 'good far', 'good fast', 'good fat', 'good fats', 'good favorite', 'good feel', 'good fiber', 'good filling', 'good find', 'good first', 'good flavor', 'good flavored', 'good flavors', 'good food', 'good found', 'good french', 'good fresh', 'good friend', 'good friends', 'good fruit', 'good full', 'good gave', 'good get', 'good gets', 'good gift', 'good give', 'good giving', 'good glad', 'good gluten', 'good go', 'good going', 'good good', 'good got', 'good granola', 'good great', 'good green', 'good hair', 'good half', 'good happy', 'good hard', 'good health', 'good healthy', 'good heart', 'good high', 'good highly', 'good home', 'good homemade', 'good honey', 'good hope', 'good hot', 'good however', 'good husband', 'good ice', 'good iced', 'good idea', 'good ingredients', 'good item', 'good jerky', 'good job', 'good keep', 'good kick', 'good kids', 'good kind', 'good know', 'good knowing', 'good large', 'good last', 'good least', 'good less', 'good light', 'good like', 'good liked', 'good little', 'good long', 'good look', 'good looking', 'good love', 'good low', 'good luck', 'good made', 'good make', 'good makes', 'good making', 'good many', 'good may', 'good maybe', 'good meal', 'good medium', 'good might', 'good mild', 'good milk', 'good minutes', 'good mix', 'good mixed', 'good months', 'good morning', 'good much', 'good must', 'good natural', 'good need', 'good never', 'good news', 'good next', 'good nice', 'good night', 'good no', 'good non', 'good not', 'good nothing', 'good nutrition', 'good oatmeal', 'good oil', 'good ol', 'good old', 'good ole', 'good olive', 'good one', 'good ones', 'good opinion', 'good option', 'good order', 'good ordered', 'good organic', 'good original', 'good overall', 'good package', 'good packaging', 'good part', 'good pasta', 'good peanut', 'good people', 'good perfect', 'good place', 'good plain', 'good popcorn', 'good portion', 'good prefer', 'good price', 'good prices', 'good probably', 'good problem', 'good product', 'good products', 'good protein', 'good purchase', 'good purchased', 'good put', 'good quality', 'good quick', 'good quite', 'good real', 'good really', 'good reason', 'good reasonably', 'good recipe', 'good recipes', 'good recommend', 'good refreshing', 'good regular', 'good remember', 'good replacement', 'good results', 'good review', 'good reviews', 'good rice', 'good rich', 'good right', 'good said', 'good salt', 'good sauce', 'good say', 'good see', 'good selection', 'good sense', 'good served', 'good service', 'good shape', 'good shipping', 'good side', 'good sign', 'good since', 'good size', 'good sized', 'good slightly', 'good small', 'good smell', 'good smells', 'good smooth', 'good snack', 'good soft', 'good solid', 'good someone', 'good something', 'good sometimes', 'good soup', 'good source', 'good spice', 'good spicy', 'good starbucks', 'good start', 'good still', 'good store', 'good strong', 'good stuff', 'good substitute', 'good sugar', 'good supply', 'good sure', 'good sweet', 'good take', 'good taste', 'good tasted', 'good tastes', 'good tasting', 'good tasty', 'good tea', 'good teeth', 'good texture', 'good thank', 'good thanks', 'good thing', 'good things', 'good think', 'good though', 'good thought', 'good three', 'good time', 'good top', 'good training', 'good treat', 'good treats', 'good tried', 'good true', 'good try', 'good trying', 'good tuna', 'good two', 'good unfortunately', 'good us', 'good use', 'good used', 'good using', 'good usually', 'good value', 'good vanilla', 'good variety', 'good want', 'good wanted', 'good water', 'good way', 'good well', 'good went', 'good white', 'good whole', 'good wish', 'good without', 'good work', 'good worth', 'good would', 'good years', 'good yes', 'goodbye', 'goodi', 'goodies', 'goodness', 'goodness amazon', 'goodness not', 'goods', 'goods not', 'gooey', 'google', 'google search', 'googled', 'goop', 'gopher', 'gopher trap', 'gophers', 'gopicnic', 'gorgeous', 'gormet', 'gosh', 'got', 'got addicted', 'got amazon', 'got another', 'got around', 'got back', 'got bad', 'got bag', 'got bags', 'got best', 'got better', 'got big', 'got box', 'got boxes', 'got case', 'got chance', 'got christmas', 'got coffee', 'got couple', 'got days', 'got dog', 'got enough', 'got excited', 'got fast', 'got first', 'got free', 'got gift', 'got good', 'got great', 'got home', 'got hooked', 'got husband', 'got item', 'got keurig', 'got kidding', 'got last', 'got little', 'got local', 'got lot', 'got lots', 'got mail', 'got mine', 'got money', 'got much', 'got new', 'got nice', 'got no', 'got not', 'got old', 'got older', 'got one', 'got order', 'got pack', 'got package', 'got pretty', 'got product', 'got quickly', 'got rave', 'got really', 'got rid', 'got right', 'got sale', 'got sample', 'got say', 'got second', 'got sick', 'got something', 'got stuck', 'got taste', 'got tea', 'got thinking', 'got three', 'got time', 'got tired', 'got today', 'got tried', 'got try', 'got two', 'got us', 'got used', 'got variety', 'got worse', 'gotta', 'gotta love', 'gotta say', 'gotta try', 'gotten', 'gotten bad', 'gotten sick', 'gotten tired', 'gotten used', 'gouging', 'goulash', 'gourmet', 'gourmet coffee', 'gourmet food', 'gout', 'government', 'goya', 'grab', 'grab bag', 'grab go', 'grab one', 'grabbed', 'grabbed one', 'grabbing', 'grabs', 'grace', 'grade', 'grade ingredients', 'grade syrup', 'grades', 'gradually', 'graduate', 'graham', 'graham cracker', 'graham crackers', 'graham flour', 'grahams', 'grail', 'grain', 'grain bread', 'grain brown', 'grain cereal', 'grain free', 'grain not', 'grain pasta', 'grain products', 'grain rice', 'grain rolled', 'grain salt', 'grain wheat', 'grained', 'grains', 'grains not', 'grainy', 'grainy texture', 'gram', 'gram fat', 'gram fiber', 'gram sugar', 'grams', 'grams carbohydrates', 'grams carbs', 'grams fat', 'grams fiber', 'grams per', 'grams protein', 'grams saturated', 'grams sugar', 'grams total', 'grams whole', 'gran', 'grand', 'grandchildren', 'grandchildren love', 'granddaughter', 'granddaughters', 'grande', 'grandfather', 'grandkids', 'grandkids love', 'grandma', 'grandma used', 'grandmother', 'grandmother used', 'grandpa', 'grandparents', 'grandson', 'grandson loves', 'granola', 'granola bar', 'granola bars', 'granola cereal', 'granola ever', 'granola not', 'granola tastes', 'granolas', 'granted', 'granted not', 'granular', 'granulated', 'granulated sugar', 'granules', 'grape', 'grape apple', 'grape flavor', 'grape juice', 'grape nuts', 'grape seed', 'grapefruit', 'grapefruit flavor', 'grapefruit juice', 'grapes', 'grapeseed', 'grass', 'grass fed', 'grass not', 'grassy', 'grate', 'grated', 'grated cheese', 'grated parmesan', 'grateful', 'gravies', 'gravy', 'gray', 'grease', 'greasy', 'greasy like', 'greasy not', 'great', 'great able', 'great actually', 'great add', 'great added', 'great addition', 'great afternoon', 'great almost', 'great also', 'great alternative', 'great although', 'great always', 'great amazon', 'great anything', 'great anytime', 'great aroma', 'great around', 'great arrived', 'great baby', 'great baking', 'great balance', 'great bargain', 'great base', 'great beer', 'great best', 'great better', 'great big', 'great black', 'great blend', 'great bold', 'great bonus', 'great bottle', 'great bought', 'great box', 'great brand', 'great bread', 'great breakfast', 'great buy', 'great buying', 'great candy', 'great carry', 'great cat', 'great cereal', 'great cheese', 'great chicken', 'great chili', 'great chocolate', 'great choice', 'great choices', 'great christmas', 'great cinnamon', 'great coconut', 'great coffee', 'great cold', 'great combination', 'great combo', 'great company', 'great compared', 'great condition', 'great consistency', 'great convenience', 'great convenient', 'great cook', 'great cookies', 'great cooking', 'great could', 'great crackers', 'great crunch', 'great cup', 'great customer', 'great dane', 'great dark', 'great daughter', 'great day', 'great deal', 'great definitely', 'great dessert', 'great diet', 'great dipping', 'great dog', 'great dogs', 'great drink', 'great easy', 'great eat', 'great either', 'great energy', 'great enjoy', 'great enough', 'great especially', 'great even', 'great every', 'great everyone', 'great everything', 'great experience', 'great fan', 'great far', 'great find', 'great first', 'great flavor', 'great flavored', 'great flavors', 'great food', 'great formula', 'great found', 'great free', 'great french', 'great fresh', 'great fruit', 'great full', 'great fun', 'great get', 'great getting', 'great gift', 'great gifts', 'great ginger', 'great gives', 'great giving', 'great glad', 'great gluten', 'great go', 'great good', 'great got', 'great great', 'great gum', 'great hand', 'great hard', 'great health', 'great healthy', 'great help', 'great high', 'great highly', 'great hit', 'great honey', 'great hot', 'great however', 'great husband', 'great ice', 'great iced', 'great idea', 'great ingredients', 'great item', 'great job', 'great keep', 'great keeps', 'great kids', 'great kind', 'great know', 'great last', 'great light', 'great like', 'great little', 'great long', 'great look', 'great looking', 'great lot', 'great love', 'great low', 'great lunch', 'great made', 'great make', 'great makes', 'great making', 'great many', 'great meal', 'great milk', 'great mix', 'great mixed', 'great morning', 'great much', 'great natural', 'great need', 'great never', 'great new', 'great nice', 'great no', 'great northern', 'great not', 'great nutrition', 'great nutritional', 'great nutty', 'great oatmeal', 'great one', 'great option', 'great order', 'great ordered', 'great ordering', 'great organic', 'great pack', 'great packaging', 'great pancakes', 'great party', 'great pasta', 'great peanut', 'great people', 'great perfect', 'great pick', 'great pizza', 'great plain', 'great plus', 'great popcorn', 'great price', 'great prices', 'great product', 'great products', 'great protein', 'great purchase', 'great put', 'great quality', 'great quick', 'great really', 'great recipe', 'great recipes', 'great recommend', 'great refreshing', 'great replacement', 'great results', 'great reviews', 'great rice', 'great rich', 'great right', 'great river', 'great salad', 'great salads', 'great sandwiches', 'great satisfying', 'great sauce', 'great savings', 'great seasoning', 'great see', 'great selection', 'great seller', 'great service', 'great shape', 'great shipping', 'great side', 'great since', 'great size', 'great skin', 'great small', 'great smell', 'great smells', 'great smooth', 'great snack', 'great snacking', 'great snacks', 'great solution', 'great son', 'great soup', 'great source', 'great start', 'great strong', 'great stuff', 'great substitute', 'great success', 'great sugar', 'great summer', 'great surprise', 'great sweet', 'great take', 'great taste', 'great tasted', 'great tastes', 'great tasting', 'great tasty', 'great tea', 'great teeth', 'great texture', 'great thank', 'great thanks', 'great thing', 'great things', 'great think', 'great though', 'great thought', 'great time', 'great toast', 'great toy', 'great training', 'great travel', 'great treat', 'great treats', 'great tried', 'great try', 'great us', 'great use', 'great used', 'great using', 'great usually', 'great value', 'great vanilla', 'great variety', 'great waffles', 'great wake', 'great want', 'great way', 'great well', 'great whole', 'great wish', 'great without', 'great wonderful', 'great work', 'great works', 'great would', 'great yogurt', 'greater', 'greatest', 'greati', 'greatly', 'greatly appreciated', 'greatly reduced', 'greatness', 'greece', 'greed', 'greedy', 'greek', 'greek yogurt', 'green', 'green apple', 'green bean', 'green beans', 'green black', 'green color', 'green food', 'green leaves', 'green mountain', 'green not', 'green ones', 'green onion', 'green onions', 'green pea', 'green peas', 'green pepper', 'green peppers', 'green rooibos', 'green salad', 'green smoothies', 'green tea', 'green teas', 'green white', 'greener', 'greenie', 'greenies', 'greenish', 'greens', 'grew', 'grew drinking', 'grew eating', 'grew not', 'grey', 'grey tea', 'grey teas', 'greyhound', 'griddle', 'grief', 'grill', 'grilled', 'grilled cheese', 'grilled chicken', 'grilled sirloin', 'grilling', 'grin', 'grind', 'grind beans', 'grind coffee', 'grind fine', 'grind fresh', 'grinder', 'grinders', 'grinding', 'grinding beans', 'grinding coffee', 'grinds', 'grip', 'gripe', 'gristle', 'grit', 'grits', 'grittiness', 'gritty', 'gritty like', 'gritty texture', 'groats', 'grocer', 'groceries', 'grocers', 'grocery', 'grocery chain', 'grocery favorites', 'grocery item', 'grocery items', 'grocery list', 'grocery shelves', 'grocery shopping', 'grocery store', 'grocery stores', 'grocery top', 'gross', 'gross not', 'grossly', 'ground', 'ground beans', 'ground beef', 'ground coffee', 'ground fine', 'ground flax', 'ground meat', 'ground not', 'ground pepper', 'ground turkey', 'ground whole', 'ground yellow', 'grounds', 'grounds coffee', 'grounds cup', 'group', 'groups', 'grove', 'grove square', 'grow', 'grower', 'growers', 'growing', 'grown', 'grown coffee', 'grown love', 'grows', 'growth', 'gsd', 'gu', 'guacamole', 'guar', 'guar gum', 'guarana', 'guarantee', 'guaranteed', 'guarantees', 'guatemalan', 'guava', 'guayaki', 'guess', 'guess could', 'guess get', 'guess good', 'guess like', 'guess no', 'guess not', 'guess one', 'guess really', 'guess would', 'guessed', 'guessing', 'guest', 'guests', 'guests love', 'guests not', 'guide', 'guidelines', 'guilt', 'guilt free', 'guiltless', 'guilty', 'guilty eating', 'guilty giving', 'guilty pleasure', 'guinea', 'gulp', 'gulped', 'gulps', 'gum', 'gum arabic', 'gum chew', 'gum ever', 'gum flavor', 'gum great', 'gum gum', 'gum hard', 'gum like', 'gum no', 'gum not', 'gum one', 'gum tastes', 'gumball', 'gumball machine', 'gumballs', 'gumbo', 'gummi', 'gummi bear', 'gummi bears', 'gummi candies', 'gummi candy', 'gummies', 'gummis', 'gummy', 'gummy bear', 'gummy bears', 'gummy candies', 'gummy candy', 'gummy texture', 'gummy worms', 'gums', 'gun', 'gunk', 'gunpowder', 'gunpowder green', 'gusto', 'gusto machine', 'gut', 'guy', 'guy not', 'guys', 'gym', 'gypsy', 'ha', 'ha ha', 'habanero', 'habanero peppers', 'habaneros', 'habit', 'habits', 'hagen', 'haha', 'hain', 'hair', 'hair also', 'hair beauty', 'hair conditioner', 'hair dry', 'hair feel', 'hair feeling', 'hair feels', 'hair felt', 'hair hair', 'hair look', 'hair looks', 'hair not', 'hair oil', 'hair pasta', 'hair product', 'hair products', 'hair really', 'hair scalp', 'hair shiny', 'hair skin', 'hair soft', 'hair would', 'hairball', 'hairballs', 'haired', 'hairs', 'halal', 'half', 'half amount', 'half bad', 'half bag', 'half bar', 'half bottle', 'half box', 'half calories', 'half cans', 'half coffee', 'half cost', 'half cup', 'half day', 'half dozen', 'half fat', 'half full', 'half gallon', 'half good', 'half half', 'half hour', 'half inch', 'half milk', 'half much', 'half not', 'half one', 'half order', 'half pack', 'half package', 'half packet', 'half pound', 'half price', 'half size', 'half sugar', 'half teaspoon', 'half time', 'half two', 'half water', 'half way', 'half would', 'half year', 'halfway', 'hall', 'halloween', 'halo', 'halva', 'halvah', 'halved', 'halves', 'ham', 'hamburger', 'hamburger helper', 'hamburgers', 'hamilton', 'hamilton beach', 'hammer', 'hand', 'hand great', 'hand made', 'hand not', 'hand quick', 'hand time', 'hand times', 'handed', 'handful', 'handfuls', 'handing', 'handle', 'handled', 'handles', 'handling', 'hands', 'hands best', 'hands favorite', 'hands not', 'handsome', 'handy', 'hang', 'hanging', 'hangover', 'hankering', 'hansen', 'happen', 'happen like', 'happen love', 'happened', 'happened upon', 'happening', 'happens', 'happier', 'happily', 'happily surprised', 'happiness', 'happy', 'happy able', 'happy also', 'happy amazon', 'happy baby', 'happy bought', 'happy buy', 'happy camper', 'happy cat', 'happy customer', 'happy definitely', 'happy discover', 'happy dog', 'happy eat', 'happy eating', 'happy finally', 'happy find', 'happy flavor', 'happy food', 'happy found', 'happy get', 'happy good', 'happy got', 'happy great', 'happy happy', 'happy healthy', 'happy hips', 'happy not', 'happy one', 'happy order', 'happy ordered', 'happy price', 'happy product', 'happy purchase', 'happy quality', 'happy report', 'happy results', 'happy say', 'happy see', 'happy taste', 'happy tea', 'happy try', 'happy would', 'happybaby', 'harbor', 'hard', 'hard beat', 'hard believe', 'hard break', 'hard candies', 'hard candy', 'hard chew', 'hard come', 'hard core', 'hard crunchy', 'hard describe', 'hard dry', 'hard eat', 'hard enough', 'hard explain', 'hard find', 'hard food', 'hard get', 'hard go', 'hard keep', 'hard like', 'hard make', 'hard not', 'hard open', 'hard plastic', 'hard please', 'hard pressed', 'hard put', 'hard rock', 'hard rocks', 'hard say', 'hard soft', 'hard stale', 'hard stop', 'hard tell', 'hard time', 'hard way', 'hard work', 'hardcore', 'harden', 'hardened', 'harder', 'harder find', 'harder get', 'harder harder', 'hardest', 'hardly', 'hardly ever', 'hardness', 'hardware', 'hardware store', 'hardy', 'haribo', 'haribo gummi', 'harm', 'harmful', 'harmful chemicals', 'harmony', 'harney', 'harney sons', 'harrogate', 'harry', 'harry potter', 'harsh', 'harshness', 'harvest', 'harvested', 'hash', 'hassle', 'hat', 'hatch', 'hate', 'hate say', 'hate taste', 'hate waste', 'hated', 'hates', 'haul', 'havanese', 'havent', 'havent tried', 'havoc', 'hawaii', 'hawaiian', 'hawaiian punch', 'hay', 'hazard', 'hazelnut', 'hazelnut coffee', 'hazelnut creamer', 'hazelnut flavor', 'hazelnut vanilla', 'hazelnuts', 'hazlenut', 'hcg', 'hcg diet', 'head', 'head not', 'head shoulders', 'headache', 'headaches', 'headed', 'heading', 'heads', 'heady', 'heal', 'healed', 'healing', 'health', 'health bars', 'health benefits', 'health conscious', 'health drink', 'health food', 'health foods', 'health issues', 'health not', 'health nut', 'health problems', 'health reasons', 'health valley', 'health well', 'health wise', 'healthfood', 'healthfood store', 'healthful', 'healthier', 'healthier alternative', 'healthier choice', 'healthier food', 'healthier option', 'healthier regular', 'healthier snack', 'healthier version', 'healthiest', 'healthiness', 'healthwise', 'healthy', 'healthy also', 'healthy alternative', 'healthy alternatives', 'healthy benefits', 'healthy breakfast', 'healthy cat', 'healthy cats', 'healthy cereal', 'healthy choice', 'healthy delicious', 'healthy diet', 'healthy dog', 'healthy dogs', 'healthy dose', 'healthy drink', 'healthy easy', 'healthy eating', 'healthy fat', 'healthy fats', 'healthy filling', 'healthy food', 'healthy foods', 'healthy good', 'healthy great', 'healthy happy', 'healthy however', 'healthy ingredients', 'healthy like', 'healthy little', 'healthy looking', 'healthy love', 'healthy low', 'healthy meal', 'healthy natural', 'healthy no', 'healthy not', 'healthy nutritious', 'healthy one', 'healthy option', 'healthy organic', 'healthy product', 'healthy really', 'healthy snack', 'healthy snacks', 'healthy stuff', 'healthy taste', 'healthy tastes', 'healthy tasty', 'healthy treat', 'healthy treats', 'healthy way', 'healthy weight', 'healthy well', 'healthy whole', 'healthy would', 'healty', 'heaping', 'hear', 'heard', 'heard brand', 'heard good', 'heard great', 'heard many', 'heard product', 'hearing', 'hears', 'heart', 'heart attack', 'heart disease', 'heart health', 'heart healthy', 'heartbeat', 'heartburn', 'heartier', 'heartily', 'heartily recommend', 'hearts', 'hearty', 'hearty flavor', 'heat', 'heat add', 'heat eat', 'heat flavor', 'heat level', 'heat like', 'heat microwave', 'heat not', 'heat serve', 'heat water', 'heated', 'heated microwave', 'heath', 'heating', 'heats', 'heaven', 'heavenly', 'heavens', 'heavier', 'heavily', 'heavy', 'heavy cream', 'heavy duty', 'heavy not', 'heavy plastic', 'heavy use', 'heb', 'heck', 'heck not', 'hectic', 'hefty', 'hehe', 'height', 'heinz', 'heinz ketchup', 'held', 'held together', 'hell', 'hello', 'help', 'help clean', 'help curb', 'help feel', 'help get', 'help keep', 'help lose', 'help make', 'help not', 'help prevent', 'help reduce', 'help stay', 'help teeth', 'help us', 'helped', 'helped get', 'helped make', 'helper', 'helpful', 'helping', 'helping keep', 'helps', 'helps get', 'helps keep', 'helps lot', 'helps maintain', 'helps make', 'helps not', 'helps relax', 'helps someone', 'hemp', 'hemp milk', 'hemp protein', 'hemp seed', 'hemp seeds', 'hence', 'hence stars', 'henry', 'herb', 'herb tea', 'herbal', 'herbal tea', 'herbal teas', 'herbicides', 'herbs', 'herbs spices', 'heritage', 'hero', 'herring', 'hershey', 'hershey bar', 'hershey chocolate', 'hersheys', 'hes', 'hesitant', 'hesitant buy', 'hesitant first', 'hesitant order', 'hesitant ordering', 'hesitant purchase', 'hesitant try', 'hesitate', 'hesitate buy', 'hesitate order', 'hesitate purchase', 'hesitate try', 'hesitated', 'hesitation', 'hexane', 'hey', 'hey not', 'hfcs', 'hi', 'hibiscus', 'hibiscus flowers', 'hibiscus tea', 'hickory', 'hickory smoked', 'hid', 'hidden', 'hide', 'hideous', 'hides', 'hiding', 'higgins', 'higgins burke', 'high', 'high amounts', 'high antioxidants', 'high blood', 'high calorie', 'high calories', 'high carb', 'high carbs', 'high cost', 'high end', 'high energy', 'high enough', 'high expectations', 'high fat', 'high fiber', 'high fructose', 'high heat', 'high hopes', 'high level', 'high levels', 'high low', 'high marks', 'high not', 'high potassium', 'high praise', 'high price', 'high priced', 'high prices', 'high protein', 'high quality', 'high reviews', 'high salt', 'high school', 'high shipping', 'high sodium', 'high sugar', 'high taste', 'high temperatures', 'high vitamin', 'high would', 'higher', 'higher cost', 'higher end', 'higher fiber', 'higher price', 'higher priced', 'higher protein', 'higher quality', 'highest', 'highest quality', 'highest recommendation', 'highland', 'highlight', 'highly', 'highly addictive', 'highly disappointed', 'highly enough', 'highly processed', 'highly rated', 'highly reccomend', 'highly reccommend', 'highly recomend', 'highly recommend', 'highly recommended', 'highly recommendedcfh', 'highly suggest', 'highway', 'hike', 'hikes', 'hiking', 'hilarious', 'hill', 'hills', 'himalayan', 'himalayan salt', 'hind', 'hint', 'hint chocolate', 'hint cinnamon', 'hint coconut', 'hint flavor', 'hint hint', 'hint honey', 'hint lemon', 'hint mint', 'hint salt', 'hint spice', 'hint sweetness', 'hint vanilla', 'hints', 'hip', 'hips', 'hispanic', 'history', 'hit', 'hit family', 'hit house', 'hit kids', 'hit miss', 'hit not', 'hit spot', 'hits', 'hits spot', 'hitting', 'hives', 'hmm', 'hmmm', 'hmmmm', 'ho', 'hobby', 'hockey', 'hodgson', 'hodgson mill', 'hold', 'hold candle', 'hold shape', 'hold together', 'hold well', 'holder', 'holders', 'holding', 'holds', 'holds together', 'holds well', 'hole', 'hole bottom', 'holes', 'holic', 'holiday', 'holiday gift', 'holiday gifts', 'holiday season', 'holidays', 'holistic', 'holistic select', 'holland', 'hollow', 'hollywood', 'holy', 'holy cow', 'holy grail', 'home', 'home also', 'home baked', 'home brew', 'home brewed', 'home cooked', 'home delivery', 'home every', 'home first', 'home good', 'home great', 'home like', 'home love', 'home made', 'home make', 'home no', 'home not', 'home one', 'home really', 'home run', 'home school', 'home store', 'home time', 'home town', 'home tried', 'home use', 'home without', 'home work', 'home would', 'homegrown', 'homeless', 'homemade', 'homemade bread', 'homemade cookies', 'homemade granola', 'homemade ice', 'homemade taste', 'homemade vanilla', 'homemade yogurt', 'homes', 'hometown', 'homework', 'honest', 'honest not', 'honestly', 'honestly not', 'honestly say', 'honesty', 'honey', 'honey also', 'honey best', 'honey bunches', 'honey cinnamon', 'honey delicious', 'honey ever', 'honey flavor', 'honey good', 'honey great', 'honey lemon', 'honey like', 'honey love', 'honey maid', 'honey milk', 'honey mustard', 'honey not', 'honey nut', 'honey oat', 'honey one', 'honey really', 'honey roasted', 'honey sugar', 'honey sweet', 'honey taste', 'honey tastes', 'honey tea', 'honey would', 'honeybush', 'honeycomb', 'honeys', 'honeysuckle', 'honor', 'hoo', 'hood', 'hook', 'hooked', 'hooked ever', 'hooked not', 'hooked since', 'hooked stuff', 'hooray', 'hooves', 'hope', 'hope amazon', 'hope come', 'hope continue', 'hope enjoy', 'hope find', 'hope get', 'hope helps', 'hope keep', 'hope like', 'hope never', 'hope not', 'hope review', 'hoped', 'hoped would', 'hopeful', 'hopefully', 'hopefully amazon', 'hopefully not', 'hopes', 'hopes product', 'hopes would', 'hoping', 'hoping amazon', 'hoping find', 'hoping get', 'hoping something', 'hoping would', 'hops', 'horizon', 'hormel', 'hormone', 'hormones', 'horrendous', 'horrible', 'horrible not', 'horrible taste', 'horrible would', 'horribly', 'horrid', 'horrific', 'horrified', 'horror', 'horse', 'horseradish', 'horses', 'hose', 'hospital', 'host', 'hostess', 'hostess gift', 'hostess gifts', 'hot', 'hot add', 'hot also', 'hot apple', 'hot beverage', 'hot beverages', 'hot breakfast', 'hot cereal', 'hot cereals', 'hot chili', 'hot chocolate', 'hot chocolates', 'hot cider', 'hot cinnamon', 'hot cocoa', 'hot coffee', 'hot cold', 'hot cup', 'hot day', 'hot days', 'hot dog', 'hot dogs', 'hot drink', 'hot drinks', 'hot enough', 'hot flavor', 'hot flavorful', 'hot food', 'hot foods', 'hot hot', 'hot iced', 'hot like', 'hot milk', 'hot mustard', 'hot not', 'hot oatmeal', 'hot pepper', 'hot peppers', 'hot really', 'hot right', 'hot sauce', 'hot sauces', 'hot sour', 'hot spice', 'hot spicy', 'hot spots', 'hot stuff', 'hot summer', 'hot sweet', 'hot tasty', 'hot tea', 'hot version', 'hot water', 'hot weather', 'hotdogs', 'hotel', 'hotels', 'hotness', 'hots', 'hotter', 'hottest', 'hottest sauce', 'hound', 'hounds', 'hour', 'hour energy', 'hour half', 'hour later', 'hour two', 'hours', 'hours away', 'hours day', 'hours eating', 'hours even', 'hours hours', 'hours later', 'hours not', 'hours sleep', 'house', 'house blend', 'house coffee', 'house could', 'house every', 'house favorite', 'house great', 'house international', 'house kids', 'house like', 'house love', 'house loves', 'house no', 'house not', 'house one', 'house smell', 'house smelled', 'house would', 'household', 'houses', 'houston', 'houtte', 'however', 'however add', 'however also', 'however amazon', 'however best', 'however bit', 'however bought', 'however buy', 'however case', 'however coffee', 'however could', 'however definitely', 'however disappointed', 'however even', 'however every', 'however find', 'however first', 'however flavor', 'however found', 'however get', 'however give', 'however good', 'however got', 'however great', 'however last', 'however like', 'however little', 'however looking', 'however love', 'however made', 'however make', 'however may', 'however much', 'however must', 'however never', 'however no', 'however not', 'however noticed', 'however one', 'however ordered', 'however package', 'however price', 'however product', 'however really', 'however received', 'however say', 'however since', 'however still', 'however taste', 'however tastes', 'however tea', 'however think', 'however time', 'however two', 'however use', 'however want', 'however would', 'hp', 'hr', 'hrs', 'hubby', 'hue', 'huge', 'huge amount', 'huge bag', 'huge box', 'huge coffee', 'huge deal', 'huge difference', 'huge disappointment', 'huge fan', 'huge hit', 'huge mess', 'huge plus', 'hugely', 'huh', 'hull', 'hulls', 'hum', 'human', 'human body', 'human consumption', 'human food', 'human grade', 'humane', 'humane society', 'humans', 'humble', 'humble opinion', 'humid', 'humidity', 'hummus', 'hundred', 'hundreds', 'hung', 'hungarian', 'hunger', 'hungry', 'hungry girl', 'hungry not', 'hunk', 'hunt', 'hunted', 'hunter', 'hunting', 'hurricane', 'hurry', 'hurt', 'hurting', 'hurts', 'husband', 'husband also', 'husband always', 'husband bought', 'husband christmas', 'husband coffee', 'husband could', 'husband diabetic', 'husband drink', 'husband drinks', 'husband eat', 'husband eats', 'husband enjoy', 'husband even', 'husband favorite', 'husband first', 'husband found', 'husband gluten', 'husband got', 'husband hates', 'husband kids', 'husband like', 'husband liked', 'husband likes', 'husband love', 'husband loved', 'husband loves', 'husband not', 'husband prefers', 'husband really', 'husband recently', 'husband said', 'husband says', 'husband thinks', 'husband tried', 'husband used', 'husband uses', 'husband went', 'husband would', 'husbands', 'husbands favorite', 'husk', 'husks', 'husky', 'huy', 'hydrate', 'hydrated', 'hydrates', 'hydrating', 'hydration', 'hydrochloride', 'hydrogenated', 'hydrogenated oil', 'hydrogenated oils', 'hydrogenated soybean', 'hydrolyzed', 'hygiene', 'hype', 'hyper', 'hypertension', 'hypoallergenic', 'hypoglycemia', 'hypoglycemic', 'iam', 'iams', 'ibs', 'ice', 'ice coffee', 'ice cold', 'ice cream', 'ice cube', 'ice cubes', 'ice ice', 'ice not', 'ice packs', 'ice tea', 'ice water', 'ice would', 'icecream', 'iced', 'iced coffee', 'iced coffees', 'iced green', 'iced hot', 'iced tea', 'iced teas', 'icing', 'ick', 'icky', 'icy', 'id', 'idea', 'idea good', 'idea much', 'idea not', 'idea would', 'ideal', 'ideas', 'identical', 'identified', 'identify', 'idiot', 'ie', 'iffy', 'ignore', 'ignored', 'igourmet', 'ii', 'il', 'ill', 'ill effects', 'illegal', 'illinois', 'illness', 'illnesses', 'illustrated', 'illy', 'illy issimo', 'im', 'im glad', 'im going', 'im happy', 'im not', 'im sure', 'image', 'images', 'imaginable', 'imagination', 'imagine', 'imagine anyone', 'imagine not', 'imagine surprise', 'imagine would', 'imagined', 'imho', 'imitate', 'imitation', 'immediate', 'immediately', 'immediately hooked', 'immediately made', 'immediately not', 'immediately noticed', 'immediately opened', 'immediately ordered', 'immediately started', 'immediately upon', 'immensely', 'immune', 'immune system', 'immunity', 'imo', 'impact', 'impact blood', 'impart', 'imparts', 'impatient', 'implies', 'imply', 'import', 'importance', 'important', 'important not', 'important note', 'important part', 'important thing', 'important us', 'importantly', 'imported', 'importing', 'imports', 'impossible', 'impossible find', 'impossible get', 'impress', 'impressed', 'impressed flavor', 'impressed not', 'impressed product', 'impressed quality', 'impressed taste', 'impression', 'impressions', 'impressive', 'improve', 'improve taste', 'improved', 'improvement', 'improvements', 'improves', 'improving', 'impulse', 'inc', 'incentive', 'inch', 'inch thick', 'inches', 'inches long', 'incident', 'incidentally', 'inclined', 'include', 'included', 'includes', 'including', 'including one', 'including shipping', 'inclusion', 'income', 'incomparable', 'inconsistency', 'inconsistent', 'inconvenience', 'inconvenient', 'incorporate', 'incorporated', 'incorporating', 'incorrect', 'incorrectly', 'increase', 'increase energy', 'increase fiber', 'increase milk', 'increase price', 'increased', 'increased price', 'increases', 'increasing', 'increasing amount', 'increasingly', 'incredible', 'incredible flavor', 'incredibly', 'incredibly delicious', 'incredibly good', 'incredibly tasty', 'indeed', 'indefinitely', 'independent', 'indescribable', 'index', 'india', 'india tree', 'indian', 'indian food', 'indian grocery', 'indian restaurant', 'indian restaurants', 'indiana', 'indicate', 'indicated', 'indicates', 'indicating', 'indication', 'indicator', 'indigestion', 'indistinguishable', 'individual', 'individual bags', 'individual bottles', 'individual box', 'individual boxes', 'individual packages', 'individual packaging', 'individual packets', 'individual packs', 'individual serving', 'individual taste', 'individually', 'individually packaged', 'individually sealed', 'individually wrapped', 'individuals', 'indonesia', 'indoor', 'indoor cat', 'indoor cats', 'indoors', 'induced', 'inducing', 'indulge', 'indulgence', 'indulgent', 'indulging', 'industrial', 'industry', 'inedible', 'inevitable', 'inevitably', 'inexpensive', 'infact', 'infant', 'infant formula', 'infants', 'infection', 'infections', 'inferior', 'inferior product', 'infestation', 'infested', 'infinitely', 'inflammation', 'inflammatory', 'inflated', 'influence', 'influenced', 'influenster', 'info', 'inform', 'information', 'information not', 'information product', 'information provided', 'informative', 'informed', 'infuse', 'infused', 'infuser', 'infusion', 'infusions', 'ing', 'ingest', 'ingested', 'ingesting', 'ingestion', 'ingrediants', 'ingredient', 'ingredient corn', 'ingredient label', 'ingredient list', 'ingredient listed', 'ingredient not', 'ingredient sugar', 'ingredients', 'ingredients add', 'ingredients also', 'ingredients better', 'ingredients chicken', 'ingredients could', 'ingredients dog', 'ingredients dogs', 'ingredients first', 'ingredients food', 'ingredients found', 'ingredients get', 'ingredients good', 'ingredients great', 'ingredients healthy', 'ingredients high', 'ingredients include', 'ingredients including', 'ingredients ingredients', 'ingredients label', 'ingredients like', 'ingredients list', 'ingredients listed', 'ingredients make', 'ingredients may', 'ingredients mix', 'ingredients much', 'ingredients natural', 'ingredients no', 'ingredients not', 'ingredients nothing', 'ingredients one', 'ingredients organic', 'ingredients product', 'ingredients real', 'ingredients really', 'ingredients see', 'ingredients seem', 'ingredients simple', 'ingredients still', 'ingredients sugar', 'ingredients taste', 'ingredients use', 'ingredients used', 'ingredients water', 'ingredients whole', 'ingredients would', 'inhale', 'inhaled', 'inhales', 'inhaling', 'initial', 'initial taste', 'initially', 'initially bought', 'initially purchased', 'initially thought', 'injected', 'injury', 'ink', 'inn', 'inner', 'innocent', 'innova', 'innova evo', 'innovative', 'input', 'inquired', 'ins', 'insane', 'insanely', 'insanity', 'insanity sauce', 'insect', 'insects', 'insert', 'inserted', 'inserts', 'inside', 'inside another', 'inside bag', 'inside box', 'inside mouth', 'inside not', 'inside one', 'inside package', 'insides', 'insipid', 'insist', 'insisted', 'insomnia', 'inspected', 'inspection', 'inspired', 'install', 'installed', 'instance', 'instances', 'instant', 'instant breakfast', 'instant coffee', 'instant coffees', 'instant espresso', 'instant ginger', 'instant noodle', 'instant noodles', 'instant oatmeal', 'instant ramen', 'instant soup', 'instant tea', 'instantly', 'instead', 'instead also', 'instead butter', 'instead buying', 'instead coffee', 'instead eating', 'instead five', 'instead going', 'instead good', 'instead got', 'instead like', 'instead not', 'instead one', 'instead plastic', 'instead received', 'instead regular', 'instead salt', 'instead stars', 'instead sugar', 'instead use', 'instead using', 'instead usual', 'instead water', 'instinct', 'instructed', 'instruction', 'instructions', 'instructions box', 'instructions easy', 'instructions not', 'instructions package', 'instructions say', 'insufficient', 'insulated', 'insulin', 'insult', 'insure', 'intact', 'intake', 'integrity', 'intend', 'intend buy', 'intended', 'intense', 'intense flavor', 'intensely', 'intensity', 'intensive', 'intent', 'intention', 'intentional', 'interest', 'interested', 'interested trying', 'interesting', 'interesting flavor', 'interesting not', 'interestingly', 'interests', 'interfere', 'interior', 'internal', 'international', 'international coffee', 'internet', 'internet found', 'internet not', 'internet search', 'intervals', 'intestinal', 'intestinal problems', 'intestines', 'intolerance', 'intolerant', 'intoxicating', 'intrigued', 'intriguing', 'introduce', 'introduced', 'introduced product', 'introduced us', 'introducing', 'introduction', 'inulin', 'invariably', 'invented', 'invention', 'inventory', 'invert', 'invest', 'investigate', 'investigated', 'investigation', 'investment', 'invigorating', 'invited', 'inviting', 'involve', 'involved', 'involves', 'involving', 'iodine', 'iodized', 'iowa', 'iraq', 'ireland', 'irish', 'irish breakfast', 'irish cream', 'irish oatmeal', 'iron', 'iron skillet', 'irregular', 'irresistible', 'irritable', 'irritate', 'irritated', 'irritating', 'irritation', 'ish', 'island', 'island coconut', 'islands', 'isle', 'isnt', 'isolate', 'israel', 'issimo', 'issimo coffee', 'issue', 'issue not', 'issue product', 'issued', 'issues', 'issues not', 'issues would', 'italian', 'italian blend', 'italian bread', 'italian dressing', 'italian espresso', 'italian food', 'italian french', 'italian restaurant', 'italian roast', 'italiano', 'italians', 'italy', 'itch', 'itching', 'itchy', 'itchy skin', 'item', 'item also', 'item amazon', 'item arrived', 'item bought', 'item came', 'item delivered', 'item described', 'item description', 'item found', 'item gift', 'item good', 'item great', 'item like', 'item local', 'item love', 'item no', 'item not', 'item ordered', 'item price', 'item purchased', 'item quickly', 'item really', 'item received', 'item shipped', 'item would', 'items', 'items amazon', 'items like', 'items not', 'iti', 'ito', 'ito en', 'itthe', 'iv', 'ive', 'ive ever', 'ive tried', 'izze', 'izze sparkling', 'jack', 'jack link', 'jack links', 'jack russell', 'jacket', 'jacks', 'jacobs', 'jalapeno', 'jalapeno sauce', 'jalapenos', 'jam', 'jam jelly', 'jamaica', 'jamaican', 'jamaican blue', 'jamba', 'james', 'jams', 'jan', 'jane', 'january', 'japan', 'japanese', 'japanese green', 'japanese style', 'jar', 'jar could', 'jar not', 'jar put', 'jar would', 'jarred', 'jars', 'jars not', 'jasmine', 'jasmine flavor', 'jasmine flowers', 'jasmine green', 'jasmine pearls', 'jasmine rice', 'jasmine tea', 'java', 'jaw', 'jaws', 'jazz', 'jazzed', 'jealous', 'jean', 'jeans', 'jell', 'jellies', 'jello', 'jelly', 'jelly bean', 'jelly beans', 'jelly bellies', 'jelly belly', 'jerk', 'jerk seasoning', 'jerkey', 'jerky', 'jerky ever', 'jerky like', 'jerky not', 'jerky products', 'jerky treats', 'jerry', 'jersey', 'jet', 'jet fuel', 'jewel', 'jewels', 'jewish', 'jif', 'jiffy', 'jim', 'jims', 'jitters', 'jittery', 'job', 'job done', 'job keeping', 'job making', 'job not', 'job well', 'jobs', 'joe', 'joe not', 'joes', 'john', 'johnny', 'join', 'joined', 'joint', 'joints', 'joke', 'joking', 'jolly', 'jolly rancher', 'jolly ranchers', 'jolly time', 'jolokia', 'jolt', 'jones', 'jordan', 'jordan almonds', 'jose', 'joseph', 'journal', 'journey', 'joy', 'joys', 'jr', 'judge', 'judgement', 'judging', 'jug', 'jugs', 'juice', 'juice added', 'juice concentrate', 'juice concentrates', 'juice drink', 'juice ever', 'juice good', 'juice great', 'juice juice', 'juice like', 'juice mix', 'juice no', 'juice not', 'juice one', 'juice organic', 'juice product', 'juice really', 'juice taste', 'juice tastes', 'juice water', 'juice would', 'juicer', 'juices', 'juices not', 'juicy', 'juicy fruit', 'juicy pear', 'julia', 'july', 'jumbo', 'jump', 'jumped', 'jumped chance', 'jumping', 'jumps', 'june', 'junior', 'juniper', 'junk', 'junk food', 'junk foods', 'junkie', 'junky', 'justice', 'justify', 'justify price', 'justin', 'kahlua', 'kale', 'kamut', 'kansas', 'kashi', 'kashi bars', 'kashi cereal', 'kashi cereals', 'kashi products', 'kat', 'kava', 'kcup', 'kcups', 'keaton', 'keebler', 'keen', 'keep', 'keep around', 'keep awake', 'keep away', 'keep bag', 'keep bags', 'keep blood', 'keep bottle', 'keep box', 'keep busy', 'keep buying', 'keep car', 'keep coffee', 'keep coming', 'keep couple', 'keep cupboard', 'keep desk', 'keep dog', 'keep dogs', 'keep drinking', 'keep eating', 'keep enough', 'keep eye', 'keep food', 'keep freezer', 'keep fresh', 'keep fridge', 'keep full', 'keep getting', 'keep going', 'keep good', 'keep great', 'keep hand', 'keep handy', 'keep happy', 'keep healthy', 'keep home', 'keep house', 'keep jar', 'keep long', 'keep looking', 'keep making', 'keep mind', 'keep mine', 'keep occupied', 'keep one', 'keep ordering', 'keep pantry', 'keep product', 'keep purchasing', 'keep purse', 'keep refrigerator', 'keep regular', 'keep satisfied', 'keep several', 'keep short', 'keep stock', 'keep stocked', 'keep subscription', 'keep supply', 'keep tea', 'keep teeth', 'keep things', 'keep track', 'keep trying', 'keep us', 'keep using', 'keep warm', 'keep way', 'keep well', 'keep work', 'keeper', 'keeping', 'keeping healthy', 'keeping stock', 'keeps', 'keeps busy', 'keeps coming', 'keeps fresh', 'keeps full', 'keeps getting', 'keeps going', 'keeps occupied', 'keeps satisfied', 'keeps us', 'keeps well', 'kefir', 'kefir grains', 'kellog', 'kellogg', 'kelloggs', 'kelp', 'kennel', 'kenya', 'kenya aa', 'kenyan', 'kept', 'kept asking', 'kept eating', 'kept going', 'kept trying', 'kernals', 'kernel', 'kernels', 'ketchup', 'ketchup not', 'kettle', 'kettle brand', 'kettle chips', 'kettle cooked', 'kettle corn', 'keurig', 'keurig brewer', 'keurig brewers', 'keurig coffee', 'keurig coffeemaker', 'keurig cup', 'keurig cups', 'keurig machine', 'keurig not', 'key', 'key ingredient', 'key lime', 'keys', 'kg', 'kibble', 'kibble size', 'kibbles', 'kick', 'kick not', 'kick notch', 'kick pants', 'kicked', 'kicking', 'kicking horse', 'kicks', 'kid', 'kid not', 'kid still', 'kidding', 'kiddos', 'kidney', 'kidney beans', 'kidney disease', 'kidney failure', 'kidney problems', 'kidney stones', 'kidneys', 'kids', 'kids adults', 'kids ages', 'kids also', 'kids could', 'kids drink', 'kids eat', 'kids eating', 'kids enjoy', 'kids even', 'kids friends', 'kids get', 'kids go', 'kids great', 'kids husband', 'kids like', 'kids liked', 'kids love', 'kids loved', 'kids lunch', 'kids lunches', 'kids might', 'kids not', 'kids really', 'kids school', 'kids think', 'kids use', 'kids want', 'kids would', 'kikkoman', 'kili', 'kill', 'killed', 'killer', 'killing', 'kills', 'kimchi', 'kind', 'kind bar', 'kind bars', 'kind chocolate', 'kind coffee', 'kind enough', 'kind expensive', 'kind flavor', 'kind food', 'kind get', 'kind guy', 'kind hard', 'kind like', 'kind not', 'kind person', 'kind pricey', 'kind small', 'kind taste', 'kind tea', 'kind thing', 'kind use', 'kinda', 'kinda like', 'kinder', 'kinds', 'kinds coffee', 'kinds food', 'kinds foods', 'kinds things', 'king', 'king arthur', 'king charles', 'kings', 'kirkland', 'kirkland brand', 'kirkland signature', 'kiss', 'kisses', 'kit', 'kit kat', 'kit not', 'kitchen', 'kitchen cabinet', 'kitchen counter', 'kitchen table', 'kitchens', 'kitchens india', 'kits', 'kitten', 'kitten food', 'kittens', 'kitties', 'kitties love', 'kitty', 'kitty litter', 'kiwi', 'kiwi berry', 'kiwi strawberry', 'kix', 'knead', 'kneading', 'knee', 'knees', 'knew', 'knew could', 'knew going', 'knew not', 'knew something', 'knew would', 'knife', 'knob', 'knock', 'knocked', 'knocking', 'knocks', 'knorr', 'know', 'know actually', 'know also', 'know always', 'know amazon', 'know anyone', 'know anything', 'know available', 'know bad', 'know better', 'know bought', 'know brand', 'know buy', 'know buying', 'know cats', 'know coffee', 'know company', 'know could', 'know describe', 'know difference', 'know different', 'know dog', 'know dogs', 'know drinking', 'know eat', 'know eating', 'know else', 'know every', 'know everyone', 'know exactly', 'know expect', 'know find', 'know first', 'know food', 'know get', 'know getting', 'know gluten', 'know going', 'know good', 'know got', 'know great', 'know happened', 'know hard', 'know healthy', 'know kind', 'know know', 'know like', 'know little', 'know long', 'know look', 'know lot', 'know love', 'know made', 'know make', 'know many', 'know may', 'know maybe', 'know mean', 'know missing', 'know much', 'know need', 'know never', 'know no', 'know not', 'know one', 'know order', 'know others', 'know people', 'know price', 'know product', 'know real', 'know really', 'know say', 'know since', 'know someone', 'know something', 'know sounds', 'know still', 'know stuff', 'know sugar', 'know supposed', 'know sure', 'know talking', 'know taste', 'know tastes', 'know tea', 'know thing', 'know think', 'know time', 'know tried', 'know try', 'know use', 'know want', 'know well', 'know whether', 'know works', 'know would', 'knowing', 'knowing getting', 'knowing not', 'knowing would', 'knowledge', 'known', 'known man', 'knows', 'knows long', 'knows not', 'kombucha', 'kona', 'kona blend', 'kona coffee', 'kong', 'kongs', 'kool', 'kool aid', 'koolaid', 'korea', 'korean', 'kosher', 'kosher ingredients', 'kosher salt', 'kraft', 'kraft foods', 'kraft mac', 'krave', 'krispie', 'krispies', 'krispy', 'kroger', 'krups', 'krusteaz', 'kudos', 'kuerig', 'la', 'lab', 'lab loves', 'lab mix', 'label', 'label also', 'label indicates', 'label not', 'label product', 'label says', 'label states', 'labeled', 'labeling', 'labelled', 'labels', 'lable', 'labor', 'laboratory', 'labrador', 'labs', 'laced', 'lack', 'lack flavor', 'lacked', 'lacking', 'lacking flavor', 'lacks', 'lactic', 'lactic acid', 'lactose', 'lactose free', 'lactose intolerant', 'laden', 'ladies', 'lady', 'lady grey', 'laffy', 'laffy taffy', 'laid', 'lake', 'lakes', 'lamb', 'lamb rice', 'lame', 'land', 'landed', 'landfill', 'lane', 'language', 'lanka', 'lansinoh', 'lap', 'lapsang', 'lapsang souchong', 'lara', 'larabar', 'larabars', 'lard', 'large', 'large amount', 'large amounts', 'large bag', 'large bags', 'large bottle', 'large bottles', 'large bowl', 'large box', 'large boxes', 'large breed', 'large chunks', 'large container', 'large containers', 'large cup', 'large dog', 'large dogs', 'large enough', 'large family', 'large glass', 'large mug', 'large not', 'large number', 'large one', 'large package', 'large pieces', 'large plastic', 'large quantities', 'large quantity', 'large size', 'large variety', 'largely', 'larger', 'larger bag', 'larger bags', 'larger box', 'larger cup', 'larger dog', 'larger dogs', 'larger one', 'larger ones', 'larger oz', 'larger quantities', 'larger quantity', 'larger size', 'larger sized', 'larger sizes', 'largest', 'larry', 'las', 'las vegas', 'lasagna', 'lasagne', 'last', 'last awhile', 'last bag', 'last batch', 'last bit', 'last box', 'last couple', 'last day', 'last days', 'last drop', 'last forever', 'last good', 'last hours', 'last ingredient', 'last least', 'last little', 'last long', 'last longer', 'last lot', 'last minute', 'last minutes', 'last month', 'last months', 'last much', 'last night', 'last not', 'last one', 'last order', 'last purchase', 'last quite', 'last resort', 'last several', 'last shipment', 'last summer', 'last thing', 'last three', 'last time', 'last two', 'last us', 'last week', 'last weekend', 'last weeks', 'last year', 'last years', 'lasted', 'lasted long', 'lasted longer', 'lasted months', 'lasted week', 'lasted weeks', 'lasting', 'lasting flavor', 'lastly', 'lasts', 'lasts forever', 'lasts long', 'lasts longer', 'lasts month', 'lasts months', 'lasts quite', 'lasts two', 'lasts weeks', 'late', 'late afternoon', 'late night', 'lately', 'later', 'later day', 'later found', 'later got', 'later not', 'later still', 'later tried', 'latest', 'lather', 'lathers', 'latin', 'latte', 'latte not', 'latter', 'lattes', 'laugh', 'laughed', 'laughing', 'laughs', 'laundry', 'lavazza', 'lavazza coffee', 'lavender', 'law', 'law loves', 'lawn', 'lawry', 'laws', 'laxative', 'laxative effect', 'lay', 'layer', 'layer chocolate', 'layer peanut', 'layered', 'layers', 'laying', 'laying around', 'lays', 'lazy', 'lb', 'lb bag', 'lb bags', 'lb box', 'lb dog', 'lbs', 'lbs not', 'ldl', 'le', 'leach', 'lead', 'lead believe', 'leading', 'leads', 'leads believe', 'leaf', 'leaf not', 'leaf tea', 'leaf teas', 'leafy', 'league', 'leak', 'leakage', 'leaked', 'leaking', 'leaks', 'leaky', 'lean', 'leans', 'leap', 'learn', 'learned', 'learned lesson', 'learned not', 'learning', 'leary', 'least', 'least bit', 'least cups', 'least day', 'least different', 'least every', 'least expensive', 'least favorite', 'least four', 'least get', 'least good', 'least half', 'least hours', 'least know', 'least little', 'least minutes', 'least month', 'least months', 'least not', 'least one', 'least three', 'least times', 'least try', 'least twice', 'least two', 'least week', 'least would', 'least year', 'least years', 'leather', 'leathers', 'leave', 'leave aftertaste', 'leave alone', 'leave bad', 'leave feeling', 'leave food', 'leave hair', 'leave home', 'leave house', 'leave little', 'leave nasty', 'leave review', 'leave taste', 'leave tea', 'leave work', 'leavening', 'leaves', 'leaves hair', 'leaves lot', 'leaves much', 'leaves nice', 'leaves no', 'leaves not', 'leaves tea', 'leaving', 'leche', 'lecithin', 'led', 'lee', 'leery', 'left', 'left bad', 'left behind', 'left feeling', 'left hair', 'left not', 'left open', 'left overs', 'leftover', 'leftovers', 'leg', 'legal', 'legged', 'legitimate', 'lego', 'legs', 'lemon', 'lemon curd', 'lemon drop', 'lemon flavor', 'lemon flavored', 'lemon ginger', 'lemon grass', 'lemon juice', 'lemon lime', 'lemon not', 'lemon orange', 'lemon pepper', 'lemon taste', 'lemon tea', 'lemonade', 'lemonade flavor', 'lemongrass', 'lemons', 'lemony', 'lends', 'length', 'length time', 'lengths', 'lentil', 'lentil soup', 'lentils', 'leonidas', 'less', 'less acidic', 'less amazon', 'less bitter', 'less caffeine', 'less calories', 'less cents', 'less coffee', 'less cost', 'less costly', 'less cup', 'less desirable', 'less expensive', 'less fat', 'less five', 'less flavorful', 'less food', 'less get', 'less half', 'less healthy', 'less intense', 'less less', 'less like', 'less likely', 'less local', 'less messy', 'less minute', 'less minutes', 'less money', 'less month', 'less months', 'less not', 'less one', 'less packaging', 'less per', 'less plastic', 'less price', 'less product', 'less regular', 'less salt', 'less salty', 'less sodium', 'less sugar', 'less sweet', 'less tasty', 'less time', 'less two', 'less used', 'less waste', 'less water', 'less week', 'less would', 'lessen', 'lesser', 'lesser quality', 'lesson', 'lesson learned', 'lest', 'let', 'let alone', 'let cook', 'let cool', 'let dry', 'let eat', 'let face', 'let get', 'let go', 'let know', 'let melt', 'let rise', 'let say', 'let see', 'let set', 'let simmer', 'let sit', 'let soak', 'let stand', 'let start', 'let steep', 'let tell', 'let try', 'let us', 'letdown', 'lethal', 'lethargic', 'lets', 'lets say', 'letter', 'letters', 'letting', 'letting know', 'lettuce', 'level', 'level not', 'level sweetness', 'levels', 'lhasa', 'libby', 'liberal', 'liberally', 'library', 'lick', 'licked', 'lickety', 'lickety stik', 'lickin', 'licking', 'licks', 'licks bowl', 'licorice', 'licorice ever', 'licorice flavor', 'licorice not', 'licorice root', 'licorice taste', 'licorice twists', 'lid', 'lid not', 'lids', 'lie', 'lied', 'lies', 'lieu', 'life', 'life easier', 'life good', 'life great', 'life long', 'life much', 'life no', 'life not', 'life one', 'life product', 'life saver', 'life threatening', 'life years', 'lifelong', 'lifesaver', 'lifesavers', 'lifestyle', 'lifetime', 'lift', 'lifted', 'lifting', 'light', 'light airy', 'light brown', 'light coconut', 'light coffee', 'light colored', 'light crisp', 'light crispy', 'light crunchy', 'light delicate', 'light drink', 'light enough', 'light flavor', 'light flavorful', 'light flavors', 'light fluffy', 'light fresh', 'light good', 'light green', 'light medium', 'light mocktails', 'light not', 'light pleasant', 'light refreshing', 'light roast', 'light smooth', 'light snack', 'light sweet', 'light taste', 'light tasting', 'light tasty', 'light version', 'light weight', 'light yet', 'lighter', 'lighter color', 'lighter roast', 'lightly', 'lightly flavored', 'lightly salted', 'lightly sweet', 'lightly sweetened', 'lightness', 'lightning', 'lights', 'lightweight', 'like', 'like able', 'like actual', 'like actually', 'like add', 'like added', 'like adding', 'like aftertaste', 'like almond', 'like almonds', 'like almost', 'like alot', 'like also', 'like always', 'like amazon', 'like american', 'like another', 'like anything', 'like apple', 'like artificial', 'like ate', 'like baby', 'like back', 'like bacon', 'like bad', 'like bag', 'like bags', 'like baked', 'like baking', 'like banana', 'like bar', 'like bars', 'like beans', 'like beef', 'like best', 'like better', 'like big', 'like bit', 'like biting', 'like bitter', 'like black', 'like blend', 'like blue', 'like blueberries', 'like blueberry', 'like bold', 'like bottle', 'like bought', 'like bowl', 'like box', 'like brand', 'like brands', 'like bread', 'like brew', 'like brown', 'like brownie', 'like brownies', 'like burnt', 'like butter', 'like buy', 'like buying', 'like caffeine', 'like cake', 'like came', 'like candy', 'like canned', 'like cappuccino', 'like caramel', 'like cardboard', 'like cat', 'like cats', 'like cereal', 'like cereals', 'like chai', 'like charm', 'like cheap', 'like cheaper', 'like cheese', 'like chemicals', 'like cherry', 'like chew', 'like chewing', 'like chewy', 'like chicken', 'like chili', 'like chips', 'like chocolate', 'like christmas', 'like cinnamon', 'like cocoa', 'like coconut', 'like coffee', 'like cold', 'like combination', 'like come', 'like comes', 'like commercial', 'like company', 'like consistency', 'like convenience', 'like cook', 'like cookie', 'like cookies', 'like cooking', 'like corn', 'like cotton', 'like cough', 'like could', 'like crack', 'like cracker', 'like crackers', 'like crap', 'like crazy', 'like cream', 'like creamy', 'like crunch', 'like crunchy', 'like crystal', 'like cup', 'like cups', 'like cut', 'like dark', 'like days', 'like decaf', 'like definitely', 'like delicious', 'like dessert', 'like diet', 'like different', 'like dirt', 'like dislike', 'like dog', 'like dogs', 'like double', 'like dr', 'like dried', 'like drink', 'like drinking', 'like dry', 'like earl', 'like easy', 'like eat', 'like eating', 'like either', 'like energy', 'like english', 'like enjoy', 'like enough', 'like especially', 'like espresso', 'like even', 'like every', 'like everyone', 'like everything', 'like expected', 'like expensive', 'like extra', 'like extremely', 'like fact', 'like fake', 'like favorite', 'like feel', 'like find', 'like fine', 'like first', 'like fish', 'like flavor', 'like flavored', 'like flavors', 'like flour', 'like food', 'like found', 'like french', 'like fresh', 'like freshly', 'like fruit', 'like fruity', 'like full', 'like fun', 'like garlic', 'like get', 'like getting', 'like ginger', 'like give', 'like giving', 'like gluten', 'like go', 'like going', 'like good', 'like got', 'like gourmet', 'like graham', 'like grandma', 'like granola', 'like grape', 'like grass', 'like great', 'like green', 'like ground', 'like guess', 'like gum', 'like gummy', 'like half', 'like happy', 'like hard', 'like hazelnut', 'like health', 'like healthier', 'like healthy', 'like heat', 'like heaven', 'like herbal', 'like hershey', 'like high', 'like highly', 'like home', 'like homemade', 'like honey', 'like hot', 'like however', 'like huge', 'like human', 'like ice', 'like iced', 'like idea', 'like indian', 'like individual', 'like ingredients', 'like instant', 'like italian', 'like jelly', 'like jerky', 'like juice', 'like kashi', 'like keep', 'like ketchup', 'like kid', 'like kids', 'like kind', 'like know', 'like knowing', 'like kool', 'like large', 'like last', 'like least', 'like lemon', 'like lemonade', 'like less', 'like licorice', 'like light', 'like like', 'like lime', 'like liquid', 'like little', 'like local', 'like long', 'like look', 'like looking', 'like lot', 'like love', 'like low', 'like mac', 'like made', 'like magic', 'like make', 'like makes', 'like making', 'like mango', 'like many', 'like maple', 'like margarita', 'like may', 'like maybe', 'like meal', 'like meat', 'like medicine', 'like medium', 'like might', 'like mild', 'like milk', 'like mine', 'like mini', 'like mint', 'like miracle', 'like mix', 'like mocha', 'like mom', 'like morning', 'like movie', 'like much', 'like must', 'like name', 'like natural', 'like need', 'like never', 'like new', 'like nice', 'like no', 'like non', 'like normal', 'like not', 'like nothing', 'like numi', 'like nuts', 'like nutty', 'like oatmeal', 'like oh', 'like oil', 'like old', 'like one', 'like ones', 'like orange', 'like order', 'like ordered', 'like oreos', 'like organic', 'like original', 'like others', 'like overall', 'like package', 'like packaging', 'like paper', 'like pasta', 'like paste', 'like peach', 'like peanut', 'like peanuts', 'like peas', 'like people', 'like perfect', 'like picture', 'like piece', 'like plague', 'like plain', 'like plastic', 'like play', 'like pomegranate', 'like popcorn', 'like potato', 'like powder', 'like powdered', 'like prefer', 'like pretty', 'like previous', 'like price', 'like probably', 'like product', 'like products', 'like protein', 'like pumpkin', 'like puppy', 'like purchase', 'like purchased', 'like pure', 'like put', 'like quality', 'like quick', 'like quite', 'like raisins', 'like ramen', 'like raw', 'like rawhide', 'like real', 'like really', 'like recommend', 'like red', 'like regular', 'like remember', 'like remembered', 'like restaurant', 'like reviewer', 'like reviewers', 'like reviews', 'like rice', 'like rich', 'like right', 'like roasted', 'like root', 'like rubber', 'like said', 'like salt', 'like salty', 'like sardines', 'like sauce', 'like save', 'like say', 'like says', 'like see', 'like send', 'like shampoo', 'like simple', 'like since', 'like sitting', 'like size', 'like slightly', 'like small', 'like smell', 'like smoked', 'like smooth', 'like snack', 'like snacks', 'like soda', 'like soft', 'like someone', 'like something', 'like sometimes', 'like sort', 'like soup', 'like sour', 'like soy', 'like spice', 'like spicy', 'like splenda', 'like stale', 'like starbucks', 'like start', 'like stash', 'like stevia', 'like still', 'like stock', 'like store', 'like strawberry', 'like strong', 'like stronger', 'like stuff', 'like sugar', 'like super', 'like supposed', 'like sweet', 'like syrup', 'like taco', 'like take', 'like taking', 'like tart', 'like taste', 'like tasted', 'like tastes', 'like tasty', 'like tea', 'like teas', 'like texture', 'like theater', 'like thick', 'like thin', 'like things', 'like think', 'like though', 'like thought', 'like time', 'like tomato', 'like took', 'like traditional', 'like treat', 'like treats', 'like tried', 'like true', 'like try', 'like trying', 'like tuna', 'like two', 'like type', 'like typical', 'like us', 'like use', 'like used', 'like using', 'like usual', 'like usually', 'like vanilla', 'like variety', 'like vinegar', 'like want', 'like wanted', 'like waste', 'like water', 'like watered', 'like watermelon', 'like way', 'like weak', 'like well', 'like wet', 'like wheat', 'like white', 'like whole', 'like wine', 'like without', 'like wonderful', 'like would', 'like years', 'liked', 'liked best', 'liked better', 'liked coffee', 'liked could', 'liked fact', 'liked first', 'liked flavor', 'liked idea', 'liked little', 'liked lot', 'liked much', 'liked not', 'liked one', 'liked product', 'liked taste', 'liked tea', 'liked tried', 'liked well', 'liked would', 'likely', 'likely buy', 'likely not', 'likely order', 'likely purchase', 'likes', 'likes better', 'likes coffee', 'likes eat', 'likes flavor', 'likes food', 'likes good', 'likes lot', 'likes much', 'likes not', 'likes one', 'likes product', 'likes taste', 'likewise', 'liking', 'lil', 'lime', 'lime flavor', 'lime juice', 'lime pie', 'limes', 'limit', 'limit amount', 'limited', 'limited edition', 'limited ingredient', 'limited ingredients', 'limiting', 'limits', 'limp', 'linda', 'lindor', 'lindt', 'line', 'line amazon', 'line find', 'line found', 'line good', 'line great', 'line not', 'line price', 'line products', 'lined', 'liner', 'liners', 'lines', 'lineup', 'linger', 'lingered', 'lingering', 'lingering taste', 'lingers', 'linguine', 'lining', 'link', 'linked', 'links', 'lion', 'lip', 'lips', 'lipton', 'lipton tea', 'liqueur', 'liquid', 'liquid form', 'liquid not', 'liquid smoke', 'liquid stevia', 'liquids', 'liquidy', 'liquor', 'liquorice', 'list', 'list goes', 'list ingredients', 'list no', 'list not', 'list price', 'listed', 'listed amazon', 'listed box', 'listed first', 'listed ingredient', 'listed ingredients', 'listed label', 'listed not', 'listed product', 'listen', 'listened', 'listening', 'listing', 'listings', 'listmania', 'lists', 'lite', 'liter', 'liter bottle', 'liter bottles', 'literally', 'literature', 'liters', 'litter', 'litter box', 'litter boxes', 'litters', 'little', 'little added', 'little apprehensive', 'little bag', 'little bags', 'little better', 'little big', 'little bigger', 'little bit', 'little bite', 'little bites', 'little bits', 'little bitter', 'little bland', 'little boost', 'little bottle', 'little bottles', 'little bowl', 'little box', 'little boxes', 'little boy', 'little brown', 'little butter', 'little candy', 'little cheaper', 'little chewy', 'little chocolate', 'little chunks', 'little cinnamon', 'little coffee', 'little concerned', 'little cookies', 'little cream', 'little crunch', 'little crunchy', 'little cup', 'little cups', 'little dark', 'little debbie', 'little different', 'little difficult', 'little disappointed', 'little dog', 'little dogs', 'little dry', 'little easier', 'little effort', 'little expensive', 'little extra', 'little fat', 'little flavor', 'little food', 'little fruit', 'little gems', 'little get', 'little getting', 'little girl', 'little goes', 'little grainy', 'little greasy', 'little green', 'little guy', 'little guys', 'little half', 'little hands', 'little hard', 'little harder', 'little heat', 'little help', 'little hesitant', 'little high', 'little higher', 'little honey', 'little hot', 'little jar', 'little jars', 'little kick', 'little kid', 'little kids', 'little know', 'little large', 'little larger', 'little less', 'little light', 'little lighter', 'little like', 'little longer', 'little lower', 'little mild', 'little milk', 'little misleading', 'little money', 'little month', 'little much', 'little nervous', 'little no', 'little not', 'little oil', 'little olive', 'little one', 'little ones', 'little package', 'little packages', 'little packet', 'little packets', 'little packs', 'little pick', 'little piece', 'little pieces', 'little plastic', 'little pricey', 'little pricy', 'little product', 'little protein', 'little real', 'little research', 'little rice', 'little salt', 'little salty', 'little skeptical', 'little small', 'little smaller', 'little snack', 'little snacks', 'little soft', 'little softer', 'little something', 'little sour', 'little spice', 'little spicy', 'little stale', 'little steep', 'little stevia', 'little sticky', 'little strange', 'little strong', 'little stronger', 'little sugar', 'little surprised', 'little sweet', 'little sweetener', 'little sweeter', 'little sweetness', 'little tart', 'little taste', 'little tea', 'little thicker', 'little thin', 'little things', 'little time', 'little tin', 'little tiny', 'little tough', 'little treat', 'little treats', 'little vanilla', 'little variety', 'little wary', 'little water', 'little watery', 'little way', 'little weak', 'little weight', 'little weird', 'little white', 'little work', 'little worried', 'little year', 'live', 'live area', 'live florida', 'live learn', 'live long', 'live near', 'live new', 'live not', 'live rural', 'live small', 'live south', 'live without', 'lived', 'lively', 'liver', 'liver treats', 'lives', 'lives name', 'living', 'living room', 'lo', 'lo behold', 'lo cal', 'lo mein', 'load', 'loaded', 'loaded sugar', 'loading', 'loads', 'loaf', 'loaf bread', 'loaves', 'lobster', 'local', 'local asian', 'local chinese', 'local co', 'local coffee', 'local costco', 'local food', 'local gourmet', 'local grocer', 'local grocers', 'local grocery', 'local health', 'local indian', 'local kroger', 'local market', 'local markets', 'local natural', 'local organic', 'local pet', 'local restaurant', 'local retailer', 'local shop', 'local specialty', 'local starbucks', 'local store', 'local stores', 'local super', 'local supermarket', 'local supermarkets', 'local target', 'local tea', 'local wal', 'local walmart', 'local warehouse', 'local whole', 'locally', 'locally amazon', 'locally could', 'locally not', 'locally would', 'locals', 'locate', 'located', 'location', 'locations', 'lock', 'lock bag', 'locked', 'locks', 'lodge', 'log', 'logged', 'logic', 'logo', 'loin', 'lol', 'lollipop', 'lollipops', 'loma', 'loma linda', 'london', 'long', 'long ago', 'long amazon', 'long available', 'long cook', 'long day', 'long distance', 'long drink', 'long eat', 'long enough', 'long get', 'long gone', 'long grain', 'long hair', 'long haired', 'long healthy', 'long house', 'long keep', 'long last', 'long lasting', 'long like', 'long list', 'long long', 'long make', 'long not', 'long period', 'long periods', 'long remember', 'long run', 'long runs', 'long shelf', 'long shot', 'long since', 'long still', 'long story', 'long takes', 'long term', 'long thick', 'long time', 'long use', 'long wait', 'long way', 'long would', 'longer', 'longer available', 'longer buy', 'longer carried', 'longer carries', 'longer carry', 'longer cook', 'longer eat', 'longer feel', 'longer find', 'longer get', 'longer lasting', 'longer make', 'longer minutes', 'longer not', 'longer recommended', 'longer sold', 'longer time', 'longer use', 'longer would', 'longest', 'longest time', 'longevity', 'longing', 'look', 'look amazon', 'look around', 'look carefully', 'look different', 'look elsewhere', 'look feel', 'look forward', 'look good', 'look great', 'look ingredients', 'look like', 'look much', 'look no', 'look not', 'look online', 'look pretty', 'look product', 'look something', 'look taste', 'looked', 'looked amazon', 'looked around', 'looked back', 'looked everywhere', 'looked exactly', 'looked forward', 'looked good', 'looked great', 'looked ingredients', 'looked like', 'looked little', 'looked online', 'looking', 'looking add', 'looking alternative', 'looking amazon', 'looking another', 'looking around', 'looking best', 'looking better', 'looking buy', 'looking chocolate', 'looking coffee', 'looking decent', 'looking delicious', 'looking flavor', 'looking forward', 'looking get', 'looking gluten', 'looking good', 'looking great', 'looking healthier', 'looking healthy', 'looking high', 'looking ingredients', 'looking like', 'looking low', 'looking make', 'looking natural', 'looking new', 'looking nice', 'looking no', 'looking not', 'looking one', 'looking online', 'looking organic', 'looking product', 'looking quick', 'looking real', 'looking really', 'looking replacement', 'looking something', 'looking strong', 'looking sugar', 'looking sweet', 'looking taste', 'looking tasty', 'looking tea', 'looking try', 'looking way', 'looking whole', 'lookout', 'looks', 'looks different', 'looks forward', 'looks good', 'looks great', 'looks healthy', 'looks like', 'looks little', 'looks nice', 'looks pretty', 'looks really', 'looks smells', 'looks tastes', 'loops', 'loose', 'loose leaf', 'loose stool', 'loose stools', 'loose tea', 'loose teas', 'loose weight', 'loosely', 'loosen', 'looses', 'loosing', 'lord', 'los', 'los angeles', 'lose', 'lose flavor', 'lose pounds', 'lose weight', 'loses', 'loses flavor', 'losing', 'losing weight', 'loss', 'lost', 'lost interest', 'lost lbs', 'lost pounds', 'lost weight', 'lot', 'lot baking', 'lot better', 'lot calories', 'lot cheaper', 'lot coffee', 'lot cups', 'lot desired', 'lot different', 'lot easier', 'lot energy', 'lot expensive', 'lot fat', 'lot fiber', 'lot flavor', 'lot food', 'lot foods', 'lot fun', 'lot get', 'lot gluten', 'lot good', 'lot great', 'lot gum', 'lot healthier', 'lot hot', 'lot less', 'lot like', 'lot little', 'lot longer', 'lot money', 'lot not', 'lot one', 'lot people', 'lot product', 'lot products', 'lot protein', 'lot recipes', 'lot research', 'lot salt', 'lot stuff', 'lot sugar', 'lot taste', 'lot tea', 'lot things', 'lot time', 'lot use', 'lot water', 'lot weight', 'lot worse', 'lot would', 'lotion', 'lotions', 'lots', 'lots different', 'lots energy', 'lots fiber', 'lots flavor', 'lots good', 'lots great', 'lots ice', 'lots lots', 'lots protein', 'lots sugar', 'lots things', 'lots water', 'lotus', 'lou', 'loud', 'louis', 'louisiana', 'lousy', 'love', 'love able', 'love actually', 'love add', 'love almonds', 'love almost', 'love also', 'love always', 'love amazon', 'love anything', 'love apple', 'love aroma', 'love baby', 'love bags', 'love bake', 'love bars', 'love beef', 'love best', 'love better', 'love big', 'love black', 'love blue', 'love bold', 'love bones', 'love brand', 'love bread', 'love buy', 'love buying', 'love candy', 'love cashews', 'love cat', 'love cereal', 'love chai', 'love cheese', 'love chew', 'love chews', 'love chicken', 'love chili', 'love chips', 'love chocolate', 'love cinnamon', 'love coconut', 'love coffee', 'love come', 'love company', 'love continue', 'love convenience', 'love convenient', 'love cook', 'love cookies', 'love could', 'love crackers', 'love crunch', 'love crunchy', 'love cup', 'love cups', 'love curry', 'love dark', 'love decided', 'love definitely', 'love delicious', 'love dog', 'love dogs', 'love drink', 'love drinking', 'love earl', 'love earth', 'love easy', 'love eat', 'love eating', 'love em', 'love enjoy', 'love especially', 'love even', 'love every', 'love everything', 'love fact', 'love family', 'love feel', 'love find', 'love first', 'love flavor', 'love flavored', 'love flavors', 'love food', 'love found', 'love french', 'love fresh', 'love fruit', 'love full', 'love get', 'love getting', 'love ginger', 'love give', 'love gives', 'love giving', 'love glad', 'love gluten', 'love go', 'love good', 'love got', 'love granola', 'love great', 'love green', 'love gum', 'love gummy', 'love happy', 'love hard', 'love hate', 'love healthy', 'love highly', 'love honey', 'love hope', 'love hot', 'love however', 'love iced', 'love idea', 'love indian', 'love individual', 'love ingredients', 'love item', 'love jelly', 'love juice', 'love kashi', 'love keep', 'love keurig', 'love kids', 'love kind', 'love know', 'love knowing', 'love lemon', 'love licorice', 'love light', 'love like', 'love little', 'love love', 'love low', 'love made', 'love make', 'love makes', 'love making', 'love many', 'love milk', 'love mix', 'love much', 'love natural', 'love never', 'love new', 'love newman', 'love nice', 'love no', 'love noodles', 'love not', 'love nuts', 'love oatmeal', 'love oil', 'love olive', 'love one', 'love order', 'love ordered', 'love ordering', 'love organic', 'love original', 'love packaging', 'love pancakes', 'love particular', 'love pasta', 'love peach', 'love peanut', 'love perfect', 'love popcorn', 'love price', 'love product', 'love products', 'love protein', 'love pumpkin', 'love put', 'love quality', 'love real', 'love really', 'love regular', 'love rice', 'love rich', 'love right', 'love salt', 'love sauce', 'love scent', 'love seasoning', 'love see', 'love senseo', 'love since', 'love size', 'love small', 'love smell', 'love snack', 'love snacks', 'love soft', 'love something', 'love soup', 'love sour', 'love spicy', 'love starbucks', 'love still', 'love strawberry', 'love strong', 'love stuff', 'love subscribe', 'love sugar', 'love sweet', 'love taste', 'love tastes', 'love tasty', 'love tea', 'love teas', 'love texture', 'love thanks', 'love things', 'love think', 'love treat', 'love treats', 'love tried', 'love try', 'love tuna', 'love twinings', 'love use', 'love using', 'love vanilla', 'love variety', 'love water', 'love way', 'love well', 'love white', 'love whole', 'love wish', 'love wonderful', 'love would', 'love yummy', 'loved', 'loved also', 'loved arrived', 'loved bought', 'loved coffee', 'loved cookies', 'loved could', 'loved even', 'loved ever', 'loved every', 'loved first', 'loved flavor', 'loved food', 'loved great', 'loved loved', 'loved much', 'loved no', 'loved not', 'loved one', 'loved ones', 'loved ordered', 'loved product', 'loved said', 'loved since', 'loved stuff', 'loved taste', 'loved tea', 'loved thought', 'loved treats', 'loved well', 'loved went', 'loved would', 'lovely', 'lover', 'lover like', 'lover not', 'lover soul', 'lover would', 'lovers', 'lovers not', 'loves', 'loves also', 'loves always', 'loves anything', 'loves cereal', 'loves chew', 'loves chews', 'loves chicken', 'loves chocolate', 'loves coffee', 'loves cookies', 'loves crackers', 'loves dog', 'loves easy', 'loves eat', 'loves eating', 'loves eats', 'loves em', 'loves even', 'loves feel', 'loves flavor', 'loves flavors', 'loves food', 'loves good', 'loves great', 'loves greenies', 'loves gum', 'loves happy', 'loves healthy', 'loves hot', 'loves keep', 'loves like', 'loves little', 'loves love', 'loves loves', 'loves make', 'loves mix', 'loves much', 'loves no', 'loves not', 'loves one', 'loves pasta', 'loves peanut', 'loves product', 'loves stuff', 'loves taste', 'loves tea', 'loves things', 'loves think', 'loves toy', 'loves treat', 'loves treats', 'loves tried', 'loves used', 'loves well', 'loves would', 'loving', 'low', 'low acid', 'low acidity', 'low behold', 'low caffeine', 'low cal', 'low calorie', 'low calories', 'low carb', 'low carbohydrate', 'low carbs', 'low cost', 'low end', 'low energy', 'low expectations', 'low fat', 'low glycemic', 'low grade', 'low heat', 'low no', 'low not', 'low price', 'low priced', 'low quality', 'low rating', 'low salt', 'low sodium', 'low sugar', 'lower', 'lower blood', 'lower calorie', 'lower calories', 'lower carb', 'lower cholesterol', 'lower cost', 'lower fat', 'lower glycemic', 'lower price', 'lower quality', 'lower salt', 'lower sodium', 'lower sugar', 'lowered', 'lowering', 'lowers', 'lowest', 'lowest price', 'lowfat', 'lox', 'loyal', 'loyal customer', 'luck', 'luck finding', 'luckily', 'luckily found', 'luckily not', 'lucky', 'lucky charms', 'lucky enough', 'lucky get', 'lucy', 'lug', 'luggage', 'lugging', 'lukewarm', 'lump', 'lumps', 'lumpy', 'lunch', 'lunch bag', 'lunch box', 'lunch boxes', 'lunch dinner', 'lunch every', 'lunch not', 'lunch snack', 'lunch time', 'lunch work', 'lunchbox', 'lunches', 'lunchtime', 'lundberg', 'lung', 'lungs', 'lure', 'luscious', 'lush', 'luster', 'luv', 'luxurious', 'luxury', 'luzianne', 'lychee', 'lying', 'lying around', 'mac', 'mac cheese', 'maca', 'macadamia', 'macadamia nut', 'macadamia nuts', 'macaroni', 'macaroni cheese', 'macaroons', 'macchiato', 'machine', 'machine also', 'machine great', 'machine made', 'machine make', 'machine makes', 'machine no', 'machine not', 'machine use', 'machine work', 'machines', 'mackerel', 'mad', 'madagascar', 'madagascar vanilla', 'made', 'made america', 'made another', 'made awesome', 'made batch', 'made best', 'made better', 'made big', 'made bread', 'made brown', 'made cake', 'made chicken', 'made china', 'made chocolate', 'made coffee', 'made company', 'made cookies', 'made corn', 'made cup', 'made dark', 'made day', 'made delicious', 'made difference', 'made dog', 'made easy', 'made even', 'made excellent', 'made facility', 'made feel', 'made first', 'made flour', 'made fresh', 'made gag', 'made gluten', 'made good', 'made great', 'made hair', 'made happy', 'made high', 'made home', 'made homemade', 'made hot', 'made huge', 'made iced', 'made life', 'made like', 'made little', 'made look', 'made lot', 'made many', 'made mexico', 'made milk', 'made mistake', 'made mix', 'made mostly', 'made much', 'made muffins', 'made natural', 'made nice', 'made no', 'made not', 'made one', 'made organic', 'made pancakes', 'made pasta', 'made pizza', 'made pot', 'made product', 'made purchase', 'made pure', 'made quality', 'made real', 'made really', 'made rice', 'made right', 'made scratch', 'made several', 'made sick', 'made small', 'made soup', 'made strong', 'made sugar', 'made sure', 'made switch', 'made taste', 'made tea', 'made think', 'made two', 'made united', 'made us', 'made usa', 'made using', 'made vanilla', 'made want', 'made water', 'made way', 'made wheat', 'made white', 'made whole', 'made without', 'made wonderful', 'made would', 'madhava', 'madras', 'mae', 'mae ploy', 'magazine', 'maggi', 'magic', 'magical', 'magically', 'magnesium', 'magnificent', 'maid', 'mail', 'mail order', 'mail today', 'mailbox', 'mailed', 'mailing', 'main', 'main course', 'main difference', 'main dish', 'main ingredient', 'main ingredients', 'main problem', 'main reason', 'main thing', 'maine', 'maine coon', 'mainly', 'mainstay', 'mainstream', 'maintain', 'maintain freshness', 'maintain weight', 'maintained', 'maintaining', 'maintains', 'maintenance', 'major', 'major brand', 'major brands', 'majority', 'make', 'make add', 'make almond', 'make another', 'make anything', 'make available', 'make baby', 'make bad', 'make batch', 'make best', 'make better', 'make big', 'make bit', 'make bread', 'make cake', 'make chai', 'make chicken', 'make chili', 'make chocolate', 'make coconut', 'make coffee', 'make cookies', 'make cup', 'make cupcakes', 'make cups', 'make curry', 'make day', 'make decent', 'make decision', 'make delicious', 'make difference', 'make dinner', 'make dog', 'make dogs', 'make drink', 'make easier', 'make easy', 'make eat', 'make enough', 'make even', 'make every', 'make everything', 'make excellent', 'make exception', 'make extra', 'make fantastic', 'make favorite', 'make feel', 'make filling', 'make first', 'make flavor', 'make food', 'make french', 'make fresh', 'make full', 'make gallon', 'make gluten', 'make good', 'make gravy', 'make great', 'make green', 'make hair', 'make happy', 'make hard', 'make healthy', 'make home', 'make homemade', 'make hot', 'make huge', 'make ice', 'make iced', 'make jittery', 'make large', 'make last', 'make less', 'make life', 'make like', 'make little', 'make long', 'make look', 'make lot', 'make love', 'make low', 'make make', 'make many', 'make meal', 'make mess', 'make milk', 'make mine', 'make mistake', 'make mix', 'make mocha', 'make mouth', 'make much', 'make muffins', 'make nice', 'make no', 'make not', 'make one', 'make oz', 'make palatable', 'make pancakes', 'make peanut', 'make perfect', 'make pitcher', 'make pizza', 'make point', 'make popcorn', 'make pot', 'make pretty', 'make product', 'make purchase', 'make quick', 'make quite', 'make real', 'make really', 'make recipe', 'make regular', 'make rice', 'make right', 'make salad', 'make sandwich', 'make sauce', 'make scratch', 'make sense', 'make several', 'make sick', 'make simple', 'make small', 'make smaller', 'make smoothie', 'make something', 'make soup', 'make special', 'make strong', 'make stronger', 'make sugar', 'make super', 'make sure', 'make sushi', 'make sweet', 'make switch', 'make taste', 'make tastes', 'make tasty', 'make tea', 'make things', 'make think', 'make two', 'make use', 'make using', 'make vanilla', 'make waffles', 'make want', 'make water', 'make way', 'make well', 'make whole', 'make wonderful', 'make work', 'make worth', 'make would', 'make yummy', 'maker', 'maker christmas', 'maker coffee', 'maker not', 'maker use', 'makers', 'makes', 'makes affordable', 'makes awesome', 'makes best', 'makes better', 'makes big', 'makes bit', 'makes coffee', 'makes convenient', 'makes cups', 'makes decent', 'makes delicious', 'makes difference', 'makes difficult', 'makes easier', 'makes easy', 'makes enough', 'makes even', 'makes everything', 'makes excellent', 'makes fabulous', 'makes feel', 'makes good', 'makes great', 'makes hair', 'makes happy', 'makes hard', 'makes huge', 'makes less', 'makes life', 'makes little', 'makes look', 'makes lot', 'makes mess', 'makes much', 'makes nice', 'makes no', 'makes not', 'makes one', 'makes perfect', 'makes pretty', 'makes price', 'makes product', 'makes quick', 'makes quite', 'makes real', 'makes really', 'makes seem', 'makes sense', 'makes servings', 'makes skin', 'makes strong', 'makes super', 'makes taste', 'makes tasty', 'makes terrific', 'makes think', 'makes two', 'makes want', 'makes wonder', 'makes wonderful', 'makes worth', 'makeup', 'making', 'making available', 'making baby', 'making best', 'making bread', 'making chili', 'making coffee', 'making cup', 'making easy', 'making food', 'making good', 'making great', 'making home', 'making homemade', 'making hot', 'making ice', 'making iced', 'making low', 'making mess', 'making not', 'making one', 'making perfect', 'making pizza', 'making product', 'making sure', 'making sushi', 'making tea', 'making vanilla', 'male', 'male cat', 'males', 'malic', 'mall', 'mallomars', 'malt', 'malt flavor', 'malted', 'malted milk', 'maltese', 'maltitol', 'maltodextrin', 'malts', 'malty', 'mama', 'man', 'man good', 'man made', 'manage', 'manageable', 'managed', 'managed get', 'management', 'manager', 'manager special', 'manages', 'managing', 'mandarin', 'mandarin orange', 'manganese', 'mango', 'mango flavor', 'mango peach', 'mango pineapple', 'mangoes', 'mangos', 'mangosteen', 'manhattan', 'manly', 'manna', 'manner', 'manual', 'manufacture', 'manufactured', 'manufacturer', 'manufacturer not', 'manufacturer website', 'manufacturer writes', 'manufacturers', 'manufactures', 'manufacturing', 'manuka', 'manuka honey', 'many', 'many bags', 'many bars', 'many benefits', 'many boxes', 'many brands', 'many calories', 'many cans', 'many carbs', 'many coffee', 'many coffees', 'many companies', 'many compliments', 'many cookies', 'many crackers', 'many cups', 'many days', 'many different', 'many dishes', 'many dog', 'many energy', 'many flavored', 'many flavors', 'many food', 'many foods', 'many friends', 'many gluten', 'many good', 'many great', 'many grocery', 'many health', 'many healthy', 'many hot', 'many hours', 'many ingredients', 'many items', 'many kinds', 'many many', 'many months', 'many natural', 'many not', 'many one', 'many options', 'many organic', 'many others', 'many people', 'many pieces', 'many places', 'many positive', 'many products', 'many reasons', 'many recipes', 'many restaurants', 'many reviewers', 'many reviews', 'many servings', 'many small', 'many snacks', 'many stores', 'many teas', 'many thanks', 'many things', 'many times', 'many treats', 'many types', 'many us', 'many uses', 'many varieties', 'many ways', 'many whole', 'many wonderful', 'many would', 'many years', 'maple', 'maple brown', 'maple flavor', 'maple sugar', 'maple syrup', 'marathon', 'marble', 'march', 'margarine', 'margarita', 'margarita mix', 'margaritas', 'margin', 'marginally', 'maria', 'marie', 'marinade', 'marinades', 'marinara', 'marinara sauce', 'marinate', 'marinated', 'marinating', 'mark', 'marked', 'markers', 'market', 'market also', 'market great', 'market no', 'market not', 'market one', 'market taste', 'market today', 'market tried', 'market would', 'marketed', 'marketing', 'marketplace', 'markets', 'marks', 'markup', 'marley', 'marley coffee', 'marmalade', 'marmite', 'marriage', 'married', 'marrow', 'mars', 'marshmallow', 'marshmallows', 'marshmellow', 'marshmellows', 'mart', 'martin', 'martini', 'martinis', 'maruchan', 'marvelous', 'mary', 'maryland', 'marzano', 'marzano tomatoes', 'marzipan', 'mas', 'masa', 'masala', 'mash', 'mashed', 'mashed potatoes', 'mask', 'masked', 'masking', 'masks', 'mason', 'mason jar', 'mass', 'mass produced', 'massachusetts', 'massage', 'masses', 'massive', 'master', 'master cleanse', 'mastered', 'masterpiece', 'masters', 'mastiff', 'mat', 'match', 'matcha', 'matcha green', 'matcha tea', 'matched', 'matches', 'matching', 'mate', 'material', 'materials', 'mates', 'math', 'matter', 'matter fact', 'matter long', 'matter minutes', 'matter much', 'matter not', 'matter personal', 'matter taste', 'matters', 'mature', 'maui', 'max', 'maximum', 'maxwell', 'maxwell house', 'maxx', 'may', 'may able', 'may actually', 'may also', 'may best', 'may better', 'may bit', 'may buy', 'may cause', 'may change', 'may contain', 'may different', 'may enjoy', 'may even', 'may find', 'may get', 'may give', 'may go', 'may good', 'may help', 'may like', 'may little', 'may love', 'may make', 'may may', 'may much', 'may need', 'may never', 'may not', 'may seem', 'may sound', 'may still', 'may take', 'may taste', 'may think', 'may try', 'may vary', 'may want', 'may well', 'may work', 'may worth', 'maybe', 'maybe bad', 'maybe better', 'maybe bit', 'maybe different', 'maybe even', 'maybe first', 'maybe good', 'maybe got', 'maybe half', 'maybe like', 'maybe little', 'maybe not', 'maybe one', 'maybe people', 'maybe something', 'maybe taste', 'maybe try', 'maybe two', 'maybe used', 'maybe would', 'mayo', 'mayonnaise', 'mccann', 'mccann steel', 'mccanns', 'mccormick', 'mcdonald', 'mcdougall', 'md', 'meal', 'meal add', 'meal also', 'meal day', 'meal great', 'meal like', 'meal love', 'meal make', 'meal not', 'meal one', 'meal replacement', 'meal snack', 'meal time', 'meal would', 'meals', 'meals day', 'meals like', 'meals not', 'mealtime', 'mealy', 'mean', 'mean like', 'mean not', 'mean really', 'mean would', 'meaning', 'means', 'means get', 'means less', 'means no', 'means not', 'means really', 'meant', 'meantime', 'meanwhile', 'measure', 'measured', 'measurements', 'measures', 'measuring', 'measuring cup', 'measuring spoon', 'meat', 'meat also', 'meat based', 'meat chicken', 'meat content', 'meat first', 'meat fish', 'meat good', 'meat like', 'meat not', 'meat product', 'meat products', 'meat sauce', 'meat vegetables', 'meat veggies', 'meatballs', 'meatless', 'meatloaf', 'meats', 'meats vegetables', 'meats veggies', 'meaty', 'mechanism', 'med', 'medical', 'medical reasons', 'medication', 'medications', 'medicinal', 'medicinals', 'medicine', 'medicines', 'mediocre', 'mediterranean', 'medium', 'medium blend', 'medium bodied', 'medium body', 'medium chain', 'medium dark', 'medium heat', 'medium hot', 'medium large', 'medium roast', 'medium size', 'medium sized', 'medley', 'meds', 'meet', 'meet needs', 'meeting', 'meetings', 'meets', 'mega', 'megafudge', 'meh', 'mei', 'meijer', 'mein', 'melamine', 'melinda', 'melitta', 'melitta cafe', 'melitta coffee', 'mellow', 'mellow flavor', 'mellow taste', 'melon', 'melt', 'melt mouth', 'melt tongue', 'melted', 'melted butter', 'melted chocolate', 'melted together', 'melting', 'melts', 'melts mouth', 'melty', 'member', 'members', 'members family', 'members not', 'membership', 'memorable', 'memories', 'memory', 'memory lane', 'men', 'menstrual', 'mental', 'menthol', 'mention', 'mention not', 'mentioned', 'mentioned not', 'mentioning', 'mentions', 'menu', 'meow', 'meow mix', 'meowing', 'meows', 'merchandise', 'merchant', 'merchants', 'mercury', 'mercy', 'mere', 'merely', 'meringue', 'merits', 'merlot', 'merrick', 'merry', 'mesh', 'mesquite', 'mess', 'mess clean', 'mess no', 'mess not', 'mess would', 'message', 'messed', 'messes', 'messing', 'messy', 'messy not', 'met', 'met expectations', 'metabolism', 'metal', 'metallic', 'metallic taste', 'meter', 'method', 'method use', 'methods', 'metromint', 'mex', 'mexican', 'mexican food', 'mexican restaurant', 'mexican vanilla', 'mexico', 'meyer', 'mg', 'mg caffeine', 'mg per', 'mg sodium', 'mi', 'mi del', 'miami', 'mice', 'michael', 'michael grilled', 'michael keaton', 'michigan', 'micro', 'microwavable', 'microwave', 'microwave minute', 'microwave minutes', 'microwave not', 'microwave oven', 'microwave popcorn', 'microwave seconds', 'microwaveable', 'microwaved', 'microwaves', 'microwaving', 'mid', 'mid afternoon', 'mid day', 'mid morning', 'midday', 'middle', 'middle day', 'middle eastern', 'middle night', 'middle road', 'midnight', 'midnight magic', 'midnight snack', 'midwest', 'might', 'might able', 'might actually', 'might add', 'might also', 'might best', 'might better', 'might bit', 'might buy', 'might consider', 'might enjoy', 'might even', 'might expect', 'might find', 'might get', 'might go', 'might good', 'might help', 'might like', 'might little', 'might make', 'might need', 'might not', 'might one', 'might order', 'might prefer', 'might seem', 'might take', 'might taste', 'might think', 'might try', 'might use', 'might want', 'might well', 'might work', 'might worth', 'mighty', 'mighty leaf', 'mignon', 'migraine', 'migraines', 'mike', 'mild', 'mild coffee', 'mild enough', 'mild flavor', 'mild medium', 'mild not', 'mild pleasant', 'mild sweet', 'mild taste', 'mild tasting', 'milder', 'mildly', 'mildly sweet', 'mile', 'mileage', 'mileage may', 'miles', 'miles away', 'military', 'milk', 'milk add', 'milk added', 'milk almond', 'milk also', 'milk alternative', 'milk bag', 'milk based', 'milk better', 'milk bit', 'milk bone', 'milk bones', 'milk butter', 'milk cereal', 'milk chocolate', 'milk cocoa', 'milk coffee', 'milk cream', 'milk creamer', 'milk dark', 'milk delicious', 'milk drink', 'milk etc', 'milk even', 'milk flavor', 'milk get', 'milk go', 'milk good', 'milk great', 'milk half', 'milk honey', 'milk ice', 'milk instead', 'milk like', 'milk little', 'milk love', 'milk made', 'milk make', 'milk makes', 'milk milk', 'milk minutes', 'milk mix', 'milk mixed', 'milk much', 'milk nice', 'milk no', 'milk not', 'milk one', 'milk plain', 'milk powder', 'milk product', 'milk production', 'milk products', 'milk protein', 'milk really', 'milk shake', 'milk since', 'milk soy', 'milk still', 'milk sugar', 'milk supply', 'milk sweetener', 'milk taste', 'milk tastes', 'milk tea', 'milk think', 'milk tried', 'milk use', 'milk used', 'milk vanilla', 'milk water', 'milk well', 'milk without', 'milk works', 'milk would', 'milk yogurt', 'milka', 'milks', 'milkshake', 'milkshakes', 'milky', 'milky way', 'mill', 'mill organic', 'mill products', 'milled', 'miller', 'millet', 'milligrams', 'million', 'million times', 'millions', 'mills', 'millstone', 'milo', 'mimic', 'min', 'min pin', 'minced', 'minced garlic', 'mincemeat', 'mind', 'mind little', 'mind much', 'mind no', 'mind not', 'mind paying', 'mind spending', 'mind taste', 'mind would', 'minded', 'mindful', 'mine', 'mine arrived', 'mine came', 'mine little', 'mine not', 'mineral', 'mineral oil', 'minerals', 'minerals vitamins', 'minestrone', 'mini', 'mini chocolate', 'mini schnauzer', 'mini wheats', 'miniature', 'miniature poodle', 'miniature schnauzer', 'minimal', 'minimally', 'minimally processed', 'minimize', 'minimum', 'minis', 'minnesota', 'minor', 'mins', 'mint', 'mint chocolate', 'mint flavor', 'mint leaves', 'mint not', 'mint taste', 'mint tea', 'mints', 'mints not', 'minty', 'minty taste', 'minus', 'minus one', 'minute', 'minute two', 'minutes', 'minutes add', 'minutes best', 'minutes cook', 'minutes done', 'minutes eating', 'minutes get', 'minutes great', 'minutes later', 'minutes less', 'minutes let', 'minutes like', 'minutes longer', 'minutes make', 'minutes microwave', 'minutes not', 'minutes one', 'minutes still', 'minutes time', 'minutes would', 'mio', 'miracle', 'miracle noodles', 'miracle whip', 'miracles', 'miraculous', 'mis', 'miserable', 'misery', 'mislead', 'misleading', 'miso', 'miso soup', 'miss', 'missed', 'misses', 'missing', 'missing something', 'mission', 'missouri', 'mist', 'mistake', 'mistake buying', 'mistake not', 'mistake ordering', 'mistaken', 'mistakenly', 'mites', 'mix', 'mix actually', 'mix add', 'mix added', 'mix also', 'mix amazon', 'mix another', 'mix best', 'mix bit', 'mix blender', 'mix bread', 'mix buy', 'mix chocolate', 'mix coffee', 'mix could', 'mix cup', 'mix delicious', 'mix different', 'mix dog', 'mix dry', 'mix easy', 'mix even', 'mix ever', 'mix every', 'mix far', 'mix favorite', 'mix first', 'mix flavor', 'mix flavors', 'mix food', 'mix found', 'mix fruit', 'mix get', 'mix good', 'mix got', 'mix great', 'mix half', 'mix hot', 'mix ingredients', 'mix like', 'mix little', 'mix local', 'mix love', 'mix loves', 'mix made', 'mix make', 'mix makes', 'mix market', 'mix milk', 'mix mine', 'mix mix', 'mix much', 'mix no', 'mix not', 'mix nuts', 'mix oatmeal', 'mix one', 'mix oz', 'mix packet', 'mix perfect', 'mix plain', 'mix powder', 'mix pretty', 'mix product', 'mix really', 'mix regular', 'mix several', 'mix sugar', 'mix sweet', 'mix taste', 'mix tastes', 'mix tea', 'mix time', 'mix together', 'mix tried', 'mix try', 'mix two', 'mix use', 'mix used', 'mix using', 'mix water', 'mix well', 'mix wonderful', 'mix works', 'mix would', 'mix years', 'mixed', 'mixed berry', 'mixed breed', 'mixed drinks', 'mixed fruit', 'mixed little', 'mixed milk', 'mixed nuts', 'mixed reviews', 'mixed tea', 'mixed tocopherols', 'mixed together', 'mixed vegetables', 'mixed water', 'mixed well', 'mixed yogurt', 'mixer', 'mixers', 'mixes', 'mixes easily', 'mixes like', 'mixes not', 'mixes one', 'mixes tried', 'mixes well', 'mixing', 'mixing old', 'mixture', 'mixture not', 'mixtures', 'ml', 'mmm', 'mmmm', 'mmmmm', 'mmmmmm', 'mn', 'mo', 'mocha', 'mocha coffee', 'mocha flavor', 'mocha java', 'mocha latte', 'mochas', 'mochi', 'mocktail', 'mocktails', 'mode', 'model', 'models', 'moderate', 'moderately', 'moderation', 'modern', 'modest', 'modifications', 'modified', 'modify', 'moist', 'moist chewy', 'moist delicious', 'moist flavorful', 'moist not', 'moist tasty', 'moist tender', 'moister', 'moistness', 'moisture', 'moisturize', 'moisturized', 'moisturizer', 'moisturizing', 'mojito', 'mojitos', 'moka', 'molasses', 'mold', 'molded', 'moldy', 'mole', 'molecule', 'moles', 'mom', 'mom birthday', 'mom dad', 'mom loved', 'mom loves', 'mom not', 'mom pop', 'mom used', 'mom voxbox', 'mom would', 'moment', 'moments', 'mommy', 'moms', 'monday', 'monde', 'money', 'money also', 'money back', 'money buy', 'money buying', 'money found', 'money get', 'money go', 'money good', 'money no', 'money not', 'money one', 'money product', 'money saver', 'money since', 'money something', 'money spent', 'money time', 'money use', 'money well', 'money worth', 'money would', 'monin', 'monitor', 'monitoring', 'monkey', 'mono', 'monosodium', 'monosodium glutamate', 'monounsaturated', 'monster', 'montana', 'month', 'month ago', 'month amazon', 'month get', 'month half', 'month later', 'month no', 'month not', 'month old', 'month still', 'month supply', 'month two', 'monthly', 'monthly basis', 'monthly delivery', 'monthly shipment', 'monthly subscription', 'months', 'months ago', 'months away', 'months back', 'months even', 'months expiration', 'months finally', 'months future', 'months great', 'months later', 'months love', 'months months', 'months no', 'months not', 'months old', 'months one', 'months since', 'months still', 'months time', 'months tried', 'months use', 'months without', 'mood', 'moon', 'moral', 'moreover', 'morning', 'morning afternoon', 'morning also', 'morning blend', 'morning breakfast', 'morning brew', 'morning cereal', 'morning coffee', 'morning could', 'morning cup', 'morning drink', 'morning even', 'morning evening', 'morning get', 'morning good', 'morning great', 'morning like', 'morning love', 'morning make', 'morning night', 'morning not', 'morning oatmeal', 'morning one', 'morning pick', 'morning really', 'morning ritual', 'morning snack', 'morning sometimes', 'morning start', 'morning tea', 'morning tried', 'morning wake', 'morning work', 'morning would', 'mornings', 'mornings not', 'moroccan', 'morsel', 'morsels', 'mortar', 'morton', 'mos', 'moss', 'mostly', 'mostly like', 'mostly organic', 'mostly use', 'mostly water', 'motel', 'moth', 'mother', 'mother day', 'mother law', 'mother loves', 'mother milk', 'mother used', 'mothers', 'mothers day', 'moths', 'motion', 'motivated', 'motivation', 'motor', 'motto', 'mound', 'mounds', 'mount', 'mount hagen', 'mountain', 'mountain blueberry', 'mountain coffee', 'mountain dark', 'mountain dew', 'mountains', 'mouse', 'mousse', 'mouth', 'mouth feel', 'mouth feeling', 'mouth full', 'mouth good', 'mouth like', 'mouth no', 'mouth not', 'mouth water', 'mouth watering', 'mouth would', 'mouthfeel', 'mouthful', 'mouths', 'move', 'move around', 'moved', 'moved new', 'movement', 'movements', 'moves', 'movie', 'movie night', 'movie popcorn', 'movie theater', 'movie theatre', 'movies', 'moving', 'mozzarella', 'mr', 'mr coffee', 'mrs', 'mrs dash', 'mrs may', 'ms', 'msg', 'msg no', 'msg not', 'mt', 'mtr', 'much', 'much actually', 'much add', 'much affordable', 'much also', 'much amazon', 'much anything', 'much appreciated', 'much best', 'much better', 'much bigger', 'much bought', 'much buy', 'much caffeine', 'much candy', 'much cereal', 'much cheaper', 'much chocolate', 'much cinnamon', 'much closer', 'much coconut', 'much coffee', 'much convenient', 'much cost', 'much could', 'much decided', 'much definitely', 'much desired', 'much difference', 'much different', 'much dog', 'much drink', 'much easier', 'much eat', 'much economical', 'much either', 'much else', 'much energy', 'much enjoy', 'much enjoyed', 'much even', 'much every', 'much everything', 'much expensive', 'much faster', 'much fat', 'much fiber', 'much find', 'much first', 'much flavor', 'much flavorful', 'much food', 'much found', 'much fresher', 'much fun', 'much get', 'much ginger', 'much give', 'much going', 'much good', 'much got', 'much great', 'much happier', 'much harder', 'much healthier', 'much healthy', 'much higher', 'much hotter', 'much however', 'much improved', 'much larger', 'much less', 'much lighter', 'much like', 'much liked', 'much liquid', 'much little', 'much longer', 'much love', 'much loved', 'much lower', 'much make', 'much making', 'much milk', 'much money', 'much much', 'much need', 'much needed', 'much never', 'much nicer', 'much no', 'much not', 'much oil', 'much one', 'much order', 'much ordered', 'much per', 'much pleasant', 'much plus', 'much possible', 'much prefer', 'much price', 'much product', 'much protein', 'much put', 'much quicker', 'much rather', 'much really', 'much reasonable', 'much recommend', 'much regular', 'much research', 'much richer', 'much room', 'much salt', 'much say', 'much shipping', 'much simpler', 'much since', 'much smaller', 'much smoother', 'much sodium', 'much softer', 'much space', 'much still', 'much stronger', 'much stuff', 'much sugar', 'much superior', 'much surprise', 'much sweet', 'much sweeter', 'much taste', 'much tastes', 'much tastier', 'much tea', 'much think', 'much thinner', 'much though', 'much thought', 'much time', 'much tried', 'much trouble', 'much use', 'much used', 'much using', 'much want', 'much wanted', 'much water', 'much way', 'much weaker', 'much weight', 'much went', 'much work', 'much worse', 'much would', 'mud', 'muddy', 'mudslide', 'muesli', 'muffin', 'muffin mix', 'muffin recipe', 'muffins', 'muffins pancakes', 'mug', 'mug coffee', 'mug hot', 'mug size', 'mug tea', 'mugs', 'muir', 'muir glen', 'mulling', 'multi', 'multi grain', 'multi pack', 'multigrain', 'multipack', 'multiple', 'multiple cats', 'multiple food', 'multiple times', 'multiples', 'multitude', 'multivitamin', 'mum', 'mum mums', 'mums', 'munch', 'munchies', 'munching', 'mung', 'murky', 'muscle', 'muscles', 'muscular', 'mush', 'mushroom', 'mushroom soup', 'mushrooms', 'mushy', 'mushy like', 'mushy not', 'music', 'must', 'must add', 'must admit', 'must buy', 'must changed', 'must eat', 'must good', 'must kitchen', 'must like', 'must not', 'must order', 'must really', 'must refrigerated', 'must say', 'must something', 'must taste', 'must try', 'must use', 'mustard', 'mustard not', 'mustards', 'muster', 'musty', 'muted', 'mutt', 'mylar', 'myriad', 'mysterious', 'mystery', 'naan', 'nabisco', 'nacho', 'nacho cheese', 'nachos', 'nada', 'naga', 'naga jolokia', 'nail', 'nails', 'naked', 'namaste', 'name', 'name brand', 'name brands', 'name implies', 'name like', 'name not', 'name product', 'name says', 'named', 'names', 'nana', 'nantucket', 'nantucket blend', 'nap', 'napa', 'napkin', 'narrow', 'nasal', 'nasty', 'nasty aftertaste', 'nasty bitter', 'nasty not', 'nasty taste', 'nasty tasting', 'nation', 'national', 'national brands', 'native', 'natural', 'natural alternative', 'natural artificial', 'natural balance', 'natural brands', 'natural caffeine', 'natural chicken', 'natural chocolate', 'natural coconut', 'natural delicious', 'natural flavor', 'natural flavors', 'natural food', 'natural foods', 'natural fruit', 'natural fusions', 'natural good', 'natural great', 'natural health', 'natural healthy', 'natural high', 'natural ingredients', 'natural no', 'natural not', 'natural organic', 'natural peanut', 'natural product', 'natural products', 'natural raw', 'natural source', 'natural sugar', 'natural sugars', 'natural sweetener', 'natural sweeteners', 'natural sweetness', 'natural taste', 'natural tasting', 'natural vanilla', 'natural way', 'naturally', 'naturally flavored', 'naturally occurring', 'naturally sweet', 'naturals', 'nature', 'nature chocolate', 'nature path', 'nature valley', 'nature variety', 'natures', 'nausea', 'nauseating', 'nauseous', 'navitas', 'navy', 'nay', 'nc', 'ne', 'near', 'near future', 'near good', 'near house', 'near not', 'nearby', 'nearest', 'nearly', 'nearly every', 'nearly everything', 'nearly good', 'nearly impossible', 'nearly much', 'nearly twice', 'nearly year', 'nearly years', 'neat', 'neatly', 'necco', 'necessarily', 'necessary', 'necessity', 'neck', 'nectar', 'need', 'need add', 'need another', 'need anything', 'need avoid', 'need boost', 'need buy', 'need caffeine', 'need chew', 'need chocolate', 'need cook', 'need cut', 'need drink', 'need eat', 'need extra', 'need find', 'need get', 'need give', 'need gluten', 'need go', 'need good', 'need help', 'need keep', 'need know', 'need less', 'need like', 'need little', 'need lot', 'need make', 'need mix', 'need much', 'need not', 'need one', 'need order', 'need pick', 'need protein', 'need put', 'need quick', 'need refrigerated', 'need refrigeration', 'need salt', 'need say', 'need small', 'need snack', 'need something', 'need stay', 'need sugar', 'need take', 'need try', 'need two', 'need use', 'need watch', 'need without', 'need work', 'need worry', 'needed', 'needed add', 'needed find', 'needed get', 'needed keep', 'needed little', 'needed make', 'needed something', 'needed use', 'needing', 'needle', 'needles', 'needless', 'needless say', 'needs', 'needs little', 'needs no', 'negative', 'negative comment', 'negative effects', 'negative review', 'negative reviews', 'negative side', 'negative thing', 'negatively', 'negatives', 'negligible', 'neighbor', 'neighborhood', 'neighbors', 'neither', 'neither one', 'neither us', 'neon', 'nephew', 'nephews', 'nerds', 'nerve', 'nerves', 'nervous', 'nescafe', 'nespresso', 'ness', 'nest', 'nestle', 'net', 'net carbs', 'network', 'neuro', 'neutral', 'never', 'never able', 'never anything', 'never bad', 'never better', 'never big', 'never bitter', 'never bought', 'never buy', 'never came', 'never change', 'never come', 'never could', 'never disappointed', 'never done', 'never drank', 'never drink', 'never eat', 'never eaten', 'never enough', 'never even', 'never ever', 'never experienced', 'never fails', 'never fan', 'never feel', 'never felt', 'never find', 'never found', 'never get', 'never gets', 'never give', 'never go', 'never going', 'never good', 'never got', 'never gotten', 'never happened', 'never heard', 'never issue', 'never issues', 'never knew', 'never know', 'never left', 'never let', 'never liked', 'never looked', 'never made', 'never make', 'never met', 'never mind', 'never much', 'never not', 'never noticed', 'never one', 'never order', 'never ordered', 'never problem', 'never problems', 'never purchase', 'never purchased', 'never put', 'never quite', 'never really', 'never received', 'never recommend', 'never run', 'never saw', 'never see', 'never seem', 'never seems', 'never seen', 'never stop', 'never taste', 'never tasted', 'never thought', 'never tried', 'never try', 'never use', 'never used', 'never want', 'never without', 'never worry', 'never would', 'nevertheless', 'new', 'new bag', 'new batch', 'new bottle', 'new box', 'new brand', 'new coffee', 'new cup', 'new cups', 'new dog', 'new england', 'new favorite', 'new flavor', 'new flavors', 'new food', 'new foods', 'new formula', 'new gluten', 'new improved', 'new jersey', 'new keurig', 'new level', 'new line', 'new mexico', 'new numi', 'new one', 'new ones', 'new orleans', 'new packaging', 'new product', 'new products', 'new puppy', 'new recipe', 'new shipment', 'new stuff', 'new taste', 'new tea', 'new things', 'new version', 'new way', 'new world', 'new year', 'new years', 'new york', 'new zealand', 'newbie', 'newborn', 'newer', 'newest', 'newly', 'newman', 'newman organic', 'newman organics', 'newman products', 'newmans', 'news', 'newspaper', 'newton', 'newton fruit', 'newtons', 'newtons fruit', 'next', 'next batch', 'next best', 'next day', 'next door', 'next impossible', 'next month', 'next months', 'next morning', 'next one', 'next order', 'next purchase', 'next shipment', 'next step', 'next thing', 'next time', 'next week', 'next year', 'niacin', 'nibble', 'nibbles', 'nibbling', 'nibs', 'nice', 'nice able', 'nice addition', 'nice afternoon', 'nice alternative', 'nice amount', 'nice aroma', 'nice balance', 'nice big', 'nice bite', 'nice blend', 'nice bold', 'nice bonus', 'nice boost', 'nice change', 'nice chewy', 'nice chocolate', 'nice clean', 'nice coffee', 'nice cold', 'nice combination', 'nice consistency', 'nice creamy', 'nice crisp', 'nice crispy', 'nice crunch', 'nice crunchy', 'nice cup', 'nice dark', 'nice drink', 'nice easy', 'nice enough', 'nice find', 'nice firm', 'nice flavor', 'nice fresh', 'nice full', 'nice get', 'nice gift', 'nice glass', 'nice good', 'nice green', 'nice healthy', 'nice hot', 'nice job', 'nice kick', 'nice know', 'nice large', 'nice light', 'nice like', 'nice little', 'nice looking', 'nice mellow', 'nice mild', 'nice mix', 'nice not', 'nice nutty', 'nice option', 'nice packaging', 'nice pick', 'nice price', 'nice product', 'nice quality', 'nice rich', 'nice see', 'nice selection', 'nice since', 'nice size', 'nice sized', 'nice small', 'nice smell', 'nice smooth', 'nice snack', 'nice soft', 'nice something', 'nice spicy', 'nice strong', 'nice sturdy', 'nice subtle', 'nice surprise', 'nice sweet', 'nice tart', 'nice taste', 'nice tasting', 'nice tasty', 'nice tea', 'nice texture', 'nice thick', 'nice thing', 'nice touch', 'nice treat', 'nice variety', 'nice way', 'nice well', 'nice white', 'nice would', 'nicely', 'nicely balanced', 'nicely not', 'nicely packaged', 'nicely packed', 'nicer', 'nicest', 'niche', 'nido', 'niece', 'nieces', 'nifty', 'night', 'night day', 'night dinner', 'night go', 'night no', 'night not', 'night sleep', 'night snack', 'night time', 'nightly', 'nightmare', 'nights', 'nighttime', 'nine', 'ninety', 'nip', 'nipple', 'nipples', 'nirvana', 'nissin', 'nite', 'nj', 'no', 'no added', 'no additional', 'no additives', 'no aftertaste', 'no amount', 'no animal', 'no aroma', 'no artificial', 'no avail', 'no bad', 'no better', 'no big', 'no bite', 'no bitter', 'no bitterness', 'no brainer', 'no brand', 'no broken', 'no caffeine', 'no calorie', 'no calories', 'no carbs', 'no chance', 'no change', 'no charge', 'no chemical', 'no chemicals', 'no chocolate', 'no choice', 'no cholesterol', 'no clean', 'no clue', 'no coffee', 'no comparison', 'no complaints', 'no corn', 'no cost', 'no crash', 'no cream', 'no dairy', 'no damage', 'no desire', 'no difference', 'no different', 'no digestive', 'no directions', 'no doubt', 'no effect', 'no effort', 'no exception', 'no excuse', 'no expert', 'no expiration', 'no extra', 'no fat', 'no fear', 'no filler', 'no fillers', 'no fish', 'no flavor', 'no food', 'no found', 'no funky', 'no funny', 'no fuss', 'no gas', 'no gluten', 'no go', 'no going', 'no good', 'no grain', 'no grains', 'no guilt', 'no harm', 'no hassle', 'no health', 'no heat', 'no high', 'no hint', 'no hydrogenated', 'no idea', 'no ill', 'no improvement', 'no ingredients', 'no instructions', 'no interest', 'no issue', 'no issues', 'no jitters', 'no joke', 'no junk', 'no kidding', 'no leaks', 'no lemon', 'no less', 'no longer', 'no luck', 'no matter', 'no means', 'no measuring', 'no meat', 'no mention', 'no mess', 'no messy', 'no milk', 'no mistake', 'no msg', 'no nasty', 'no near', 'no need', 'no no', 'no not', 'no noticeable', 'no nutritional', 'no odor', 'no oil', 'no one', 'no peanuts', 'no pesticides', 'no place', 'no plastic', 'no preservatives', 'no problem', 'no problems', 'no product', 'no products', 'no pun', 'no question', 'no real', 'no reason', 'no refrigeration', 'no regrets', 'no residue', 'no response', 'no return', 'no returns', 'no reviews', 'no running', 'no salt', 'no saturated', 'no sense', 'no shipping', 'no side', 'no signs', 'no smell', 'no sodium', 'no soy', 'no stars', 'no stomach', 'no strange', 'no substitute', 'no success', 'no sugar', 'no sugars', 'no surprise', 'no sweetener', 'no taste', 'no tax', 'no tea', 'no thanks', 'no thing', 'no time', 'no tomorrow', 'no trans', 'no trouble', 'no unpleasant', 'no use', 'no waste', 'no water', 'no way', 'no weird', 'no wheat', 'no wonder', 'no worries', 'no worry', 'no worse', 'nobody', 'noir', 'noise', 'noisy', 'nom', 'nom nom', 'non', 'non acidic', 'non alcoholic', 'non bitter', 'non celiac', 'non dairy', 'non existent', 'non fat', 'non flavored', 'non gf', 'non gluten', 'non gmo', 'non organic', 'non returnable', 'non stick', 'non stop', 'non sugar', 'non toxic', 'none', 'none better', 'none compare', 'none left', 'none less', 'none not', 'none us', 'nonetheless', 'nonfat', 'nong', 'nong shim', 'nonni', 'nonsense', 'noodle', 'noodle bowl', 'noodle bowls', 'noodle soup', 'noodles', 'noodles add', 'noodles also', 'noodles good', 'noodles great', 'noodles like', 'noodles little', 'noodles no', 'noodles not', 'noodles taste', 'noodles would', 'noon', 'nope', 'nor', 'nor taste', 'nor would', 'nori', 'norm', 'normal', 'normal amount', 'normal not', 'normal size', 'normal sized', 'normally', 'normally buy', 'normally drink', 'normally eat', 'normally find', 'normally get', 'normally like', 'normally not', 'normally prefer', 'normally purchase', 'normally use', 'normally would', 'north', 'north america', 'north carolina', 'northeast', 'northern', 'northern popcorn', 'northwest', 'norwegian', 'nose', 'noses', 'nostalgia', 'nostalgic', 'nostrils', 'not', 'not able', 'not accept', 'not acceptable', 'not access', 'not acidic', 'not actual', 'not actually', 'not add', 'not added', 'not adding', 'not additives', 'not advertise', 'not advertised', 'not affect', 'not affected', 'not afford', 'not afraid', 'not aftertaste', 'not agree', 'not allergic', 'not allow', 'not allowed', 'not already', 'not also', 'not always', 'not amazing', 'not amazon', 'not another', 'not answer', 'not anymore', 'not anyone', 'not anything', 'not anywhere', 'not appeal', 'not appealing', 'not appear', 'not appetizing', 'not apply', 'not appreciate', 'not around', 'not arrive', 'not artificial', 'not ask', 'not attempt', 'not authentic', 'not available', 'not average', 'not aware', 'not awful', 'not back', 'not bad', 'not bag', 'not bags', 'not bake', 'not baked', 'not baking', 'not bear', 'not beat', 'not become', 'not beef', 'not believe', 'not belong', 'not best', 'not better', 'not big', 'not biggest', 'not bit', 'not bite', 'not bitter', 'not black', 'not blame', 'not bland', 'not blend', 'not boil', 'not bold', 'not bother', 'not bothered', 'not bought', 'not box', 'not brand', 'not break', 'not brew', 'not bright', 'not bring', 'not broken', 'not brown', 'not burn', 'not burnt', 'not business', 'not buy', 'not buying', 'not caffeine', 'not call', 'not called', 'not calories', 'not candy', 'not care', 'not careful', 'not carried', 'not carry', 'not carrying', 'not case', 'not cat', 'not catch', 'not cats', 'not cause', 'not celiac', 'not cereal', 'not certain', 'not chalky', 'not chance', 'not change', 'not changed', 'not cheap', 'not cheapest', 'not check', 'not cheese', 'not chemical', 'not chew', 'not chewing', 'not chewy', 'not chicken', 'not china', 'not chocolate', 'not chocolatey', 'not choke', 'not cinnamon', 'not claim', 'not clean', 'not clear', 'not close', 'not cloying', 'not clump', 'not coconut', 'not coffee', 'not cold', 'not come', 'not comment', 'not common', 'not compare', 'not compared', 'not compete', 'not complain', 'not complaining', 'not complete', 'not completely', 'not concentrate', 'not concerned', 'not consider', 'not consistent', 'not consume', 'not contain', 'not continue', 'not convenient', 'not convinced', 'not cook', 'not cooked', 'not cookies', 'not cooking', 'not cool', 'not corn', 'not cost', 'not could', 'not count', 'not cover', 'not crazy', 'not creamy', 'not crispy', 'not crumble', 'not crumbly', 'not crunchy', 'not crushed', 'not cup', 'not cut', 'not daily', 'not dairy', 'not damaged', 'not dare', 'not dark', 'not deal', 'not decide', 'not deep', 'not definitely', 'not delicious', 'not deliver', 'not delivered', 'not dense', 'not describe', 'not detect', 'not diabetic', 'not diet', 'not different', 'not difficult', 'not digest', 'not disappoint', 'not disappointed', 'not discontinue', 'not dissapointed', 'not dissolve', 'not dog', 'not dogs', 'not done', 'not doubt', 'not dried', 'not drink', 'not drinking', 'not drive', 'not drop', 'not dry', 'not easier', 'not easily', 'not easy', 'not eat', 'not eaten', 'not eating', 'not edible', 'not effect', 'not effective', 'not either', 'not eligible', 'not end', 'not energy', 'not enjoy', 'not enjoyable', 'not enough', 'not entirely', 'not equal', 'not especially', 'not even', 'not ever', 'not every', 'not everyday', 'not everyone', 'not everything', 'not exact', 'not exactly', 'not excited', 'not expect', 'not expected', 'not expecting', 'not expensive', 'not experience', 'not experienced', 'not expert', 'not expire', 'not expired', 'not explain', 'not extra', 'not extremely', 'not fact', 'not faint', 'not fair', 'not fake', 'not fall', 'not familiar', 'not fan', 'not fancy', 'not far', 'not fast', 'not fat', 'not fault', 'not favorite', 'not feed', 'not feeding', 'not feel', 'not feeling', 'not figure', 'not figured', 'not fill', 'not filled', 'not filling', 'not find', 'not fine', 'not finish', 'not first', 'not fit', 'not fix', 'not flavor', 'not flavored', 'not flavorful', 'not flavors', 'not follow', 'not fond', 'not food', 'not fool', 'not fooled', 'not forget', 'not found', 'not freeze', 'not french', 'not fresh', 'not fried', 'not fruit', 'not full', 'not fully', 'not fun', 'not generally', 'not get', 'not getting', 'not gf', 'not give', 'not given', 'not giving', 'not gluten', 'not go', 'not going', 'not gone', 'not gonna', 'not good', 'not got', 'not gotten', 'not gourmet', 'not grain', 'not grainy', 'not greasy', 'not great', 'not greatest', 'not green', 'not gritty', 'not gross', 'not ground', 'not grow', 'not half', 'not hand', 'not handle', 'not happen', 'not happier', 'not happy', 'not hard', 'not harsh', 'not hate', 'not health', 'not healthiest', 'not healthy', 'not hear', 'not heard', 'not heat', 'not heavy', 'not help', 'not hesitate', 'not high', 'not highly', 'not hint', 'not hit', 'not hold', 'not home', 'not horrible', 'not hot', 'not hottest', 'not however', 'not huge', 'not human', 'not hungry', 'not hurt', 'not ideal', 'not imagine', 'not immediately', 'not important', 'not impressed', 'not improve', 'not include', 'not included', 'not including', 'not indicate', 'not individually', 'not inexpensive', 'not ingredients', 'not instant', 'not intended', 'not intense', 'not interested', 'not issue', 'not issues', 'not item', 'not justify', 'not keep', 'not kidding', 'not kids', 'not kill', 'not kind', 'not know', 'not knowing', 'not known', 'not labeled', 'not large', 'not last', 'not leak', 'not least', 'not leave', 'not left', 'not less', 'not let', 'not lie', 'not light', 'not like', 'not liked', 'not likely', 'not liking', 'not liquid', 'not list', 'not listed', 'not listen', 'not little', 'not live', 'not loaded', 'not local', 'not locate', 'not long', 'not look', 'not looked', 'not looking', 'not loose', 'not lose', 'not lost', 'not lot', 'not love', 'not loved', 'not low', 'not made', 'not make', 'not makes', 'not making', 'not many', 'not match', 'not matter', 'not may', 'not maybe', 'not meal', 'not mean', 'not meant', 'not measure', 'not meet', 'not melt', 'not melted', 'not mention', 'not mentioned', 'not mess', 'not messy', 'not mild', 'not milk', 'not mind', 'not miss', 'not mix', 'not moist', 'not mood', 'not move', 'not much', 'not mushy', 'not nasty', 'not natural', 'not near', 'not nearly', 'not necessarily', 'not necessary', 'not need', 'not needed', 'not never', 'not new', 'not nice', 'not no', 'not normal', 'not normally', 'not not', 'not notice', 'not noticeable', 'not noticed', 'not nuts', 'not obvious', 'not odor', 'not offer', 'not often', 'not oil', 'not oily', 'not old', 'not one', 'not open', 'not opened', 'not option', 'not order', 'not ordered', 'not ordering', 'not organic', 'not original', 'not overbearing', 'not overcook', 'not overdo', 'not overdone', 'not overly', 'not overpower', 'not overpowering', 'not overpoweringly', 'not overwhelm', 'not overwhelming', 'not overwhelmingly', 'not pack', 'not package', 'not packaged', 'not packed', 'not part', 'not particular', 'not particularly', 'not pass', 'not pasta', 'not pay', 'not paying', 'not peanut', 'not people', 'not perfect', 'not personally', 'not pick', 'not picky', 'not pictured', 'not pieces', 'not place', 'not plain', 'not plan', 'not plastic', 'not pleasant', 'not pleased', 'not point', 'not pop', 'not possible', 'not possibly', 'not pour', 'not power', 'not powering', 'not pre', 'not prefer', 'not prepared', 'not pretty', 'not price', 'not pricey', 'not problem', 'not problems', 'not processed', 'not produce', 'not product', 'not products', 'not promote', 'not pronounce', 'not properly', 'not provide', 'not purchase', 'not purchased', 'not purchasing', 'not pure', 'not put', 'not putting', 'not quality', 'not quick', 'not quite', 'not raise', 'not rate', 'not raw', 'not reach', 'not read', 'not readily', 'not reading', 'not ready', 'not real', 'not realize', 'not realized', 'not realizing', 'not really', 'not recall', 'not receive', 'not received', 'not recognize', 'not recommend', 'not recommended', 'not refrigerated', 'not regret', 'not regular', 'not rely', 'not remember', 'not remove', 'not reorder', 'not replace', 'not require', 'not resealable', 'not resist', 'not respond', 'not return', 'not returnable', 'not returned', 'not review', 'not rich', 'not right', 'not rip', 'not rise', 'not risk', 'not robust', 'not rubbery', 'not ruin', 'not run', 'not runny', 'not safe', 'not said', 'not sale', 'not salt', 'not salted', 'not salty', 'not satisfied', 'not satisfy', 'not satisfying', 'not save', 'not say', 'not saying', 'not seal', 'not sealed', 'not see', 'not seem', 'not seen', 'not sell', 'not seller', 'not send', 'not sensitive', 'not serve', 'not set', 'not shake', 'not share', 'not sharp', 'not ship', 'not shipped', 'not shipping', 'not show', 'not sick', 'not sickly', 'not side', 'not simply', 'not since', 'not single', 'not sit', 'not skimp', 'not sleep', 'not small', 'not smell', 'not smooth', 'not soda', 'not soft', 'not soggy', 'not sold', 'not someone', 'not something', 'not sorry', 'not sound', 'not soup', 'not sour', 'not soy', 'not speak', 'not special', 'not spend', 'not spicy', 'not spike', 'not spill', 'not spoil', 'not squeeze', 'not stain', 'not stale', 'not stand', 'not standard', 'not starbucks', 'not start', 'not state', 'not stay', 'not stick', 'not sticky', 'not still', 'not stink', 'not stir', 'not stock', 'not stomach', 'not stop', 'not store', 'not stores', 'not stress', 'not strong', 'not stuff', 'not substitute', 'not subtle', 'not successful', 'not suffer', 'not sugar', 'not sugary', 'not suggest', 'not suitable', 'not super', 'not supposed', 'not sure', 'not surprised', 'not surprising', 'not swallow', 'not sweet', 'not sweetened', 'not syrupy', 'not take', 'not taken', 'not taking', 'not tart', 'not taste', 'not tasted', 'not tastes', 'not tasting', 'not tasty', 'not tea', 'not tear', 'not tell', 'not tend', 'not terrible', 'not terribly', 'not texture', 'not thick', 'not thin', 'not thing', 'not think', 'not thought', 'not thrilled', 'not throw', 'not thrown', 'not time', 'not tolerate', 'not top', 'not totally', 'not touch', 'not tough', 'not traditional', 'not travel', 'not treat', 'not treats', 'not tried', 'not trouble', 'not true', 'not truly', 'not trust', 'not try', 'not trying', 'not turn', 'not two', 'not type', 'not typical', 'not typically', 'not understand', 'not unlike', 'not unpleasant', 'not upset', 'not us', 'not use', 'not used', 'not using', 'not usual', 'not usually', 'not vegan', 'not vegetarian', 'not vouch', 'not wait', 'not wake', 'not want', 'not wanted', 'not wanting', 'not wash', 'not waste', 'not watching', 'not water', 'not watered', 'not watery', 'not way', 'not weak', 'not weigh', 'not weird', 'not well', 'not wheat', 'not white', 'not whole', 'not willing', 'not wish', 'not without', 'not wonderful', 'not work', 'not working', 'not worried', 'not worry', 'not worse', 'not worst', 'not worth', 'not would', 'not write', 'not years', 'not yet', 'notable', 'notch', 'notches', 'note', 'note also', 'note amazon', 'note however', 'note not', 'note one', 'note review', 'noted', 'noted not', 'notes', 'nothing', 'nothing added', 'nothing artificial', 'nothing bad', 'nothing beats', 'nothing better', 'nothing comes', 'nothing compare', 'nothing compares', 'nothing could', 'nothing else', 'nothing even', 'nothing ever', 'nothing good', 'nothing happened', 'nothing helped', 'nothing like', 'nothing not', 'nothing quite', 'nothing really', 'nothing short', 'nothing special', 'nothing worked', 'nothing would', 'nothing write', 'nothing wrong', 'noticable', 'notice', 'notice difference', 'notice not', 'noticeable', 'noticeable difference', 'noticeable not', 'noticeably', 'noticed', 'noticed difference', 'noticed huge', 'noticed many', 'noticed no', 'noticed not', 'notices', 'noticing', 'notification', 'notified', 'noting', 'notreat', 'nougat', 'nourish', 'nourished', 'nourishing', 'nourishment', 'nov', 'novel', 'novelty', 'november', 'novice', 'nowadays', 'nowhere', 'nowhere near', 'nozzle', 'nuff', 'nuff said', 'nugget', 'nuggets', 'nuke', 'numb', 'number', 'number different', 'number one', 'number times', 'number years', 'numbers', 'numerous', 'numerous brands', 'numerous times', 'numi', 'numi love', 'numi tea', 'numi teas', 'nunaturals', 'nurse', 'nursing', 'nut', 'nut allergies', 'nut bar', 'nut bars', 'nut bread', 'nut butter', 'nut butters', 'nut cheerios', 'nut company', 'nut flavor', 'nut free', 'nut milk', 'nut mix', 'nutella', 'nutiva', 'nutiva coconut', 'nutiva organic', 'nutmeg', 'nutramigen', 'nutrasweet', 'nutri', 'nutri grain', 'nutricious', 'nutricity', 'nutrient', 'nutrients', 'nutrition', 'nutrition bars', 'nutrition facts', 'nutrition info', 'nutrition information', 'nutrition label', 'nutritional', 'nutritional benefits', 'nutritional content', 'nutritional facts', 'nutritional info', 'nutritional information', 'nutritional profile', 'nutritional value', 'nutritional values', 'nutritional yeast', 'nutritionally', 'nutritionist', 'nutritious', 'nutritious food', 'nutritious snack', 'nutro', 'nuts', 'nuts chocolate', 'nuts dried', 'nuts fresh', 'nuts fruit', 'nuts good', 'nuts great', 'nuts love', 'nuts no', 'nuts not', 'nuts seeds', 'nutshell', 'nuttier', 'nuttiness', 'nutty', 'nutty flavor', 'nutty taste', 'ny', 'nyc', 'nylabone', 'nylabones', 'nylon', 'oak', 'oat', 'oat bran', 'oat flour', 'oatmeal', 'oatmeal also', 'oatmeal best', 'oatmeal breakfast', 'oatmeal cereal', 'oatmeal cookie', 'oatmeal cookies', 'oatmeal ever', 'oatmeal every', 'oatmeal favorite', 'oatmeal great', 'oatmeal morning', 'oatmeal not', 'oatmeal raisin', 'oatmeal squares', 'oatmeal years', 'oatmeals', 'oats', 'oats not', 'obedience', 'oberto', 'obese', 'obesity', 'object', 'obnoxious', 'observation', 'observed', 'obsessed', 'obsession', 'obtain', 'obtained', 'obtaining', 'obvious', 'obviously', 'obviously not', 'occasion', 'occasional', 'occasional cup', 'occasional treat', 'occasionally', 'occasions', 'occupied', 'occupy', 'occur', 'occurred', 'occurrence', 'occurring', 'occurs', 'ocean', 'ocean spray', 'oclock', 'oclock coffee', 'oct', 'october', 'octopus', 'odd', 'odd aftertaste', 'odd taste', 'oddly', 'oddly enough', 'odds', 'oder', 'odor', 'odor free', 'odor not', 'odors', 'offending', 'offensive', 'offer', 'offered', 'offered amazon', 'offered not', 'offering', 'offering great', 'offerings', 'offers', 'offers great', 'office', 'office not', 'official', 'officially', 'offs', 'offset', 'often', 'often add', 'often buy', 'often eat', 'often enough', 'often find', 'often get', 'often hard', 'often make', 'often not', 'often times', 'often use', 'often used', 'often would', 'oh', 'oh also', 'oh boy', 'oh god', 'oh good', 'oh goodness', 'oh gosh', 'oh man', 'oh no', 'oh not', 'oh way', 'oh well', 'oh yeah', 'oh yes', 'ohio', 'oil', 'oil add', 'oil added', 'oil also', 'oil best', 'oil butter', 'oil coconut', 'oil cooking', 'oil could', 'oil cup', 'oil even', 'oil ever', 'oil first', 'oil flavor', 'oil found', 'oil fresh', 'oil garlic', 'oil good', 'oil great', 'oil hair', 'oil high', 'oil instead', 'oil lemon', 'oil like', 'oil little', 'oil love', 'oil made', 'oil make', 'oil makes', 'oil much', 'oil nice', 'oil no', 'oil not', 'oil one', 'oil organic', 'oil product', 'oil really', 'oil salt', 'oil sea', 'oil smells', 'oil solid', 'oil still', 'oil sugar', 'oil taste', 'oil tastes', 'oil tried', 'oil try', 'oil use', 'oil used', 'oil using', 'oil vinegar', 'oil water', 'oil wonderful', 'oil would', 'oil years', 'oiled', 'oils', 'oils not', 'oils used', 'oily', 'oj', 'ok', 'ok first', 'ok maybe', 'ok not', 'ok nothing', 'ok would', 'okay', 'okay first', 'okay maybe', 'okay not', 'okay would', 'ol', 'old', 'old age', 'old baby', 'old batch', 'old brand', 'old cat', 'old cats', 'old coffee', 'old could', 'old daughter', 'old days', 'old dog', 'old eat', 'old eating', 'old enough', 'old even', 'old fashion', 'old fashioned', 'old favorite', 'old food', 'old formula', 'old german', 'old golden', 'old grandson', 'old lab', 'old lb', 'old like', 'old likes', 'old love', 'old loved', 'old loves', 'old man', 'old mother', 'old new', 'old not', 'old one', 'old ones', 'old product', 'old puppy', 'old really', 'old recipe', 'old school', 'old son', 'old stale', 'old still', 'old stock', 'old stuff', 'old time', 'old twins', 'old would', 'old year', 'older', 'older cat', 'older dog', 'older dogs', 'oldest', 'olds', 'ole', 'olive', 'olive oil', 'olive oils', 'olives', 'omaha', 'omaha steaks', 'omega', 'omega fatty', 'omelet', 'omelettes', 'omg', 'omitted', 'one', 'one absolutely', 'one actually', 'one almost', 'one already', 'one also', 'one always', 'one amazon', 'one another', 'one around', 'one away', 'one back', 'one bad', 'one bag', 'one bags', 'one bar', 'one bars', 'one batch', 'one best', 'one better', 'one big', 'one bit', 'one bite', 'one bottle', 'one bottles', 'one bought', 'one bowl', 'one box', 'one boxes', 'one brand', 'one brands', 'one breakfast', 'one broken', 'one buy', 'one came', 'one candy', 'one cannot', 'one cans', 'one case', 'one cat', 'one cats', 'one caveat', 'one cereal', 'one certainly', 'one children', 'one chocolate', 'one close', 'one coffee', 'one comes', 'one complaint', 'one container', 'one cookie', 'one cookies', 'one could', 'one cup', 'one cups', 'one daughter', 'one day', 'one days', 'one definitely', 'one delicious', 'one diet', 'one different', 'one dish', 'one dog', 'one dogs', 'one dollar', 'one downside', 'one drawback', 'one drink', 'one drinks', 'one drop', 'one easy', 'one eat', 'one eating', 'one eats', 'one else', 'one end', 'one especially', 'one even', 'one evening', 'one ever', 'one every', 'one excellent', 'one exception', 'one expensive', 'one extra', 'one family', 'one far', 'one favorite', 'one favorites', 'one feel', 'one find', 'one fine', 'one first', 'one flavor', 'one flavors', 'one food', 'one foods', 'one found', 'one four', 'one free', 'one fresh', 'one friend', 'one friends', 'one full', 'one gave', 'one get', 'one gets', 'one gift', 'one give', 'one glad', 'one glass', 'one go', 'one going', 'one good', 'one got', 'one great', 'one greatest', 'one grocery', 'one half', 'one hand', 'one happy', 'one hard', 'one healthiest', 'one healthy', 'one highly', 'one home', 'one hot', 'one hour', 'one house', 'one however', 'one huge', 'one husband', 'one ingredient', 'one ingredients', 'one instead', 'one issue', 'one item', 'one jar', 'one keep', 'one kids', 'one kind', 'one knew', 'one know', 'one large', 'one last', 'one lasted', 'one lb', 'one least', 'one left', 'one less', 'one life', 'one like', 'one liked', 'one likes', 'one little', 'one local', 'one long', 'one looked', 'one looking', 'one love', 'one loved', 'one loves', 'one lunch', 'one made', 'one main', 'one major', 'one make', 'one makes', 'one many', 'one may', 'one maybe', 'one meal', 'one meals', 'one might', 'one minute', 'one minutes', 'one month', 'one morning', 'one mouth', 'one much', 'one must', 'one near', 'one need', 'one needs', 'one negative', 'one never', 'one new', 'one next', 'one nice', 'one night', 'one no', 'one not', 'one note', 'one office', 'one old', 'one older', 'one one', 'one open', 'one opened', 'one order', 'one ordered', 'one others', 'one ounce', 'one oz', 'one pack', 'one package', 'one packet', 'one part', 'one particular', 'one people', 'one per', 'one perfect', 'one person', 'one picky', 'one pictured', 'one piece', 'one place', 'one pod', 'one point', 'one pot', 'one pouch', 'one pound', 'one pretty', 'one price', 'one probably', 'one problem', 'one product', 'one products', 'one purchase', 'one purse', 'one put', 'one quickly', 'one quite', 'one really', 'one reason', 'one reasons', 'one received', 'one recipe', 'one regular', 'one review', 'one reviewer', 'one reviewers', 'one right', 'one said', 'one say', 'one scoop', 'one see', 'one seemed', 'one seems', 'one serving', 'one several', 'one shot', 'one side', 'one simply', 'one since', 'one single', 'one sip', 'one sitting', 'one six', 'one small', 'one smooth', 'one snack', 'one sold', 'one son', 'one soon', 'one special', 'one squeeze', 'one star', 'one step', 'one stick', 'one still', 'one store', 'one sugar', 'one suggestion', 'one super', 'one sure', 'one sweet', 'one tablespoon', 'one take', 'one takes', 'one taste', 'one tasted', 'one tastes', 'one tasty', 'one tea', 'one teas', 'one teaspoon', 'one tell', 'one thing', 'one things', 'one think', 'one third', 'one though', 'one thought', 'one three', 'one time', 'one tiny', 'one top', 'one tops', 'one treat', 'one treats', 'one tried', 'one truly', 'one try', 'one two', 'one type', 'one us', 'one use', 'one used', 'one using', 'one usually', 'one want', 'one wants', 'one warning', 'one way', 'one week', 'one well', 'one went', 'one whole', 'one wife', 'one winner', 'one without', 'one word', 'one work', 'one worked', 'one works', 'one worst', 'one worth', 'one would', 'one year', 'one years', 'one yet', 'one yummy', 'ones', 'ones also', 'ones best', 'ones bought', 'ones buy', 'ones even', 'ones find', 'ones get', 'ones good', 'ones got', 'ones great', 'ones left', 'ones like', 'ones made', 'ones not', 'ones one', 'ones ordered', 'ones purchased', 'ones really', 'ones received', 'ones still', 'ones taste', 'ones tried', 'ones use', 'ones used', 'ones would', 'ongoing', 'onion', 'onion flavor', 'onion garlic', 'onion powder', 'onion rings', 'onions', 'onions garlic', 'onions not', 'online', 'online amazon', 'online buy', 'online find', 'online found', 'online great', 'online local', 'online no', 'online not', 'online order', 'online ordered', 'online price', 'online purchase', 'online see', 'online since', 'online store', 'onto', 'oolong', 'oolong tea', 'oolong teas', 'oomph', 'oops', 'op', 'opaque', 'open', 'open bag', 'open bottle', 'open box', 'open close', 'open container', 'open jar', 'open lid', 'open new', 'open not', 'open one', 'open package', 'open put', 'open top', 'opened', 'opened bag', 'opened bottle', 'opened box', 'opened first', 'opened jar', 'opened new', 'opened not', 'opened one', 'opened package', 'opened second', 'opener', 'opening', 'opening bag', 'opening box', 'opening package', 'opens', 'operate', 'operation', 'opinion', 'opinion best', 'opinion much', 'opinion not', 'opinion product', 'opinion taste', 'opinion would', 'opinions', 'opportunity', 'opportunity try', 'opposed', 'opposite', 'oprah', 'opt', 'opted', 'optimal', 'optimum', 'option', 'option not', 'optional', 'options', 'options available', 'options not', 'oral', 'orange', 'orange blossom', 'orange color', 'orange flavor', 'orange flavored', 'orange juice', 'orange lemon', 'orange not', 'orange oil', 'orange peel', 'orange pekoe', 'orange soda', 'orange spice', 'orange tangerine', 'orange taste', 'oranges', 'orbit', 'orchard', 'orchid', 'orchids', 'order', 'order already', 'order also', 'order always', 'order amazon', 'order another', 'order arrived', 'order bag', 'order bags', 'order beans', 'order box', 'order boxes', 'order bulk', 'order buy', 'order came', 'order case', 'order cases', 'order coffee', 'order company', 'order could', 'order couple', 'order delivered', 'order different', 'order directly', 'order even', 'order every', 'order first', 'order flavor', 'order food', 'order found', 'order free', 'order future', 'order get', 'order good', 'order got', 'order great', 'order however', 'order item', 'order keep', 'order like', 'order line', 'order love', 'order make', 'order many', 'order may', 'order need', 'order new', 'order next', 'order no', 'order not', 'order often', 'order one', 'order online', 'order order', 'order pack', 'order placed', 'order price', 'order product', 'order quickly', 'order really', 'order received', 'order regular', 'order right', 'order run', 'order second', 'order seller', 'order shipped', 'order since', 'order six', 'order smaller', 'order soon', 'order subscribe', 'order sure', 'order tea', 'order thank', 'order thanks', 'order thru', 'order time', 'order today', 'order try', 'order two', 'order use', 'order variety', 'order via', 'order whole', 'order would', 'ordered', 'ordered amazon', 'ordered another', 'ordered arrived', 'ordered bag', 'ordered bags', 'ordered based', 'ordered beans', 'ordered box', 'ordered boxes', 'ordered brand', 'ordered came', 'ordered case', 'ordered cases', 'ordered chocolate', 'ordered coffee', 'ordered company', 'ordered couple', 'ordered different', 'ordered first', 'ordered food', 'ordered gift', 'ordered good', 'ordered item', 'ordered large', 'ordered last', 'ordered love', 'ordered many', 'ordered no', 'ordered not', 'ordered one', 'ordered online', 'ordered oz', 'ordered pack', 'ordered package', 'ordered product', 'ordered received', 'ordered second', 'ordered several', 'ordered six', 'ordered tea', 'ordered thinking', 'ordered thought', 'ordered three', 'ordered time', 'ordered try', 'ordered twice', 'ordered two', 'ordered whole', 'ordered would', 'ordering', 'ordering amazon', 'ordering another', 'ordering bulk', 'ordering case', 'ordering coffee', 'ordering company', 'ordering food', 'ordering future', 'ordering item', 'ordering not', 'ordering one', 'ordering online', 'ordering product', 'ordering soon', 'ordering tea', 'ordering two', 'orders', 'ordinarily', 'ordinary', 'oregano', 'oregon', 'oregon chai', 'oreo', 'oreo cookies', 'oreos', 'orgain', 'organ', 'organic', 'organic agave', 'organic also', 'organic apple', 'organic baby', 'organic beans', 'organic black', 'organic brand', 'organic brands', 'organic brown', 'organic chicken', 'organic chocolate', 'organic cinnamon', 'organic cocoa', 'organic coconut', 'organic coffee', 'organic contains', 'organic corn', 'organic dark', 'organic decaf', 'organic delicious', 'organic dried', 'organic evaporated', 'organic even', 'organic extra', 'organic fair', 'organic food', 'organic foods', 'organic formula', 'organic free', 'organic ginger', 'organic gluten', 'organic good', 'organic great', 'organic green', 'organic healthy', 'organic honey', 'organic ingredients', 'organic kosher', 'organic low', 'organic maple', 'organic milk', 'organic natural', 'organic no', 'organic non', 'organic not', 'organic one', 'organic popcorn', 'organic product', 'organic products', 'organic raw', 'organic rice', 'organic soy', 'organic sugar', 'organic tea', 'organic valley', 'organic vanilla', 'organic version', 'organic wheat', 'organic white', 'organic whole', 'organic would', 'organically', 'organically grown', 'organics', 'organisms', 'organix', 'organization', 'organizations', 'organized', 'organs', 'orginal', 'orginally', 'oriental', 'oriented', 'origin', 'original', 'original flavor', 'original formula', 'original not', 'original packaging', 'original recipe', 'original review', 'original taste', 'original version', 'originally', 'originally bought', 'originally found', 'originally ordered', 'originally purchased', 'originals', 'originated', 'orijen', 'orleans', 'orville', 'orville redenbacher', 'orzo', 'os', 'oscar', 'osmosis', 'ot', 'otc', 'others', 'others always', 'others good', 'others like', 'others may', 'others mentioned', 'others might', 'others not', 'others noted', 'others one', 'others said', 'others say', 'others stated', 'others taste', 'others thank', 'others tried', 'others try', 'otherwise', 'otherwise good', 'otherwise great', 'otherwise love', 'otherwise not', 'otherwise would', 'ouch', 'ought', 'ounce', 'ounce bag', 'ounce bags', 'ounce bottle', 'ounce box', 'ounce cans', 'ounce cup', 'ounce jar', 'ounce ounce', 'ounce package', 'ounce packages', 'ounce size', 'ounces', 'ounces not', 'ounces per', 'ounces water', 'outcome', 'outdated', 'outdoor', 'outdoors', 'outer', 'outer box', 'outer layer', 'outer shell', 'outlet', 'outlets', 'output', 'outrageous', 'outrageous price', 'outrageously', 'outright', 'outs', 'outside', 'outside box', 'outside soft', 'outstanding', 'outstanding product', 'outweigh', 'ovaltine', 'oven', 'oven baked', 'oven degrees', 'oven minutes', 'oven not', 'overall', 'overall excellent', 'overall flavor', 'overall good', 'overall great', 'overall happy', 'overall health', 'overall highly', 'overall like', 'overall nice', 'overall not', 'overall pleased', 'overall pretty', 'overall product', 'overall quality', 'overall really', 'overall satisfied', 'overall taste', 'overall think', 'overall though', 'overall would', 'overbearing', 'overboard', 'overcome', 'overcook', 'overcooked', 'overdo', 'overdone', 'overflow', 'overload', 'overlook', 'overlooked', 'overly', 'overly salty', 'overly spicy', 'overly strong', 'overly sweet', 'overnight', 'overpower', 'overpowered', 'overpowering', 'overpowering like', 'overpowering not', 'overpowering taste', 'overpoweringly', 'overpowers', 'overpriced', 'overs', 'overseas', 'overtone', 'overtones', 'overweight', 'overwhelm', 'overwhelmed', 'overwhelming', 'overwhelming taste', 'overwhelmingly', 'overwhelms', 'owe', 'owned', 'owned company', 'owner', 'owners', 'owning', 'owns', 'oxidant', 'oxidants', 'oxidation', 'oxidized', 'oxygen', 'oyster', 'oysters', 'oz', 'oz bag', 'oz bags', 'oz bottle', 'oz bottles', 'oz box', 'oz boxes', 'oz cans', 'oz container', 'oz cup', 'oz cups', 'oz glass', 'oz jar', 'oz jars', 'oz not', 'oz oz', 'oz package', 'oz packages', 'oz packs', 'oz per', 'oz serving', 'oz setting', 'oz show', 'oz size', 'oz water', 'ozs', 'pa', 'pace', 'pacific', 'pacific natural', 'pack', 'pack also', 'pack amazon', 'pack best', 'pack box', 'pack boxes', 'pack came', 'pack comes', 'pack contains', 'pack cups', 'pack every', 'pack good', 'pack got', 'pack great', 'pack instead', 'pack keep', 'pack last', 'pack like', 'pack local', 'pack lunch', 'pack makes', 'pack much', 'pack not', 'pack one', 'pack ordered', 'pack oz', 'pack price', 'pack product', 'pack really', 'pack six', 'pack three', 'pack try', 'pack two', 'pack well', 'pack would', 'package', 'package also', 'package amazon', 'package arrived', 'package calories', 'package came', 'package comes', 'package contains', 'package could', 'package delivered', 'package directions', 'package even', 'package good', 'package got', 'package great', 'package instructions', 'package like', 'package little', 'package looks', 'package make', 'package makes', 'package no', 'package not', 'package one', 'package opened', 'package product', 'package received', 'package said', 'package says', 'package size', 'package states', 'package still', 'package time', 'package two', 'package well', 'package would', 'packaged', 'packaged box', 'packaged food', 'packaged fresh', 'packaged great', 'packaged nicely', 'packaged no', 'packaged not', 'packaged small', 'packaged well', 'packages', 'packages not', 'packages would', 'packaging', 'packaging also', 'packaging arrived', 'packaging convenient', 'packaging could', 'packaging easy', 'packaging good', 'packaging great', 'packaging little', 'packaging looks', 'packaging love', 'packaging makes', 'packaging nice', 'packaging no', 'packaging not', 'packaging perfect', 'packaging product', 'packaging really', 'packaging shipping', 'packaging would', 'packed', 'packed box', 'packed flavor', 'packed full', 'packed well', 'packet', 'packet makes', 'packet not', 'packet one', 'packet splenda', 'packet stevia', 'packets', 'packets easy', 'packets great', 'packets make', 'packets not', 'packets one', 'packets perfect', 'packets splenda', 'packing', 'packing box', 'packing material', 'packing peanuts', 'packs', 'packs amazon', 'packs great', 'packs nice', 'packs not', 'pad', 'pad thai', 'padded', 'padding', 'pads', 'paella', 'page', 'page not', 'paid', 'paid amazon', 'paid attention', 'paid less', 'paid much', 'paid not', 'paid shipping', 'pail', 'pain', 'painful', 'painfully', 'pains', 'paint', 'painted', 'pair', 'pair scissors', 'paired', 'pairing', 'pairs', 'pairs well', 'pak', 'pal', 'palatable', 'palate', 'palate not', 'palates', 'pale', 'pale comparison', 'paleo', 'palette', 'pallet', 'palm', 'palm kernel', 'palm oil', 'palm sugar', 'pam', 'pamela', 'pamela baking', 'pamela products', 'pamelas', 'pan', 'pan fried', 'pan fry', 'pan not', 'panang', 'pancake', 'pancake mix', 'pancake mixes', 'pancake syrup', 'pancake waffle', 'pancakes', 'pancakes not', 'pancakes waffles', 'pancreatitis', 'panda', 'paneer', 'panel', 'pangs', 'panic', 'panicked', 'panko', 'pans', 'pantene', 'pantry', 'pantry not', 'pantry shelf', 'pants', 'papaya', 'paper', 'paper bag', 'paper filter', 'paper not', 'paper towel', 'paper towels', 'papers', 'papillon', 'paprika', 'par', 'paradise', 'paragon', 'parchment', 'parchment paper', 'parent', 'parents', 'parents loved', 'paris', 'parisian', 'park', 'parm', 'parmesan', 'parmesan cheese', 'parsley', 'part', 'part amazon', 'part daily', 'part diet', 'part gift', 'part no', 'part not', 'part product', 'part taste', 'partake', 'parthenon', 'partial', 'partially', 'partially hydrogenated', 'particles', 'particular', 'particular blend', 'particular brand', 'particular coffee', 'particular flavor', 'particular item', 'particular one', 'particular product', 'particular tea', 'particular variety', 'particularly', 'particularly good', 'particularly like', 'particularly love', 'parties', 'partly', 'partner', 'partners', 'parts', 'parts water', 'party', 'party everyone', 'party favor', 'party favors', 'paso', 'pass', 'passable', 'passed', 'passes', 'passing', 'passion', 'passion fruit', 'passionate', 'passover', 'past', 'past best', 'past couple', 'past expiration', 'past month', 'past months', 'past not', 'past taste', 'past two', 'past used', 'past week', 'past weekend', 'past year', 'past years', 'pasta', 'pasta also', 'pasta delicious', 'pasta dish', 'pasta dishes', 'pasta even', 'pasta ever', 'pasta good', 'pasta great', 'pasta like', 'pasta made', 'pasta much', 'pasta no', 'pasta not', 'pasta one', 'pasta pasta', 'pasta products', 'pasta really', 'pasta rice', 'pasta salad', 'pasta salads', 'pasta sauce', 'pasta sauces', 'pasta tastes', 'pasta tried', 'pasta well', 'pasta would', 'pastas', 'paste', 'paste not', 'pasted', 'pastes', 'pasteurized', 'pastries', 'pastry', 'pasty', 'pat', 'patak', 'patch', 'patches', 'pate', 'patented', 'path', 'pathetic', 'patience', 'patient', 'patiently', 'patients', 'patio', 'pattern', 'patties', 'patty', 'paul', 'paul newman', 'paula', 'paw', 'paws', 'pay', 'pay almost', 'pay attention', 'pay extra', 'pay get', 'pay grocery', 'pay high', 'pay little', 'pay local', 'pay lot', 'pay much', 'pay per', 'pay premium', 'pay price', 'pay shipping', 'payday', 'payed', 'paying', 'paying attention', 'paying little', 'paying much', 'paying per', 'paying shipping', 'payment', 'pays', 'pb', 'pbj', 'pea', 'pea soup', 'peaberry', 'peace', 'peace mind', 'peaceful', 'peach', 'peach flavor', 'peach mango', 'peach not', 'peach tea', 'peaches', 'peachy', 'peak', 'peanut', 'peanut allergy', 'peanut brittle', 'peanut butter', 'peanut butters', 'peanut buttery', 'peanut flavor', 'peanut free', 'peanut oil', 'peanut sauce', 'peanut taste', 'peanut tree', 'peanutbutter', 'peanuts', 'peanuts no', 'peanuts not', 'peanuts peanut', 'peanuts tree', 'peanutty', 'pear', 'pear garden', 'pearl', 'pearls', 'pears', 'peas', 'peas carrots', 'peas not', 'pebbles', 'pecan', 'pecan pie', 'pecans', 'pectin', 'peculiar', 'pediatrician', 'pedigree', 'pee', 'peel', 'peeled', 'peeling', 'peet', 'peets', 'peices', 'pekoe', 'pellegrino', 'pellet', 'pellets', 'pen', 'pencil', 'penne', 'pennies', 'pennsylvania', 'penny', 'people', 'people also', 'people always', 'people ask', 'people buy', 'people complain', 'people complaining', 'people drink', 'people eat', 'people enjoy', 'people find', 'people food', 'people get', 'people know', 'people like', 'people looking', 'people love', 'people make', 'people may', 'people might', 'people need', 'people never', 'people not', 'people prefer', 'people put', 'people really', 'people said', 'people say', 'people saying', 'people seem', 'people taste', 'people think', 'people tried', 'people try', 'people trying', 'people use', 'people used', 'people want', 'people work', 'people would', 'peoples', 'pep', 'pepper', 'pepper extract', 'pepper flakes', 'pepper flavor', 'pepper garlic', 'pepper not', 'pepper really', 'pepper salt', 'pepper sauce', 'pepper taste', 'peppercorn', 'peppercorns', 'peppered', 'pepperidge', 'peppermint', 'peppermint flavor', 'peppermint mocha', 'peppermint taste', 'peppermint tea', 'pepperoni', 'peppers', 'peppers not', 'peppers onions', 'peppery', 'peppery taste', 'pepsi', 'per', 'per bag', 'per bar', 'per bottle', 'per bowl', 'per box', 'per case', 'per container', 'per cookie', 'per cup', 'per day', 'per directions', 'per gallon', 'per instructions', 'per jar', 'per lb', 'per month', 'per order', 'per ounce', 'per oz', 'per pack', 'per package', 'per packet', 'per piece', 'per pouch', 'per pound', 'per se', 'per serving', 'per unit', 'per week', 'percent', 'percentage', 'percentages', 'percolator', 'perfect', 'perfect addition', 'perfect afternoon', 'perfect also', 'perfect amount', 'perfect balance', 'perfect blend', 'perfect breakfast', 'perfect chocolate', 'perfect choice', 'perfect coffee', 'perfect combination', 'perfect complement', 'perfect compliment', 'perfect condition', 'perfect consistency', 'perfect cup', 'perfect drink', 'perfect every', 'perfect fit', 'perfect flavor', 'perfect food', 'perfect gift', 'perfect go', 'perfect good', 'perfect great', 'perfect healthy', 'perfect hot', 'perfect like', 'perfect little', 'perfect love', 'perfect lunch', 'perfect making', 'perfect mix', 'perfect morning', 'perfect nice', 'perfect no', 'perfect not', 'perfect one', 'perfect people', 'perfect portion', 'perfect product', 'perfect quick', 'perfect shape', 'perfect size', 'perfect small', 'perfect snack', 'perfect solution', 'perfect sweet', 'perfect take', 'perfect taste', 'perfect tastes', 'perfect tea', 'perfect texture', 'perfect thing', 'perfect time', 'perfect training', 'perfect treat', 'perfect us', 'perfect use', 'perfect want', 'perfect way', 'perfect would', 'perfected', 'perfection', 'perfectly', 'perfectly balanced', 'perfectly fine', 'perfectly good', 'perfectly not', 'perfer', 'perform', 'performance', 'performed', 'performs', 'perfume', 'perfumed', 'perhaps', 'perhaps even', 'perhaps not', 'perhaps would', 'perimeter', 'period', 'period time', 'periodically', 'periods', 'periods time', 'perishable', 'perk', 'perked', 'perks', 'permanent', 'permanently', 'permeates', 'pero', 'perrier', 'persian', 'persistent', 'person', 'person like', 'person likes', 'person not', 'person said', 'person would', 'personal', 'personal experience', 'personal favorite', 'personal opinion', 'personal preference', 'personal taste', 'personal thing', 'personal use', 'personality', 'personally', 'personally find', 'personally like', 'personally love', 'personally not', 'personally prefer', 'personally think', 'personally use', 'personally would', 'persons', 'perspective', 'peru', 'pesky', 'pest', 'pesticide', 'pesticides', 'pesto', 'pests', 'pet', 'pet food', 'pet foods', 'pet owner', 'pet owners', 'pet shop', 'pet store', 'pet stores', 'pet supply', 'petal', 'petals', 'petco', 'pete', 'peter', 'peter pan', 'peter rabbit', 'peterson', 'petite', 'petite cuisine', 'petroleum', 'pets', 'petsmart', 'pez', 'pg', 'pg tips', 'ph', 'pharmacy', 'phase', 'phases', 'phenomenal', 'philadelphia', 'philippines', 'philly', 'pho', 'phoenix', 'phone', 'phone call', 'phosphate', 'phosphorus', 'photo', 'photos', 'phrase', 'physical', 'physically', 'physician', 'pic', 'picante', 'pick', 'pick bag', 'pick favorite', 'pick not', 'pick one', 'picked', 'picked bag', 'picked box', 'picked local', 'picked one', 'pickiest', 'picking', 'pickle', 'pickled', 'pickles', 'picks', 'picky', 'picky cat', 'picky coffee', 'picky comes', 'picky daughter', 'picky dog', 'picky eater', 'picky eaters', 'picky food', 'picky little', 'picky not', 'picky taste', 'picky treats', 'picnic', 'picture', 'picture box', 'picture not', 'picture product', 'picture shows', 'pictured', 'pictures', 'pie', 'pie crust', 'pie filling', 'pie flavor', 'pie not', 'piece', 'piece bread', 'piece candy', 'piece chocolate', 'piece fruit', 'piece not', 'piece toast', 'pieces', 'pieces also', 'pieces bag', 'pieces candy', 'pieces chicken', 'pieces fruit', 'pieces gum', 'pieces like', 'pieces little', 'pieces not', 'pieces small', 'pieces would', 'pies', 'pig', 'pig ear', 'pig ears', 'pigs', 'pike', 'pilaf', 'pile', 'pill', 'pill form', 'pill not', 'pill pocket', 'pill pockets', 'pillow', 'pillows', 'pills', 'pills day', 'pillsbury', 'pin', 'pina', 'pina colada', 'pinch', 'pinch salt', 'pine', 'pine nuts', 'pineapple', 'pineapple flavor', 'pineapple juice', 'pink', 'pink color', 'pink grapefruit', 'pink lemonade', 'pint', 'pinto', 'pinto beans', 'pipe', 'piping', 'piping hot', 'pirate', 'pirate booty', 'pistachio', 'pistachios', 'pit', 'pit bull', 'pita', 'pita chips', 'pitbull', 'pitcher', 'pitchers', 'pits', 'pitted', 'pity', 'pizza', 'pizza crust', 'pizza crusts', 'pizza dough', 'pizza sauce', 'pizzas', 'pkg', 'pkgs', 'place', 'place another', 'place butter', 'place buy', 'place could', 'place find', 'place get', 'place not', 'place one', 'place order', 'place purchase', 'placebo', 'placebo effect', 'placed', 'placed another', 'placed order', 'places', 'places not', 'placing', 'placing another', 'placing order', 'plague', 'plagued', 'plain', 'plain also', 'plain chicken', 'plain chocolate', 'plain coffee', 'plain good', 'plain greek', 'plain milk', 'plain old', 'plain simple', 'plain water', 'plain white', 'plain yogurt', 'plan', 'plan buy', 'plan buying', 'plan continue', 'plan eat', 'plan keep', 'plan order', 'plan ordering', 'plan purchase', 'plan try', 'plan use', 'plan using', 'plane', 'planet', 'planned', 'planning', 'plans', 'plant', 'plant arrived', 'plant based', 'plant food', 'plantation', 'planted', 'planter', 'planters', 'planters big', 'planting', 'plants', 'plants arrived', 'plants not', 'plaque', 'plastic', 'plastic bag', 'plastic bags', 'plastic bottle', 'plastic bottles', 'plastic container', 'plastic containers', 'plastic cup', 'plastic cups', 'plastic jar', 'plastic jars', 'plastic lid', 'plastic like', 'plastic not', 'plastic packaging', 'plastic wrap', 'plastics', 'plasticy', 'plate', 'plates', 'platinum', 'play', 'played', 'playful', 'playing', 'plays', 'pleasant', 'pleasant aroma', 'pleasant drink', 'pleasant flavor', 'pleasant not', 'pleasant smell', 'pleasant surprise', 'pleasant taste', 'pleasant tasting', 'pleasantly', 'pleasantly surprised', 'please', 'please amazon', 'please bring', 'please keep', 'please let', 'please make', 'please not', 'please note', 'please please', 'please read', 'please see', 'please send', 'please tell', 'please try', 'pleased', 'pleased able', 'pleased amazon', 'pleased find', 'pleased flavor', 'pleased found', 'pleased not', 'pleased order', 'pleased price', 'pleased product', 'pleased purchase', 'pleased quality', 'pleased results', 'pleased see', 'pleased taste', 'pleases', 'pleasing', 'pleasing taste', 'pleasure', 'pleasures', 'plentiful', 'plenty', 'plenty flavor', 'plenty time', 'plenty water', 'pliable', 'ploy', 'plug', 'plum', 'plum organics', 'plump', 'plums', 'plunge', 'plus', 'plus also', 'plus amazon', 'plus book', 'plus free', 'plus get', 'plus good', 'plus great', 'plus love', 'plus no', 'plus not', 'plus one', 'plus organic', 'plus price', 'plus shipping', 'plus side', 'plus taste', 'plus tastes', 'plus tax', 'plus would', 'pm', 'pms', 'po', 'pocket', 'pocketbook', 'pockets', 'pod', 'pod coffee', 'pod holder', 'pods', 'pods fit', 'pods make', 'pods not', 'pods use', 'pods used', 'pods work', 'point', 'point no', 'point not', 'point view', 'point would', 'pointed', 'pointing', 'points', 'poison', 'poisoning', 'poisonous', 'poisons', 'poke', 'poland', 'pole', 'polenta', 'police', 'policy', 'polish', 'polished', 'polite', 'pollen', 'pollux', 'polyunsaturated', 'polyunsaturated fat', 'pom', 'pomegranate', 'pomegranate flavor', 'pomegranate juice', 'pomegranate licorice', 'pomegranates', 'pomegranite', 'pomeranian', 'pond', 'poo', 'pooch', 'poodle', 'poodles', 'poof', 'pool', 'poop', 'pooped', 'poops', 'poor', 'poor packaging', 'poor quality', 'poor taste', 'poorly', 'pop', 'pop chips', 'pop corn', 'pop microwave', 'pop mouth', 'pop not', 'pop one', 'pop popcorn', 'pop tart', 'pop tarts', 'pop top', 'popchips', 'popcorn', 'popcorn also', 'popcorn best', 'popcorn ever', 'popcorn flavor', 'popcorn good', 'popcorn great', 'popcorn kernels', 'popcorn machine', 'popcorn maker', 'popcorn no', 'popcorn not', 'popcorn oil', 'popcorn one', 'popcorn popcorn', 'popcorn popper', 'popcorn really', 'popcorn salt', 'popcorn seasoning', 'popcorn taste', 'popcorn tastes', 'popcorn without', 'popcorn would', 'popcorns', 'popped', 'popped corn', 'popped popcorn', 'popper', 'poppers', 'popping', 'poppy', 'poppy seeds', 'pops', 'poptarts', 'popular', 'popular brand', 'popularity', 'population', 'porch', 'porcini', 'pores', 'pork', 'pork chicken', 'pork chops', 'pork loin', 'pork rinds', 'porridge', 'port', 'portability', 'portable', 'portion', 'portion control', 'portion controlled', 'portion size', 'portioned', 'portions', 'portland', 'portuguese', 'position', 'positive', 'positive review', 'positive reviews', 'positively', 'positives', 'possibilities', 'possibilities endless', 'possibility', 'possible', 'possible not', 'possibly', 'possibly best', 'post', 'post office', 'post review', 'post workout', 'postage', 'postal', 'posted', 'posted review', 'poster', 'posters', 'posting', 'posting review', 'posts', 'postum', 'pot', 'pot add', 'pot coffee', 'pot every', 'pot not', 'pot pie', 'pot roast', 'pot tea', 'potassium', 'potassium chloride', 'potassium sorbate', 'potato', 'potato chip', 'potato chips', 'potato flavor', 'potato salad', 'potato soup', 'potato starch', 'potatoe', 'potatoes', 'potatoes carrots', 'potatoes etc', 'potatos', 'potency', 'potent', 'potential', 'potentially', 'potluck', 'potpourri', 'pots', 'potted', 'potter', 'potting', 'potty', 'pouch', 'pouch not', 'pouches', 'poultry', 'pound', 'pound bag', 'pound bags', 'pound box', 'pound cake', 'pound dog', 'pounder', 'pounding', 'pounds', 'pounds not', 'pour', 'pour boiling', 'pour cup', 'pour glass', 'pour hot', 'pour ice', 'pour milk', 'pour spout', 'pour water', 'poured', 'poured ice', 'pouring', 'pours', 'powder', 'powder also', 'powder cup', 'powder form', 'powder great', 'powder like', 'powder little', 'powder make', 'powder makes', 'powder milk', 'powder mix', 'powder no', 'powder not', 'powder sugar', 'powder taste', 'powder used', 'powder water', 'powdered', 'powdered drink', 'powdered milk', 'powdered mix', 'powdered peanut', 'powdered sugar', 'powders', 'powdery', 'power', 'powered', 'powerful', 'powering', 'powers', 'practical', 'practically', 'practice', 'practices', 'prairie', 'praise', 'praises', 'praline', 'pralines', 'pray', 'pre', 'pre cooked', 'pre diabetic', 'pre ground', 'pre made', 'pre measured', 'pre mixed', 'pre packaged', 'pre workout', 'precious', 'precise', 'precisely', 'precooked', 'predominant', 'predominantly', 'preface', 'prefect', 'prefer', 'prefer brands', 'prefer coffee', 'prefer dark', 'prefer drink', 'prefer eat', 'prefer less', 'prefer little', 'prefer loose', 'prefer make', 'prefer medium', 'prefer not', 'prefer one', 'prefer original', 'prefer stronger', 'prefer taste', 'prefer tea', 'prefer use', 'preferable', 'preferably', 'preference', 'preferences', 'preferred', 'preferred brand', 'preferring', 'prefers', 'pregnancy', 'pregnant', 'preheat', 'premade', 'premeasured', 'premier', 'premium', 'premium brands', 'premium coffee', 'premium dog', 'premium food', 'premium numi', 'premium price', 'premium tea', 'premixed', 'prep', 'prep time', 'prepackaged', 'preparation', 'prepare', 'prepare add', 'prepare tastes', 'prepared', 'preparing', 'preschooler', 'prescribed', 'prescription', 'prescription diet', 'prescription food', 'presence', 'present', 'presentation', 'presented', 'presents', 'preservative', 'preservative free', 'preservatives', 'preservatives artificial', 'preservatives chemicals', 'preservatives no', 'preserve', 'preserve freshness', 'preserved', 'preserves', 'preserving', 'president', 'press', 'pressed', 'pressing', 'pressure', 'pressure cooker', 'presto', 'presumably', 'pretend', 'pretty', 'pretty amazing', 'pretty awesome', 'pretty bad', 'pretty big', 'pretty bland', 'pretty cheap', 'pretty close', 'pretty cool', 'pretty darn', 'pretty decent', 'pretty easily', 'pretty easy', 'pretty expensive', 'pretty fast', 'pretty filling', 'pretty good', 'pretty great', 'pretty gross', 'pretty happy', 'pretty hard', 'pretty healthy', 'pretty high', 'pretty large', 'pretty low', 'pretty mild', 'pretty much', 'pretty nice', 'pretty picky', 'pretty pricey', 'pretty quick', 'pretty quickly', 'pretty similar', 'pretty simple', 'pretty small', 'pretty spicy', 'pretty strong', 'pretty sure', 'pretty tasty', 'pretty well', 'pretzel', 'pretzels', 'pretzels not', 'prevalent', 'prevent', 'preventative', 'prevented', 'preventing', 'prevention', 'prevents', 'previous', 'previous review', 'previous reviewer', 'previous reviewers', 'previous reviews', 'previously', 'previously bought', 'previously mentioned', 'previously purchased', 'previously tried', 'previously used', 'prey', 'price', 'price actually', 'price almost', 'price also', 'price always', 'price amazing', 'price amazon', 'price amount', 'price anywhere', 'price around', 'price awesome', 'price bag', 'price bags', 'price best', 'price better', 'price bit', 'price bought', 'price box', 'price buy', 'price buying', 'price came', 'price cannot', 'price case', 'price cheap', 'price cheaper', 'price coffee', 'price come', 'price comes', 'price comparable', 'price compared', 'price competitive', 'price considering', 'price convenience', 'price convenient', 'price could', 'price definitely', 'price delivered', 'price delivery', 'price difference', 'price dogs', 'price easy', 'price either', 'price especially', 'price even', 'price ever', 'price excellent', 'price expensive', 'price fair', 'price fantastic', 'price far', 'price fast', 'price find', 'price food', 'price found', 'price free', 'price get', 'price glad', 'price go', 'price goes', 'price going', 'price gone', 'price good', 'price got', 'price great', 'price grocery', 'price happy', 'price hard', 'price high', 'price higher', 'price highly', 'price hike', 'price however', 'price increase', 'price item', 'price jumped', 'price keep', 'price least', 'price less', 'price like', 'price listed', 'price little', 'price local', 'price love', 'price low', 'price lower', 'price made', 'price make', 'price makes', 'price may', 'price much', 'price nice', 'price no', 'price not', 'price offered', 'price one', 'price online', 'price order', 'price ordered', 'price organic', 'price outrageous', 'price outstanding', 'price pack', 'price paid', 'price pay', 'price paying', 'price per', 'price perfect', 'price plus', 'price point', 'price pretty', 'price price', 'price probably', 'price product', 'price purchased', 'price quality', 'price quantity', 'price quick', 'price quite', 'price range', 'price really', 'price reasonable', 'price regular', 'price ridiculous', 'price right', 'price see', 'price seemed', 'price seems', 'price seen', 'price shipped', 'price shipping', 'price since', 'price still', 'price store', 'price stores', 'price subscribe', 'price super', 'price tag', 'price taste', 'price tea', 'price thank', 'price thanks', 'price think', 'price though', 'price thought', 'price time', 'price use', 'price used', 'price way', 'price well', 'price went', 'price wise', 'price wish', 'price worth', 'price would', 'priced', 'priced coffee', 'priced not', 'priced right', 'priced well', 'priceless', 'prices', 'prices amazon', 'prices good', 'prices great', 'prices not', 'pricey', 'pricey good', 'pricey not', 'pricey side', 'pricey worth', 'pricier', 'pricing', 'pricing amazon', 'prickly', 'prickly pear', 'pricy', 'pride', 'prima', 'primal', 'primarily', 'primarily use', 'primary', 'primary ingredient', 'prime', 'prime account', 'prime eligible', 'prime free', 'prime member', 'prime membership', 'prime shipping', 'prince', 'princess', 'principle', 'pringles', 'print', 'printed', 'prior', 'priority', 'pristine', 'private', 'prize', 'pro', 'pro plan', 'probably', 'probably already', 'probably best', 'probably better', 'probably buy', 'probably could', 'probably due', 'probably eat', 'probably end', 'probably even', 'probably favorite', 'probably find', 'probably get', 'probably go', 'probably going', 'probably good', 'probably keep', 'probably last', 'probably like', 'probably love', 'probably make', 'probably need', 'probably never', 'probably not', 'probably one', 'probably order', 'probably purchase', 'probably try', 'probably use', 'probably used', 'probably want', 'probably worst', 'probably would', 'probiotic', 'probiotics', 'problem', 'problem also', 'problem amazon', 'problem coffee', 'problem could', 'problem eating', 'problem getting', 'problem hard', 'problem like', 'problem many', 'problem may', 'problem no', 'problem not', 'problem one', 'problem order', 'problem price', 'problem product', 'problem really', 'problem since', 'problem solved', 'problem taste', 'problem trying', 'problem using', 'problem would', 'problematic', 'problems', 'problems eating', 'problems food', 'problems like', 'problems no', 'problems not', 'problems one', 'problems whatsoever', 'procedure', 'proceed', 'proceeded', 'proceeds', 'process', 'process easy', 'process not', 'processed', 'processed food', 'processed foods', 'processed not', 'processed sugar', 'processes', 'processing', 'processor', 'proclaimed', 'produce', 'produced', 'producer', 'producers', 'produces', 'producing', 'product', 'product absolutely', 'product actually', 'product add', 'product advertised', 'product almost', 'product along', 'product already', 'product also', 'product although', 'product always', 'product amazing', 'product amazon', 'product another', 'product anymore', 'product anyone', 'product around', 'product arrive', 'product arrived', 'product arrives', 'product available', 'product awesome', 'product baby', 'product back', 'product bad', 'product baking', 'product based', 'product best', 'product better', 'product big', 'product bit', 'product bought', 'product box', 'product buy', 'product buying', 'product called', 'product came', 'product cannot', 'product cat', 'product cats', 'product china', 'product clearly', 'product coffee', 'product comes', 'product company', 'product contains', 'product continue', 'product convenient', 'product cost', 'product could', 'product couple', 'product daughter', 'product days', 'product decided', 'product definitely', 'product delicious', 'product delivered', 'product delivery', 'product described', 'product description', 'product different', 'product disappointed', 'product dog', 'product dogs', 'product drink', 'product due', 'product easy', 'product eat', 'product enjoy', 'product enough', 'product especially', 'product even', 'product ever', 'product every', 'product everyone', 'product everything', 'product exactly', 'product excellent', 'product except', 'product expected', 'product expensive', 'product extremely', 'product fact', 'product fair', 'product family', 'product fantastic', 'product far', 'product fast', 'product feel', 'product find', 'product fine', 'product first', 'product five', 'product flavor', 'product food', 'product found', 'product four', 'product free', 'product fresh', 'product friend', 'product friends', 'product future', 'product gave', 'product get', 'product gets', 'product getting', 'product gift', 'product give', 'product given', 'product gives', 'product glad', 'product gluten', 'product go', 'product goes', 'product going', 'product good', 'product got', 'product great', 'product grocery', 'product hair', 'product hand', 'product happy', 'product hard', 'product health', 'product healthy', 'product help', 'product helped', 'product helps', 'product high', 'product highly', 'product hope', 'product hoping', 'product hot', 'product however', 'product husband', 'product ingredients', 'product instead', 'product keep', 'product kids', 'product know', 'product label', 'product labeled', 'product last', 'product least', 'product leaves', 'product less', 'product like', 'product line', 'product little', 'product local', 'product locally', 'product long', 'product look', 'product looked', 'product looking', 'product looks', 'product lot', 'product love', 'product low', 'product made', 'product make', 'product makes', 'product making', 'product many', 'product market', 'product may', 'product maybe', 'product meal', 'product might', 'product months', 'product much', 'product must', 'product name', 'product natural', 'product need', 'product needs', 'product never', 'product new', 'product nice', 'product no', 'product not', 'product nothing', 'product often', 'product one', 'product online', 'product opinion', 'product order', 'product ordered', 'product ordering', 'product organic', 'product others', 'product overall', 'product packaged', 'product packaging', 'product page', 'product part', 'product past', 'product people', 'product per', 'product perfect', 'product picture', 'product plan', 'product please', 'product pleased', 'product poor', 'product pretty', 'product price', 'product priced', 'product probably', 'product product', 'product purchase', 'product purchased', 'product purchasing', 'product put', 'product quality', 'product quick', 'product quickly', 'product quite', 'product rather', 'product read', 'product real', 'product really', 'product reason', 'product reasonable', 'product reasonably', 'product received', 'product recommend', 'product recommended', 'product regular', 'product review', 'product reviews', 'product rich', 'product right', 'product safe', 'product said', 'product sale', 'product say', 'product says', 'product see', 'product seemed', 'product seems', 'product seller', 'product sent', 'product service', 'product several', 'product shipped', 'product shipping', 'product similar', 'product simple', 'product simply', 'product since', 'product size', 'product small', 'product smells', 'product smooth', 'product sold', 'product something', 'product son', 'product star', 'product stars', 'product stays', 'product still', 'product store', 'product stores', 'product subscribe', 'product sugar', 'product super', 'product sure', 'product taste', 'product tasted', 'product tastes', 'product tasty', 'product tea', 'product thank', 'product thanks', 'product think', 'product thinking', 'product though', 'product thought', 'product three', 'product time', 'product timely', 'product times', 'product today', 'product totally', 'product tried', 'product truly', 'product try', 'product trying', 'product twice', 'product two', 'product unfortunately', 'product unless', 'product us', 'product use', 'product used', 'product using', 'product want', 'product wanted', 'product way', 'product weeks', 'product well', 'product went', 'product whole', 'product wish', 'product without', 'product wonderful', 'product work', 'product worked', 'product works', 'product worth', 'product would', 'product year', 'product years', 'product yes', 'product yet', 'production', 'productive', 'products', 'products also', 'products always', 'products amazon', 'products available', 'products best', 'products better', 'products bought', 'products china', 'products come', 'products company', 'products contain', 'products decided', 'products especially', 'products even', 'products ever', 'products excellent', 'products found', 'products future', 'products general', 'products gluten', 'products good', 'products great', 'products happy', 'products high', 'products however', 'products including', 'products like', 'products looking', 'products love', 'products made', 'products make', 'products market', 'products much', 'products never', 'products no', 'products not', 'products one', 'products ordered', 'products purchased', 'products really', 'products since', 'products sold', 'products still', 'products taste', 'products think', 'products tried', 'products try', 'products use', 'products used', 'products usually', 'products well', 'products without', 'products would', 'products years', 'professional', 'professionally', 'profile', 'profit', 'profits', 'profound', 'program', 'program not', 'programs', 'progress', 'progresso', 'prohibitive', 'project', 'projects', 'prominent', 'promise', 'promised', 'promises', 'promising', 'promo', 'promote', 'promoted', 'promotes', 'promoting', 'promotion', 'prompt', 'prompt delivery', 'prompted', 'promptly', 'promptly well', 'prone', 'pronounce', 'pronounced', 'proof', 'prop', 'proper', 'properly', 'properties', 'property', 'proportion', 'proportions', 'proprietary', 'props', 'propylene', 'propylene glycol', 'pros', 'pros tastes', 'protect', 'protected', 'protecting', 'protection', 'protective', 'protects', 'protein', 'protein also', 'protein bar', 'protein bars', 'protein calories', 'protein concentrate', 'protein content', 'protein diet', 'protein drink', 'protein drinks', 'protein fat', 'protein fiber', 'protein food', 'protein good', 'protein grams', 'protein great', 'protein intake', 'protein like', 'protein low', 'protein makes', 'protein no', 'protein not', 'protein one', 'protein per', 'protein plus', 'protein powder', 'protein powders', 'protein really', 'protein shake', 'protein shakes', 'protein snack', 'protein source', 'protein sources', 'protein sugar', 'protein taste', 'protein vitamin', 'protein would', 'proteins', 'protien', 'proud', 'proudly', 'prove', 'proved', 'proven', 'provence', 'proves', 'provide', 'provide good', 'provide great', 'provided', 'provider', 'provides', 'provides good', 'provides nice', 'providing', 'prune', 'prune juice', 'prunes', 'pry', 'ps', 'psoriasis', 'psychological', 'pu', 'pu erh', 'public', 'published', 'publix', 'puck', 'pucker', 'pudding', 'puddings', 'puerh', 'puerto', 'puff', 'puffed', 'puffed rice', 'puffs', 'puffs not', 'puffy', 'pug', 'pugs', 'puke', 'pull', 'pull one', 'pull tab', 'pulled', 'pulling', 'pulls', 'pulp', 'pulp not', 'pulverized', 'pump', 'pumped', 'pumping', 'pumpkin', 'pumpkin bread', 'pumpkin flavor', 'pumpkin not', 'pumpkin pie', 'pumpkin seeds', 'pumpkin spice', 'pumps', 'pun', 'pun intended', 'punch', 'punch flavor', 'punch not', 'punctured', 'pungent', 'pup', 'puppies', 'puppy', 'puppy dog', 'puppy food', 'puppy loves', 'puppy not', 'puppy would', 'pups', 'purchase', 'purchase also', 'purchase amazon', 'purchase another', 'purchase brand', 'purchase bulk', 'purchase buy', 'purchase case', 'purchase coffee', 'purchase company', 'purchase definitely', 'purchase even', 'purchase flavor', 'purchase food', 'purchase future', 'purchase great', 'purchase grocery', 'purchase item', 'purchase large', 'purchase local', 'purchase locally', 'purchase made', 'purchase make', 'purchase not', 'purchase one', 'purchase online', 'purchase price', 'purchase product', 'purchase seller', 'purchase store', 'purchase tea', 'purchase vendor', 'purchase would', 'purchased', 'purchased amazon', 'purchased another', 'purchased bag', 'purchased bags', 'purchased bottle', 'purchased box', 'purchased brand', 'purchased bulk', 'purchased case', 'purchased coffee', 'purchased couple', 'purchased different', 'purchased first', 'purchased food', 'purchased gift', 'purchased great', 'purchased grocery', 'purchased item', 'purchased keurig', 'purchased large', 'purchased local', 'purchased locally', 'purchased many', 'purchased mine', 'purchased not', 'purchased one', 'purchased online', 'purchased oz', 'purchased pack', 'purchased past', 'purchased product', 'purchased several', 'purchased small', 'purchased store', 'purchased tea', 'purchased thinking', 'purchased three', 'purchased two', 'purchased use', 'purchased variety', 'purchaser', 'purchases', 'purchases amazon', 'purchasing', 'purchasing amazon', 'purchasing future', 'purchasing item', 'purchasing local', 'purchasing product', 'pure', 'pure cane', 'pure chocolate', 'pure coconut', 'pure fruit', 'pure maple', 'pure natural', 'pure organic', 'pure simple', 'pure stevia', 'pure sugar', 'pure vanilla', 'puree', 'pureed', 'purees', 'purely', 'purest', 'purified', 'purified water', 'purina', 'purina one', 'purist', 'purists', 'purity', 'puroast', 'puroast low', 'purple', 'purpose', 'purpose flour', 'purposes', 'purse', 'purse car', 'purse use', 'push', 'pushed', 'pushes', 'pushing', 'put', 'put anything', 'put away', 'put back', 'put bag', 'put bit', 'put body', 'put bowl', 'put box', 'put candy', 'put cereal', 'put coffee', 'put couple', 'put cup', 'put dish', 'put dog', 'put drops', 'put enough', 'put every', 'put everything', 'put finger', 'put food', 'put freezer', 'put fridge', 'put front', 'put glass', 'put good', 'put hot', 'put ice', 'put lid', 'put little', 'put microwave', 'put milk', 'put mine', 'put mouth', 'put much', 'put not', 'put one', 'put oven', 'put pill', 'put price', 'put product', 'put refrigerator', 'put regular', 'put rest', 'put sauce', 'put scoop', 'put small', 'put soup', 'put stuff', 'put subscribe', 'put sugar', 'put tea', 'put together', 'put top', 'put two', 'put water', 'put way', 'put weight', 'putrid', 'puts', 'putting', 'putting body', 'putting together', 'puzzle', 'pyramid', 'pyramid tea', 'pyridoxine', 'pyridoxine hydrochloride', 'qt', 'quaker', 'quaker instant', 'quaker oatmeal', 'quaker oats', 'quaker soft', 'qualified', 'qualifies', 'qualifies free', 'qualify', 'qualities', 'quality', 'quality also', 'quality always', 'quality beans', 'quality brand', 'quality candy', 'quality canned', 'quality cat', 'quality chocolate', 'quality coffee', 'quality control', 'quality delicious', 'quality dog', 'quality dry', 'quality excellent', 'quality flavor', 'quality food', 'quality foods', 'quality fresh', 'quality get', 'quality good', 'quality grain', 'quality great', 'quality green', 'quality high', 'quality highly', 'quality ingredients', 'quality item', 'quality life', 'quality like', 'quality makes', 'quality meat', 'quality natural', 'quality no', 'quality not', 'quality oil', 'quality olive', 'quality one', 'quality organic', 'quality price', 'quality product', 'quality products', 'quality protein', 'quality quantity', 'quality really', 'quality seeds', 'quality stuff', 'quality taste', 'quality tasty', 'quality tea', 'quality well', 'quality would', 'quanity', 'quantities', 'quantity', 'quantity not', 'quantity price', 'quart', 'quarter', 'quarter cup', 'quarters', 'quarts', 'quarts water', 'que', 'queasy', 'queen', 'quench', 'quench thirst', 'quencher', 'quenches', 'quenches thirst', 'quenching', 'quest', 'quest find', 'question', 'questionable', 'questioned', 'questions', 'quick', 'quick breads', 'quick breakfast', 'quick convenient', 'quick cooking', 'quick cup', 'quick delicious', 'quick delivery', 'quick easy', 'quick energy', 'quick fix', 'quick healthy', 'quick lunch', 'quick make', 'quick meal', 'quick meals', 'quick pick', 'quick prepare', 'quick service', 'quick ship', 'quick shipping', 'quick snack', 'quick tasty', 'quick way', 'quicker', 'quickly', 'quickly became', 'quickly become', 'quickly could', 'quickly easily', 'quickly even', 'quickly exactly', 'quickly excellent', 'quickly fresh', 'quickly good', 'quickly great', 'quickly love', 'quickly no', 'quickly not', 'quickly one', 'quickly ordered', 'quickly packaged', 'quickly packed', 'quickly perfect', 'quickly price', 'quickly product', 'quickly well', 'quickly would', 'quiet', 'quietly', 'quinoa', 'quit', 'quit carrying', 'quit making', 'quit selling', 'quit smoking', 'quite', 'quite awhile', 'quite bad', 'quite bit', 'quite delicious', 'quite different', 'quite disappointed', 'quite easily', 'quite easy', 'quite enjoyable', 'quite enough', 'quite expensive', 'quite filling', 'quite frankly', 'quite fresh', 'quite good', 'quite happy', 'quite hard', 'quite healthy', 'quite high', 'quite honestly', 'quite hot', 'quite large', 'quite like', 'quite long', 'quite lot', 'quite much', 'quite nice', 'quite nicely', 'quite often', 'quite pleasant', 'quite pleased', 'quite quickly', 'quite reasonable', 'quite right', 'quite satisfying', 'quite similar', 'quite simply', 'quite small', 'quite strong', 'quite sure', 'quite surprised', 'quite sweet', 'quite tasty', 'quite time', 'quite well', 'quite yummy', 'quote', 'quoted', 'rabbit', 'rabbits', 'race', 'races', 'rack', 'radiation', 'radish', 'rain', 'rainbow', 'rainforest', 'rainforest alliance', 'rainforest blend', 'rainforest espresso', 'rainy', 'rainy day', 'raise', 'raise blood', 'raised', 'raised price', 'raises', 'raisin', 'raisin bran', 'raisin cookies', 'raising', 'raisins', 'raisins not', 'ramen', 'ramen noodle', 'ramen noodles', 'ran', 'ran across', 'ranch', 'ranch dressing', 'rancher', 'ranchers', 'rancid', 'random', 'randomly', 'range', 'ranges', 'ranging', 'rank', 'ranked', 'ranks', 'rapid', 'rapidly', 'rapunzel', 'rare', 'rarely', 'rarely eat', 'rarity', 'rasberry', 'rash', 'rashes', 'raspberries', 'raspberry', 'raspberry chocolate', 'raspberry flavor', 'raspberry leaf', 'raspberry lemonade', 'raspberry tea', 'rat', 'rate', 'rate product', 'rate stars', 'rate tea', 'rated', 'rated product', 'rated stars', 'rates', 'rather', 'rather bland', 'rather buy', 'rather drink', 'rather eat', 'rather expensive', 'rather go', 'rather good', 'rather high', 'rather large', 'rather like', 'rather not', 'rather one', 'rather pay', 'rather quickly', 'rather small', 'rather take', 'rating', 'rating not', 'rating product', 'rating stars', 'ratings', 'ratio', 'ration', 'ratios', 'rats', 'rave', 'rave reviews', 'raved', 'raven', 'raves', 'raving', 'ravioli', 'raw', 'raw almonds', 'raw cacao', 'raw chocolate', 'raw diet', 'raw food', 'raw honey', 'raw meat', 'raw not', 'raw organic', 'raw sugar', 'raw vegan', 'rawhide', 'rawhide bones', 'rawhide chews', 'rawhide not', 'rawhides', 'ray', 'rda', 'rda vitamin', 'reach', 'reached', 'reaches', 'reaching', 'react', 'reacted', 'reaction', 'reaction not', 'reactions', 'reacts', 'read', 'read another', 'read article', 'read description', 'read directions', 'read good', 'read ingredient', 'read ingredients', 'read label', 'read labels', 'read many', 'read not', 'read one', 'read online', 'read package', 'read previous', 'read product', 'read review', 'read reviews', 'read several', 'read somewhere', 'reader', 'readers', 'readily', 'readily available', 'reading', 'reading book', 'reading good', 'reading ingredients', 'reading label', 'reading many', 'reading review', 'reading reviews', 'reads', 'ready', 'ready brew', 'ready drink', 'ready eat', 'ready go', 'ready made', 'ready minutes', 'ready order', 'ready use', 'real', 'real bread', 'real butter', 'real cheese', 'real chicken', 'real chocolate', 'real coconut', 'real coffee', 'real cup', 'real deal', 'real easy', 'real espresso', 'real flavor', 'real food', 'real fruit', 'real ginger', 'real good', 'real honey', 'real ingredients', 'real juice', 'real maple', 'real meat', 'real pasta', 'real peanut', 'real problem', 'real stuff', 'real sugar', 'real taste', 'real tea', 'real thing', 'real treat', 'real vanilla', 'real winner', 'realistic', 'reality', 'realize', 'realize not', 'realized', 'realized not', 'realizing', 'really', 'really add', 'really adds', 'really amazing', 'really appreciate', 'really appreciated', 'really awesome', 'really bad', 'really best', 'really big', 'really bold', 'really bring', 'really brings', 'really care', 'really cheap', 'really clean', 'really cold', 'really come', 'really compare', 'really convenient', 'really cool', 'really could', 'really creamy', 'really cute', 'really dark', 'really delicious', 'really disappointed', 'really dry', 'really easy', 'really eat', 'really enjoy', 'really enjoyed', 'really enjoying', 'really enjoys', 'really excellent', 'really excited', 'really expecting', 'really expensive', 'really fantastic', 'really fast', 'really feel', 'really find', 'really flavorful', 'really fresh', 'really fun', 'really get', 'really gets', 'really getting', 'really give', 'really gives', 'really glad', 'really go', 'really good', 'really got', 'really great', 'really gross', 'really happy', 'really hard', 'really hate', 'really healthy', 'really heavy', 'really help', 'really helped', 'really helps', 'really high', 'really hit', 'really hope', 'really hot', 'really hungry', 'really important', 'really impressed', 'really keep', 'really know', 'really light', 'really like', 'really liked', 'really likes', 'really long', 'really look', 'really looking', 'really love', 'really loved', 'really loves', 'really low', 'really made', 'really make', 'really makes', 'really matter', 'really miss', 'really missed', 'really missing', 'really much', 'really need', 'really needed', 'really needs', 'really nice', 'really no', 'really not', 'really nothing', 'really notice', 'really noticed', 'really one', 'really picky', 'really pleased', 'really prefer', 'really pretty', 'really quick', 'really quite', 'really really', 'really recommend', 'really refreshing', 'really rich', 'really salty', 'really say', 'really see', 'really seem', 'really seems', 'really small', 'really soft', 'really special', 'really spicy', 'really strong', 'really sure', 'really surprised', 'really sweet', 'really take', 'really taste', 'really tasted', 'really tastes', 'really tasty', 'really tea', 'really tell', 'really thick', 'really think', 'really thought', 'really try', 'really unique', 'really upset', 'really use', 'really want', 'really wanted', 'really weak', 'really well', 'really wish', 'really wonderful', 'really work', 'really worked', 'really works', 'really worth', 'really would', 'really yummy', 'realy', 'rear', 'reason', 'reason bought', 'reason buy', 'reason gave', 'reason give', 'reason never', 'reason not', 'reason one', 'reason ordered', 'reason purchased', 'reason stars', 'reason would', 'reasonable', 'reasonable amount', 'reasonable cost', 'reasonable price', 'reasonable prices', 'reasonable shipping', 'reasonably', 'reasonably healthy', 'reasonably priced', 'reasons', 'reasons not', 'rebecca', 'rebecca review', 'rec', 'rec would', 'recall', 'recalled', 'recalls', 'reccomend', 'reccomended', 'reccommend', 'receipt', 'receive', 'receive order', 'receive product', 'received', 'received amazon', 'received bag', 'received box', 'received boxes', 'received case', 'received christmas', 'received days', 'received email', 'received first', 'received free', 'received fresh', 'received gift', 'received good', 'received great', 'received item', 'received keurig', 'received mail', 'received new', 'received no', 'received not', 'received one', 'received order', 'received pack', 'received package', 'received product', 'received quickly', 'received sample', 'received second', 'received shipment', 'received tea', 'received time', 'received timely', 'received today', 'received two', 'received within', 'receives', 'receiving', 'receiving product', 'recent', 'recent order', 'recent purchase', 'recent shipment', 'recent trip', 'recent years', 'recently', 'recently become', 'recently bought', 'recently came', 'recently changed', 'recently decided', 'recently diagnosed', 'recently discovered', 'recently found', 'recently got', 'recently learned', 'recently moved', 'recently not', 'recently ordered', 'recently purchased', 'recently read', 'recently received', 'recently started', 'recently switched', 'recently tried', 'recently used', 'recently went', 'reception', 'recieve', 'recieved', 'recipe', 'recipe back', 'recipe bag', 'recipe box', 'recipe called', 'recipe calls', 'recipe found', 'recipe great', 'recipe made', 'recipe make', 'recipe not', 'recipe side', 'recipe use', 'recipe used', 'recipe using', 'recipes', 'recipes also', 'recipes call', 'recipes found', 'recipes like', 'recipes not', 'recipes use', 'recipes used', 'recipes using', 'recipient', 'recipients', 'recipies', 'recognizable', 'recognize', 'recognized', 'recognizes', 'recomend', 'recomend product', 'recomended', 'recommend', 'recommend adding', 'recommend also', 'recommend anybody', 'recommend anyone', 'recommend brand', 'recommend buy', 'recommend buying', 'recommend candy', 'recommend cereal', 'recommend coffee', 'recommend company', 'recommend dog', 'recommend eating', 'recommend enough', 'recommend especially', 'recommend even', 'recommend everyone', 'recommend family', 'recommend flavor', 'recommend food', 'recommend friends', 'recommend get', 'recommend getting', 'recommend give', 'recommend giving', 'recommend going', 'recommend great', 'recommend highly', 'recommend item', 'recommend keeping', 'recommend like', 'recommend looking', 'recommend love', 'recommend mix', 'recommend not', 'recommend one', 'recommend order', 'recommend ordering', 'recommend others', 'recommend people', 'recommend product', 'recommend purchase', 'recommend purchasing', 'recommend seller', 'recommend someone', 'recommend tea', 'recommend try', 'recommend trying', 'recommend using', 'recommend want', 'recommend without', 'recommendation', 'recommendations', 'recommended', 'recommended amount', 'recommended anyone', 'recommended daily', 'recommended dog', 'recommended food', 'recommended friends', 'recommended like', 'recommended not', 'recommended product', 'recommended serving', 'recommended tea', 'recommended try', 'recommended use', 'recommended vet', 'recommendedcfh', 'recommending', 'recommends', 'reconsider', 'reconstitute', 'reconstituted', 'record', 'record time', 'recover', 'recovered', 'recovering', 'recovery', 'recreate', 'rectangle', 'rectangular', 'recurring', 'recyclable', 'recycle', 'recycled', 'recycling', 'red', 'red bell', 'red berries', 'red blue', 'red bull', 'red color', 'red curry', 'red dye', 'red food', 'red green', 'red hot', 'red kidney', 'red leaf', 'red licorice', 'red meat', 'red mill', 'red not', 'red pepper', 'red peppers', 'red sauce', 'red tea', 'red velvet', 'red vines', 'red wine', 'redbull', 'reddish', 'redeeming', 'redenbacher', 'rediscovered', 'reds', 'reduce', 'reduce amount', 'reduced', 'reduced calorie', 'reduced fat', 'reduced price', 'reduces', 'reducing', 'reduction', 'reed', 'reese', 'reese peanut', 'reeses', 'refer', 'reference', 'referred', 'referring', 'refers', 'refill', 'refillable', 'refilling', 'refills', 'refined', 'refined sugar', 'refined sugars', 'reflect', 'reflects', 'reflux', 'refresh', 'refreshed', 'refreshing', 'refreshing change', 'refreshing cold', 'refreshing drink', 'refreshing flavor', 'refreshing great', 'refreshing hot', 'refreshing not', 'refreshing taste', 'refreshing tea', 'refreshing without', 'refreshment', 'refridgerator', 'refried', 'refried beans', 'refrig', 'refrigerate', 'refrigerate opening', 'refrigerated', 'refrigerating', 'refrigeration', 'refrigerator', 'refund', 'refund amazon', 'refund money', 'refund not', 'refunded', 'refunded money', 'refunding', 'refuse', 'refuse eat', 'refused', 'refused eat', 'refuses', 'refuses eat', 'refusing', 'reg', 'regard', 'regarding', 'regardless', 'regards', 'regimen', 'region', 'regional', 'regions', 'register', 'registered', 'regret', 'regret buying', 'regret not', 'regret purchase', 'regrets', 'regular', 'regular basis', 'regular black', 'regular brand', 'regular bread', 'regular brown', 'regular cereal', 'regular chips', 'regular chocolate', 'regular coffee', 'regular coffees', 'regular cup', 'regular delivery', 'regular diet', 'regular dog', 'regular flour', 'regular food', 'regular formula', 'regular gluten', 'regular green', 'regular grocery', 'regular hot', 'regular ketchup', 'regular milk', 'regular not', 'regular oatmeal', 'regular old', 'regular ones', 'regular pasta', 'regular peanut', 'regular potato', 'regular pretzels', 'regular price', 'regular rice', 'regular salt', 'regular shipping', 'regular size', 'regular sized', 'regular soda', 'regular spaghetti', 'regular splenda', 'regular store', 'regular sugar', 'regular table', 'regular tea', 'regular use', 'regular version', 'regular water', 'regular wheat', 'regular white', 'regularity', 'regularly', 'regulate', 'regulations', 'reheat', 'reheated', 'reheating', 'rehydrate', 'rehydrated', 'reject', 'rejected', 'rejects', 'related', 'relationship', 'relative', 'relatively', 'relatively expensive', 'relatively healthy', 'relatively high', 'relatively inexpensive', 'relatively low', 'relatively small', 'relatives', 'relax', 'relaxation', 'relaxed', 'relaxes', 'relaxing', 'release', 'released', 'releasing', 'relevant', 'reliable', 'reliable source', 'reliably', 'relief', 'relieve', 'relieved', 'relieved find', 'religiously', 'relish', 'reluctant', 'reluctant try', 'reluctantly', 'rely', 'remain', 'remainder', 'remained', 'remaining', 'remains', 'remarkable', 'remarkably', 'remarked', 'remedies', 'remedy', 'remember', 'remember childhood', 'remember eating', 'remember kid', 'remember not', 'remembered', 'remembering', 'remembers', 'remind', 'reminded', 'reminder', 'reminding', 'reminds', 'reminiscent', 'remote', 'remotely', 'remotely like', 'remove', 'remove tea', 'removed', 'remover', 'removes', 'removing', 'renal', 'renal failure', 'rendang', 'rendering', 'reorder', 'reordered', 'reordering', 'rep', 'repackage', 'repackaged', 'repair', 'repeat', 'repeat customer', 'repeated', 'repeatedly', 'repeating', 'repellent', 'replace', 'replaced', 'replacement', 'replacements', 'replacer', 'replaces', 'replacing', 'replicate', 'replied', 'reply', 'report', 'report back', 'reported', 'reporting', 'reports', 'represent', 'representative', 'represented', 'republic', 'republic tea', 'repulsive', 'repurchase', 'repurchasing', 'reputable', 'reputable company', 'reputation', 'request', 'requested', 'requesting', 'requests', 'require', 'require refrigeration', 'required', 'requirement', 'requirements', 'requires', 'requiring', 'rescue', 'rescue dog', 'rescued', 'rescues', 'reseal', 'resealable', 'resealable bag', 'resealable package', 'resealed', 'research', 'research decided', 'research find', 'research found', 'research online', 'researched', 'researching', 'resemblance', 'resemble', 'resembled', 'resembles', 'resembling', 'reservation', 'reservations', 'reserve', 'reserved', 'reservoir', 'resident', 'residual', 'residue', 'resist', 'resistance', 'resistant', 'resolve', 'resolved', 'resort', 'resorted', 'resource', 'resources', 'respect', 'respectively', 'respiratory', 'respond', 'responded', 'responds', 'response', 'responses', 'responsibility', 'responsible', 'responsive', 'rest', 'rest assured', 'rest away', 'rest bag', 'rest box', 'rest day', 'rest family', 'rest freezer', 'rest life', 'rest not', 'rest us', 'rest water', 'restaurant', 'restaurant quality', 'restaurants', 'restaurants not', 'rested', 'restock', 'restrict', 'restricted', 'restricted diet', 'restrictions', 'result', 'result not', 'resulted', 'resulting', 'results', 'results no', 'results not', 'retail', 'retail price', 'retail store', 'retail stores', 'retailer', 'retailers', 'retain', 'retained', 'retains', 'retention', 'retired', 'retrieve', 'retriever', 'retrievers', 'retro', 'return', 'return item', 'return policy', 'return product', 'return shipping', 'returnable', 'returned', 'returned amazon', 'returned not', 'returning', 'returns', 'reusable', 'reuse', 'reused', 'reusing', 'reveal', 'revealed', 'reverse', 'reverse osmosis', 'review', 'review amazon', 'review based', 'review dog', 'review ever', 'review first', 'review helpful', 'review helps', 'review like', 'review love', 'review makes', 'review not', 'review one', 'review product', 'review said', 'review saying', 'review would', 'review written', 'reviewed', 'reviewer', 'reviewer mentioned', 'reviewer not', 'reviewer noted', 'reviewer said', 'reviewer stated', 'reviewers', 'reviewers mentioned', 'reviewers not', 'reviewers noted', 'reviewers said', 'reviewers say', 'reviewers stated', 'reviewing', 'reviewing product', 'reviews', 'reviews amazon', 'reviews bought', 'reviews buying', 'reviews coffee', 'reviews decided', 'reviews first', 'reviews found', 'reviews glad', 'reviews great', 'reviews like', 'reviews mentioned', 'reviews not', 'reviews one', 'reviews ordered', 'reviews others', 'reviews people', 'reviews product', 'reviews products', 'reviews purchased', 'reviews read', 'reviews really', 'reviews said', 'reviews saw', 'reviews say', 'reviews saying', 'reviews see', 'reviews stated', 'reviews stuff', 'reviews taste', 'reviews thought', 'reviews tried', 'reviews would', 'revised', 'revive', 'revolting', 'revolution', 'reward', 'rewarded', 'rewarding', 'rewards', 'rex', 'rhubarb', 'rib', 'ribbon', 'ribbons', 'riboflavin', 'ribs', 'rica', 'rican', 'rice', 'rice add', 'rice based', 'rice blend', 'rice bran', 'rice cake', 'rice cakes', 'rice cereal', 'rice chicken', 'rice cooker', 'rice cooks', 'rice corn', 'rice cracker', 'rice crackers', 'rice crispies', 'rice crispy', 'rice delicious', 'rice dishes', 'rice dream', 'rice flavor', 'rice flour', 'rice formula', 'rice get', 'rice good', 'rice great', 'rice krispie', 'rice krispies', 'rice like', 'rice make', 'rice milk', 'rice mix', 'rice no', 'rice noodles', 'rice not', 'rice one', 'rice pasta', 'rice pastas', 'rice potatoes', 'rice pudding', 'rice rice', 'rice syrup', 'rice white', 'rice would', 'rices', 'rich', 'rich aroma', 'rich bold', 'rich buttery', 'rich chocolate', 'rich chocolatey', 'rich coffee', 'rich complex', 'rich creamy', 'rich cup', 'rich dark', 'rich deep', 'rich delicious', 'rich flavor', 'rich flavorful', 'rich full', 'rich not', 'rich nutty', 'rich robust', 'rich satisfying', 'rich smooth', 'rich strong', 'rich sweet', 'rich taste', 'rich tasting', 'rich tasty', 'richer', 'richer flavor', 'richest', 'richly', 'richness', 'rico', 'rid', 'ridder', 'ride', 'rides', 'ridiculous', 'ridiculous price', 'ridiculously', 'ridiculously expensive', 'riding', 'right', 'right add', 'right alley', 'right also', 'right amazon', 'right amount', 'right around', 'right away', 'right back', 'right bag', 'right balance', 'right best', 'right blend', 'right box', 'right buy', 'right coffee', 'right combination', 'right consistency', 'right door', 'right flavor', 'right food', 'right front', 'right get', 'right go', 'right good', 'right got', 'right great', 'right home', 'right house', 'right jar', 'right kind', 'right level', 'right like', 'right love', 'right mind', 'right mix', 'right next', 'right no', 'right not', 'right one', 'right oven', 'right package', 'right perfect', 'right price', 'right product', 'right size', 'right stuff', 'right taste', 'right texture', 'right thing', 'right time', 'right use', 'right way', 'right well', 'right without', 'right would', 'rim', 'rind', 'rinds', 'ring', 'rings', 'rinse', 'rinse well', 'rinsed', 'rinses', 'rinsing', 'rio', 'rip', 'ripe', 'ripoff', 'ripped', 'ripped open', 'ripping', 'rips', 'rise', 'risen', 'rises', 'rishi', 'rising', 'risk', 'risking', 'risky', 'risotto', 'rite', 'ritual', 'ritz', 'ritz crackers', 'rival', 'rivals', 'river', 'road', 'road trip', 'road trips', 'roast', 'roast almonds', 'roast beans', 'roast beef', 'roast best', 'roast bold', 'roast coffee', 'roast coffees', 'roast dark', 'roast decaf', 'roast flavor', 'roast full', 'roast good', 'roast great', 'roast like', 'roast not', 'roast taste', 'roast would', 'roasted', 'roasted almonds', 'roasted beans', 'roasted chicken', 'roasted coffee', 'roasted edamame', 'roasted flavor', 'roasted garlic', 'roasted peanut', 'roasted peanuts', 'roasted red', 'roaster', 'roasters', 'roasting', 'roasts', 'roasts not', 'robbery', 'robert', 'robust', 'robust coffee', 'robust flavor', 'robust not', 'robust taste', 'rock', 'rock hard', 'rock star', 'rocket', 'rocks', 'rockstar', 'rocky', 'roland', 'role', 'roll', 'roll around', 'roll ups', 'rolled', 'rolled oats', 'roller', 'rolling', 'rolls', 'romano', 'romantic', 'rome', 'ron', 'roni', 'roof', 'roof mouth', 'rooibos', 'rooibos tea', 'room', 'room not', 'room temp', 'room temperature', 'roommate', 'rooms', 'root', 'root beer', 'root extract', 'rootbeer', 'roots', 'rope', 'rose', 'rose hips', 'rose petal', 'rose petals', 'rosehips', 'rosemary', 'roses', 'rossa', 'rot', 'rotate', 'rotation', 'rotten', 'rotting', 'rottweiler', 'rough', 'roughly', 'round', 'rounded', 'rounds', 'route', 'routine', 'routinely', 'row', 'rows', 'royal', 'royal canin', 'rub', 'rubbed', 'rubber', 'rubbery', 'rubbery texture', 'rubbing', 'rubs', 'ruby', 'ruby red', 'rude', 'rug', 'rugs', 'ruin', 'ruined', 'ruining', 'ruins', 'rule', 'rules', 'rum', 'rum cake', 'run', 'run across', 'run around', 'run low', 'run mill', 'run not', 'run store', 'runner', 'running', 'running around', 'running errands', 'running low', 'running store', 'running water', 'runny', 'runs', 'rural', 'rural area', 'rush', 'rushed', 'russell', 'russian', 'rust', 'ruth', 'rx', 'rye', 'rye bread', 'rye flour', 'saccharine', 'sachet', 'sachets', 'sack', 'sacrifice', 'sacrificing', 'sad', 'sad not', 'sad see', 'saddened', 'sadly', 'sadly not', 'saeco', 'saf', 'safe', 'safe eat', 'safe healthy', 'safely', 'safer', 'safest', 'safety', 'safeway', 'safflower', 'safflower oil', 'saffron', 'sage', 'sahale', 'said', 'said also', 'said best', 'said better', 'said could', 'said delicious', 'said dog', 'said first', 'said good', 'said great', 'said like', 'said love', 'said no', 'said not', 'said oh', 'said one', 'said product', 'said really', 'said still', 'said taste', 'said tasted', 'said tastes', 'said thought', 'said use', 'said would', 'sake', 'salad', 'salad dressing', 'salad dressings', 'salad greens', 'salad not', 'salads', 'salami', 'salba', 'sale', 'sale amazon', 'sale grocery', 'sale local', 'sale not', 'sale price', 'sales', 'sales tax', 'saliva', 'salmon', 'salmon chicken', 'salmon flavor', 'salmon not', 'salmon oil', 'salmon spread', 'salmonella', 'salon', 'salsa', 'salsas', 'salt', 'salt add', 'salt added', 'salt also', 'salt baking', 'salt butter', 'salt content', 'salt cooking', 'salt could', 'salt diet', 'salt even', 'salt fat', 'salt flavor', 'salt free', 'salt garlic', 'salt good', 'salt great', 'salt instead', 'salt intake', 'salt like', 'salt little', 'salt make', 'salt makes', 'salt may', 'salt msg', 'salt much', 'salt natural', 'salt no', 'salt not', 'salt one', 'salt pepper', 'salt perfect', 'salt popcorn', 'salt product', 'salt put', 'salt really', 'salt salt', 'salt seasoning', 'salt shaker', 'salt since', 'salt sodium', 'salt sugar', 'salt taste', 'salt tastes', 'salt think', 'salt use', 'salt used', 'salt version', 'salt vinegar', 'salt water', 'salt well', 'salt would', 'salted', 'saltier', 'saltine', 'saltine crackers', 'saltines', 'saltiness', 'salts', 'salty', 'salty crunchy', 'salty enough', 'salty flavor', 'salty good', 'salty like', 'salty not', 'salty side', 'salty snack', 'salty sweet', 'salty taste', 'salty tasting', 'salvage', 'sam', 'sam club', 'sample', 'sample pack', 'sample product', 'sampled', 'sampler', 'sampler box', 'sampler pack', 'samples', 'sampling', 'sams', 'sams club', 'san', 'san diego', 'san francisco', 'san marzano', 'sand', 'sandwich', 'sandwich bread', 'sandwich cookies', 'sandwich not', 'sandwich spread', 'sandwiches', 'sandy', 'sane', 'sangria', 'sanitary', 'sans', 'santa', 'santa fe', 'sap', 'sarah', 'sardine', 'sardines', 'sardines not', 'sat', 'sat fat', 'satiated', 'satisfaction', 'satisfactory', 'satisfied', 'satisfied customer', 'satisfied not', 'satisfied product', 'satisfied purchase', 'satisfied quality', 'satisfies', 'satisfies craving', 'satisfies sweet', 'satisfy', 'satisfy chocolate', 'satisfy craving', 'satisfy cravings', 'satisfy need', 'satisfy sweet', 'satisfy taste', 'satisfying', 'satisfying crunch', 'satisfying cup', 'satisfying meal', 'satisfying not', 'satisfying snack', 'satisfying taste', 'saturated', 'saturated fat', 'saturated fats', 'saturated trans', 'saturday', 'saturday morning', 'sauce', 'sauce add', 'sauce adds', 'sauce also', 'sauce amazing', 'sauce best', 'sauce chicken', 'sauce definitely', 'sauce delicious', 'sauce ever', 'sauce far', 'sauce first', 'sauce flavor', 'sauce found', 'sauce get', 'sauce good', 'sauce great', 'sauce hot', 'sauce instead', 'sauce like', 'sauce little', 'sauce love', 'sauce made', 'sauce make', 'sauce makes', 'sauce mix', 'sauce much', 'sauce no', 'sauce not', 'sauce one', 'sauce packet', 'sauce pan', 'sauce perfect', 'sauce put', 'sauce quite', 'sauce really', 'sauce sauce', 'sauce sweet', 'sauce taste', 'sauce tastes', 'sauce top', 'sauce use', 'sauce used', 'sauce well', 'sauce would', 'sauce years', 'saucepan', 'sauces', 'sauces like', 'sauces not', 'sausage', 'sausages', 'saut', 'saute', 'sauteed', 'sauteing', 'savannah', 'save', 'save amazon', 'save best', 'save bucks', 'save calories', 'save deal', 'save discount', 'save even', 'save feature', 'save get', 'save great', 'save item', 'save little', 'save lot', 'save makes', 'save money', 'save much', 'save not', 'save option', 'save order', 'save price', 'save program', 'save shipping', 'save time', 'save ton', 'saved', 'saved money', 'saver', 'saver shipping', 'savers', 'saves', 'saves lot', 'saves money', 'saves time', 'saves us', 'saving', 'saving money', 'savings', 'savor', 'savored', 'savoring', 'savory', 'savory sweet', 'saw', 'saw amazon', 'saw another', 'saw could', 'saw local', 'saw no', 'saw not', 'saw one', 'saw price', 'saw product', 'saw reviews', 'saw store', 'sawdust', 'say', 'say add', 'say anything', 'say bad', 'say best', 'say better', 'say buy', 'say coffee', 'say could', 'say delicious', 'say disappointed', 'say dog', 'say dogs', 'say drink', 'say eat', 'say enough', 'say even', 'say except', 'say favorite', 'say first', 'say flavor', 'say get', 'say give', 'say good', 'say got', 'say great', 'say least', 'say like', 'say little', 'say love', 'say made', 'say much', 'say never', 'say no', 'say not', 'say nothing', 'say one', 'say pleasantly', 'say pretty', 'say price', 'say product', 'say really', 'say something', 'say stuff', 'say sure', 'say taste', 'say tastes', 'say tea', 'say think', 'say though', 'say tried', 'say try', 'say use', 'say want', 'say would', 'say wow', 'saying', 'saying lot', 'saying not', 'saying something', 'says', 'says best', 'says contains', 'says great', 'says lot', 'says made', 'says no', 'says not', 'says one', 'says package', 'says product', 'says taste', 'says tastes', 'says use', 'sb', 'sc', 'scale', 'scallions', 'scallops', 'scalp', 'scalp hair', 'scalp not', 'scalp therapy', 'scam', 'scant', 'scare', 'scared', 'scares', 'scarf', 'scarfed', 'scarfs', 'scary', 'scattered', 'scene', 'scent', 'scent flavor', 'scent not', 'scent taste', 'scented', 'scents', 'sceptical', 'schar', 'scharffen', 'scharffen berger', 'schedule', 'scheduled', 'scheme', 'schnauzer', 'school', 'school lunch', 'school lunches', 'school snack', 'school work', 'schools', 'science', 'science diet', 'scientific', 'scientists', 'scissors', 'scone', 'scones', 'scoop', 'scooped', 'scooping', 'scoops', 'score', 'scored', 'scotch', 'scotland', 'scottish', 'scout', 'scout cookies', 'scoville', 'scramble', 'scrambled', 'scrambled eggs', 'scrap', 'scrape', 'scraping', 'scraps', 'scratch', 'scratch not', 'scratched', 'scratches', 'scratching', 'scream', 'screaming', 'screen', 'screw', 'screw top', 'screwed', 'screws', 'scrub', 'scrumptious', 'se', 'sea', 'sea salt', 'sea salts', 'seafood', 'seal', 'seal approval', 'seal broken', 'seal not', 'seal top', 'sealable', 'sealed', 'sealed bag', 'sealed container', 'sealed foil', 'sealed not', 'sealed package', 'sealed plastic', 'sealing', 'seals', 'seam', 'seams', 'search', 'search amazon', 'search continues', 'search find', 'search found', 'search internet', 'search others', 'searched', 'searched amazon', 'searched everywhere', 'searched high', 'searched internet', 'searched online', 'searched searched', 'searched web', 'searches', 'searching', 'searching online', 'searching something', 'searing', 'season', 'seasonal', 'seasoned', 'seasoned salt', 'seasoning', 'seasoning blend', 'seasoning ever', 'seasoning great', 'seasoning mix', 'seasoning not', 'seasoning packet', 'seasoning perfect', 'seasoning salt', 'seasoning use', 'seasoning years', 'seasonings', 'seasonings not', 'seasonings tea', 'seasons', 'seat', 'seattle', 'seattle best', 'seaweed', 'sec', 'second', 'second bag', 'second batch', 'second best', 'second bottle', 'second box', 'second case', 'second cup', 'second day', 'second favorite', 'second ingredient', 'second jar', 'second one', 'second order', 'second purchase', 'second shipment', 'second third', 'second thought', 'second time', 'second try', 'secondary', 'secondly', 'seconds', 'seconds microwave', 'seconds not', 'secret', 'secret ingredient', 'secrets', 'section', 'sections', 'secure', 'secured', 'securely', 'security', 'sediment', 'see', 'see amazon', 'see available', 'see buying', 'see candy', 'see could', 'see difference', 'see dog', 'see find', 'see get', 'see good', 'see grocery', 'see happens', 'see like', 'see liked', 'see little', 'see long', 'see lot', 'see many', 'see mean', 'see much', 'see new', 'see no', 'see not', 'see one', 'see organic', 'see others', 'see people', 'see price', 'see product', 'see reason', 'see results', 'see review', 'see reviews', 'see someone', 'see something', 'see still', 'see taste', 'see think', 'see works', 'see would', 'seed', 'seed butter', 'seed not', 'seed oil', 'seeds', 'seeds good', 'seeds great', 'seeds not', 'seeds would', 'seeing', 'seek', 'seeking', 'seem', 'seem better', 'seem bit', 'seem carry', 'seem enjoy', 'seem find', 'seem fresh', 'seem get', 'seem go', 'seem good', 'seem help', 'seem high', 'seem keep', 'seem last', 'seem like', 'seem little', 'seem love', 'seem make', 'seem mind', 'seem much', 'seem quite', 'seem really', 'seem taste', 'seem work', 'seemed', 'seemed bit', 'seemed enjoy', 'seemed good', 'seemed like', 'seemed little', 'seemed love', 'seemed quite', 'seemed really', 'seemed work', 'seemingly', 'seems', 'seems best', 'seems better', 'seems bit', 'seems enjoy', 'seems fine', 'seems get', 'seems good', 'seems great', 'seems help', 'seems high', 'seems last', 'seems like', 'seems little', 'seems love', 'seems make', 'seems much', 'seems no', 'seems not', 'seems one', 'seems pretty', 'seems really', 'seems well', 'seems work', 'seen', 'seen anything', 'seen product', 'seen stores', 'seep', 'sees', 'seitenbacher', 'sel', 'seldom', 'select', 'selected', 'selecting', 'selection', 'selections', 'selective', 'self', 'self control', 'sell', 'sell amazon', 'sell date', 'sell product', 'sell stores', 'seller', 'seller amazon', 'seller great', 'seller not', 'seller product', 'seller sent', 'seller shipped', 'seller would', 'sellers', 'selling', 'selling amazon', 'selling point', 'selling product', 'sells', 'seltzer', 'seltzer water', 'semi', 'semi sweet', 'semisweet', 'semolina', 'semolina pasta', 'sencha', 'send', 'send another', 'send back', 'send new', 'send replacement', 'send us', 'sending', 'sending back', 'sending replacement', 'sends', 'senior', 'sensation', 'sensational', 'sense', 'sense buy', 'sense smell', 'sense taste', 'senseo', 'senseo brand', 'senseo coffee', 'senseo dark', 'senseo machine', 'senseo pods', 'senses', 'sensible', 'sensitive', 'sensitive caffeine', 'sensitive skin', 'sensitive stomach', 'sensitive stomachs', 'sensitive taste', 'sensitive tummy', 'sensitivities', 'sensitivity', 'sent', 'sent amazon', 'sent another', 'sent back', 'sent email', 'sent free', 'sent gift', 'sent home', 'sent mother', 'sent new', 'sent not', 'sent one', 'sent replacement', 'sent two', 'sent us', 'sent wrong', 'separate', 'separated', 'separately', 'separates', 'separating', 'separation', 'seperate', 'sept', 'september', 'series', 'serious', 'seriously', 'seriously best', 'seriously not', 'serve', 'serve coffee', 'serve guests', 'serve ice', 'serve rice', 'serve side', 'served', 'served cold', 'served hot', 'served rice', 'server', 'serves', 'service', 'service always', 'service amazon', 'service excellent', 'service good', 'service great', 'service not', 'service price', 'service product', 'service received', 'services', 'serving', 'serving also', 'serving calories', 'serving contains', 'serving cup', 'serving fruit', 'serving grams', 'serving great', 'serving not', 'serving one', 'serving packs', 'serving per', 'serving size', 'serving sizes', 'serving two', 'servings', 'servings calories', 'servings not', 'servings per', 'sesame', 'sesame oil', 'sesame seed', 'sesame seeds', 'session', 'sessions', 'set', 'set aside', 'set back', 'set timer', 'set trap', 'sets', 'setter', 'setting', 'setting keurig', 'settings', 'settle', 'settled', 'settles', 'settling', 'setup', 'seven', 'several', 'several bags', 'several bottles', 'several boxes', 'several brands', 'several cans', 'several cases', 'several cups', 'several days', 'several different', 'several flavors', 'several friends', 'several hours', 'several items', 'several kinds', 'several minutes', 'several months', 'several others', 'several packages', 'several packs', 'several people', 'several reasons', 'several recipes', 'several reviewers', 'several reviews', 'several stores', 'several things', 'several times', 'several types', 'several varieties', 'several weeks', 'several years', 'severe', 'severe food', 'severely', 'sex', 'sf', 'shabby', 'shade', 'shade grown', 'shake', 'shake bag', 'shake bake', 'shake bottle', 'shake container', 'shake not', 'shake well', 'shaken', 'shaker', 'shakers', 'shakes', 'shaking', 'shall', 'shallow', 'shame', 'shame amazon', 'shame not', 'shampoo', 'shampoo conditioner', 'shampoo not', 'shampooing', 'shampoos', 'shape', 'shape not', 'shaped', 'shaped like', 'shapes', 'shards', 'share', 'share family', 'share friends', 'share others', 'shared', 'shared family', 'shared friends', 'shares', 'sharing', 'shark', 'sharp', 'sharp cheddar', 'sharp edges', 'sharpness', 'shatter', 'shattered', 'shaved', 'shaved ice', 'shavings', 'shea', 'shea butter', 'shed', 'shedding', 'sheen', 'sheep', 'sheer', 'sheet', 'sheets', 'shelf', 'shelf life', 'shelf long', 'shelf not', 'shelf space', 'shelf stable', 'shell', 'shelled', 'shellfish', 'shells', 'shells cheese', 'shelter', 'sheltie', 'shelties', 'shelves', 'shepard', 'shepherd', 'shepherd mix', 'shepherds', 'sherry', 'shes', 'shift', 'shih', 'shih tzu', 'shih tzus', 'shim', 'shin', 'shine', 'shines', 'shinier', 'shiny', 'shiny coat', 'shiny coats', 'shiny not', 'shiny soft', 'ship', 'ship amazon', 'ship back', 'ship option', 'ship product', 'ship program', 'ship save', 'shipment', 'shipment amazon', 'shipment arrived', 'shipment came', 'shipment not', 'shipment received', 'shipments', 'shipped', 'shipped amazon', 'shipped box', 'shipped directly', 'shipped door', 'shipped fast', 'shipped free', 'shipped house', 'shipped promptly', 'shipped quick', 'shipped quickly', 'shipped right', 'shipped time', 'shipped timely', 'shipped well', 'shipper', 'shipping', 'shipping also', 'shipping always', 'shipping amazon', 'shipping bit', 'shipping box', 'shipping buy', 'shipping charge', 'shipping charges', 'shipping cheaper', 'shipping cost', 'shipping costs', 'shipping even', 'shipping expensive', 'shipping fast', 'shipping fee', 'shipping free', 'shipping get', 'shipping good', 'shipping got', 'shipping great', 'shipping handling', 'shipping less', 'shipping like', 'shipping little', 'shipping made', 'shipping makes', 'shipping much', 'shipping never', 'shipping no', 'shipping not', 'shipping one', 'shipping option', 'shipping order', 'shipping orders', 'shipping pretty', 'shipping price', 'shipping process', 'shipping product', 'shipping prompt', 'shipping quick', 'shipping really', 'shipping since', 'shipping still', 'shipping super', 'shipping time', 'shipping took', 'shipping weight', 'shipping well', 'shipping would', 'ships', 'ships quickly', 'shirataki', 'shirataki noodles', 'shirt', 'shock', 'shocked', 'shocked see', 'shocking', 'shoe', 'shoe leather', 'shoes', 'shook', 'shoot', 'shoots', 'shop', 'shop amazon', 'shop around', 'shop coffee', 'shoppe', 'shopped', 'shopped around', 'shopper', 'shoppers', 'shopping', 'shopping amazon', 'shopping around', 'shopping list', 'shops', 'shore', 'short', 'short amount', 'short grain', 'short not', 'short order', 'short period', 'short sweet', 'short time', 'shortage', 'shortbread', 'shortbread cookies', 'shortening', 'shorter', 'shorthair', 'shortly', 'shot', 'shot espresso', 'shot not', 'shots', 'shoulder', 'shoulders', 'shove', 'shovel', 'shoving', 'show', 'showed', 'shower', 'showing', 'shown', 'shown picture', 'shows', 'shred', 'shredded', 'shredded cheese', 'shredded chicken', 'shredded coconut', 'shredded wheat', 'shreds', 'shrimp', 'shrink', 'shrink wrap', 'shrink wrapped', 'shut', 'shy', 'shy away', 'siamese', 'siberian', 'siberian husky', 'sicilian', 'sicily', 'sick', 'sick eating', 'sick not', 'sick stomach', 'sickening', 'sickeningly', 'sickeningly sweet', 'sickly', 'sickly sweet', 'sickness', 'side', 'side bag', 'side box', 'side comparison', 'side dish', 'side dishes', 'side effect', 'side effects', 'side good', 'side like', 'side not', 'side note', 'side side', 'side still', 'side taste', 'side would', 'sided', 'sides', 'sieve', 'sift', 'sifted', 'sifter', 'sifting', 'sigh', 'sight', 'sign', 'signature', 'signed', 'signed auto', 'signed subscribe', 'signed subscription', 'significant', 'significant amount', 'significant difference', 'significantly', 'significantly better', 'significantly less', 'signing', 'signs', 'silicon', 'silicone', 'silk', 'silky', 'silky smooth', 'silly', 'silver', 'similac', 'similac organic', 'similac sensitive', 'similar', 'similar brands', 'similar flavor', 'similar not', 'similar one', 'similar price', 'similar product', 'similar products', 'similar regular', 'similar taste', 'similarity', 'similarly', 'similiar', 'simmer', 'simmer minutes', 'simmered', 'simmering', 'simple', 'simple delicious', 'simple easy', 'simple ingredients', 'simple make', 'simple prepare', 'simple tasty', 'simple use', 'simpler', 'simplicity', 'simply', 'simply add', 'simply amazing', 'simply best', 'simply cannot', 'simply delicious', 'simply love', 'simply not', 'simply organic', 'simply put', 'simultaneously', 'since', 'since already', 'since also', 'since always', 'since amazon', 'since bought', 'since buy', 'since buying', 'since came', 'since cats', 'since changed', 'since child', 'since childhood', 'since come', 'since comes', 'since could', 'since diagnosed', 'since discovered', 'since dog', 'since dogs', 'since drink', 'since early', 'since eat', 'since eaten', 'since eating', 'since everyone', 'since first', 'since found', 'since get', 'since gluten', 'since going', 'since good', 'since got', 'since great', 'since high', 'since husband', 'since kid', 'since know', 'since last', 'since like', 'since little', 'since live', 'since local', 'since lot', 'since love', 'since loves', 'since made', 'since many', 'since months', 'since moved', 'since moving', 'since much', 'since natural', 'since never', 'since no', 'since not', 'since one', 'since ordered', 'since organic', 'since price', 'since product', 'since puppy', 'since purchased', 'since put', 'since really', 'since small', 'since started', 'since still', 'since switched', 'since switching', 'since taste', 'since time', 'since tried', 'since trying', 'since two', 'since use', 'since used', 'since using', 'since usually', 'since wanted', 'since would', 'since years', 'sincerely', 'sinful', 'sinfully', 'sing', 'singing', 'single', 'single bag', 'single bottle', 'single box', 'single cup', 'single day', 'single flavor', 'single malt', 'single one', 'single pack', 'single packs', 'single person', 'single piece', 'single pod', 'single serve', 'single serving', 'single servings', 'single time', 'singles', 'sink', 'sinus', 'sinuses', 'sip', 'sip not', 'sip tea', 'sipped', 'sipping', 'sips', 'sirloin', 'sister', 'sister law', 'sisters', 'sit', 'sit around', 'sit back', 'sit eat', 'sit minutes', 'site', 'site not', 'sites', 'sits', 'sitting', 'sitting around', 'sitting desk', 'sitting not', 'sitting shelf', 'situation', 'situations', 'six', 'six bags', 'six bottles', 'six boxes', 'six cans', 'six month', 'six months', 'six pack', 'six packs', 'six weeks', 'six year', 'six years', 'sixteen', 'size', 'size bag', 'size bags', 'size bar', 'size bottle', 'size box', 'size cans', 'size container', 'size cookies', 'size cup', 'size dog', 'size easy', 'size get', 'size good', 'size great', 'size jar', 'size kibble', 'size large', 'size larger', 'size little', 'size love', 'size makes', 'size much', 'size not', 'size one', 'size oz', 'size package', 'size perfect', 'size pieces', 'size portion', 'size price', 'size product', 'size really', 'size regular', 'size right', 'size serving', 'size shape', 'size since', 'size small', 'size snack', 'size training', 'size treat', 'size two', 'size use', 'size would', 'sized', 'sized bag', 'sized bags', 'sized package', 'sized pieces', 'sizes', 'sizing', 'skeptic', 'skeptical', 'skeptical buying', 'skeptical first', 'skeptical trying', 'skeptical would', 'skillet', 'skillets', 'skills', 'skim', 'skim milk', 'skimp', 'skimpy', 'skin', 'skin allergies', 'skin care', 'skin coat', 'skin hair', 'skin issues', 'skin not', 'skin problems', 'skinless', 'skinless boneless', 'skinless chicken', 'skinny', 'skins', 'skip', 'skip one', 'skipped', 'skipping', 'skippy', 'skittles', 'skull', 'sky', 'skyline', 'slab', 'slam', 'slap', 'slather', 'slathered', 'slaw', 'sleek', 'sleep', 'sleep night', 'sleep well', 'sleeping', 'sleeps', 'sleepy', 'sleepytime', 'sleeve', 'slept', 'slice', 'sliced', 'sliced banana', 'slices', 'slicing', 'slick', 'slide', 'slides', 'sliding', 'slight', 'slight aftertaste', 'slight bitter', 'slight bitterness', 'slight hint', 'slight taste', 'slightest', 'slightest hint', 'slightly', 'slightly better', 'slightly bitter', 'slightly cheaper', 'slightly chewy', 'slightly different', 'slightly expensive', 'slightly higher', 'slightly larger', 'slightly less', 'slightly lighter', 'slightly lower', 'slightly nutty', 'slightly salty', 'slightly smaller', 'slightly sour', 'slightly spicy', 'slightly stronger', 'slightly sweet', 'slightly sweeter', 'slightly tart', 'slightly thicker', 'slim', 'slim jim', 'slim jims', 'slime', 'slimy', 'slip', 'slipped', 'slippery', 'slit', 'sliver', 'slivers', 'sloppy', 'slot', 'slow', 'slow cooker', 'slower', 'slowly', 'sludge', 'sluggish', 'slump', 'smack', 'small', 'small amount', 'small amounts', 'small bag', 'small bags', 'small batches', 'small bit', 'small bite', 'small bites', 'small bits', 'small bottle', 'small bottles', 'small bowl', 'small box', 'small boxes', 'small breed', 'small cans', 'small children', 'small container', 'small containers', 'small cup', 'small dog', 'small dogs', 'small easy', 'small enough', 'small family', 'small fortune', 'small glass', 'small handful', 'small jar', 'small large', 'small like', 'small little', 'small medium', 'small not', 'small one', 'small ones', 'small package', 'small packages', 'small packets', 'small packs', 'small perfect', 'small piece', 'small pieces', 'small plastic', 'small portion', 'small portions', 'small pot', 'small price', 'small quantities', 'small quantity', 'small sample', 'small serving', 'small side', 'small size', 'small snack', 'small town', 'smaller', 'smaller amount', 'smaller bag', 'smaller bags', 'smaller bottles', 'smaller boxes', 'smaller cans', 'smaller containers', 'smaller cup', 'smaller dog', 'smaller dogs', 'smaller expected', 'smaller one', 'smaller ones', 'smaller oz', 'smaller package', 'smaller packages', 'smaller pieces', 'smaller portion', 'smaller portions', 'smaller quantities', 'smaller quantity', 'smaller regular', 'smaller size', 'smallest', 'smallest cup', 'smallish', 'smart', 'smart enough', 'smarter', 'smash', 'smashed', 'smear', 'smeared', 'smell', 'smell absolutely', 'smell alone', 'smell awful', 'smell bad', 'smell better', 'smell bit', 'smell coffee', 'smell delicious', 'smell even', 'smell flavor', 'smell food', 'smell fresh', 'smell good', 'smell great', 'smell like', 'smell little', 'smell nice', 'smell no', 'smell not', 'smell open', 'smell pretty', 'smell product', 'smell really', 'smell smell', 'smell strong', 'smell taste', 'smell tea', 'smell vanilla', 'smell wonderful', 'smell would', 'smelled', 'smelled bad', 'smelled good', 'smelled great', 'smelled like', 'smelled tasted', 'smelled wonderful', 'smelling', 'smells', 'smells amazing', 'smells bad', 'smells better', 'smells delicious', 'smells good', 'smells great', 'smells heavenly', 'smells like', 'smells much', 'smells nice', 'smells really', 'smells tastes', 'smells terrible', 'smells wonderful', 'smelly', 'smile', 'smile face', 'smiles', 'smiling', 'smith', 'smoke', 'smoke flavor', 'smoke point', 'smoked', 'smoked flavor', 'smoked paprika', 'smoked salmon', 'smokehouse', 'smoker', 'smokey', 'smokey flavor', 'smokey taste', 'smokiness', 'smoking', 'smoky', 'smoky flavor', 'smooth', 'smooth bold', 'smooth chocolate', 'smooth coffee', 'smooth creamy', 'smooth cup', 'smooth dark', 'smooth delicious', 'smooth enough', 'smooth flavor', 'smooth flavorful', 'smooth full', 'smooth good', 'smooth great', 'smooth light', 'smooth mellow', 'smooth never', 'smooth no', 'smooth not', 'smooth rich', 'smooth silky', 'smooth strong', 'smooth sweet', 'smooth taste', 'smooth tasting', 'smooth tasty', 'smooth texture', 'smooth without', 'smooth yet', 'smoother', 'smoothest', 'smoothie', 'smoothies', 'smoothly', 'smoothness', 'smores', 'smuckers', 'snack', 'snack afternoon', 'snack also', 'snack always', 'snack bar', 'snack bars', 'snack breakfast', 'snack calories', 'snack cereal', 'snack crunchy', 'snack cup', 'snack day', 'snack delicious', 'snack dessert', 'snack easy', 'snack eat', 'snack especially', 'snack even', 'snack ever', 'snack food', 'snack foods', 'snack get', 'snack go', 'snack good', 'snack great', 'snack healthy', 'snack item', 'snack keep', 'snack kids', 'snack like', 'snack little', 'snack love', 'snack low', 'snack lunch', 'snack meal', 'snack meals', 'snack mix', 'snack no', 'snack not', 'snack one', 'snack pack', 'snack packs', 'snack perfect', 'snack product', 'snack really', 'snack right', 'snack size', 'snack small', 'snack something', 'snack sweet', 'snack take', 'snack taste', 'snack tastes', 'snack tasty', 'snack time', 'snack want', 'snack well', 'snack without', 'snack work', 'snack would', 'snacking', 'snacks', 'snacks even', 'snacks go', 'snacks good', 'snacks great', 'snacks healthy', 'snacks like', 'snacks not', 'snacks one', 'snacks taste', 'snackwell', 'snail', 'snap', 'snapped', 'snapple', 'snappy', 'snaps', 'sneak', 'sneaking', 'sneaky', 'snickers', 'sniff', 'sniffed', 'sniffing', 'sniffs', 'snob', 'snobs', 'snow', 'snyder', 'soak', 'soak overnight', 'soak water', 'soaked', 'soaking', 'soaks', 'soap', 'soaps', 'soapy', 'soba', 'soccer', 'social', 'socially', 'society', 'socks', 'soda', 'soda drinker', 'soda not', 'soda pop', 'soda taste', 'soda water', 'soda would', 'sodas', 'sodas not', 'sodastream', 'sodium', 'sodium bicarbonate', 'sodium content', 'sodium diet', 'sodium fat', 'sodium intake', 'sodium mg', 'sodium not', 'sodium per', 'sodium potassium', 'sodium salt', 'sodium total', 'soft', 'soft baked', 'soft chewy', 'soft cookie', 'soft cookies', 'soft creamy', 'soft delicious', 'soft drink', 'soft drinks', 'soft easy', 'soft enough', 'soft even', 'soft flavorful', 'soft food', 'soft fresh', 'soft inside', 'soft like', 'soft moist', 'soft mushy', 'soft not', 'soft shiny', 'soft silky', 'soft smooth', 'soft sweet', 'soft texture', 'soft treats', 'soften', 'softened', 'softens', 'softer', 'softer texture', 'softest', 'softness', 'soggy', 'soggy not', 'soggy quickly', 'soil', 'sold', 'sold amazon', 'sold grocery', 'sold local', 'sold locally', 'sold product', 'sold stores', 'sold supermarkets', 'sold us', 'sole', 'solely', 'solid', 'solid food', 'solid foods', 'solid gold', 'solid room', 'solid white', 'solidified', 'solids', 'solo', 'soluble', 'soluble fiber', 'solution', 'solutions', 'solve', 'solve problem', 'solved', 'solved problem', 'solves', 'somebody', 'someday', 'somehow', 'somehow not', 'someone', 'someone else', 'someone gave', 'someone like', 'someone likes', 'someone loves', 'someone mentioned', 'someone needs', 'someone not', 'someone said', 'someone trying', 'someone would', 'someplace', 'something', 'something actually', 'something add', 'something always', 'something bad', 'something better', 'something bit', 'something buy', 'something changed', 'something could', 'something crunchy', 'something delicious', 'something different', 'something drink', 'something easy', 'something eat', 'something else', 'something enjoy', 'something everyone', 'something extra', 'something fast', 'something find', 'something flavor', 'something get', 'something go', 'something going', 'something good', 'something great', 'something healthier', 'something healthy', 'something help', 'something hot', 'something keep', 'something less', 'something like', 'something little', 'something looks', 'something low', 'something made', 'something make', 'something might', 'something missing', 'something natural', 'something never', 'something new', 'something not', 'something one', 'something quick', 'something really', 'something replace', 'something right', 'something similar', 'something simple', 'something special', 'something sweet', 'something take', 'something taste', 'something tastes', 'something tasty', 'something used', 'something want', 'something without', 'something works', 'something would', 'something wrong', 'sometime', 'sometimes', 'sometimes add', 'sometimes difficult', 'sometimes eat', 'sometimes even', 'sometimes find', 'sometimes get', 'sometimes go', 'sometimes hard', 'sometimes like', 'sometimes little', 'sometimes make', 'sometimes mix', 'sometimes need', 'sometimes not', 'sometimes put', 'sometimes use', 'sometimes want', 'sometimes would', 'somewhat', 'somewhat bland', 'somewhat like', 'somewhat pricey', 'somewhat sweet', 'somewhere', 'somewhere else', 'son', 'son allergic', 'son also', 'son birthday', 'son daughter', 'son eat', 'son eats', 'son favorite', 'son gluten', 'son law', 'son likes', 'son love', 'son loved', 'son loves', 'son months', 'son not', 'son really', 'son started', 'son would', 'song', 'sonic', 'sonoma', 'sons', 'soo', 'soon', 'soon discovered', 'soon get', 'soon got', 'soon open', 'soon opened', 'soon order', 'soon put', 'soon received', 'soon run', 'sooner', 'sooner expected', 'sooo', 'sooo good', 'sooo much', 'soooo', 'soooo good', 'soooo much', 'sooooo', 'sooooo good', 'sooooo much', 'soooooo', 'soooooo good', 'sooooooo', 'sooth', 'soothe', 'soothes', 'soothing', 'sophisticated', 'sorbate', 'sorbitol', 'sore', 'sore throat', 'sore throats', 'sorely', 'sorely disappointed', 'sorghum', 'sorry', 'sorry new', 'sorry not', 'sorry say', 'sort', 'sort like', 'sort taste', 'sort thing', 'sorta', 'sorts', 'sorts things', 'souchong', 'sought', 'soul', 'sound', 'sound like', 'sounded', 'sounded good', 'sounded great', 'sounded like', 'sounding', 'sounds', 'sounds good', 'sounds like', 'soup', 'soup also', 'soup base', 'soup delicious', 'soup ever', 'soup good', 'soup great', 'soup like', 'soup little', 'soup mix', 'soup much', 'soup not', 'soup one', 'soup really', 'soup recipe', 'soup stew', 'soup still', 'soup taste', 'soup tastes', 'soup would', 'soups', 'soups salads', 'soups sauces', 'soups stews', 'soupy', 'sour', 'sour apple', 'sour candies', 'sour candy', 'sour cream', 'sour not', 'sour sauce', 'sour sweet', 'sour taste', 'source', 'source fiber', 'source not', 'source omega', 'source protein', 'source vitamin', 'sourced', 'sources', 'sourdough', 'sourdough bread', 'sourdough starter', 'sourness', 'south', 'south africa', 'south african', 'south america', 'south american', 'south beach', 'south carolina', 'southeast', 'southern', 'southern california', 'southern pecan', 'southwest', 'southwestern', 'soy', 'soy based', 'soy beans', 'soy corn', 'soy flour', 'soy formula', 'soy free', 'soy lecithin', 'soy milk', 'soy no', 'soy not', 'soy nuts', 'soy oil', 'soy products', 'soy protein', 'soy sauce', 'soy wheat', 'soybean', 'soybean oil', 'soybeans', 'soymilk', 'sp', 'spa', 'space', 'spagetti', 'spaghetti', 'spaghetti sauce', 'spain', 'spam', 'span', 'spaniel', 'spaniels', 'spanish', 'spanish rice', 'spare', 'sparingly', 'sparkle', 'sparkling', 'sparkling ice', 'sparkling juice', 'sparkling water', 'sparkly', 'spasms', 'spatula', 'speak', 'speaking', 'speaks', 'spearmint', 'special', 'special blend', 'special dark', 'special diet', 'special flavor', 'special not', 'special occasion', 'special occasions', 'special order', 'special protein', 'special taste', 'special treat', 'special treats', 'specialist', 'speciality', 'specially', 'specials', 'specialty', 'specialty food', 'specialty store', 'specialty stores', 'species', 'specific', 'specific product', 'specifically', 'specified', 'specify', 'specs', 'spectacular', 'spectrum', 'speed', 'speed delivery', 'speedy', 'speedy delivery', 'spell', 'spelling', 'spelt', 'spend', 'spend extra', 'spend hours', 'spend lot', 'spend money', 'spend much', 'spend time', 'spending', 'spending money', 'spends', 'spendy', 'spent', 'spent days', 'spent lot', 'spent time', 'spice', 'spice blend', 'spice cabinet', 'spice chai', 'spice coffee', 'spice flavor', 'spice great', 'spice latte', 'spice mix', 'spice not', 'spice packet', 'spice rack', 'spice taste', 'spice tea', 'spiced', 'spiced chai', 'spices', 'spices like', 'spices not', 'spices use', 'spicey', 'spicier', 'spiciness', 'spicy', 'spicy chicken', 'spicy enough', 'spicy flavor', 'spicy food', 'spicy foods', 'spicy good', 'spicy great', 'spicy heat', 'spicy hot', 'spicy kick', 'spicy like', 'spicy little', 'spicy not', 'spicy sweet', 'spicy taste', 'spicy tea', 'spicy would', 'spike', 'spike blood', 'spikes', 'spill', 'spillage', 'spilled', 'spilling', 'spills', 'spin', 'spinach', 'spirals', 'spirit', 'spirits', 'spirulina', 'spit', 'spit not', 'spit pill', 'spite', 'spits', 'spitting', 'splash', 'splash milk', 'splenda', 'splenda coffee', 'splenda no', 'splenda not', 'splenda packets', 'splenda tastes', 'splendid', 'splinter', 'split', 'split open', 'split pea', 'splitting', 'splurge', 'splurging', 'spoil', 'spoilage', 'spoiled', 'spoiling', 'spoke', 'spoken', 'sponge', 'sponge cake', 'spongy', 'spoon', 'spoon full', 'spoonful', 'spoonfuls', 'spoons', 'sport', 'sports', 'sports drink', 'sports drinks', 'spot', 'spot stew', 'spots', 'spotted', 'spouse', 'spout', 'spray', 'sprayed', 'sprayer', 'spraying', 'sprays', 'spread', 'spread thin', 'spread toast', 'spread word', 'spreadable', 'spreading', 'spreads', 'spring', 'spring summer', 'spring water', 'springs', 'springy', 'sprinkle', 'sprinkle cinnamon', 'sprinkle little', 'sprinkle top', 'sprinkled', 'sprinkled top', 'sprinkles', 'sprinkling', 'sprite', 'sprout', 'sprouted', 'sprouter', 'sprouting', 'sprouts', 'spry', 'square', 'squares', 'squash', 'squashed', 'squeaky', 'squeezable', 'squeeze', 'squeeze bottle', 'squeeze energy', 'squeeze packs', 'squeezed', 'squeezes', 'squeezing', 'squid', 'squirrel', 'squirrels', 'squirt', 'squirts', 'squished', 'squishy', 'sri', 'sri lanka', 'sriracha', 'ss', 'st', 'st dalfour', 'st louis', 'stabilize', 'stable', 'stack', 'stacked', 'stacks', 'stacy', 'staff', 'stage', 'stages', 'stain', 'stained', 'staining', 'stainless', 'stainless steel', 'stains', 'stairs', 'stale', 'stale coffee', 'stale no', 'stale not', 'stale taste', 'stalks', 'stamp', 'stamped', 'stand', 'stand alone', 'stand minutes', 'stand taste', 'standard', 'standard poodle', 'standard shipping', 'standards', 'standby', 'standing', 'standing order', 'standpoint', 'stands', 'staple', 'staple diet', 'staple food', 'staple home', 'staple house', 'staple household', 'staple kitchen', 'staple pantry', 'staples', 'star', 'star not', 'star product', 'star rating', 'star review', 'star reviews', 'star would', 'starbuck', 'starbucks', 'starbucks coffee', 'starbucks fan', 'starbucks french', 'starbucks natural', 'starbucks not', 'starbucks via', 'starburst', 'starch', 'starches', 'starchy', 'stare', 'stared', 'staring', 'starkist', 'stars', 'stars could', 'stars even', 'stars flavor', 'stars good', 'stars however', 'stars instead', 'stars like', 'stars not', 'stars price', 'stars product', 'stars since', 'stars taste', 'stars think', 'stars would', 'start', 'start buying', 'start day', 'start drinking', 'start eating', 'start finish', 'start getting', 'start making', 'start morning', 'start not', 'start saying', 'start selling', 'start using', 'started', 'started buying', 'started carrying', 'started drinking', 'started eating', 'started feeding', 'started get', 'started getting', 'started giving', 'started looking', 'started making', 'started mixing', 'started ordering', 'started putting', 'started researching', 'started taking', 'started use', 'started using', 'starter', 'starter kit', 'starters', 'starting', 'starts', 'starve', 'starved', 'starving', 'stash', 'stash premium', 'stash tea', 'stash teas', 'stashed', 'state', 'stated', 'stated not', 'statement', 'statements', 'states', 'states made', 'states not', 'stating', 'station', 'stationed', 'stations', 'stats', 'status', 'stave', 'stay', 'stay away', 'stay crunchy', 'stay fresh', 'stay fresher', 'stay healthy', 'stay home', 'stay hydrated', 'stayed', 'stayed fresh', 'staying', 'staying away', 'stays', 'stays crunchy', 'stays fresh', 'steadily', 'steady', 'steady supply', 'steak', 'steak sauce', 'steak seasoning', 'steaks', 'steal', 'stealing', 'steam', 'steamed', 'steamed milk', 'steamed veggies', 'steamer', 'steaming', 'steams', 'steel', 'steel cut', 'steep', 'steep long', 'steep minutes', 'steep tea', 'steeped', 'steeping', 'steeps', 'steer', 'steer clear', 'stella', 'stellar', 'stem', 'stems', 'stench', 'step', 'stepped', 'stepping', 'steps', 'sterile', 'steroids', 'stevia', 'stevia extract', 'stevia natural', 'stevia not', 'stevia powder', 'stevia products', 'stevia sweetener', 'stevia taste', 'stevita', 'stew', 'stews', 'stick', 'stick butter', 'stick not', 'stick one', 'stick regular', 'stick teeth', 'stick together', 'sticker', 'stickiness', 'sticking', 'sticks', 'sticks not', 'sticky', 'sticky mess', 'sticky not', 'sticky rice', 'stiff', 'stiffer', 'stik', 'still', 'still able', 'still alive', 'still available', 'still best', 'still better', 'still bit', 'still buy', 'still cheaper', 'still could', 'still delicious', 'still drink', 'still eat', 'still eating', 'still enjoy', 'still enough', 'still favorite', 'still feel', 'still find', 'still flavorful', 'still found', 'still fresh', 'still get', 'still getting', 'still give', 'still going', 'still good', 'still got', 'still great', 'still hard', 'still healthy', 'still high', 'still highly', 'still hot', 'still keep', 'still left', 'still like', 'still little', 'still looking', 'still lot', 'still love', 'still loves', 'still made', 'still make', 'still makes', 'still much', 'still need', 'still nice', 'still no', 'still not', 'still nothing', 'still one', 'still order', 'still plenty', 'still prefer', 'still pretty', 'still quite', 'still really', 'still recommend', 'still remember', 'still sitting', 'still sold', 'still strong', 'still sugar', 'still taste', 'still tasted', 'still tastes', 'still tasty', 'still think', 'still trying', 'still use', 'still waiting', 'still want', 'still warm', 'still well', 'still wonderful', 'still work', 'still working', 'still works', 'still worth', 'still would', 'stimulant', 'stimulate', 'stimulates', 'stimulating', 'stimulation', 'sting', 'stink', 'stinks', 'stinky', 'stir', 'stir fried', 'stir fries', 'stir fry', 'stir frying', 'stir well', 'stirred', 'stirring', 'stix', 'stock', 'stock amazon', 'stock great', 'stock item', 'stock not', 'stocked', 'stocked pantry', 'stocking', 'stocking stuffer', 'stocking stuffers', 'stockings', 'stocks', 'stole', 'stomach', 'stomach ache', 'stomach issues', 'stomach like', 'stomach not', 'stomach pain', 'stomach problems', 'stomach upset', 'stomachs', 'stone', 'stone ground', 'stones', 'stonewall', 'stong', 'stood', 'stool', 'stools', 'stop', 'stop buying', 'stop carrying', 'stop drinking', 'stop eating', 'stop making', 'stop one', 'stop selling', 'stop shop', 'stop using', 'stopped', 'stopped buying', 'stopped carrying', 'stopped drinking', 'stopped eating', 'stopped giving', 'stopped making', 'stopped selling', 'stopped stocking', 'stopped using', 'stoppers', 'stopping', 'stops', 'storage', 'storage container', 'storage drawer', 'store', 'store also', 'store always', 'store amazon', 'store anymore', 'store area', 'store around', 'store better', 'store big', 'store bought', 'store brand', 'store brands', 'store buy', 'store buying', 'store came', 'store carried', 'store carries', 'store cheaper', 'store coffee', 'store cost', 'store could', 'store decided', 'store definitely', 'store discontinued', 'store dog', 'store easy', 'store even', 'store expensive', 'store find', 'store first', 'store food', 'store found', 'store freezer', 'store fridge', 'store get', 'store go', 'store good', 'store got', 'store great', 'store happy', 'store instead', 'store less', 'store like', 'store locally', 'store long', 'store looking', 'store love', 'store loved', 'store make', 'store much', 'store near', 'store never', 'store nice', 'store no', 'store not', 'store one', 'store order', 'store ordered', 'store per', 'store pick', 'store picked', 'store price', 'store prices', 'store product', 'store purchase', 'store purchased', 'store quit', 'store really', 'store refrigerator', 'store sale', 'store see', 'store selling', 'store sells', 'store shelf', 'store shelves', 'store since', 'store small', 'store sold', 'store stopped', 'store store', 'store taste', 'store tea', 'store thought', 'store today', 'store town', 'store tried', 'store try', 'store used', 'store usually', 'store well', 'store went', 'store would', 'stored', 'stored refrigerator', 'stores', 'stores also', 'stores always', 'stores amazon', 'stores anymore', 'stores area', 'stores around', 'stores bought', 'stores buy', 'stores carry', 'stores charge', 'stores could', 'stores even', 'stores found', 'stores get', 'stores glad', 'stores good', 'stores great', 'stores happy', 'stores like', 'stores live', 'stores love', 'stores much', 'stores near', 'stores no', 'stores not', 'stores one', 'stores order', 'stores ordered', 'stores pleased', 'stores price', 'stores sell', 'stores since', 'stores stopped', 'stores thank', 'stores thanks', 'stores thrilled', 'stores use', 'stores used', 'stores usually', 'stores well', 'stores would', 'stories', 'storing', 'storm', 'story', 'story short', 'stout', 'stove', 'stove top', 'stovetop', 'straight', 'straight bag', 'straight bottle', 'straight box', 'straight jar', 'straight no', 'straightforward', 'strain', 'strained', 'strainer', 'straining', 'strands', 'strange', 'strange aftertaste', 'strange taste', 'strangely', 'strangely enough', 'strategy', 'straw', 'strawberries', 'strawberries not', 'strawberry', 'strawberry banana', 'strawberry flavor', 'strawberry flavored', 'strawberry jam', 'strawberry kiwi', 'strawberry orange', 'strawberry vanilla', 'strawberry watermelon', 'straws', 'stray', 'stream', 'street', 'streets', 'strength', 'strength coffee', 'strengthen', 'stress', 'stressed', 'stressful', 'stretch', 'stretch imagination', 'strict', 'strict diet', 'strictly', 'strike', 'strikes', 'string', 'strings', 'stringy', 'strip', 'stripes', 'stripped', 'strips', 'stroganoff', 'stroke', 'strong', 'strong aftertaste', 'strong aroma', 'strong bitter', 'strong black', 'strong bold', 'strong brew', 'strong chewer', 'strong chocolate', 'strong cinnamon', 'strong coffee', 'strong cup', 'strong dark', 'strong enough', 'strong flavor', 'strong flavored', 'strong flavorful', 'strong flavors', 'strong full', 'strong ginger', 'strong good', 'strong great', 'strong like', 'strong not', 'strong odor', 'strong one', 'strong really', 'strong rich', 'strong right', 'strong robust', 'strong smell', 'strong smooth', 'strong still', 'strong sweet', 'strong taste', 'strong tasting', 'strong tea', 'strong vanilla', 'strong want', 'strong weak', 'strong without', 'strong would', 'strong yet', 'stronger', 'stronger brew', 'stronger coffee', 'stronger flavor', 'stronger taste', 'strongest', 'strongly', 'strongly flavored', 'strongly recommend', 'strongly suggest', 'struck', 'structure', 'struggle', 'struggled', 'struggling', 'stubborn', 'stuck', 'stuck boxes', 'stuck teeth', 'stuck together', 'student', 'students', 'studied', 'studies', 'studies shown', 'study', 'studying', 'stuff', 'stuff absolutely', 'stuff actually', 'stuff add', 'stuff almost', 'stuff also', 'stuff always', 'stuff amazing', 'stuff amazon', 'stuff awesome', 'stuff best', 'stuff better', 'stuff buy', 'stuff could', 'stuff delicious', 'stuff drink', 'stuff eat', 'stuff even', 'stuff ever', 'stuff expensive', 'stuff find', 'stuff first', 'stuff get', 'stuff give', 'stuff goes', 'stuff good', 'stuff got', 'stuff great', 'stuff grocery', 'stuff hard', 'stuff highly', 'stuff like', 'stuff little', 'stuff local', 'stuff looking', 'stuff love', 'stuff made', 'stuff make', 'stuff makes', 'stuff much', 'stuff nasty', 'stuff never', 'stuff no', 'stuff not', 'stuff one', 'stuff perfect', 'stuff pretty', 'stuff probably', 'stuff really', 'stuff seems', 'stuff since', 'stuff small', 'stuff smells', 'stuff store', 'stuff takes', 'stuff taste', 'stuff tastes', 'stuff tasty', 'stuff think', 'stuff though', 'stuff time', 'stuff tried', 'stuff try', 'stuff use', 'stuff used', 'stuff way', 'stuff wish', 'stuff wonderful', 'stuff works', 'stuff would', 'stuffed', 'stuffer', 'stuffers', 'stuffing', 'stuffs', 'stuffy', 'stumble', 'stumbled', 'stumbled across', 'stumbled upon', 'stunned', 'stupid', 'sturdy', 'sturdy enough', 'style', 'style coffee', 'styles', 'styling', 'stylish', 'styrofoam', 'sub', 'sub par', 'subdued', 'subject', 'subjected', 'subjective', 'sublime', 'subs', 'subscribe', 'subscribe save', 'subscribed', 'subscribing', 'subscription', 'subscription amazon', 'subscription plan', 'subscription price', 'subscription service', 'subscriptions', 'subsequent', 'subsequently', 'subsitute', 'substance', 'substances', 'substantial', 'substantially', 'substitue', 'substitute', 'substitute butter', 'substitute coffee', 'substitute not', 'substitute real', 'substitute sugar', 'substituted', 'substitutes', 'substituting', 'substitution', 'substitutions', 'subtle', 'subtle coconut', 'subtle flavor', 'subtle flavors', 'subtle hint', 'subtle not', 'subtle sweetness', 'subtle taste', 'subtle yet', 'subtly', 'subtract', 'subway', 'success', 'successful', 'successfully', 'suck', 'sucked', 'sucker', 'suckers', 'sucking', 'sucks', 'sucralose', 'sucralose splenda', 'sucrose', 'sudden', 'suddenly', 'sue', 'suffer', 'suffered', 'suffering', 'suffers', 'suffice', 'sufficient', 'sufficiently', 'sugar', 'sugar add', 'sugar added', 'sugar alcohol', 'sugar alcohols', 'sugar also', 'sugar always', 'sugar anything', 'sugar artificial', 'sugar better', 'sugar bit', 'sugar calories', 'sugar candy', 'sugar cane', 'sugar carbs', 'sugar cereal', 'sugar chocolate', 'sugar cinnamon', 'sugar coated', 'sugar coating', 'sugar coffee', 'sugar comes', 'sugar content', 'sugar cookie', 'sugar cookies', 'sugar corn', 'sugar could', 'sugar crash', 'sugar cream', 'sugar crystals', 'sugar cubes', 'sugar cup', 'sugar definitely', 'sugar delicious', 'sugar diet', 'sugar drink', 'sugar enjoy', 'sugar etc', 'sugar even', 'sugar every', 'sugar fat', 'sugar favorite', 'sugar first', 'sugar flavor', 'sugar found', 'sugar free', 'sugar fruit', 'sugar good', 'sugar grams', 'sugar great', 'sugar high', 'sugar honey', 'sugar however', 'sugar ingredients', 'sugar instead', 'sugar intake', 'sugar kind', 'sugar lemon', 'sugar less', 'sugar level', 'sugar levels', 'sugar like', 'sugar little', 'sugar love', 'sugar low', 'sugar made', 'sugar make', 'sugar makes', 'sugar maple', 'sugar may', 'sugar milk', 'sugar mix', 'sugar mixed', 'sugar much', 'sugar natural', 'sugar no', 'sugar not', 'sugar one', 'sugar organic', 'sugar per', 'sugar perfect', 'sugar plus', 'sugar pretty', 'sugar product', 'sugar products', 'sugar protein', 'sugar put', 'sugar raw', 'sugar really', 'sugar recipe', 'sugar regular', 'sugar rush', 'sugar salt', 'sugar second', 'sugar serving', 'sugar since', 'sugar splenda', 'sugar stevia', 'sugar still', 'sugar stuff', 'sugar substitute', 'sugar substitutes', 'sugar sugar', 'sugar sweet', 'sugar sweetener', 'sugar sweeteners', 'sugar syrup', 'sugar taste', 'sugar tastes', 'sugar tea', 'sugar think', 'sugar though', 'sugar top', 'sugar tried', 'sugar use', 'sugar used', 'sugar vanilla', 'sugar version', 'sugar want', 'sugar water', 'sugar way', 'sugar well', 'sugar without', 'sugar would', 'sugared', 'sugarfree', 'sugarless', 'sugarless gum', 'sugars', 'sugars not', 'sugars protein', 'sugary', 'sugary drinks', 'sugary sweet', 'suger', 'suggest', 'suggest anyone', 'suggest buying', 'suggest getting', 'suggest not', 'suggest try', 'suggest trying', 'suggest using', 'suggested', 'suggested try', 'suggesting', 'suggestion', 'suggestions', 'suggests', 'suit', 'suit taste', 'suitable', 'suitcase', 'suited', 'suits', 'sulfate', 'sulfites', 'sulfur', 'sum', 'sumatra', 'sumatra blend', 'sumatran', 'summary', 'summer', 'summer day', 'summer days', 'summer drink', 'summer heat', 'summer months', 'summer not', 'summers', 'summertime', 'sun', 'sun dried', 'sun maid', 'sun tea', 'sunbutter', 'sunday', 'sunday morning', 'sundried', 'sunflower', 'sunflower oil', 'sunflower seed', 'sunflower seeds', 'sunkist', 'sunlight', 'sunny', 'sunrise', 'sunset', 'sunshine', 'super', 'super cheap', 'super convenient', 'super crema', 'super crunchy', 'super delicious', 'super easy', 'super expensive', 'super fast', 'super fine', 'super food', 'super fresh', 'super good', 'super healthy', 'super high', 'super market', 'super moist', 'super picky', 'super premium', 'super quick', 'super saver', 'super simple', 'super soft', 'super strong', 'super sweet', 'super tasty', 'super thick', 'super yummy', 'superb', 'superfood', 'superior', 'superior product', 'superior quality', 'superior taste', 'supermarket', 'supermarket brands', 'supermarket not', 'supermarket price', 'supermarket shelves', 'supermarkets', 'supersaver', 'supervision', 'supper', 'supple', 'supplement', 'supplement not', 'supplementing', 'supplements', 'supplied', 'supplier', 'suppliers', 'supplies', 'supply', 'supply hand', 'supply runs', 'supply store', 'supplying', 'support', 'supporting', 'supports', 'suppose', 'suppose could', 'suppose not', 'suppose would', 'supposed', 'supposed good', 'supposed help', 'supposed taste', 'supposedly', 'supreme', 'suprise', 'suprised', 'suprisingly', 'sure', 'sure add', 'sure always', 'sure beats', 'sure better', 'sure buy', 'sure buying', 'sure check', 'sure could', 'sure eat', 'sure enjoy', 'sure enough', 'sure exactly', 'sure expect', 'sure find', 'sure flavor', 'sure food', 'sure get', 'sure getting', 'sure glad', 'sure going', 'sure good', 'sure got', 'sure happened', 'sure hope', 'sure keep', 'sure kind', 'sure know', 'sure like', 'sure love', 'sure make', 'sure makes', 'sure many', 'sure much', 'sure need', 'sure never', 'sure no', 'sure not', 'sure nothing', 'sure one', 'sure order', 'sure people', 'sure please', 'sure price', 'sure product', 'sure put', 'sure read', 'sure really', 'sure rinse', 'sure say', 'sure still', 'sure stuff', 'sure take', 'sure taste', 'sure tastes', 'sure tea', 'sure use', 'sure want', 'sure whether', 'sure wish', 'sure would', 'surely', 'surface', 'surfing', 'surgery', 'surpassed', 'surpasses', 'surprise', 'surprise find', 'surprise found', 'surprise not', 'surprised', 'surprised delicious', 'surprised find', 'surprised first', 'surprised flavor', 'surprised found', 'surprised good', 'surprised great', 'surprised much', 'surprised not', 'surprised quality', 'surprised see', 'surprised taste', 'surprised well', 'surprises', 'surprising', 'surprisingly', 'surprisingly good', 'surprisingly tasty', 'surrounded', 'surrounding', 'survival', 'survive', 'survived', 'surviving', 'susan', 'sushi', 'sushi rice', 'suspect', 'suspected', 'suspicious', 'sustain', 'sustainable', 'sustainably', 'sustained', 'swallow', 'swallow whole', 'swallowed', 'swallowing', 'swallows', 'swanson', 'swear', 'swears', 'sweat', 'sweating', 'sweden', 'swedish', 'sweep', 'sweet', 'sweet aftertaste', 'sweet almost', 'sweet also', 'sweet artificial', 'sweet bit', 'sweet bitter', 'sweet bread', 'sweet candy', 'sweet chewy', 'sweet chili', 'sweet chocolate', 'sweet cinnamon', 'sweet coffee', 'sweet corn', 'sweet could', 'sweet craving', 'sweet creamy', 'sweet crunchy', 'sweet dark', 'sweet definitely', 'sweet delicious', 'sweet drink', 'sweet drinks', 'sweet either', 'sweet enough', 'sweet even', 'sweet flavor', 'sweet flavorful', 'sweet fruity', 'sweet full', 'sweet good', 'sweet great', 'sweet highly', 'sweet hint', 'sweet honey', 'sweet hot', 'sweet kind', 'sweet leaf', 'sweet light', 'sweet like', 'sweet little', 'sweet love', 'sweet low', 'sweet make', 'sweet mild', 'sweet much', 'sweet nice', 'sweet no', 'sweet nor', 'sweet not', 'sweet nutty', 'sweet one', 'sweet others', 'sweet perfect', 'sweet potato', 'sweet potatoes', 'sweet really', 'sweet refreshing', 'sweet rice', 'sweet rich', 'sweet right', 'sweet salty', 'sweet satisfying', 'sweet savory', 'sweet side', 'sweet slightly', 'sweet smell', 'sweet smooth', 'sweet snack', 'sweet sour', 'sweet spicy', 'sweet spot', 'sweet still', 'sweet strong', 'sweet sugar', 'sweet sugary', 'sweet sweet', 'sweet tangy', 'sweet tart', 'sweet taste', 'sweet tastes', 'sweet tasting', 'sweet tasty', 'sweet tea', 'sweet things', 'sweet think', 'sweet though', 'sweet time', 'sweet tooth', 'sweet treat', 'sweet tried', 'sweet use', 'sweet vanilla', 'sweet way', 'sweet without', 'sweet would', 'sweet yet', 'sweeten', 'sweeten tea', 'sweetened', 'sweetened condensed', 'sweetened fruit', 'sweetened honey', 'sweetened not', 'sweetened splenda', 'sweetened stevia', 'sweetener', 'sweetener like', 'sweetener no', 'sweetener not', 'sweetener taste', 'sweetener use', 'sweetener used', 'sweetener would', 'sweeteners', 'sweeteners like', 'sweeteners not', 'sweetening', 'sweetens', 'sweeter', 'sweeter sugar', 'sweeter taste', 'sweetest', 'sweetleaf', 'sweetleaf stevia', 'sweetner', 'sweetners', 'sweetness', 'sweetness also', 'sweetness chocolate', 'sweetness like', 'sweetness not', 'sweetness right', 'sweetness without', 'sweets', 'sweets not', 'swell', 'swelling', 'swill', 'swimming', 'swing', 'swirl', 'swiss', 'swiss miss', 'switch', 'switch back', 'switch black', 'switch decaf', 'switched', 'switched back', 'switched dogs', 'switched food', 'switching', 'switching back', 'switzerland', 'swollen', 'swore', 'symbol', 'symptoms', 'syndrome', 'synthetic', 'syrup', 'syrup also', 'syrup artificial', 'syrup corn', 'syrup delicious', 'syrup ever', 'syrup good', 'syrup great', 'syrup honey', 'syrup like', 'syrup no', 'syrup not', 'syrup solids', 'syrup sugar', 'syrup taste', 'syrup tastes', 'syrup try', 'syrup use', 'syrup used', 'syrup would', 'syrups', 'syrupy', 'syrupy sweet', 'system', 'system not', 'systems', 'tab', 'tabasco', 'tabasco sauce', 'tabby', 'table', 'table food', 'table salt', 'table scraps', 'table spoon', 'table sugar', 'tables', 'tablespoon', 'tablespoon per', 'tablespoon two', 'tablespoons', 'tablespoons water', 'tablet', 'tablets', 'tabs', 'tacky', 'taco', 'taco bell', 'taco salad', 'taco sauce', 'taco seasoning', 'taco shells', 'tacos', 'tacs', 'tact', 'tad', 'tad bit', 'tad sweet', 'taffy', 'tag', 'tags', 'tahini', 'tahitian', 'tahitian vanilla', 'tail', 'tails', 'tainted', 'taiwan', 'take', 'take advantage', 'take along', 'take another', 'take anywhere', 'take away', 'take back', 'take bag', 'take bit', 'take bite', 'take care', 'take chance', 'take chances', 'take coffee', 'take couple', 'take daily', 'take days', 'take edge', 'take get', 'take getting', 'take go', 'take good', 'take home', 'take leave', 'take little', 'take long', 'take longer', 'take look', 'take lot', 'take medication', 'take meds', 'take minutes', 'take much', 'take no', 'take not', 'take note', 'take one', 'take pill', 'take pills', 'take place', 'take product', 'take school', 'take sip', 'take small', 'take tea', 'take time', 'take trips', 'take two', 'take us', 'take word', 'take work', 'taken', 'takes', 'takes away', 'takes awhile', 'takes back', 'takes bit', 'takes cake', 'takes care', 'takes couple', 'takes days', 'takes getting', 'takes less', 'takes like', 'takes little', 'takes long', 'takes longer', 'takes lot', 'takes minute', 'takes minutes', 'takes seconds', 'takes time', 'taking', 'taking care', 'taking chance', 'taking much', 'taking one', 'taking pills', 'taking time', 'taking work', 'tale', 'talk', 'talked', 'talking', 'talks', 'tall', 'tall glass', 'taller', 'tamales', 'tamari', 'tamarind', 'tame', 'tampered', 'tan', 'tang', 'tangerine', 'tangles', 'tangy', 'tangy flavor', 'tangy sweet', 'tangy taste', 'tank', 'tannin', 'tannins', 'tantalizing', 'tao', 'tao tea', 'tap', 'tap water', 'tapatio', 'tape', 'taped', 'tapioca', 'tapioca pudding', 'tapioca starch', 'tar', 'target', 'target store', 'tarragon', 'tart', 'tart cherries', 'tart cherry', 'tart flavor', 'tart not', 'tart sweet', 'tart taste', 'tartar', 'tarter', 'tartness', 'tarts', 'task', 'tassimo', 'tassimo machine', 'tast', 'taste', 'taste absolutely', 'taste actually', 'taste add', 'taste added', 'taste almost', 'taste alone', 'taste also', 'taste although', 'taste always', 'taste amazing', 'taste anything', 'taste aroma', 'taste artificial', 'taste awesome', 'taste awful', 'taste back', 'taste bad', 'taste bar', 'taste best', 'taste better', 'taste bit', 'taste bitter', 'taste black', 'taste bland', 'taste bold', 'taste bought', 'taste buds', 'taste burnt', 'taste buy', 'taste cereal', 'taste chocolate', 'taste cinnamon', 'taste close', 'taste cocoa', 'taste coconut', 'taste coffee', 'taste comes', 'taste compared', 'taste completely', 'taste consistency', 'taste convenience', 'taste cookie', 'taste cookies', 'taste could', 'taste course', 'taste crunch', 'taste crunchy', 'taste dark', 'taste decent', 'taste definitely', 'taste delicious', 'taste difference', 'taste different', 'taste drink', 'taste ease', 'taste easy', 'taste eat', 'taste either', 'taste enjoy', 'taste enough', 'taste especially', 'taste even', 'taste ever', 'taste every', 'taste exactly', 'taste excellent', 'taste expected', 'taste experience', 'taste extremely', 'taste fabulous', 'taste fact', 'taste fake', 'taste fantastic', 'taste far', 'taste feel', 'taste find', 'taste fine', 'taste first', 'taste flavor', 'taste flavors', 'taste food', 'taste found', 'taste french', 'taste fresh', 'taste fruit', 'taste full', 'taste gave', 'taste get', 'taste ginger', 'taste give', 'taste gives', 'taste go', 'taste goes', 'taste going', 'taste good', 'taste got', 'taste great', 'taste green', 'taste guess', 'taste half', 'taste happy', 'taste hard', 'taste health', 'taste healthy', 'taste high', 'taste highly', 'taste hint', 'taste home', 'taste honey', 'taste hope', 'taste horrible', 'taste hot', 'taste however', 'taste husband', 'taste ingredients', 'taste keep', 'taste kids', 'taste kind', 'taste know', 'taste leaves', 'taste left', 'taste lemon', 'taste less', 'taste light', 'taste like', 'taste little', 'taste long', 'taste look', 'taste looking', 'taste lot', 'taste lots', 'taste love', 'taste low', 'taste made', 'taste make', 'taste makes', 'taste many', 'taste may', 'taste maybe', 'taste might', 'taste mild', 'taste milk', 'taste mint', 'taste mix', 'taste mostly', 'taste mouth', 'taste much', 'taste nasty', 'taste natural', 'taste nearly', 'taste never', 'taste new', 'taste nice', 'taste nirvana', 'taste no', 'taste none', 'taste normal', 'taste not', 'taste nothing', 'taste nutrition', 'taste obviously', 'taste oil', 'taste ok', 'taste okay', 'taste old', 'taste one', 'taste opinion', 'taste orange', 'taste ordered', 'taste others', 'taste overall', 'taste packaging', 'taste particular', 'taste peach', 'taste peanut', 'taste people', 'taste perfect', 'taste perhaps', 'taste personal', 'taste plain', 'taste pleasant', 'taste plus', 'taste prefer', 'taste preference', 'taste pretty', 'taste price', 'taste probably', 'taste product', 'taste purchased', 'taste pure', 'taste put', 'taste quality', 'taste quite', 'taste rather', 'taste real', 'taste really', 'taste recommend', 'taste refreshing', 'taste regular', 'taste reminds', 'taste rich', 'taste right', 'taste said', 'taste salt', 'taste sauce', 'taste see', 'taste seems', 'taste similar', 'taste simply', 'taste since', 'taste slight', 'taste slightly', 'taste smell', 'taste smooth', 'taste soft', 'taste something', 'taste somewhat', 'taste sort', 'taste sour', 'taste spicy', 'taste stale', 'taste still', 'taste strong', 'taste stuff', 'taste subjective', 'taste subtle', 'taste sugar', 'taste superb', 'taste sure', 'taste sweet', 'taste sweetness', 'taste takes', 'taste taste', 'taste tastes', 'taste tea', 'taste terrible', 'taste test', 'taste tested', 'taste testing', 'taste tests', 'taste texture', 'taste think', 'taste though', 'taste thought', 'taste took', 'taste treat', 'taste tried', 'taste try', 'taste unique', 'taste unlike', 'taste use', 'taste used', 'taste using', 'taste usually', 'taste vanilla', 'taste want', 'taste water', 'taste way', 'taste weak', 'taste weird', 'taste well', 'taste whatsoever', 'taste whole', 'taste wild', 'taste wise', 'taste wish', 'taste without', 'taste wonderful', 'taste worth', 'taste would', 'taste yes', 'taste yummy', 'tastebuds', 'tasted', 'tasted anything', 'tasted awful', 'tasted bad', 'tasted better', 'tasted bit', 'tasted bitter', 'tasted bland', 'tasted coffee', 'tasted delicious', 'tasted different', 'tasted even', 'tasted exactly', 'tasted fine', 'tasted first', 'tasted fresh', 'tasted good', 'tasted great', 'tasted horrible', 'tasted like', 'tasted little', 'tasted lot', 'tasted love', 'tasted many', 'tasted much', 'tasted no', 'tasted not', 'tasted nothing', 'tasted ok', 'tasted old', 'tasted one', 'tasted pretty', 'tasted product', 'tasted really', 'tasted stale', 'tasted sweet', 'tasted tea', 'tasted terrible', 'tasted wonderful', 'tasted would', 'tasteful', 'tasteless', 'tasteless not', 'taster', 'taster choice', 'tasters', 'tastes', 'tastes absolutely', 'tastes almost', 'tastes amazing', 'tastes artificial', 'tastes awesome', 'tastes awful', 'tastes bad', 'tastes best', 'tastes better', 'tastes bit', 'tastes bitter', 'tastes close', 'tastes delicious', 'tastes different', 'tastes even', 'tastes exactly', 'tastes fantastic', 'tastes fine', 'tastes fresh', 'tastes good', 'tastes great', 'tastes horrible', 'tastes kind', 'tastes like', 'tastes little', 'tastes lot', 'tastes much', 'tastes natural', 'tastes no', 'tastes not', 'tastes nothing', 'tastes ok', 'tastes pretty', 'tastes quite', 'tastes real', 'tastes really', 'tastes rich', 'tastes right', 'tastes similar', 'tastes slightly', 'tastes smells', 'tastes smooth', 'tastes strong', 'tastes sweet', 'tastes terrible', 'tastes way', 'tastes wonderful', 'tastes worse', 'tastey', 'tastier', 'tastiest', 'tasting', 'tasting also', 'tasting bread', 'tasting candy', 'tasting cereal', 'tasting chocolate', 'tasting coffee', 'tasting cup', 'tasting drink', 'tasting full', 'tasting gluten', 'tasting good', 'tasting great', 'tasting green', 'tasting healthy', 'tasting hot', 'tasting like', 'tasting little', 'tasting love', 'tasting low', 'tasting many', 'tasting no', 'tasting not', 'tasting one', 'tasting organic', 'tasting pasta', 'tasting peanut', 'tasting popcorn', 'tasting product', 'tasting protein', 'tasting sauce', 'tasting snack', 'tasting stuff', 'tasting sugar', 'tasting sweet', 'tasting tea', 'tasting would', 'tasts', 'tasty', 'tasty add', 'tasty addition', 'tasty also', 'tasty alternative', 'tasty bite', 'tasty cereal', 'tasty chocolate', 'tasty coffee', 'tasty convenient', 'tasty could', 'tasty crunchy', 'tasty definitely', 'tasty delicious', 'tasty drink', 'tasty easy', 'tasty enough', 'tasty even', 'tasty filling', 'tasty flavor', 'tasty flavorful', 'tasty food', 'tasty fresh', 'tasty good', 'tasty great', 'tasty healthy', 'tasty high', 'tasty hot', 'tasty like', 'tasty little', 'tasty love', 'tasty low', 'tasty meal', 'tasty much', 'tasty nice', 'tasty no', 'tasty not', 'tasty one', 'tasty organic', 'tasty price', 'tasty product', 'tasty really', 'tasty refreshing', 'tasty right', 'tasty satisfying', 'tasty snack', 'tasty stuff', 'tasty sweet', 'tasty tea', 'tasty think', 'tasty though', 'tasty treat', 'tasty treats', 'tasty used', 'tasty way', 'tasty well', 'tasty without', 'tasty would', 'taught', 'taurine', 'tax', 'taxes', 'taylor', 'taylors', 'taylors harrogate', 'tazo', 'tazo awake', 'tazo chai', 'tazo tea', 'tazo teas', 'tbs', 'tbsp', 'tea', 'tea able', 'tea absolutely', 'tea actually', 'tea add', 'tea added', 'tea almost', 'tea already', 'tea also', 'tea although', 'tea always', 'tea amazing', 'tea amazon', 'tea another', 'tea anyone', 'tea aroma', 'tea arrived', 'tea available', 'tea awesome', 'tea bag', 'tea bags', 'tea ball', 'tea become', 'tea best', 'tea better', 'tea bit', 'tea bitter', 'tea black', 'tea blend', 'tea blends', 'tea bought', 'tea box', 'tea brand', 'tea brands', 'tea brew', 'tea brewed', 'tea brewing', 'tea brews', 'tea buy', 'tea buying', 'tea caffeine', 'tea came', 'tea celestial', 'tea certified', 'tea chai', 'tea choice', 'tea coffee', 'tea cold', 'tea come', 'tea comes', 'tea company', 'tea connoisseur', 'tea contains', 'tea could', 'tea cup', 'tea cups', 'tea daily', 'tea day', 'tea decided', 'tea definitely', 'tea delicious', 'tea drink', 'tea drinker', 'tea drinkers', 'tea drinking', 'tea easy', 'tea either', 'tea english', 'tea enjoy', 'tea enough', 'tea especially', 'tea even', 'tea evening', 'tea ever', 'tea every', 'tea everyday', 'tea everyone', 'tea exactly', 'tea excellent', 'tea expensive', 'tea experience', 'tea expert', 'tea extract', 'tea fact', 'tea fan', 'tea far', 'tea favorite', 'tea find', 'tea first', 'tea flavor', 'tea flavorful', 'tea flavors', 'tea found', 'tea fresh', 'tea full', 'tea get', 'tea getting', 'tea ginger', 'tea give', 'tea gives', 'tea glad', 'tea go', 'tea going', 'tea good', 'tea got', 'tea great', 'tea green', 'tea happy', 'tea hard', 'tea health', 'tea help', 'tea helps', 'tea high', 'tea highly', 'tea hint', 'tea home', 'tea honey', 'tea hoping', 'tea hot', 'tea house', 'tea however', 'tea husband', 'tea ice', 'tea iced', 'tea instead', 'tea jasmine', 'tea keep', 'tea kind', 'tea know', 'tea last', 'tea latte', 'tea leaf', 'tea least', 'tea leaves', 'tea lemon', 'tea less', 'tea light', 'tea like', 'tea little', 'tea local', 'tea long', 'tea look', 'tea looking', 'tea loose', 'tea lot', 'tea love', 'tea lovely', 'tea lover', 'tea lovers', 'tea made', 'tea make', 'tea maker', 'tea makes', 'tea many', 'tea market', 'tea may', 'tea maybe', 'tea might', 'tea mild', 'tea milk', 'tea mint', 'tea mix', 'tea mixed', 'tea morning', 'tea much', 'tea must', 'tea natural', 'tea naturally', 'tea need', 'tea never', 'tea nice', 'tea no', 'tea not', 'tea nothing', 'tea often', 'tea one', 'tea orange', 'tea order', 'tea ordered', 'tea organic', 'tea others', 'tea past', 'tea peach', 'tea per', 'tea perfect', 'tea plain', 'tea pleasant', 'tea pot', 'tea powder', 'tea prefer', 'tea premium', 'tea pretty', 'tea price', 'tea probably', 'tea product', 'tea products', 'tea purchased', 'tea put', 'tea quality', 'tea quite', 'tea rather', 'tea real', 'tea really', 'tea reason', 'tea received', 'tea recommend', 'tea refreshing', 'tea regular', 'tea restaurant', 'tea rich', 'tea right', 'tea said', 'tea sampler', 'tea say', 'tea see', 'tea seems', 'tea several', 'tea shop', 'tea similar', 'tea since', 'tea slightly', 'tea smell', 'tea smells', 'tea smooth', 'tea snob', 'tea sold', 'tea something', 'tea sometimes', 'tea soothing', 'tea started', 'tea steep', 'tea still', 'tea store', 'tea stores', 'tea strong', 'tea subtle', 'tea sugar', 'tea summer', 'tea supposed', 'tea sweet', 'tea take', 'tea takes', 'tea taste', 'tea tasted', 'tea tastes', 'tea tasty', 'tea tazo', 'tea tea', 'tea teas', 'tea thing', 'tea think', 'tea though', 'tea thought', 'tea time', 'tea times', 'tea tree', 'tea tried', 'tea try', 'tea twinings', 'tea two', 'tea use', 'tea used', 'tea using', 'tea usually', 'tea varieties', 'tea variety', 'tea want', 'tea wanted', 'tea water', 'tea way', 'tea weak', 'tea well', 'tea whole', 'tea wife', 'tea wish', 'tea without', 'tea wonderful', 'tea work', 'tea works', 'tea world', 'tea worth', 'tea would', 'tea year', 'tea years', 'tea yes', 'tea yet', 'teabag', 'teabags', 'teach', 'teacher', 'teacup', 'team', 'teapot', 'tear', 'tear open', 'tear stains', 'tearing', 'tears', 'teas', 'teas also', 'teas available', 'teas drink', 'teas even', 'teas ever', 'teas get', 'teas great', 'teas including', 'teas like', 'teas not', 'teas one', 'teas past', 'teas taste', 'teas tasted', 'teas tea', 'teas tried', 'teas years', 'teasan', 'tease', 'teaspoon', 'teaspoon honey', 'teaspoon per', 'teaspoon sugar', 'teaspoons', 'teaspoons sugar', 'teavana', 'tech', 'technically', 'technique', 'techniques', 'technology', 'teddy', 'tedious', 'tee', 'teeccino', 'teen', 'teenage', 'teenager', 'teenagers', 'teens', 'teeny', 'teeny tiny', 'teeth', 'teeth also', 'teeth clean', 'teeth cleaned', 'teeth cleaning', 'teeth good', 'teeth great', 'teeth gums', 'teeth like', 'teeth look', 'teeth not', 'teeth still', 'teething', 'teff', 'television', 'tell', 'tell difference', 'tell everyone', 'tell friends', 'tell good', 'tell many', 'tell much', 'tell no', 'tell not', 'tell one', 'tell people', 'tell sugar', 'tell taste', 'tell us', 'telling', 'tells', 'temp', 'temperature', 'temperature not', 'temperature water', 'temperatures', 'temporarily', 'temporary', 'temps', 'temptation', 'temptations', 'tempted', 'tempted eat', 'tempted try', 'tempting', 'ten', 'ten bucks', 'ten minutes', 'ten times', 'ten years', 'tend', 'tend eat', 'tend get', 'tend like', 'tend prefer', 'tend use', 'tended', 'tendency', 'tender', 'tender flavorful', 'tender not', 'tenderloin', 'tenderness', 'tenders', 'tendons', 'tends', 'tends get', 'tennessee', 'tennis', 'tension', 'tequila', 'teriyaki', 'teriyaki flavor', 'teriyaki sauce', 'term', 'term health', 'term storage', 'terms', 'terms flavor', 'terms taste', 'terra', 'terrible', 'terrible gas', 'terrible not', 'terrible product', 'terrible taste', 'terribly', 'terrier', 'terrier mix', 'terriers', 'terrific', 'terrific flavor', 'terrific product', 'territory', 'test', 'test kitchen', 'test time', 'testament', 'tested', 'tester', 'testing', 'tests', 'tetley', 'tetra', 'tex', 'tex mex', 'texas', 'text', 'texture', 'texture almost', 'texture also', 'texture best', 'texture better', 'texture bit', 'texture chewy', 'texture consistency', 'texture definitely', 'texture different', 'texture even', 'texture fine', 'texture flavor', 'texture good', 'texture great', 'texture light', 'texture like', 'texture little', 'texture love', 'texture makes', 'texture much', 'texture nice', 'texture no', 'texture noodles', 'texture not', 'texture perfect', 'texture product', 'texture really', 'texture reminds', 'texture right', 'texture similar', 'texture slightly', 'texture smooth', 'texture soft', 'texture taste', 'texture tastes', 'texture use', 'texture would', 'textured', 'textures', 'th', 'thai', 'thai food', 'thai kitchen', 'thai peanut', 'thai restaurant', 'thai restaurants', 'thai tea', 'thailand', 'thank', 'thank amazon', 'thank gift', 'thank god', 'thank goodness', 'thank great', 'thank making', 'thank much', 'thankful', 'thankfully', 'thankfully amazon', 'thankfully not', 'thanking', 'thanks', 'thanks amazon', 'thanks great', 'thanks making', 'thanks much', 'thanksgiving', 'thats', 'thats not', 'thaw', 'thawed', 'theater', 'theater popcorn', 'theaters', 'theatre', 'theme', 'themed', 'themi', 'theo', 'theory', 'therapy', 'thereafter', 'thereby', 'therefore', 'therefore not', 'thereof', 'theres', 'thermos', 'theses', 'theyre', 'thiamin', 'thiamine', 'thick', 'thick creamy', 'thick enough', 'thick hair', 'thick like', 'thick not', 'thick rich', 'thick sauce', 'thick sweet', 'thick texture', 'thicken', 'thickened', 'thickener', 'thickeners', 'thickening', 'thickens', 'thicker', 'thickness', 'thier', 'thighs', 'thin', 'thin crispy', 'thin layer', 'thin not', 'thin slices', 'thing', 'thing also', 'thing around', 'thing bought', 'thing could', 'thing different', 'thing drink', 'thing eat', 'thing even', 'thing ever', 'thing find', 'thing found', 'thing get', 'thing going', 'thing good', 'thing got', 'thing great', 'thing happened', 'thing keep', 'thing know', 'thing like', 'thing little', 'thing love', 'thing made', 'thing make', 'thing morning', 'thing need', 'thing no', 'thing not', 'thing note', 'thing notice', 'thing noticed', 'thing one', 'thing product', 'thing really', 'thing say', 'thing since', 'thing taste', 'thing think', 'thing though', 'thing tried', 'thing use', 'thing used', 'thing want', 'thing wish', 'thing world', 'thing would', 'thing wrong', 'things', 'things amazon', 'things could', 'things done', 'things eat', 'things even', 'things ever', 'things first', 'things going', 'things good', 'things great', 'things life', 'things like', 'things love', 'things made', 'things make', 'things much', 'things never', 'things not', 'things really', 'things say', 'things taste', 'things would', 'think', 'think actually', 'think also', 'think amazon', 'think another', 'think anyone', 'think anything', 'think bad', 'think best', 'think better', 'think bit', 'think buy', 'think buying', 'think coffee', 'think company', 'think could', 'think definitely', 'think delicious', 'think disappointed', 'think due', 'think eating', 'think even', 'think ever', 'think favorite', 'think first', 'think flavor', 'think food', 'think found', 'think get', 'think getting', 'think go', 'think going', 'think good', 'think got', 'think great', 'think healthy', 'think know', 'think like', 'think little', 'think lot', 'think love', 'think made', 'think make', 'think makes', 'think many', 'think may', 'think might', 'think much', 'think need', 'think needs', 'think new', 'think not', 'think one', 'think order', 'think people', 'think perfect', 'think pretty', 'think price', 'think probably', 'think problem', 'think product', 'think quality', 'think quite', 'think really', 'think right', 'think smile', 'think something', 'think stick', 'think still', 'think stuff', 'think taste', 'think tastes', 'think tea', 'think thin', 'think tried', 'think try', 'think twice', 'think used', 'think way', 'think wonderful', 'think works', 'think worth', 'think would', 'thinking', 'thinking buying', 'thinking could', 'thinking getting', 'thinking going', 'thinking maybe', 'thinking might', 'thinking not', 'thinking would', 'thinks', 'thinkthin', 'thinly', 'thinly sliced', 'thinner', 'thins', 'third', 'third cup', 'third fourth', 'third ingredient', 'third order', 'third party', 'third time', 'thirds', 'thirst', 'thirst quencher', 'thirst quenching', 'thirsty', 'thirty', 'thisi', 'tho', 'thomas', 'thorough', 'thoroughly', 'thoroughly enjoy', 'thoroughly enjoyed', 'though', 'though amazon', 'though bit', 'though bought', 'though box', 'though could', 'though definitely', 'though expensive', 'though found', 'though get', 'though give', 'though good', 'though got', 'though great', 'though keep', 'though like', 'though little', 'though love', 'though made', 'though may', 'though might', 'though much', 'though never', 'though no', 'though not', 'though one', 'though prefer', 'though price', 'though probably', 'though product', 'though really', 'though since', 'though sometimes', 'though still', 'though taste', 'though tastes', 'though think', 'though tried', 'though use', 'though used', 'though wish', 'though would', 'thought', 'thought bit', 'thought buying', 'thought coffee', 'thought could', 'thought delicious', 'thought eating', 'thought first', 'thought flavor', 'thought getting', 'thought give', 'thought going', 'thought good', 'thought great', 'thought little', 'thought made', 'thought maybe', 'thought might', 'thought much', 'thought must', 'thought no', 'thought not', 'thought oh', 'thought ordered', 'thought ordering', 'thought perhaps', 'thought pretty', 'thought price', 'thought product', 'thought really', 'thought something', 'thought sure', 'thought taste', 'thought tasted', 'thought tea', 'thought would', 'thoughtful', 'thoughts', 'thousand', 'thousands', 'thousands dollars', 'threads', 'threatening', 'three', 'three bags', 'three bottles', 'three boxes', 'three cans', 'three cats', 'three cookies', 'three cups', 'three days', 'three different', 'three dogs', 'three dollars', 'three flavors', 'three four', 'three hours', 'three ingredients', 'three jars', 'three kids', 'three minutes', 'three months', 'three not', 'three pack', 'three packs', 'three pieces', 'three small', 'three stars', 'three time', 'three times', 'three varieties', 'three weeks', 'three year', 'three years', 'threw', 'threw away', 'threw entire', 'threw rest', 'threw whole', 'thrilled', 'thrilled able', 'thrilled amazon', 'thrilled find', 'thrilled found', 'thrilled product', 'thrilled see', 'thrive', 'thriving', 'throat', 'throats', 'throughout', 'throughout day', 'throughout world', 'throughout year', 'throw', 'throw away', 'throw bag', 'throw diaper', 'throw food', 'throw not', 'throw one', 'throw purse', 'throw rest', 'throw whole', 'throwing', 'throwing away', 'throwing rest', 'thrown', 'thrown away', 'throws', 'thru', 'thru amazon', 'ths', 'thumb', 'thumbs', 'thursday', 'thus', 'thus far', 'thus not', 'thyme', 'thyroid', 'ti', 'tic', 'tic tacs', 'ticked', 'ticket', 'tickled', 'tidbits', 'tide', 'tidy', 'tie', 'tied', 'tier', 'ties', 'tiger', 'tight', 'tight container', 'tightly', 'tiki', 'tiki cat', 'tikka', 'tikka masala', 'til', 'tilapia', 'till', 'tim', 'tim burton', 'time', 'time able', 'time actually', 'time add', 'time ago', 'time almost', 'time also', 'time always', 'time amazon', 'time another', 'time around', 'time arrived', 'time ate', 'time best', 'time bought', 'time breakfast', 'time brew', 'time buy', 'time buying', 'time came', 'time coffee', 'time come', 'time comes', 'time consuming', 'time cook', 'time could', 'time day', 'time days', 'time decided', 'time definitely', 'time delicious', 'time delivery', 'time dog', 'time dogs', 'time drink', 'time eat', 'time eating', 'time effort', 'time enjoy', 'time especially', 'time even', 'time ever', 'time every', 'time excellent', 'time far', 'time favorite', 'time feel', 'time find', 'time finding', 'time first', 'time flavor', 'time found', 'time frame', 'time fresh', 'time gave', 'time get', 'time getting', 'time give', 'time glad', 'time go', 'time goes', 'time going', 'time good', 'time got', 'time great', 'time happy', 'time healthy', 'time highly', 'time however', 'time instead', 'time keep', 'time know', 'time last', 'time let', 'time life', 'time like', 'time little', 'time long', 'time looked', 'time looking', 'time love', 'time loved', 'time made', 'time make', 'time makes', 'time making', 'time may', 'time maybe', 'time minutes', 'time mix', 'time money', 'time morning', 'time much', 'time need', 'time never', 'time no', 'time not', 'time nothing', 'time one', 'time open', 'time opened', 'time order', 'time ordered', 'time ordering', 'time perfect', 'time period', 'time plus', 'time prepare', 'time price', 'time problem', 'time product', 'time purchase', 'time purchased', 'time purchasing', 'time put', 'time read', 'time really', 'time received', 'time review', 'time save', 'time saver', 'time saw', 'time see', 'time seems', 'time since', 'time sometimes', 'time soon', 'time started', 'time still', 'time store', 'time take', 'time takes', 'time taste', 'time tasted', 'time tastes', 'time tasty', 'time tea', 'time tell', 'time thank', 'time thanks', 'time think', 'time though', 'time thought', 'time time', 'time took', 'time tried', 'time try', 'time trying', 'time two', 'time use', 'time used', 'time using', 'time usually', 'time want', 'time wanted', 'time well', 'time went', 'time wish', 'time without', 'time work', 'time worth', 'time would', 'time writing', 'time year', 'time years', 'timely', 'timely fashion', 'timely manner', 'timer', 'times', 'times always', 'times amazon', 'times better', 'times coffee', 'times day', 'times expensive', 'times find', 'times get', 'times like', 'times love', 'times make', 'times month', 'times much', 'times never', 'times no', 'times not', 'times one', 'times ordered', 'times past', 'times per', 'times price', 'times really', 'times since', 'times still', 'times time', 'times use', 'times used', 'times want', 'times week', 'times would', 'times year', 'timing', 'timothy', 'timothy midnight', 'timothy world', 'tin', 'tinge', 'tingle', 'tingling', 'tingly', 'tiniest', 'tinkyada', 'tinny', 'tins', 'tint', 'tiny', 'tiny amount', 'tiny bit', 'tiny bits', 'tiny little', 'tiny pieces', 'tip', 'tips', 'tips tea', 'tiramisu', 'tire', 'tired', 'tired buying', 'tired flavor', 'tissue', 'tissues', 'title', 'title not', 'title review', 'title says', 'tj', 'tlc', 'tm', 'tmj', 'toast', 'toast crunch', 'toast not', 'toasted', 'toaster', 'toaster oven', 'toaster pastries', 'toasting', 'toasts', 'toasty', 'tobacco', 'tobasco', 'tocopherols', 'today', 'today first', 'today not', 'today opened', 'today received', 'today tried', 'toddler', 'toddler loves', 'toddlers', 'toe', 'toes', 'toffee', 'tofu', 'together', 'together get', 'together make', 'together not', 'together one', 'together well', 'toilet', 'told', 'told amazon', 'told could', 'told not', 'told product', 'told try', 'told us', 'told would', 'tolerable', 'tolerance', 'tolerate', 'tolerated', 'tolerates', 'toll', 'toll house', 'tom', 'tomato', 'tomato based', 'tomato basil', 'tomato flavor', 'tomato juice', 'tomato paste', 'tomato puree', 'tomato sauce', 'tomato soup', 'tomatoes', 'tomatoes not', 'tomorrow', 'ton', 'ton money', 'tone', 'toned', 'tones', 'tongue', 'tongue not', 'tonic', 'tonic water', 'tonight', 'tons', 'tons sugar', 'tony', 'took', 'took another', 'took away', 'took back', 'took bite', 'took box', 'took care', 'took chance', 'took couple', 'took days', 'took first', 'took forever', 'took get', 'took home', 'took little', 'took long', 'took longer', 'took minutes', 'took one', 'took plunge', 'took several', 'took sip', 'took star', 'took time', 'took two', 'took us', 'took vet', 'took week', 'took weeks', 'took work', 'tool', 'tools', 'tooth', 'tooth decay', 'tooth without', 'toothbrush', 'toothpaste', 'toothpick', 'toothpicks', 'tootsie', 'tootsie pops', 'tootsie roll', 'tootsie rolls', 'top', 'top bag', 'top bottle', 'top bottom', 'top cup', 'top favorites', 'top good', 'top line', 'top list', 'top little', 'top makes', 'top no', 'top not', 'top notch', 'top quality', 'top ramen', 'top shelf', 'top ten', 'top three', 'top two', 'top use', 'topic', 'topped', 'topper', 'topping', 'toppings', 'tops', 'torani', 'torani sugar', 'torani syrup', 'torani syrups', 'tore', 'torn', 'torrone', 'tortilla', 'tortilla chips', 'tortilla soup', 'tortillas', 'toss', 'tossed', 'tossing', 'tot', 'total', 'total calories', 'total carbohydrates', 'total carbs', 'total cost', 'total fat', 'total rip', 'total waste', 'totally', 'totally addicted', 'totally addictive', 'totally agree', 'totally different', 'totally love', 'totally recommend', 'totally satisfied', 'totally worth', 'tote', 'tots', 'totw', 'touch', 'touch flavor', 'touch honey', 'touch not', 'touch salt', 'touch sugar', 'touch sweetness', 'touch vanilla', 'touched', 'touches', 'touching', 'tough', 'tough find', 'tougher', 'tour', 'touted', 'toward', 'towards', 'towards end', 'towel', 'towels', 'tower', 'town', 'town not', 'toxic', 'toxicity', 'toxins', 'toy', 'toy dogs', 'toy poodle', 'toys', 'trace', 'trace amounts', 'traces', 'track', 'tracked', 'tracking', 'tracks', 'tract', 'trade', 'trade certified', 'trade coffee', 'trade organic', 'traded', 'trader', 'trader joe', 'trader joes', 'trading', 'tradition', 'traditional', 'traditional coffee', 'traditional medicinals', 'traditionally', 'traditions', 'traffic', 'trail', 'trail mix', 'trail mixes', 'train', 'trained', 'trainer', 'training', 'training treat', 'training treats', 'trans', 'trans fat', 'trans fats', 'transaction', 'transfer', 'transferred', 'transforms', 'transit', 'transition', 'transitioned', 'transitioning', 'transparent', 'transport', 'transportation', 'transported', 'trap', 'trap not', 'trap set', 'trapped', 'traps', 'trash', 'trash not', 'travel', 'travel mug', 'travel well', 'traveled', 'traveling', 'travelling', 'travels', 'travels well', 'traverse', 'traverse bay', 'tray', 'trays', 'treasure', 'treat', 'treat also', 'treat bag', 'treat ball', 'treat buy', 'treat cat', 'treat cats', 'treat could', 'treat dog', 'treat dogs', 'treat eat', 'treat enjoy', 'treat even', 'treat ever', 'treat every', 'treat found', 'treat give', 'treat go', 'treat good', 'treat great', 'treat highly', 'treat keep', 'treat kids', 'treat like', 'treat little', 'treat love', 'treat made', 'treat no', 'treat not', 'treat one', 'treat really', 'treat since', 'treat time', 'treat training', 'treat without', 'treat would', 'treated', 'treated hair', 'treaters', 'treating', 'treatment', 'treatments', 'treats', 'treats also', 'treats best', 'treats cat', 'treats come', 'treats day', 'treats dog', 'treats dogs', 'treats even', 'treats ever', 'treats every', 'treats food', 'treats found', 'treats get', 'treats give', 'treats good', 'treats great', 'treats healthy', 'treats keep', 'treats kids', 'treats like', 'treats little', 'treats love', 'treats loved', 'treats loves', 'treats made', 'treats make', 'treats market', 'treats much', 'treats no', 'treats not', 'treats one', 'treats perfect', 'treats really', 'treats seem', 'treats since', 'treats small', 'treats smell', 'treats soft', 'treats training', 'treats tried', 'treats two', 'treats use', 'treats would', 'tree', 'tree arrived', 'tree not', 'tree nut', 'tree nuts', 'trees', 'trek', 'tremendous', 'tremendously', 'trend', 'trendy', 'tri', 'trial', 'trial error', 'trials', 'triangle', 'trick', 'trick treaters', 'tricks', 'tricky', 'trident', 'tried', 'tried adding', 'tried almost', 'tried alot', 'tried also', 'tried amazon', 'tried another', 'tried baking', 'tried best', 'tried better', 'tried box', 'tried brand', 'tried brands', 'tried bunch', 'tried buy', 'tried chicken', 'tried chocolate', 'tried coconut', 'tried coffee', 'tried cooking', 'tried could', 'tried couple', 'tried cup', 'tried dark', 'tried definitely', 'tried delicious', 'tried different', 'tried dozen', 'tried dozens', 'tried drink', 'tried eat', 'tried eating', 'tried even', 'tried every', 'tried everything', 'tried far', 'tried find', 'tried first', 'tried flavor', 'tried flavors', 'tried found', 'tried get', 'tried give', 'tried giving', 'tried gluten', 'tried good', 'tried got', 'tried great', 'tried green', 'tried hot', 'tried iced', 'tried kinds', 'tried least', 'tried like', 'tried liked', 'tried little', 'tried long', 'tried lot', 'tried lots', 'tried love', 'tried loved', 'tried make', 'tried making', 'tried many', 'tried milk', 'tried mix', 'tried mixing', 'tried must', 'tried new', 'tried no', 'tried not', 'tried number', 'tried numerous', 'tried one', 'tried order', 'tried organic', 'tried others', 'tried past', 'tried plain', 'tried pretty', 'tried price', 'tried product', 'tried products', 'tried quite', 'tried really', 'tried red', 'tried regular', 'tried said', 'tried sauce', 'tried say', 'tried several', 'tried since', 'tried sorts', 'tried soup', 'tried starbucks', 'tried still', 'tried straight', 'tried strawberry', 'tried stuff', 'tried sweet', 'tried taste', 'tried tastes', 'tried tea', 'tried think', 'tried thought', 'tried three', 'tried times', 'tried today', 'tried tried', 'tried true', 'tried try', 'tried two', 'tried types', 'tried use', 'tried used', 'tried using', 'tried vanilla', 'tried varieties', 'tried variety', 'tried various', 'tried water', 'tried whole', 'tried would', 'tried years', 'tried yet', 'tries', 'trigger', 'triggers', 'triglycerides', 'trim', 'trimmed', 'trio', 'trip', 'tripe', 'triple', 'trips', 'trivedi', 'trivedi water', 'troops', 'tropical', 'tropical fruit', 'tropical traditions', 'trouble', 'trouble finding', 'trouble getting', 'troubles', 'trout', 'truck', 'true', 'true coffee', 'true flavor', 'true lemon', 'true not', 'true taste', 'true tea', 'truely', 'truffle', 'truffle flavor', 'truffle oil', 'truffle salt', 'truffles', 'truly', 'truly amazing', 'truly believe', 'truly best', 'truly delicious', 'truly enjoy', 'truly good', 'truly great', 'truly healthy', 'truly love', 'truly natural', 'truly unique', 'truly wonderful', 'trunk', 'trust', 'trust amazon', 'trust company', 'trust not', 'trusted', 'truth', 'truth told', 'truthfully', 'truvia', 'try', 'try actually', 'try adding', 'try also', 'try always', 'try amazed', 'try amazon', 'try another', 'try anything', 'try anyway', 'try avoid', 'try bag', 'try best', 'try bit', 'try black', 'try bought', 'try box', 'try brand', 'try brands', 'try buy', 'try buying', 'try cereal', 'try chocolate', 'try coconut', 'try coffee', 'try cookies', 'try could', 'try couple', 'try cup', 'try definitely', 'try delicious', 'try different', 'try dog', 'try drink', 'try eat', 'try enjoy', 'try even', 'try find', 'try first', 'try flavor', 'try flavors', 'try food', 'try get', 'try give', 'try glad', 'try gluten', 'try go', 'try good', 'try got', 'try great', 'try green', 'try happy', 'try hard', 'try hooked', 'try hot', 'try however', 'try instead', 'try keep', 'try know', 'try least', 'try like', 'try little', 'try looking', 'try lot', 'try love', 'try loved', 'try make', 'try making', 'try many', 'try may', 'try might', 'try mix', 'try mixing', 'try natural', 'try never', 'try new', 'try next', 'try no', 'try not', 'try one', 'try order', 'try ordered', 'try ordering', 'try others', 'try pleasantly', 'try pleased', 'try pretty', 'try price', 'try product', 'try products', 'try really', 'try sample', 'try say', 'try see', 'try since', 'try something', 'try stay', 'try stuff', 'try sugar', 'try sure', 'try surprised', 'try take', 'try taste', 'try tea', 'try think', 'try three', 'try tried', 'try two', 'try use', 'try using', 'try vanilla', 'try varieties', 'try variety', 'try want', 'try way', 'try well', 'try without', 'try wonderful', 'try wont', 'try would', 'try wow', 'tryed', 'trying', 'trying avoid', 'trying brands', 'trying cut', 'trying different', 'trying drink', 'trying eat', 'trying figure', 'trying find', 'trying first', 'trying flavors', 'trying get', 'trying keep', 'trying lose', 'trying make', 'trying many', 'trying new', 'trying not', 'trying one', 'trying product', 'trying save', 'trying sell', 'trying several', 'trying something', 'trying stay', 'trying tea', 'trying use', 'trying various', 'trying watch', 'tsp', 'tsp sugar', 'tub', 'tube', 'tubes', 'tubs', 'tuck', 'tucked', 'tucson', 'tuesday', 'tug', 'tug jug', 'tully', 'tully coffee', 'tully french', 'tulsi', 'tummies', 'tummy', 'tummy not', 'tummy problems', 'tuna', 'tuna ever', 'tuna fish', 'tuna not', 'tuna salad', 'tuna water', 'tunnel', 'tupperware', 'turbinado', 'turkey', 'turkey beef', 'turkey chicken', 'turkey jerky', 'turkish', 'turkish coffee', 'turkish delight', 'turmeric', 'turn', 'turn around', 'turn heat', 'turn mush', 'turn nose', 'turn noses', 'turned', 'turned amazon', 'turned around', 'turned delicious', 'turned good', 'turned great', 'turned nose', 'turned onto', 'turned perfect', 'turned pretty', 'turned really', 'turning', 'turns', 'turns great', 'turns nose', 'turns not', 'turtle', 'tuscan', 'tuscany', 'tv', 'tvp', 'twang', 'tweak', 'twelve', 'twenty', 'twenty minutes', 'twenty years', 'twice', 'twice amount', 'twice daily', 'twice day', 'twice expensive', 'twice month', 'twice much', 'twice not', 'twice price', 'twice week', 'twice year', 'twigs', 'twin', 'twining', 'twinings', 'twinings earl', 'twinings english', 'twinings tea', 'twinnings', 'twins', 'twins love', 'twist', 'twisted', 'twists', 'twizzlers', 'two', 'two bags', 'two bars', 'two big', 'two bottles', 'two boxes', 'two boys', 'two brands', 'two bucks', 'two cans', 'two cases', 'two cats', 'two children', 'two containers', 'two cookies', 'two cup', 'two cups', 'two day', 'two days', 'two different', 'two dogs', 'two dollars', 'two drops', 'two favorite', 'two favorites', 'two flavors', 'two four', 'two get', 'two good', 'two great', 'two half', 'two hours', 'two ingredients', 'two items', 'two jars', 'two kids', 'two kinds', 'two kittens', 'two large', 'two like', 'two little', 'two meals', 'two minutes', 'two months', 'two not', 'two one', 'two orders', 'two ounces', 'two oz', 'two pack', 'two packages', 'two packets', 'two packs', 'two people', 'two picky', 'two pieces', 'two pods', 'two pouches', 'two pound', 'two pounds', 'two products', 'two reasons', 'two separate', 'two servings', 'two small', 'two stars', 'two tablespoons', 'two tea', 'two teaspoons', 'two things', 'two three', 'two thumbs', 'two time', 'two times', 'two together', 'two traps', 'two types', 'two us', 'two varieties', 'two week', 'two weeks', 'two would', 'two year', 'two years', 'tx', 'ty', 'type', 'type candy', 'type coffee', 'type diabetes', 'type diabetic', 'type flavor', 'type food', 'type ii', 'type not', 'type person', 'type product', 'type snack', 'type taste', 'type tea', 'types', 'types coffee', 'types food', 'types tea', 'typhoo', 'typical', 'typical grocery', 'typically', 'typically buy', 'typically not', 'typically use', 'typing', 'tzu', 'tzus', 'ubiquitous', 'udi', 'udon', 'ugh', 'ugly', 'uh', 'uk', 'ultimate', 'ultimately', 'ultra', 'ultra shea', 'um', 'ummm', 'un', 'unable', 'unable find', 'unable get', 'unable locate', 'unable purchase', 'unacceptable', 'unadulterated', 'unappealing', 'unappetizing', 'unavailable', 'unaware', 'unbearable', 'unbeatable', 'unbelievable', 'unbelievably', 'unbleached', 'unbroken', 'uncle', 'unclear', 'uncomfortable', 'uncooked', 'undamaged', 'undercooked', 'underlying', 'underneath', 'understand', 'understand not', 'understand people', 'understanding', 'understatement', 'understood', 'undertone', 'undertones', 'underwhelmed', 'undesirable', 'undigested', 'undoubtedly', 'undrinkable', 'uneven', 'unexpected', 'unexpectedly', 'unfamiliar', 'unfiltered', 'unflavored', 'unfortunate', 'unfortunately', 'unfortunately amazon', 'unfortunately local', 'unfortunately no', 'unfortunately not', 'unfortunately one', 'unfortunately product', 'unfortunatly', 'unhappy', 'unhealthy', 'uniform', 'uniformly', 'unimpressed', 'union', 'unique', 'unique flavor', 'unique flavors', 'unique not', 'unique taste', 'uniquely', 'unit', 'united', 'united states', 'units', 'universal', 'universe', 'university', 'unknown', 'unless', 'unless course', 'unless find', 'unless like', 'unless live', 'unless not', 'unless really', 'unless want', 'unlike', 'unlike anything', 'unlike brands', 'unlike lot', 'unlike many', 'unlike others', 'unlike regular', 'unlikely', 'unlucky', 'unmatched', 'unnatural', 'unnecessary', 'unopened', 'unpalatable', 'unpleasant', 'unpleasant aftertaste', 'unpleasant taste', 'unpopped', 'unpopped kernels', 'unprocessed', 'unpronounceable', 'unreal', 'unreasonable', 'unrecognizable', 'unrefined', 'unreliable', 'unsalted', 'unsaturated', 'unscrew', 'unsealed', 'unsure', 'unsuspecting', 'unsweetened', 'unsweetened almond', 'untouched', 'unusable', 'unused', 'unusual', 'unusually', 'unwanted', 'unwind', 'unwrap', 'unwrapped', 'upc', 'upcoming', 'update', 'update review', 'updated', 'updating', 'upgrade', 'upgraded', 'uploaded', 'upon', 'upon arrival', 'upon first', 'upon opening', 'upon reading', 'upon receiving', 'upped', 'upper', 'upright', 'ups', 'upscale', 'upset', 'upset stomach', 'upset stomachs', 'upset tummy', 'upsets', 'upside', 'upstairs', 'upstate', 'ur', 'urge', 'urinary', 'urinary tract', 'urine', 'us', 'us also', 'us buy', 'us could', 'us eat', 'us even', 'us feel', 'us find', 'us get', 'us good', 'us great', 'us happy', 'us know', 'us like', 'us long', 'us love', 'us no', 'us not', 'us one', 'us really', 'us try', 'us want', 'us would', 'usa', 'usa made', 'usa not', 'usable', 'usage', 'usda', 'usda organic', 'use', 'use add', 'use almond', 'use almost', 'use alot', 'use also', 'use amazon', 'use another', 'use anything', 'use anyway', 'use artificial', 'use bag', 'use bags', 'use baking', 'use base', 'use beans', 'use beef', 'use best', 'use big', 'use bit', 'use body', 'use boiling', 'use bottle', 'use box', 'use brand', 'use bread', 'use breakfast', 'use butter', 'use buy', 'use canned', 'use caution', 'use cereal', 'use chicken', 'use coconut', 'use coffee', 'use cold', 'use company', 'use conditioner', 'use cook', 'use cooking', 'use corn', 'use couple', 'use cream', 'use cup', 'use cups', 'use daily', 'use date', 'use different', 'use drink', 'use drops', 'use dry', 'use easy', 'use eat', 'use egg', 'use even', 'use every', 'use everyday', 'use everything', 'use extra', 'use favorite', 'use first', 'use fish', 'use flavor', 'use flour', 'use food', 'use foods', 'use formula', 'use french', 'use frequently', 'use fresh', 'use full', 'use get', 'use give', 'use go', 'use good', 'use great', 'use green', 'use ground', 'use hair', 'use half', 'use high', 'use home', 'use honey', 'use hot', 'use however', 'use ingredient', 'use instead', 'use keep', 'use keurig', 'use kind', 'use large', 'use larger', 'use least', 'use less', 'use like', 'use little', 'use lot', 'use lots', 'use love', 'use mainly', 'use make', 'use makes', 'use making', 'use many', 'use meat', 'use milk', 'use mix', 'use mostly', 'use much', 'use natural', 'use need', 'use new', 'use next', 'use no', 'use not', 'use often', 'use oil', 'use old', 'use olive', 'use one', 'use organic', 'use oz', 'use packet', 'use packets', 'use peanut', 'use place', 'use plain', 'use pods', 'use powder', 'use price', 'use product', 'use products', 'use purchase', 'use put', 'use quite', 'use raw', 'use real', 'use really', 'use recipe', 'use recipes', 'use regular', 'use regularly', 'use rice', 'use right', 'use salad', 'use salads', 'use salt', 'use sauce', 'use scissors', 'use seasoning', 'use several', 'use since', 'use skin', 'use small', 'use smoothies', 'use snack', 'use something', 'use sometimes', 'use soup', 'use soups', 'use soy', 'use sparingly', 'use special', 'use spice', 'use splenda', 'use spoon', 'use stevia', 'use store', 'use stuff', 'use subscribe', 'use substitute', 'use sugar', 'use sweeten', 'use sweetener', 'use tablespoon', 'use taste', 'use tastes', 'use tea', 'use three', 'use time', 'use topping', 'use training', 'use treats', 'use two', 'use use', 'use used', 'use vanilla', 'use water', 'use white', 'use whole', 'use without', 'use work', 'use would', 'used', 'used able', 'used add', 'used almost', 'used also', 'used amazon', 'used anything', 'used baking', 'used beans', 'used beef', 'used black', 'used brand', 'used bread', 'used buy', 'used buying', 'used carry', 'used chicken', 'used chocolate', 'used coconut', 'used coffee', 'used come', 'used cooking', 'used couple', 'used cup', 'used cups', 'used date', 'used different', 'used dipping', 'used drink', 'used drinking', 'used dry', 'used eat', 'used eating', 'used enjoy', 'used every', 'used everything', 'used far', 'used favorite', 'used feed', 'used find', 'used first', 'used flavor', 'used food', 'used fresh', 'used get', 'used give', 'used go', 'used good', 'used great', 'used half', 'used hot', 'used instead', 'used keep', 'used last', 'used less', 'used like', 'used little', 'used live', 'used lot', 'used love', 'used make', 'used making', 'used many', 'used mix', 'used much', 'used new', 'used no', 'used not', 'used oil', 'used one', 'used order', 'used organic', 'used past', 'used pay', 'used place', 'used product', 'used products', 'used purchase', 'used real', 'used really', 'used recipe', 'used recipes', 'used regular', 'used rice', 'used sauce', 'used say', 'used seasoning', 'used sell', 'used several', 'used since', 'used small', 'used sparingly', 'used splenda', 'used still', 'used sugar', 'used sweet', 'used take', 'used taste', 'used tea', 'used think', 'used three', 'used tried', 'used two', 'used use', 'used using', 'used variety', 'used way', 'used whole', 'used work', 'used would', 'used years', 'used yet', 'useful', 'useless', 'user', 'users', 'uses', 'uses natural', 'uses sugar', 'using', 'using agave', 'using amazon', 'using another', 'using bags', 'using bob', 'using brand', 'using clear', 'using coconut', 'using coffee', 'using conditioner', 'using couple', 'using cup', 'using cups', 'using different', 'using dog', 'using every', 'using flour', 'using food', 'using french', 'using half', 'using high', 'using hot', 'using keurig', 'using less', 'using little', 'using make', 'using milk', 'using mix', 'using months', 'using much', 'using not', 'using oil', 'using one', 'using organic', 'using product', 'using products', 'using recipe', 'using recipes', 'using regular', 'using sauce', 'using senseo', 'using several', 'using shampoo', 'using since', 'using small', 'using stevia', 'using stuff', 'using subscribe', 'using sugar', 'using tea', 'using traditional', 'using two', 'using water', 'using whole', 'using year', 'using years', 'usps', 'usual', 'usual amazon', 'usual coffee', 'usually', 'usually add', 'usually buy', 'usually comes', 'usually cook', 'usually drink', 'usually eat', 'usually eats', 'usually end', 'usually find', 'usually get', 'usually gets', 'usually give', 'usually go', 'usually great', 'usually keep', 'usually like', 'usually love', 'usually make', 'usually mix', 'usually need', 'usually not', 'usually one', 'usually order', 'usually prefer', 'usually pretty', 'usually purchase', 'usually put', 'usually sold', 'usually take', 'usually takes', 'usually use', 'usually would', 'utah', 'utensils', 'uti', 'utilize', 'utter', 'utterly', 'va', 'vacation', 'vacationing', 'vacuum', 'vacuum packed', 'vacuum seal', 'vacuum sealed', 'vacuumed', 'vague', 'vaguely', 'valentine', 'valentine day', 'valentines', 'valentines day', 'valid', 'valley', 'valley granola', 'valuable', 'value', 'value amazon', 'value buying', 'value compared', 'value good', 'value great', 'value like', 'value money', 'value not', 'value pack', 'value price', 'value product', 'value taste', 'value would', 'valued', 'values', 'valve', 'van', 'van houtte', 'vanilla', 'vanilla almond', 'vanilla bean', 'vanilla beans', 'vanilla cappuccino', 'vanilla caramel', 'vanilla chai', 'vanilla chocolate', 'vanilla coffee', 'vanilla cream', 'vanilla creamer', 'vanilla creme', 'vanilla extract', 'vanilla flavor', 'vanilla flavored', 'vanilla flavoring', 'vanilla flavors', 'vanilla hazelnut', 'vanilla ice', 'vanilla latte', 'vanilla like', 'vanilla not', 'vanilla soy', 'vanilla sugar', 'vanilla syrup', 'vanilla taste', 'vanilla tea', 'vanilla vanilla', 'vanilla yogurt', 'vanished', 'variant', 'variation', 'variations', 'varied', 'varies', 'varieties', 'varieties coffee', 'varieties not', 'varieties one', 'varieties tried', 'variety', 'variety also', 'variety box', 'variety coffee', 'variety cups', 'variety different', 'variety flavors', 'variety foods', 'variety good', 'variety great', 'variety like', 'variety no', 'variety not', 'variety one', 'variety pack', 'variety packs', 'variety teas', 'various', 'various brands', 'various flavors', 'various products', 'various types', 'varities', 'vary', 'varying', 'vase', 'vast', 'vast majority', 'vastly', 'veg', 'vegan', 'vegan gluten', 'vegan grocery', 'vegan natural', 'vegan not', 'vegan organic', 'vegans', 'vegas', 'vege', 'vegemite', 'vegetable', 'vegetable broth', 'vegetable glycerin', 'vegetable juice', 'vegetable oil', 'vegetable protein', 'vegetable soup', 'vegetables', 'vegetables fruits', 'vegetables not', 'vegetarian', 'vegetarian chili', 'vegetarian not', 'vegetarians', 'veggie', 'veggie burgers', 'veggies', 'vegi', 'vegies', 'vehicle', 'velveeta', 'velveeta cheese', 'velvet', 'velvety', 'vending', 'vending machine', 'vending machines', 'vendor', 'vendor not', 'vendors', 'venison', 'venture', 'venus', 'vera', 'verdict', 'verified', 'verify', 'vermicelli', 'vermont', 'verona', 'versatile', 'versatile product', 'versatile used', 'versatility', 'version', 'version also', 'version better', 'version good', 'version not', 'version product', 'version really', 'version would', 'versions', 'versus', 'vet', 'vet bills', 'vet not', 'vet office', 'vet recommended', 'vet said', 'vet says', 'vet suggested', 'vet told', 'veterinarian', 'veterinary', 'vets', 'vets office', 'via', 'via amazon', 'via subscribe', 'via usps', 'viable', 'vibrant', 'vice', 'victor', 'video', 'videos', 'vienna', 'vietnam', 'vietnamese', 'view', 'vigorous', 'vigorously', 'vile', 'village', 'vinaigrette', 'vine', 'vine program', 'vinegar', 'vinegar chips', 'vinegar like', 'vinegar not', 'vinegar taste', 'vinegars', 'vinegary', 'vines', 'vino', 'vintage', 'violently', 'violet', 'virgin', 'virgin coconut', 'virgin olive', 'virginia', 'virtually', 'virtually no', 'visible', 'visit', 'visited', 'visiting', 'visiting friend', 'visitors', 'visits', 'visual', 'visually', 'vit', 'vita', 'vita coco', 'vitacoco', 'vitacost', 'vital', 'vital wheat', 'vitality', 'vitamin', 'vitamin calcium', 'vitamin content', 'vitamin iron', 'vitamin not', 'vitamin squeeze', 'vitamin vitamin', 'vitamin water', 'vitamins', 'vitamins minerals', 'vitamins not', 'vitamins nutrients', 'vitamix', 'viva', 'vivid', 'vodka', 'voice', 'void', 'voila', 'volume', 'volumizing', 'vomit', 'vomited', 'vomiting', 'vomits', 'vomitting', 'vote', 'vouch', 'voxbox', 'vs', 'wa', 'waaaay', 'wabash', 'wabash valley', 'wafer', 'wafers', 'waffle', 'waffle iron', 'waffle maker', 'waffle mix', 'waffles', 'waffles pancakes', 'wagging', 'waist', 'waistline', 'wait', 'wait buy', 'wait get', 'wait go', 'wait long', 'wait make', 'wait minutes', 'wait next', 'wait order', 'wait see', 'wait taste', 'wait till', 'wait try', 'wait use', 'waited', 'waiter', 'waiting', 'waits', 'wake', 'wake call', 'wake morning', 'wakes', 'waking', 'wal', 'wal mart', 'walden', 'walden farms', 'wales', 'walgreen', 'walgreens', 'walk', 'walk around', 'walk away', 'walked', 'walked away', 'walker', 'walkers', 'walking', 'walks', 'wall', 'wallet', 'walls', 'wally', 'walmart', 'walmart not', 'walmart sells', 'walmart stopped', 'walnut', 'walnuts', 'wandering', 'wanna', 'want', 'want add', 'want another', 'want anything', 'want avoid', 'want best', 'want brew', 'want buy', 'want caffeine', 'want change', 'want check', 'want coffee', 'want cook', 'want cup', 'want cut', 'want drink', 'want easy', 'want eat', 'want enjoy', 'want extra', 'want feed', 'want find', 'want flavor', 'want full', 'want get', 'want give', 'want go', 'want good', 'want great', 'want healthy', 'want keep', 'want know', 'want like', 'want little', 'want make', 'want mess', 'want mix', 'want need', 'want nice', 'want no', 'want not', 'want one', 'want order', 'want pay', 'want purchase', 'want put', 'want quick', 'want real', 'want really', 'want run', 'want save', 'want say', 'want see', 'want share', 'want snack', 'want something', 'want spend', 'want stay', 'want strong', 'want sugar', 'want sweet', 'want take', 'want taste', 'want tea', 'want think', 'want throw', 'want treat', 'want try', 'want use', 'want want', 'want without', 'wanted', 'wanted add', 'wanted buy', 'wanted eat', 'wanted find', 'wanted get', 'wanted give', 'wanted good', 'wanted keep', 'wanted know', 'wanted like', 'wanted make', 'wanted not', 'wanted one', 'wanted order', 'wanted see', 'wanted share', 'wanted something', 'wanted taste', 'wanted try', 'wanted use', 'wanting', 'wanting eat', 'wanting something', 'wanting try', 'wants', 'wants eat', 'wants know', 'wants make', 'war', 'ward', 'warehouse', 'warehouse club', 'warehouse deals', 'warehouse store', 'warehouses', 'warm', 'warm milk', 'warm not', 'warm water', 'warmed', 'warmer', 'warming', 'warms', 'warmth', 'warn', 'warned', 'warning', 'warning not', 'warnings', 'warrant', 'wary', 'wasa', 'wasabi', 'wasabi peas', 'wasabi soy', 'wash', 'wash hair', 'wash hands', 'washed', 'washes', 'washing', 'washington', 'washington state', 'wasnt', 'waste', 'waste money', 'waste not', 'waste time', 'wasted', 'wasted money', 'wasteful', 'wasting', 'wasting money', 'watch', 'watch sodium', 'watch sugar', 'watched', 'watcher', 'watchers', 'watchers points', 'watching', 'watching calories', 'watching movie', 'watching sugar', 'watching tv', 'watching weight', 'water', 'water actually', 'water add', 'water added', 'water adding', 'water also', 'water although', 'water best', 'water bit', 'water boil', 'water boiling', 'water bottle', 'water bottles', 'water bowl', 'water bring', 'water coffee', 'water come', 'water comes', 'water cook', 'water cooking', 'water cooler', 'water could', 'water couple', 'water cup', 'water cups', 'water day', 'water definitely', 'water delicious', 'water drink', 'water drinking', 'water eat', 'water enhancer', 'water enjoy', 'water etc', 'water even', 'water ever', 'water every', 'water far', 'water first', 'water flavor', 'water found', 'water get', 'water gets', 'water give', 'water go', 'water goes', 'water good', 'water great', 'water hot', 'water however', 'water ice', 'water instead', 'water intake', 'water juice', 'water keep', 'water know', 'water less', 'water let', 'water like', 'water little', 'water love', 'water made', 'water make', 'water makes', 'water maybe', 'water microwave', 'water might', 'water milk', 'water minute', 'water minutes', 'water mix', 'water mixed', 'water mixture', 'water much', 'water needed', 'water nice', 'water no', 'water not', 'water one', 'water organic', 'water per', 'water perfect', 'water pour', 'water product', 'water products', 'water put', 'water ratio', 'water really', 'water refreshing', 'water right', 'water salt', 'water seconds', 'water since', 'water small', 'water soluble', 'water still', 'water stir', 'water sugar', 'water take', 'water tap', 'water taste', 'water tasted', 'water tastes', 'water tea', 'water temperature', 'water though', 'water thought', 'water time', 'water tried', 'water two', 'water use', 'water used', 'water using', 'water usually', 'water want', 'water water', 'water well', 'water without', 'water would', 'watered', 'watered coffee', 'watering', 'watermelon', 'watermelon strawberry', 'waters', 'watery', 'watery not', 'watkins', 'wave', 'wax', 'wax paper', 'waxed', 'waxed paper', 'waxy', 'way', 'way add', 'way also', 'way always', 'way around', 'way back', 'way better', 'way brew', 'way buy', 'way cheaper', 'way coffee', 'way could', 'way describe', 'way drink', 'way eat', 'way end', 'way enjoy', 'way even', 'way expensive', 'way feel', 'way find', 'way first', 'way flavor', 'way food', 'way found', 'way get', 'way getting', 'way give', 'way go', 'way going', 'way good', 'way great', 'way help', 'way high', 'way home', 'way hot', 'way however', 'way keep', 'way know', 'way less', 'way like', 'way little', 'way long', 'way look', 'way love', 'way made', 'way make', 'way makes', 'way many', 'way much', 'way never', 'way no', 'way not', 'way one', 'way order', 'way overpriced', 'way packaged', 'way prepare', 'way price', 'way priced', 'way product', 'way purchase', 'way put', 'way really', 'way salty', 'way save', 'way shop', 'way since', 'way start', 'way stay', 'way strong', 'way sweet', 'way take', 'way taste', 'way tastes', 'way try', 'way use', 'way used', 'way want', 'way way', 'way work', 'way would', 'ways', 'ways get', 'ways one', 'ways use', 'weak', 'weak coffee', 'weak cup', 'weak even', 'weak flavor', 'weak like', 'weak not', 'weak side', 'weak strong', 'weak taste', 'weak tea', 'weak watery', 'weaker', 'weakest', 'weakness', 'wean', 'weaning', 'wear', 'wearing', 'wears', 'weary', 'weather', 'web', 'web found', 'web page', 'web site', 'web sites', 'weber', 'website', 'website find', 'website found', 'website not', 'website says', 'websites', 'wedding', 'wedding cake', 'wedding favors', 'wedge', 'wedges', 'wednesday', 'wee', 'wee bit', 'weed', 'weeds', 'week', 'week ago', 'week get', 'week great', 'week half', 'week later', 'week love', 'week not', 'week noticed', 'week old', 'week really', 'week two', 'week using', 'week would', 'weekend', 'weekends', 'weekly', 'weeks', 'weeks ago', 'weeks get', 'weeks later', 'weeks no', 'weeks not', 'weeks old', 'weeks since', 'weeks still', 'wegman', 'wegmans', 'weigh', 'weigh hair', 'weighed', 'weighing', 'weighs', 'weighs pounds', 'weight', 'weight also', 'weight control', 'weight gain', 'weight loss', 'weight management', 'weight not', 'weight watcher', 'weight watchers', 'weights', 'weird', 'weird aftertaste', 'weird chemical', 'weird not', 'weird taste', 'weird texture', 'weirdly', 'welcome', 'welcomed', 'well', 'well actually', 'well add', 'well almost', 'well also', 'well although', 'well always', 'well amazon', 'well anything', 'well arrived', 'well balanced', 'well best', 'well better', 'well blended', 'well bought', 'well buy', 'well chicken', 'well chocolate', 'well coffee', 'well cold', 'well cooking', 'well could', 'well definitely', 'well delicious', 'well designed', 'well dog', 'well done', 'well easy', 'well eat', 'well either', 'well enjoy', 'well enough', 'well even', 'well far', 'well finally', 'well first', 'well flavor', 'well flavors', 'well food', 'well found', 'well fresh', 'well get', 'well give', 'well go', 'well going', 'well good', 'well got', 'well great', 'well guess', 'well happy', 'well healthy', 'well highly', 'well hope', 'well hot', 'well however', 'well iced', 'well ingredients', 'well keep', 'well know', 'well known', 'well large', 'well last', 'well least', 'well let', 'well like', 'well liked', 'well little', 'well looking', 'well love', 'well made', 'well make', 'well makes', 'well making', 'well many', 'well may', 'well maybe', 'well milk', 'well mix', 'well mixed', 'well much', 'well need', 'well never', 'well nice', 'well no', 'well not', 'well nothing', 'well one', 'well ordered', 'well overall', 'well packaged', 'well packed', 'well people', 'well pleased', 'well price', 'well priced', 'well product', 'well put', 'well really', 'well received', 'well rounded', 'well say', 'well sealed', 'well seasoned', 'well see', 'well seems', 'well shipping', 'well since', 'well still', 'well sure', 'well taste', 'well tastes', 'well tasty', 'well tea', 'well thank', 'well thanks', 'well think', 'well thought', 'well time', 'well together', 'well tried', 'well try', 'well two', 'well use', 'well used', 'well using', 'well water', 'well wish', 'well within', 'well without', 'well works', 'well worth', 'well would', 'well wrapped', 'well year', 'wellness', 'wellness brand', 'wellness core', 'welsh', 'went', 'went ahead', 'went amazon', 'went away', 'went back', 'went bought', 'went business', 'went crazy', 'went far', 'went fast', 'went great', 'went line', 'went local', 'went looking', 'went nuts', 'went online', 'went right', 'went sale', 'went search', 'went store', 'went straight', 'went town', 'went trash', 'went well', 'weruva', 'west', 'west coast', 'western', 'westie', 'wet', 'wet cat', 'wet dog', 'wet dry', 'wet food', 'wf', 'whack', 'whatever', 'whatever cooking', 'whatever else', 'whatever flavor', 'whatever like', 'whatever not', 'whatever reason', 'whatever want', 'whats', 'whatsoever', 'wheat', 'wheat allergy', 'wheat based', 'wheat bran', 'wheat bread', 'wheat corn', 'wheat dairy', 'wheat flour', 'wheat free', 'wheat gluten', 'wheat grass', 'wheat no', 'wheat noodles', 'wheat not', 'wheat pasta', 'wheat pastas', 'wheat products', 'wheat soy', 'wheat spaghetti', 'wheat thins', 'wheatgrass', 'wheats', 'wheaty', 'wheel', 'wheels', 'whenever', 'whenever feel', 'whenever go', 'whenever need', 'whenever possible', 'whenever want', 'whereas', 'wherever', 'whether', 'whether not', 'whether want', 'whew', 'whey', 'whey protein', 'whichever', 'whiff', 'whilst', 'whim', 'whine', 'whining', 'whip', 'whip cream', 'whipped', 'whipped cream', 'whipping', 'whipping cream', 'whirl', 'whirley', 'whirley pop', 'whisk', 'whiskas', 'whiskey', 'white', 'white bread', 'white cheddar', 'white chocolate', 'white color', 'white flour', 'white grape', 'white hot', 'white meat', 'white not', 'white pasta', 'white popcorn', 'white rice', 'white sugar', 'white tea', 'white teas', 'white truffle', 'white whole', 'white wine', 'whitefish', 'whites', 'whoa', 'whoever', 'whole', 'whole bag', 'whole bar', 'whole bean', 'whole beans', 'whole bottle', 'whole bowl', 'whole box', 'whole bunch', 'whole case', 'whole cashews', 'whole container', 'whole cup', 'whole day', 'whole family', 'whole food', 'whole foods', 'whole grain', 'whole grains', 'whole house', 'whole jar', 'whole leaf', 'whole life', 'whole lot', 'whole milk', 'whole new', 'whole not', 'whole one', 'whole pack', 'whole package', 'whole packet', 'whole pot', 'whole thing', 'whole time', 'whole wheat', 'wholefoods', 'wholeheartedly', 'wholesale', 'wholesome', 'wholesome ingredients', 'whopping', 'whose', 'wicked', 'wide', 'wide mouth', 'wide range', 'wide variety', 'widely', 'widely available', 'wider', 'width', 'wierd', 'wife', 'wife always', 'wife bought', 'wife drink', 'wife drinks', 'wife enjoy', 'wife enjoyed', 'wife favorite', 'wife found', 'wife got', 'wife kids', 'wife like', 'wife likes', 'wife love', 'wife loved', 'wife loves', 'wife not', 'wife really', 'wife said', 'wife says', 'wife thought', 'wife tried', 'wife used', 'wife uses', 'wikipedia', 'wild', 'wild caught', 'wild planet', 'wild rice', 'wild ride', 'wild salmon', 'wilderness', 'wildflower', 'wildlife', 'wildly', 'william', 'williams', 'williams sonoma', 'willing', 'willing eat', 'willing give', 'willing pay', 'willing try', 'willingly', 'wilton', 'wimp', 'wimpy', 'win', 'win win', 'wind', 'window', 'windows', 'winds', 'wine', 'wine kit', 'wine not', 'wine vinegar', 'wines', 'wing', 'wings', 'winner', 'winning', 'wins', 'winter', 'winter day', 'winter months', 'wintergreen', 'wipe', 'wipes', 'wire', 'wired', 'wisconsin', 'wisdom', 'wise', 'wise not', 'wish', 'wish amazon', 'wish available', 'wish bigger', 'wish bit', 'wish bought', 'wish came', 'wish cheaper', 'wish could', 'wish knew', 'wish less', 'wish list', 'wish little', 'wish made', 'wish not', 'wish offered', 'wish price', 'wish product', 'wish sold', 'wish still', 'wish would', 'wished', 'wishes', 'wishing', 'withdrawal', 'within', 'within box', 'within couple', 'within day', 'within days', 'within first', 'within hour', 'within hours', 'within minutes', 'within month', 'within months', 'within seconds', 'within two', 'within week', 'within weeks', 'without', 'without added', 'without adding', 'without alcohol', 'without anything', 'without artificial', 'without bitter', 'without bitterness', 'without breaking', 'without buying', 'without caffeine', 'without calories', 'without chocolate', 'without cream', 'without doubt', 'without eating', 'without even', 'without extra', 'without fat', 'without fear', 'without feeling', 'without flavor', 'without food', 'without fuss', 'without getting', 'without giving', 'without gluten', 'without going', 'without guilt', 'without hassle', 'without hesitation', 'without high', 'without jitters', 'without knowing', 'without leaving', 'without losing', 'without lot', 'without making', 'without milk', 'without much', 'without need', 'without needing', 'without overly', 'without overpowering', 'without overwhelming', 'without problem', 'without problems', 'without really', 'without reservation', 'without sacrificing', 'without salt', 'without side', 'without spending', 'without spicy', 'without strong', 'without success', 'without sugar', 'without sweet', 'without sweetener', 'without taking', 'without tasting', 'without trying', 'without using', 'without worry', 'without worrying', 'withstand', 'wo', 'wo not', 'wok', 'woke', 'wolf', 'wolfgang', 'wolfgang puck', 'woman', 'women', 'wonder', 'wondered', 'wonderful', 'wonderful addition', 'wonderful also', 'wonderful alternative', 'wonderful aroma', 'wonderful blend', 'wonderful chocolate', 'wonderful coffee', 'wonderful dark', 'wonderful delicious', 'wonderful even', 'wonderful find', 'wonderful flavor', 'wonderful full', 'wonderful gift', 'wonderful good', 'wonderful great', 'wonderful healthy', 'wonderful highly', 'wonderful hot', 'wonderful however', 'wonderful job', 'wonderful light', 'wonderful like', 'wonderful little', 'wonderful love', 'wonderful natural', 'wonderful no', 'wonderful not', 'wonderful price', 'wonderful product', 'wonderful rich', 'wonderful smell', 'wonderful smooth', 'wonderful snack', 'wonderful stuff', 'wonderful taste', 'wonderful tastes', 'wonderful tasting', 'wonderful tasty', 'wonderful tea', 'wonderful texture', 'wonderful treat', 'wonderful use', 'wonderful used', 'wonderful way', 'wonderfully', 'wondering', 'wonders', 'wonka', 'wont', 'wont eat', 'wood', 'wooden', 'woods', 'woody', 'worcestershire', 'worcestershire sauce', 'word', 'word caution', 'word warning', 'wording', 'words', 'words not', 'wore', 'work', 'work also', 'work best', 'work better', 'work coffee', 'work day', 'work dog', 'work drink', 'work eat', 'work every', 'work everyone', 'work fine', 'work get', 'work go', 'work good', 'work great', 'work hard', 'work home', 'work keep', 'work like', 'work little', 'work love', 'work lunch', 'work much', 'work no', 'work not', 'work one', 'work perfectly', 'work really', 'work school', 'work snack', 'work taste', 'work time', 'work tried', 'work us', 'work use', 'work used', 'work way', 'work well', 'work without', 'work would', 'worked', 'worked better', 'worked fine', 'worked great', 'worked not', 'worked perfectly', 'worked well', 'worker', 'workers', 'working', 'working great', 'working not', 'working way', 'working well', 'workout', 'workouts', 'workplace', 'works', 'works advertised', 'works beautifully', 'works best', 'works better', 'works fine', 'works good', 'works great', 'works like', 'works much', 'works nicely', 'works not', 'works perfect', 'works perfectly', 'works really', 'works us', 'works well', 'works wonderfully', 'works wonders', 'world', 'world best', 'world difference', 'world market', 'world not', 'world taste', 'worlds', 'worms', 'worn', 'worried', 'worried might', 'worried would', 'worries', 'worry', 'worry much', 'worry running', 'worrying', 'worse', 'worse not', 'worst', 'worst coffee', 'worst ever', 'worst not', 'worst part', 'worst tasting', 'worst thing', 'worth', 'worth also', 'worth buy', 'worth buying', 'worth checking', 'worth cost', 'worth eating', 'worth effort', 'worth even', 'worth every', 'worth expense', 'worth extra', 'worth getting', 'worth giving', 'worth love', 'worth money', 'worth not', 'worth noting', 'worth ordering', 'worth paying', 'worth price', 'worth purchase', 'worth purchasing', 'worth shot', 'worth spending', 'worth taste', 'worth though', 'worth time', 'worth trouble', 'worth try', 'worth trying', 'worth wait', 'worthington', 'worthless', 'worthwhile', 'worthy', 'would', 'would able', 'would absolutely', 'would actually', 'would add', 'would advise', 'would agree', 'would almost', 'would also', 'would always', 'would anyone', 'would anything', 'would arrive', 'would assume', 'would avoid', 'would awesome', 'would bad', 'would benefit', 'would best', 'would bet', 'would better', 'would big', 'would bit', 'would bought', 'would break', 'would bring', 'would buy', 'would call', 'would carry', 'would cause', 'would certainly', 'would change', 'would check', 'would chew', 'would choose', 'would come', 'would compare', 'would consider', 'would continue', 'would cost', 'would could', 'would definately', 'would definitely', 'would describe', 'would disappointed', 'would drink', 'would easier', 'would easily', 'would easy', 'would eat', 'would encourage', 'would end', 'would enjoy', 'would enough', 'would even', 'would ever', 'would excellent', 'would expect', 'would expected', 'would fall', 'would far', 'would feed', 'would feel', 'would find', 'would fine', 'would fit', 'would found', 'would fun', 'would get', 'would getting', 'would give', 'would given', 'would gladly', 'would go', 'would gone', 'would good', 'would gotten', 'would great', 'would guess', 'would happen', 'would happy', 'would hard', 'would hate', 'would help', 'would helpful', 'would highly', 'would hold', 'would hope', 'would hoped', 'would ideal', 'would imagine', 'would keep', 'would know', 'would known', 'would last', 'would least', 'would leave', 'would less', 'would let', 'would like', 'would liked', 'would likely', 'would little', 'would look', 'would love', 'would loved', 'would made', 'would make', 'would mean', 'would mix', 'would much', 'would need', 'would never', 'would nice', 'would no', 'would normally', 'would not', 'would offer', 'would often', 'would ok', 'would one', 'would order', 'would ordered', 'would otherwise', 'would paid', 'would pass', 'would pay', 'would perfect', 'would pick', 'would prefer', 'would preferred', 'would pretty', 'would probably', 'would provide', 'would purchase', 'would purchased', 'would put', 'would rank', 'would rate', 'would rather', 'would read', 'would really', 'would receive', 'would recomend', 'would recommend', 'would recommended', 'would regular', 'would run', 'would save', 'would say', 'would see', 'would seem', 'would seen', 'would sell', 'would send', 'would sent', 'would serve', 'would ship', 'would similar', 'would sit', 'would something', 'would spend', 'would start', 'would stay', 'would stick', 'would still', 'would stock', 'would stop', 'would strongly', 'would suggest', 'would sure', 'would take', 'would taste', 'would tasty', 'would tell', 'would think', 'would thought', 'would throw', 'would totally', 'would tried', 'would try', 'would turn', 'would use', 'would used', 'would usually', 'would wait', 'would want', 'would well', 'would willing', 'would without', 'would wonderful', 'would work', 'would worth', 'would would', 'wouldnt', 'wound', 'wow', 'wow best', 'wow difference', 'wow good', 'wow great', 'wow love', 'wow not', 'wow really', 'wow stuff', 'wrap', 'wrap not', 'wrapped', 'wrapped around', 'wrapped bags', 'wrapped not', 'wrapped plastic', 'wrapper', 'wrapper not', 'wrappers', 'wrapping', 'wraps', 'wrigley', 'write', 'write home', 'write review', 'write reviews', 'writer', 'writes', 'writing', 'writing review', 'written', 'written review', 'wrong', 'wrong flavor', 'wrong good', 'wrong great', 'wrong item', 'wrong love', 'wrong not', 'wrong one', 'wrong product', 'wrong way', 'wrote', 'wrote review', 'ww', 'www', 'xanthan', 'xanthan gum', 'xd', 'xmas', 'xxx', 'xylitol', 'xylitol gum', 'xylitol not', 'ya', 'yahoo', 'yakisoba', 'yall', 'yam', 'yams', 'yard', 'yay', 'yea', 'yeah', 'yeah know', 'yeah not', 'year', 'year ago', 'year bought', 'year christmas', 'year could', 'year decided', 'year found', 'year great', 'year half', 'year later', 'year long', 'year no', 'year not', 'year old', 'year olds', 'year one', 'year really', 'year round', 'year still', 'year tried', 'year two', 'year use', 'year used', 'year would', 'year year', 'yearly', 'years', 'years absolutely', 'years age', 'years ago', 'years also', 'years always', 'years back', 'years best', 'years bought', 'years buying', 'years come', 'years could', 'years dogs', 'years drinking', 'years eating', 'years enjoy', 'years even', 'years every', 'years far', 'years favorite', 'years finally', 'years find', 'years first', 'years found', 'years get', 'years getting', 'years glad', 'years good', 'years got', 'years great', 'years know', 'years last', 'years later', 'years like', 'years local', 'years love', 'years loved', 'years never', 'years no', 'years not', 'years nothing', 'years old', 'years one', 'years ordered', 'years past', 'years really', 'years recently', 'years since', 'years started', 'years still', 'years think', 'years time', 'years tried', 'years trying', 'years use', 'years used', 'years using', 'years without', 'years would', 'years years', 'yeast', 'yeast extract', 'yeast not', 'yellow', 'yellow cake', 'yellow color', 'yellow corn', 'yellow lab', 'yellow not', 'yellow red', 'yellowish', 'yep', 'yerba', 'yerba mate', 'yes', 'yes expensive', 'yes good', 'yes know', 'yes not', 'yes one', 'yes price', 'yes really', 'yes taste', 'yes would', 'yesterday', 'yesterday not', 'yet', 'yet also', 'yet another', 'yet find', 'yet get', 'yet good', 'yet meet', 'yet not', 'yet smooth', 'yet still', 'yet sure', 'yet taste', 'yet think', 'yet though', 'yet tried', 'yet try', 'yield', 'yields', 'yikes', 'yo', 'yoga', 'yoghurt', 'yogi', 'yogi tea', 'yogi teas', 'yogurt', 'yogurt also', 'yogurt ice', 'yogurt not', 'yolk', 'york', 'york city', 'yorkie', 'yorkie loves', 'yorkies', 'yorkshire', 'yorkshire gold', 'yorkshire tea', 'yorkshire terrier', 'youll', 'young', 'young children', 'young coconut', 'young kids', 'younger', 'younger dog', 'youngest', 'youre', 'youth', 'youtube', 'yr', 'yr old', 'yrs', 'yrs ago', 'yrs old', 'yuban', 'yucateco', 'yuck', 'yuck not', 'yucky', 'yuk', 'yum', 'yum not', 'yum yum', 'yumm', 'yummier', 'yummiest', 'yumminess', 'yummy', 'yummy also', 'yummy earth', 'yummy even', 'yummy flavor', 'yummy good', 'yummy goodness', 'yummy great', 'yummy healthy', 'yummy like', 'yummy no', 'yummy not', 'yummy stuff', 'yummy treat', 'yummy would', 'yup', 'zealand', 'zen', 'zero', 'zero calorie', 'zero calories', 'zero carb', 'zero stars', 'zest', 'zesty', 'zevia', 'zhena', 'zico', 'zico coconut', 'zinc', 'zing', 'zinger', 'zip', 'zip bag', 'zip lock', 'zipfizz', 'ziploc', 'ziploc bag', 'ziplock', 'ziplock bag', 'zipper', 'zoe', 'zola', 'zone', 'zoo', 'zucchini', 'zuke', 'zukes']\n",
            "==================================================\n"
          ]
        }
      ]
    },
    {
      "cell_type": "code",
      "source": [
        "KNNtfidf = KNN(X_train_tfidf,y_train,X_test_tfidf,y_test)"
      ],
      "metadata": {
        "colab": {
          "base_uri": "https://localhost:8080/"
        },
        "id": "LgCb52nlpydG",
        "outputId": "c43ad2d1-7653-416e-8f8c-761fed234f14"
      },
      "execution_count": null,
      "outputs": [
        {
          "output_type": "stream",
          "name": "stdout",
          "text": [
            "\n",
            "The optimal number of neighbors is 21.\n"
          ]
        }
      ]
    },
    {
      "cell_type": "code",
      "source": [
        "knn = KNeighborsClassifier(n_neighbors=21)\n",
        "knn.fit(X_train_tfidf,y_train)\n",
        "y_pred = knn.predict(X_test_tfidf)\n",
        "print(\"Accuracy on test set: %0.3f%%\"%(accuracy_score(y_test, y_pred)*100))\n",
        "print(\"Precision on test set: %0.3f\"%(precision_score(y_test, y_pred,average='macro')))\n",
        "print(\"Recall on test set: %0.3f\"%(recall_score(y_test, y_pred,average='macro')))\n",
        "print(\"F1-Score on test set: %0.3f\"%(f1_score(y_test, y_pred,average='macro')))\n",
        "print(\"Confusion Matrix of test set:\\n [ [TN  FP]\\n [FN TP] ]\\n\")\n",
        "df_cm = pd.DataFrame(confusion_matrix(y_test, y_pred), range(2),range(2))\n",
        "sns.set(font_scale=1.4)#for label size\n",
        "sns.heatmap(df_cm, annot=True,annot_kws={\"size\": 16}, fmt='g')"
      ],
      "metadata": {
        "colab": {
          "base_uri": "https://localhost:8080/",
          "height": 429
        },
        "id": "5Qx4QvilqC9T",
        "outputId": "f012b0d6-7011-40e9-9b70-1e82c82e542b"
      },
      "execution_count": null,
      "outputs": [
        {
          "output_type": "stream",
          "name": "stdout",
          "text": [
            "Accuracy on test set: 86.581%\n",
            "Precision on test set: 0.861\n",
            "Recall on test set: 0.582\n",
            "F1-Score on test set: 0.605\n",
            "Confusion Matrix of test set:\n",
            " [ [TN  FP]\n",
            " [FN TP] ]\n",
            "\n"
          ]
        },
        {
          "output_type": "execute_result",
          "data": {
            "text/plain": [
              "<matplotlib.axes._subplots.AxesSubplot at 0x7f7a1cac3910>"
            ]
          },
          "metadata": {},
          "execution_count": 57
        },
        {
          "output_type": "display_data",
          "data": {
            "text/plain": [
              "<Figure size 432x288 with 2 Axes>"
            ],
            "image/png": "[encoded data removed]"
          },
          "metadata": {}
        }
      ]
    },
    {
      "cell_type": "markdown",
      "source": [
        "**Word2Vec**"
      ],
      "metadata": {
        "id": "jtTSzsdywGnu"
      }
    },
    {
      "cell_type": "code",
      "source": [
        "i=0\n",
        "sent_list_train=[]\n",
        "for sent in X_train:\n",
        "    sent_list_train.append(sent.split())\n",
        "\n",
        "i=0\n",
        "sent_list_test=[]\n",
        "for sent in X_test:\n",
        "    sent_list_test.append(sent.split())"
      ],
      "metadata": {
        "id": "Ao19LMOtwF29"
      },
      "execution_count": 47,
      "outputs": []
    },
    {
      "cell_type": "code",
      "source": [
        "w2v_model=Word2Vec(sent_list_train,min_count=5,size=50, workers=4)"
      ],
      "metadata": {
        "colab": {
          "base_uri": "https://localhost:8080/"
        },
        "id": "XwCt8AlywF6m",
        "outputId": "e3d28945-a02d-40ae-f867-bfac6ab7846d"
      },
      "execution_count": 48,
      "outputs": [
        {
          "output_type": "stream",
          "name": "stderr",
          "text": [
            "WARNING:gensim.models.base_any2vec:consider setting layer size to a multiple of 4 for greater performance\n"
          ]
        }
      ]
    },
    {
      "cell_type": "code",
      "source": [
        "w2v_words = list(w2v_model.wv.vocab)\n",
        "print(\"number of words that occured minimum 5 times \",len(w2v_words))\n",
        "print(\"sample words \", w2v_words[0:50])"
      ],
      "metadata": {
        "colab": {
          "base_uri": "https://localhost:8080/"
        },
        "id": "wKqf-IwHw4pc",
        "outputId": "0021bcb5-ffc2-43e1-d4ec-0603aa73eddf"
      },
      "execution_count": 49,
      "outputs": [
        {
          "output_type": "stream",
          "name": "stdout",
          "text": [
            "number of words that occured minimum 5 times  15545\n",
            "sample words  ['used', 'make', 'dinner', 'guests', 'perfect', 'shipped', 'quickly', 'safely', 'time', 'ordering', 'company', 'drink', 'black', 'coffee', 'usually', 'grind', 'beans', 'swing', 'starbucks', 'get', 'fix', 'figured', 'would', 'save', 'lot', 'money', 'go', 'instant', 'bought', 'recognized', 'brand', 'tried', 'version', 'acceptable', 'folgers', 'not', 'tastes', 'like', 'combination', 'oily', 'home', 'cleaning', 'liquid', 'please', 'amazon', 'trouble', 'return', 'look', 'elsewhere', 'item']\n"
          ]
        }
      ]
    },
    {
      "cell_type": "code",
      "source": [],
      "metadata": {
        "id": "zO0g4nruw4rg"
      },
      "execution_count": null,
      "outputs": []
    },
    {
      "cell_type": "code",
      "source": [],
      "metadata": {
        "id": "gG4g4tCvw4u6"
      },
      "execution_count": null,
      "outputs": []
    },
    {
      "cell_type": "markdown",
      "source": [
        "**Avg W2V**"
      ],
      "metadata": {
        "id": "cWek4tz8v_o_"
      }
    },
    {
      "cell_type": "code",
      "source": [
        "# average Word2Vec\n",
        "# compute average word2vec for each review.\n",
        "sent_vectors = []; # the avg-w2v for each sentence/review is stored in this list\n",
        "for sent in sent_list_train: # for each review/sentence\n",
        "    sent_vec = np.zeros(50) # as word vectors are of zero length\n",
        "    cnt_words =0; # num of words with a valid vector in the sentence/review\n",
        "    for word in sent: # for each word in a review/sentence\n",
        "        if word in w2v_words:\n",
        "            vec = w2v_model.wv[word]\n",
        "            sent_vec += vec\n",
        "            cnt_words += 1\n",
        "    if cnt_words != 0:\n",
        "        sent_vec /= cnt_words\n",
        "    sent_vectors.append(sent_vec)\n",
        "print(len(sent_vectors))\n",
        "print(len(sent_vectors[0]))"
      ],
      "metadata": {
        "colab": {
          "base_uri": "https://localhost:8080/"
        },
        "id": "QIqeYJbFqDAu",
        "outputId": "2d37e1e8-ade8-4100-aab6-b1be2f7f72cf"
      },
      "execution_count": 50,
      "outputs": [
        {
          "output_type": "stream",
          "name": "stdout",
          "text": [
            "64000\n",
            "50\n"
          ]
        }
      ]
    },
    {
      "cell_type": "code",
      "source": [
        "# average Word2Vec\n",
        "# compute average word2vec for each review.\n",
        "sent_vectors_test = []; # the avg-w2v for each sentence/review is stored in this list\n",
        "for sent in sent_list_test: # for each review/sentence\n",
        "    sent_vec = np.zeros(50) # as word vectors are of zero length\n",
        "    cnt_words =0; # num of words with a valid vector in the sentence/review\n",
        "    for word in sent: # for each word in a review/sentence\n",
        "        if word in w2v_words:\n",
        "            vec = w2v_model.wv[word]\n",
        "            sent_vec += vec\n",
        "            cnt_words += 1\n",
        "    if cnt_words != 0:\n",
        "        sent_vec /= cnt_words\n",
        "    sent_vectors_test.append(sent_vec)\n",
        "print(len(sent_vectors_test))\n",
        "print(len(sent_vectors_test[0]))"
      ],
      "metadata": {
        "colab": {
          "base_uri": "https://localhost:8080/"
        },
        "id": "U7IDOQtsxVCI",
        "outputId": "5a01da71-c4cc-4060-c619-e2b36401732d"
      },
      "execution_count": 51,
      "outputs": [
        {
          "output_type": "stream",
          "name": "stdout",
          "text": [
            "16000\n",
            "50\n"
          ]
        }
      ]
    },
    {
      "cell_type": "code",
      "source": [
        "X_test1=sent_vectors_test\n",
        "X_train1=sent_vectors"
      ],
      "metadata": {
        "id": "a-hmvHrkxVFk"
      },
      "execution_count": 52,
      "outputs": []
    },
    {
      "cell_type": "code",
      "source": [
        "KNNw2v= KNN(X_train1,y_train,X_test1,y_test)"
      ],
      "metadata": {
        "colab": {
          "base_uri": "https://localhost:8080/"
        },
        "id": "7MzS2gcVx31_",
        "outputId": "b8c442ee-afcd-41db-a3b6-0ce113306cc6"
      },
      "execution_count": null,
      "outputs": [
        {
          "output_type": "stream",
          "name": "stdout",
          "text": [
            "\n",
            "The optimal number of neighbors is 29.\n"
          ]
        }
      ]
    },
    {
      "cell_type": "code",
      "source": [
        "knn = KNeighborsClassifier(n_neighbors=29)\n",
        "knn.fit(X_train1,y_train)\n",
        "y_pred = knn.predict(X_test1)\n",
        "print(\"Accuracy on test set: %0.3f%%\"%(accuracy_score(y_test, y_pred)*100))\n",
        "print(\"Precision on test set: %0.3f\"%(precision_score(y_test, y_pred,average='macro')))\n",
        "print(\"Recall on test set: %0.3f\"%(recall_score(y_test, y_pred,average='macro')))\n",
        "print(\"F1-Score on test set: %0.3f\"%(f1_score(y_test, y_pred,average='macro')))\n",
        "print(\"Confusion Matrix of test set:\\n [ [TN  FP]\\n [FN TP] ]\\n\")\n",
        "df_cm = pd.DataFrame(confusion_matrix(y_test, y_pred), range(2),range(2))\n",
        "sns.set(font_scale=1.4)#for label size\n",
        "sns.heatmap(df_cm, annot=True,annot_kws={\"size\": 16}, fmt='g')"
      ],
      "metadata": {
        "id": "EUIDW2tix34L",
        "colab": {
          "base_uri": "https://localhost:8080/",
          "height": 429
        },
        "outputId": "4f823d03-c568-421a-aa83-8bed3c0b6813"
      },
      "execution_count": null,
      "outputs": [
        {
          "output_type": "stream",
          "name": "stdout",
          "text": [
            "Accuracy on test set: 87.987%\n",
            "Precision on test set: 0.836\n",
            "Recall on test set: 0.651\n",
            "F1-Score on test set: 0.693\n",
            "Confusion Matrix of test set:\n",
            " [ [TN  FP]\n",
            " [FN TP] ]\n",
            "\n"
          ]
        },
        {
          "output_type": "execute_result",
          "data": {
            "text/plain": [
              "<matplotlib.axes._subplots.AxesSubplot at 0x7f8bf6c7af90>"
            ]
          },
          "metadata": {},
          "execution_count": 51
        },
        {
          "output_type": "display_data",
          "data": {
            "text/plain": [
              "<Figure size 432x288 with 2 Axes>"
            ],
            "image/png": "[encoded data removed]"
          },
          "metadata": {}
        }
      ]
    },
    {
      "cell_type": "markdown",
      "source": [
        "**Conclusion From KNN Classifier**"
      ],
      "metadata": {
        "id": "7nq4f3GPUt-A"
      }
    },
    {
      "cell_type": "markdown",
      "source": [],
      "metadata": {
        "id": "5_WWJ_t_UyJY"
      }
    },
    {
      "cell_type": "markdown",
      "source": [
        "**Multinomial Naive Bayes Classifier**"
      ],
      "metadata": {
        "id": "z3S0HwFiUfwc"
      }
    },
    {
      "cell_type": "code",
      "source": [
        "from sklearn.naive_bayes import MultinomialNB\n",
        "NB = MultinomialNB()"
      ],
      "metadata": {
        "id": "005ybRanx37u"
      },
      "execution_count": null,
      "outputs": []
    },
    {
      "cell_type": "markdown",
      "source": [
        "**Finding the optimal Alpha Using Gridsearch**"
      ],
      "metadata": {
        "id": "f5_HcePSRDYv"
      }
    },
    {
      "cell_type": "code",
      "source": [
        "def NB(Xtr,Ytr,Xte,Yte):\n",
        "  NB = MultinomialNB()\n",
        "  alpha_value = {'alpha':[1000,500,100,50,10,5,1,0.5,0.1,0.05,0.01,0.005]} #params we need to try on classifier\n",
        "  gsv = GridSearchCV(NB,alpha_value,cv=5,verbose=1,scoring='f1_micro')\n",
        "  gsv.fit(Xtr,Ytr)\n",
        "  print(\"Best HyperParameter: \",gsv.best_params_)\n",
        "  print(gsv.best_score_)\n",
        "  optimal_alpha=gsv.best_params_['alpha']\n",
        "\n",
        "  return optimal_alpha"
      ],
      "metadata": {
        "id": "L6UeVpt1LI_S"
      },
      "execution_count": null,
      "outputs": []
    },
    {
      "cell_type": "markdown",
      "source": [
        "**Bag of Words**"
      ],
      "metadata": {
        "id": "bXGH3sg9RKGT"
      }
    },
    {
      "cell_type": "code",
      "source": [
        "NB_BOW = NB(X_train_bow,y_train,X_test_bow,y_test)"
      ],
      "metadata": {
        "colab": {
          "base_uri": "https://localhost:8080/"
        },
        "id": "pz5yyVsuRG6-",
        "outputId": "89cb3e44-6a71-4f08-8635-75a241ed0672"
      },
      "execution_count": null,
      "outputs": [
        {
          "output_type": "stream",
          "name": "stdout",
          "text": [
            "Fitting 5 folds for each of 12 candidates, totalling 60 fits\n",
            "Best HyperParameter:  {'alpha': 1}\n",
            "0.9000625000000001\n"
          ]
        }
      ]
    },
    {
      "cell_type": "markdown",
      "source": [
        "**Finding the F1Score of Test data using optimal alpha**"
      ],
      "metadata": {
        "id": "p63FJ0fjTWQO"
      }
    },
    {
      "cell_type": "code",
      "source": [
        "def NBBOW_F1(Xtr,Ytr,Xte,Yte):\n",
        "  NB = MultinomialNB(alpha=1)\n",
        "  NB.fit(Xtr,Ytr)\n",
        "  y_pred = NB.predict(Xte)\n",
        "  print(\"Accuracy on test set: %0.3f%%\"%(accuracy_score(Yte, y_pred)*100))\n",
        "  print(\"Precision on test set: %0.3f\"%(precision_score(Yte, y_pred,average='macro')))\n",
        "  print(\"Recall on test set: %0.3f\"%(recall_score(Yte, y_pred,average='macro')))\n",
        "  print(\"F1-Score on test set: %0.3f\"%(f1_score(Yte, y_pred,average='macro')))\n",
        "  df_cm = pd.DataFrame(confusion_matrix(Yte, y_pred), range(2),range(2))\n",
        "  sns.set(font_scale=1.4)#for label size\n",
        "  sns.heatmap(df_cm, annot=True,annot_kws={\"size\": 16}, fmt='g')"
      ],
      "metadata": {
        "id": "rnl90rvTRG-h"
      },
      "execution_count": null,
      "outputs": []
    },
    {
      "cell_type": "code",
      "source": [
        "NBbow = NBBOW_F1(X_train_bow,y_train,X_test_bow,y_test)"
      ],
      "metadata": {
        "colab": {
          "base_uri": "https://localhost:8080/",
          "height": 342
        },
        "id": "CgFCBf-DQDTS",
        "outputId": "d6309cd5-6846-4b87-f489-d9bf8abe565c"
      },
      "execution_count": null,
      "outputs": [
        {
          "output_type": "stream",
          "name": "stdout",
          "text": [
            "Accuracy on test set: 91.056%\n",
            "Precision on test set: 0.851\n",
            "Recall on test set: 0.787\n",
            "F1-Score on test set: 0.814\n"
          ]
        },
        {
          "output_type": "display_data",
          "data": {
            "text/plain": [
              "<Figure size 432x288 with 2 Axes>"
            ],
            "image/png": "[encoded data removed]"
          },
          "metadata": {}
        }
      ]
    },
    {
      "cell_type": "markdown",
      "source": [
        "**TF IDF**"
      ],
      "metadata": {
        "id": "x4ltOcdddIyX"
      }
    },
    {
      "cell_type": "code",
      "source": [
        "NB_tfidf = NB(X_train_tfidf,y_train,X_test_tfidf,y_test)"
      ],
      "metadata": {
        "id": "6usFRAytUeGC",
        "colab": {
          "base_uri": "https://localhost:8080/"
        },
        "outputId": "5571a56f-c0a4-4393-b25c-8f6b5dbb8f58"
      },
      "execution_count": null,
      "outputs": [
        {
          "output_type": "stream",
          "name": "stdout",
          "text": [
            "Fitting 5 folds for each of 12 candidates, totalling 60 fits\n",
            "Best HyperParameter:  {'alpha': 0.1}\n",
            "0.912109375\n"
          ]
        }
      ]
    },
    {
      "cell_type": "markdown",
      "source": [
        "**Finding the F1Score of Test data using optimal alpha**"
      ],
      "metadata": {
        "id": "1CiLMjM1eL4v"
      }
    },
    {
      "cell_type": "code",
      "source": [
        "def NBtfidf_F1(Xtr,Ytr,Xte,Yte):\n",
        "  NB = MultinomialNB(alpha=0.1)\n",
        "  NB.fit(Xtr,Ytr)\n",
        "  y_pred = NB.predict(Xte)\n",
        "  print(\"Accuracy on test set: %0.3f%%\"%(accuracy_score(Yte, y_pred)*100))\n",
        "  print(\"Precision on test set: %0.3f\"%(precision_score(Yte, y_pred,average='macro')))\n",
        "  print(\"Recall on test set: %0.3f\"%(recall_score(Yte, y_pred,average='macro')))\n",
        "  print(\"F1-Score on test set: %0.3f\"%(f1_score(Yte, y_pred,average='macro')))\n",
        "  df_cm = pd.DataFrame(confusion_matrix(Yte, y_pred), range(2),range(2))\n",
        "  sns.set(font_scale=1.4)#for label size\n",
        "  sns.heatmap(df_cm, annot=True,annot_kws={\"size\": 16}, fmt='g')"
      ],
      "metadata": {
        "id": "D4kzLFr7UeIk"
      },
      "execution_count": null,
      "outputs": []
    },
    {
      "cell_type": "code",
      "source": [
        "NBtfidf_f1 = NBtfidf_F1(X_train_tfidf,y_train,X_test_tfidf,y_test)"
      ],
      "metadata": {
        "id": "j5uUz6MFUeLZ",
        "colab": {
          "base_uri": "https://localhost:8080/",
          "height": 342
        },
        "outputId": "bbe57bbc-b64d-4161-f364-dff8275966dd"
      },
      "execution_count": null,
      "outputs": [
        {
          "output_type": "stream",
          "name": "stdout",
          "text": [
            "Accuracy on test set: 91.119%\n",
            "Precision on test set: 0.903\n",
            "Recall on test set: 0.740\n",
            "F1-Score on test set: 0.791\n"
          ]
        },
        {
          "output_type": "display_data",
          "data": {
            "text/plain": [
              "<Figure size 432x288 with 2 Axes>"
            ],
            "image/png": "[encoded data removed]"
          },
          "metadata": {}
        }
      ]
    },
    {
      "cell_type": "markdown",
      "source": [
        "**Conclusion**"
      ],
      "metadata": {
        "id": "vCpFkFATfmc8"
      }
    },
    {
      "cell_type": "markdown",
      "source": [
        "**Logistic Regression** "
      ],
      "metadata": {
        "id": "6C9B-Ybqfs42"
      }
    },
    {
      "cell_type": "code",
      "source": [
        "def lr(Xtr,Ytr,Xte,Yt):\n",
        "  LR = LogisticRegression(penalty='l2')\n",
        "  C_value = [{'C': [10**-4, 10**-2, 10**0, 10**2, 10**4]}]\n",
        "  gsv = GridSearchCV(LR,C_value,cv=5,verbose=1,scoring='f1_weighted',n_jobs=-1)\n",
        "  gsv.fit(Xtr,y_train)\n",
        "  print(\"Best HyperParameter: \",gsv.best_params_)\n",
        "  print(gsv.best_score_)\n",
        "  optimal_C=gsv.best_score_\n",
        "  return optimal_C"
      ],
      "metadata": {
        "id": "t_rYrWXXfjN6"
      },
      "execution_count": 53,
      "outputs": []
    },
    {
      "cell_type": "code",
      "source": [
        "LR = lr(X_train_bow,y_train,X_test_bow,y_test)"
      ],
      "metadata": {
        "colab": {
          "base_uri": "https://localhost:8080/"
        },
        "id": "UjVFfkjJkzEE",
        "outputId": "230bff9d-319d-4567-8949-11f1d96c96fe"
      },
      "execution_count": 83,
      "outputs": [
        {
          "output_type": "stream",
          "name": "stdout",
          "text": [
            "Fitting 5 folds for each of 5 candidates, totalling 25 fits\n",
            "Best HyperParameter:  {'C': 1}\n",
            "0.9161784632960652\n"
          ]
        }
      ]
    },
    {
      "cell_type": "markdown",
      "source": [
        "**Unigram and finding the accuracy,F1-score in Test data using optimal C**"
      ],
      "metadata": {
        "id": "UFetKE59jeH_"
      }
    },
    {
      "cell_type": "code",
      "source": [
        "def lruni(Xtr,Ytr,Xte,Yte):\n",
        "  LR= LogisticRegression(penalty='l2',C=1)\n",
        "  LR.fit(Xtr,Ytr)\n",
        "  y_pred =LR.predict(Xte)\n",
        "  print(\"Accuracy on test set: %0.3f%%\"%(accuracy_score(Yte, y_pred)*100))\n",
        "  print(\"Precision on test set: %0.3f\"%(precision_score(Yte, y_pred,average='macro')))\n",
        "  print(\"Recall on test set: %0.3f\"%(recall_score(Yte, y_pred,average='macro')))\n",
        "  print(\"F1-Score on test set: %0.3f\"%(f1_score(Yte, y_pred,average='macro')))\n",
        "  df_cm = pd.DataFrame(confusion_matrix(Yte, y_pred), range(2),range(2))\n",
        "  sns.set(font_scale=1.4)#for label size\n",
        "  sns.heatmap(df_cm, annot=True,annot_kws={\"size\": 16}, fmt='g')"
      ],
      "metadata": {
        "id": "zkRbL6p3fjP1"
      },
      "execution_count": null,
      "outputs": []
    },
    {
      "cell_type": "code",
      "source": [
        "lrbow = lruni(X_train_bow,y_train,X_test_bow,y_test)"
      ],
      "metadata": {
        "colab": {
          "base_uri": "https://localhost:8080/",
          "height": 342
        },
        "id": "0qCR6qwrfjSB",
        "outputId": "4fd19209-50c8-48ad-d90d-481e0551d452"
      },
      "execution_count": null,
      "outputs": [
        {
          "output_type": "stream",
          "name": "stdout",
          "text": [
            "Accuracy on test set: 92.138%\n",
            "Precision on test set: 0.865\n",
            "Recall on test set: 0.823\n",
            "F1-Score on test set: 0.842\n"
          ]
        },
        {
          "output_type": "display_data",
          "data": {
            "text/plain": [
              "<Figure size 432x288 with 2 Axes>"
            ],
            "image/png": "[encoded data removed]"
          },
          "metadata": {}
        }
      ]
    },
    {
      "cell_type": "markdown",
      "source": [
        "**TFIDF**"
      ],
      "metadata": {
        "id": "looKEUdPkosl"
      }
    },
    {
      "cell_type": "code",
      "source": [
        "LR = lr(X_train_tfidf,y_train,X_test_tfidf,y_test)"
      ],
      "metadata": {
        "colab": {
          "base_uri": "https://localhost:8080/"
        },
        "id": "QiFRAjrykpB5",
        "outputId": "9e5b0e4e-937a-4b9b-e145-dae62765266b"
      },
      "execution_count": 84,
      "outputs": [
        {
          "output_type": "stream",
          "name": "stdout",
          "text": [
            "Fitting 5 folds for each of 5 candidates, totalling 25 fits\n",
            "Best HyperParameter:  {'C': 100}\n",
            "0.9285893925125819\n"
          ]
        }
      ]
    },
    {
      "cell_type": "markdown",
      "source": [
        "**finding the accuracy,F1-score in Test data using optimal C**"
      ],
      "metadata": {
        "id": "mv3A2hAblZO7"
      }
    },
    {
      "cell_type": "code",
      "source": [
        "def lrtfidf(Xtr,Ytr,Xte,Yte):\n",
        "  LR= LogisticRegression(penalty='l2',C=100)\n",
        "  LR.fit(Xtr,Ytr)\n",
        "  y_pred =LR.predict(Xte)\n",
        "  print(\"Accuracy on test set: %0.3f%%\"%(accuracy_score(Yte, y_pred)*100))\n",
        "  print(\"Precision on test set: %0.3f\"%(precision_score(Yte, y_pred,average='macro')))\n",
        "  print(\"Recall on test set: %0.3f\"%(recall_score(Yte, y_pred,average='macro')))\n",
        "  print(\"F1-Score on test set: %0.3f\"%(f1_score(Yte, y_pred,average='macro')))\n",
        "  df_cm = pd.DataFrame(confusion_matrix(Yte, y_pred), range(2),range(2))\n",
        "  sns.set(font_scale=1.4)#for label size\n",
        "  sns.heatmap(df_cm, annot=True,annot_kws={\"size\": 16}, fmt='g')"
      ],
      "metadata": {
        "id": "W5SlslL6kpFb"
      },
      "execution_count": 85,
      "outputs": []
    },
    {
      "cell_type": "code",
      "source": [
        "LRIDFDF = lrtfidf(X_train_tfidf,y_train,X_test_tfidf,y_test)"
      ],
      "metadata": {
        "colab": {
          "base_uri": "https://localhost:8080/",
          "height": 342
        },
        "id": "53oxsl_7lFyc",
        "outputId": "675fe263-e7a0-4dd3-8ca9-c44840703564"
      },
      "execution_count": 86,
      "outputs": [
        {
          "output_type": "stream",
          "name": "stdout",
          "text": [
            "Accuracy on test set: 93.212%\n",
            "Precision on test set: 0.882\n",
            "Recall on test set: 0.853\n",
            "F1-Score on test set: 0.866\n"
          ]
        },
        {
          "output_type": "display_data",
          "data": {
            "text/plain": [
              "<Figure size 432x288 with 2 Axes>"
            ],
            "image/png": "[encoded data removed]"
          },
          "metadata": {}
        }
      ]
    },
    {
      "cell_type": "markdown",
      "source": [
        "**Avg W2V**"
      ],
      "metadata": {
        "id": "0UBMac5ll2ou"
      }
    },
    {
      "cell_type": "code",
      "source": [
        "LRw2v= lr(X_train1,y_train,X_test1,y_test)"
      ],
      "metadata": {
        "colab": {
          "base_uri": "https://localhost:8080/"
        },
        "id": "NyjM0OEAkiEN",
        "outputId": "79b5bd63-d815-4f06-e222-4af78f6961bd"
      },
      "execution_count": null,
      "outputs": [
        {
          "output_type": "stream",
          "name": "stdout",
          "text": [
            "Fitting 5 folds for each of 5 candidates, totalling 25 fits\n",
            "Best HyperParameter:  {'C': 100}\n",
            "0.8822894374192805\n"
          ]
        }
      ]
    },
    {
      "cell_type": "code",
      "source": [
        "def LRW2V_F1(Xtr,Ytr,Xte,Yte):\n",
        "  LR= LogisticRegression(penalty='l2',C=100)\n",
        "  LR.fit(Xtr,Ytr)\n",
        "  y_pred =LR.predict(Xte)\n",
        "  print(\"Accuracy on test set: %0.3f%%\"%(accuracy_score(Yte, y_pred)*100))\n",
        "  print(\"Precision on test set: %0.3f\"%(precision_score(Yte, y_pred,average='macro')))\n",
        "  print(\"Recall on test set: %0.3f\"%(recall_score(Yte, y_pred,average='macro')))\n",
        "  print(\"F1-Score on test set: %0.3f\"%(f1_score(Yte, y_pred,average='macro')))\n",
        "  df_cm = pd.DataFrame(confusion_matrix(Yte, y_pred), range(2),range(2))\n",
        "  sns.set(font_scale=1.4)#for label size\n",
        "  sns.heatmap(df_cm, annot=True,annot_kws={\"size\": 16}, fmt='g')"
      ],
      "metadata": {
        "id": "aUjeIsHQkiIA"
      },
      "execution_count": null,
      "outputs": []
    },
    {
      "cell_type": "code",
      "source": [
        "lrw2v = LRW2V_F1(X_train1,y_train,X_test1,y_test)"
      ],
      "metadata": {
        "colab": {
          "base_uri": "https://localhost:8080/",
          "height": 342
        },
        "id": "byHPU1RXmRBS",
        "outputId": "21dc580c-3fa1-49f2-869c-874d176f247b"
      },
      "execution_count": null,
      "outputs": [
        {
          "output_type": "stream",
          "name": "stdout",
          "text": [
            "Accuracy on test set: 89.100%\n",
            "Precision on test set: 0.818\n",
            "Recall on test set: 0.726\n",
            "F1-Score on test set: 0.760\n"
          ]
        },
        {
          "output_type": "display_data",
          "data": {
            "text/plain": [
              "<Figure size 432x288 with 2 Axes>"
            ],
            "image/png": "[encoded data removed]"
          },
          "metadata": {}
        }
      ]
    },
    {
      "cell_type": "markdown",
      "source": [
        "**Gradient Boosting Classifer**"
      ],
      "metadata": {
        "id": "zLyZTjOim8Oc"
      }
    },
    {
      "cell_type": "markdown",
      "source": [
        "**TFIDF**"
      ],
      "metadata": {
        "id": "Tpbfab-TsZcZ"
      }
    },
    {
      "cell_type": "code",
      "source": [
        "from sklearn.ensemble import GradientBoostingClassifier"
      ],
      "metadata": {
        "id": "hrAWJyO2zw4l"
      },
      "execution_count": 54,
      "outputs": []
    },
    {
      "cell_type": "code",
      "source": [
        "def gbc(Xtr,Ytr,Xte,Yte):\n",
        "  nEstimator = [60,70,80,90,100,200]\n",
        "  learningRate= [1,0.5,0.1,0.05,0.01,0.005,0.001]\n",
        "\n",
        "  GBC = GradientBoostingClassifier()\n",
        "  hyperParam = [{'n_estimators':nEstimator,'learning_rate': learningRate}]\n",
        "  gsv = GridSearchCV(GBC,hyperParam,cv=5,verbose=1,scoring='f1_weighted',n_jobs=-1)\n",
        "  gsv.fit(Xtr,Ytr)\n",
        "  print(\"Best HyperParameter: \",gsv.best_params_)"
      ],
      "metadata": {
        "id": "pwly1d34mRGw"
      },
      "execution_count": 55,
      "outputs": []
    },
    {
      "cell_type": "code",
      "source": [
        "gbtfidf = gbc(X_train_tfidf,y_train,X_test_tfidf,y_test)"
      ],
      "metadata": {
        "colab": {
          "base_uri": "https://localhost:8080/"
        },
        "id": "89kiVE_9qy8s",
        "outputId": "5aed34fa-72b8-4294-e425-b6754b56ae52"
      },
      "execution_count": 56,
      "outputs": [
        {
          "output_type": "stream",
          "name": "stdout",
          "text": [
            "Fitting 5 folds for each of 42 candidates, totalling 210 fits\n",
            "Best HyperParameter:  {'learning_rate': 0.5, 'n_estimators': 200}\n"
          ]
        }
      ]
    },
    {
      "cell_type": "markdown",
      "source": [
        "**finding the accuracy,F1-score in Test data using optimal nEstimator and Learning_rate**"
      ],
      "metadata": {
        "id": "njPrkvt8qX9G"
      }
    },
    {
      "cell_type": "code",
      "source": [
        "def gbctfidf(Xtr,Ytr,Xte,Yte):\n",
        "  GBC= GradientBoostingClassifier(learning_rate=0.5,n_estimators=200)\n",
        "  GBC.fit(Xtr,Ytr)\n",
        "  y_pred =GBC.predict(Xte)\n",
        "  print(\"Accuracy on test set: %0.3f%%\"%(accuracy_score(Yte, y_pred)*100))\n",
        "  print(\"Precision on test set: %0.3f\"%(precision_score(Yte, y_pred,average='macro')))\n",
        "  print(\"Recall on test set: %0.3f\"%(recall_score(Yte, y_pred,average='macro')))\n",
        "  print(\"F1-Score on test set: %0.3f\"%(f1_score(Yte, y_pred,average='macro')))\n",
        "  df_cm = pd.DataFrame(confusion_matrix(Yte, y_pred), range(2),range(2))\n",
        "  sns.set(font_scale=1.4)#for label size\n",
        "  sns.heatmap(df_cm, annot=True,annot_kws={\"size\": 16}, fmt='g')"
      ],
      "metadata": {
        "id": "-0G_cTkzqU9L"
      },
      "execution_count": 57,
      "outputs": []
    },
    {
      "cell_type": "code",
      "source": [
        "gbc1 = gbctfidf(X_train_tfidf,y_train,X_test_tfidf,y_test)"
      ],
      "metadata": {
        "id": "NtBIilDsqVAy",
        "colab": {
          "base_uri": "https://localhost:8080/",
          "height": 342
        },
        "outputId": "36ebc706-3e89-4758-cdc6-0e0f92fa8229"
      },
      "execution_count": 63,
      "outputs": [
        {
          "output_type": "stream",
          "name": "stdout",
          "text": [
            "Accuracy on test set: 91.088%\n",
            "Precision on test set: 0.866\n",
            "Recall on test set: 0.769\n",
            "F1-Score on test set: 0.806\n"
          ]
        },
        {
          "output_type": "display_data",
          "data": {
            "text/plain": [
              "<Figure size 432x288 with 2 Axes>"
            ],
            "image/png": "[encoded data removed]"
          },
          "metadata": {}
        }
      ]
    },
    {
      "cell_type": "markdown",
      "source": [
        "**Avg W2V**"
      ],
      "metadata": {
        "id": "rUzaGlkWsWAs"
      }
    },
    {
      "cell_type": "code",
      "source": [
        "def gbcw2v(Xtr,Ytr,Xte,Yte):\n",
        "  GBC= GradientBoostingClassifier(learning_rate=0.5,n_estimators=200)\n",
        "  GBC.fit(Xtr,Ytr)\n",
        "  y_pred =GBC.predict(Xte)\n",
        "  print(\"Accuracy on test set: %0.3f%%\"%(accuracy_score(Yte, y_pred)*100))\n",
        "  print(\"Precision on test set: %0.3f\"%(precision_score(Yte, y_pred,average='macro')))\n",
        "  print(\"Recall on test set: %0.3f\"%(recall_score(Yte, y_pred,average='macro')))\n",
        "  print(\"F1-Score on test set: %0.3f\"%(f1_score(Yte, y_pred,average='macro')))\n",
        "  df_cm = pd.DataFrame(confusion_matrix(Yte, y_pred), range(2),range(2))\n",
        "  sns.set(font_scale=1.4)#for label size\n",
        "  sns.heatmap(df_cm, annot=True,annot_kws={\"size\": 16}, fmt='g')"
      ],
      "metadata": {
        "id": "aV568I2lkNRN"
      },
      "execution_count": 65,
      "outputs": []
    },
    {
      "cell_type": "code",
      "source": [
        "gbcw2v1 = gbcw2v(X_train1,y_train,X_test1,y_test)"
      ],
      "metadata": {
        "id": "X7jzT58rsVGu",
        "colab": {
          "base_uri": "https://localhost:8080/",
          "height": 342
        },
        "outputId": "fc5d0254-da39-4a6b-e44f-eb037fde6a8b"
      },
      "execution_count": 66,
      "outputs": [
        {
          "output_type": "stream",
          "name": "stdout",
          "text": [
            "Accuracy on test set: 88.819%\n",
            "Precision on test set: 0.804\n",
            "Recall on test set: 0.734\n",
            "F1-Score on test set: 0.761\n"
          ]
        },
        {
          "output_type": "display_data",
          "data": {
            "text/plain": [
              "<Figure size 432x288 with 2 Axes>"
            ],
            "image/png": "[encoded data removed]"
          },
          "metadata": {}
        }
      ]
    },
    {
      "cell_type": "markdown",
      "source": [
        "**LSTM**"
      ],
      "metadata": {
        "id": "SBXUQftDb3MC"
      }
    },
    {
      "cell_type": "code",
      "source": [
        "from keras.models import Sequential\n",
        "from keras.layers import Dense\n",
        "import warnings\n",
        "from sklearn.exceptions import DataConversionWarning\n",
        "warnings.filterwarnings(action='ignore', category=DataConversionWarning)\n",
        "from tensorflow.keras.models import Sequential\n",
        "from tensorflow.keras.layers import Embedding\n",
        "from keras.preprocessing import sequence\n",
        "from keras.preprocessing.text import Tokenizer\n",
        "from keras_preprocessing.sequence import pad_sequences\n",
        "\n",
        "\n",
        "from keras.layers import LSTM\n",
        "np.random.seed(7)"
      ],
      "metadata": {
        "id": "fSH_78RwbWQi"
      },
      "execution_count": 70,
      "outputs": []
    },
    {
      "cell_type": "code",
      "source": [
        "### Create sequence\n",
        "vocabulary_size = 20000\n",
        "tokenizer = Tokenizer(num_words= vocabulary_size)\n",
        "tokenizer.fit_on_texts(x)\n",
        "sequences = tokenizer.texts_to_sequences(x)\n",
        "data = pad_sequences(sequences, maxlen=50)\n",
        "\n",
        "\n",
        "x_train,x_test,y_train,y_test=train_test_split(data, y, test_size=0.2,shuffle=False)"
      ],
      "metadata": {
        "id": "wbEvEkIebWSb"
      },
      "execution_count": 44,
      "outputs": []
    },
    {
      "cell_type": "code",
      "source": [
        "max_review_length = 600\n",
        "X_train = pad_sequences(x_train, maxlen=max_review_length)\n",
        "X_test = pad_sequences(x_test, maxlen=max_review_length)\n",
        "\n",
        "print(X_train.shape)\n",
        "print(X_train[1])"
      ],
      "metadata": {
        "colab": {
          "base_uri": "https://localhost:8080/"
        },
        "id": "Dk__cJX6bWUt",
        "outputId": "172f167a-b1ab-4f56-eaec-f062def0b4e6"
      },
      "execution_count": 52,
      "outputs": [
        {
          "output_type": "stream",
          "name": "stdout",
          "text": [
            "(64000, 600)\n",
            "[    0     0     0     0     0     0     0     0     0     0     0     0\n",
            "     0     0     0     0     0     0     0     0     0     0     0     0\n",
            "     0     0     0     0     0     0     0     0     0     0     0     0\n",
            "     0     0     0     0     0     0     0     0     0     0     0     0\n",
            "     0     0     0     0     0     0     0     0     0     0     0     0\n",
            "     0     0     0     0     0     0     0     0     0     0     0     0\n",
            "     0     0     0     0     0     0     0     0     0     0     0     0\n",
            "     0     0     0     0     0     0     0     0     0     0     0     0\n",
            "     0     0     0     0     0     0     0     0     0     0     0     0\n",
            "     0     0     0     0     0     0     0     0     0     0     0     0\n",
            "     0     0     0     0     0     0     0     0     0     0     0     0\n",
            "     0     0     0     0     0     0     0     0     0     0     0     0\n",
            "     0     0     0     0     0     0     0     0     0     0     0     0\n",
            "     0     0     0     0     0     0     0     0     0     0     0     0\n",
            "     0     0     0     0     0     0     0     0     0     0     0     0\n",
            "     0     0     0     0     0     0     0     0     0     0     0     0\n",
            "     0     0     0     0     0     0     0     0     0     0     0     0\n",
            "     0     0     0     0     0     0     0     0     0     0     0     0\n",
            "     0     0     0     0     0     0     0     0     0     0     0     0\n",
            "     0     0     0     0     0     0     0     0     0     0     0     0\n",
            "     0     0     0     0     0     0     0     0     0     0     0     0\n",
            "     0     0     0     0     0     0     0     0     0     0     0     0\n",
            "     0     0     0     0     0     0     0     0     0     0     0     0\n",
            "     0     0     0     0     0     0     0     0     0     0     0     0\n",
            "     0     0     0     0     0     0     0     0     0     0     0     0\n",
            "     0     0     0     0     0     0     0     0     0     0     0     0\n",
            "     0     0     0     0     0     0     0     0     0     0     0     0\n",
            "     0     0     0     0     0     0     0     0     0     0     0     0\n",
            "     0     0     0     0     0     0     0     0     0     0     0     0\n",
            "     0     0     0     0     0     0     0     0     0     0     0     0\n",
            "     0     0     0     0     0     0     0     0     0     0     0     0\n",
            "     0     0     0     0     0     0     0     0     0     0     0     0\n",
            "     0     0     0     0     0     0     0     0     0     0     0     0\n",
            "     0     0     0     0     0     0     0     0     0     0     0     0\n",
            "     0     0     0     0     0     0     0     0     0     0     0     0\n",
            "     0     0     0     0     0     0     0     0     0     0     0     0\n",
            "     0     0     0     0     0     0     0     0     0     0     0     0\n",
            "     0     0     0     0     0     0     0     0     0     0     0     0\n",
            "     0     0     0     0     0     0     0     0     0     0     0     0\n",
            "     0     0     0     0     0     0     0     0     0     0     0     0\n",
            "     0     0     0     0     0     0     0     0     0     0     0     0\n",
            "     0     0     0     0     0     0     0     0     0     0     0     0\n",
            "     0     0     0     0     0     0     0     0     0     0     0     0\n",
            "     0     0     0     0     0     0     0     0     0     0     0     0\n",
            "     0     0     0     0     0     0     0     0     0     0     0     0\n",
            "     0     0     0     0     0     0     0     0     0     0     0     0\n",
            "     0     0     0     0     0     0     0     0     0     0     0     0\n",
            "     0     0     0     0     0    80   414  1534  1603  5254     1  2433\n",
            "   669 17183  4116   449  2529   767    27  1534  3922    82  5514   140\n",
            "  5007   217  8537  7151   403  2847    72 12617   403   813 17183  4116]\n"
          ]
        }
      ]
    },
    {
      "cell_type": "code",
      "source": [
        "def plt_dynamic(x, vy, ty):\n",
        "    plt.figure(figsize=(10,5))\n",
        "    plt.plot(x, vy, 'b', label=\"Validation Loss\")\n",
        "    plt.plot(x, ty, 'r', label=\"Train Loss\")\n",
        "    plt.xlabel('Epochs') \n",
        "    plt.ylabel('Binary Crossentropy Loss')\n",
        "    plt.title('\\nBinary Crossentropy Loss VS Epochs')\n",
        "    plt.legend()\n",
        "    plt.grid()\n",
        "    plt.show()"
      ],
      "metadata": {
        "id": "XlOv0t2MbWWx"
      },
      "execution_count": 53,
      "outputs": []
    },
    {
      "cell_type": "code",
      "source": [
        "from sklearn.preprocessing import LabelEncoder\n",
        "from tensorflow.keras.layers import Dense\n",
        "from tensorflow.keras.layers import Dropout"
      ],
      "metadata": {
        "id": "ETwjFtVIkEtu"
      },
      "execution_count": 60,
      "outputs": []
    },
    {
      "cell_type": "code",
      "source": [
        "def labelEncoded(Y):\n",
        "    encoder = LabelEncoder()\n",
        "    encoder.fit(Y)\n",
        "    encoded_Y = encoder.transform(Y)\n",
        "    return encoded_Y\n",
        "\n",
        "y_test=labelEncoded(y_test)\n",
        "y_train=labelEncoded(y_train)"
      ],
      "metadata": {
        "id": "z2QvGGMvbWZ7"
      },
      "execution_count": 56,
      "outputs": []
    },
    {
      "cell_type": "markdown",
      "source": [
        "**Layer 1**"
      ],
      "metadata": {
        "id": "2jYKi4wmkKzV"
      }
    },
    {
      "cell_type": "code",
      "source": [
        "# create the model\n",
        "embedding_vecor_length = 32\n",
        "\n",
        "#Sequential model\n",
        "layer_1 = Sequential()\n",
        "\n",
        "#embedding\n",
        "layer_1.add(Embedding(20000, embedding_vecor_length, input_length=max_review_length))\n",
        "\n",
        "# 1st LSTM layer\n",
        "layer_1.add(LSTM(100))\n",
        "\n",
        "# Dropout layer\n",
        "layer_1.add(Dropout(0.3))\n",
        "\n",
        "# output layer\n",
        "layer_1.add(Dense(1, activation='sigmoid'))\n",
        "\n",
        "# model summary\n",
        "print(layer_1.summary())\n",
        "\n",
        "# Compiling\n",
        "layer_1.compile(loss='binary_crossentropy', optimizer='adam', metrics=['accuracy'])\n",
        "\n",
        "# Fitting the model\n",
        "history_1 = layer_1.fit(X_train, y_train, epochs=10, batch_size=512 ,verbose=1,validation_data=(X_test, y_test))"
      ],
      "metadata": {
        "colab": {
          "base_uri": "https://localhost:8080/"
        },
        "id": "78xWZMSNkG1z",
        "outputId": "e192cc58-3c45-4be6-b4e3-91537016e6ff"
      },
      "execution_count": null,
      "outputs": [
        {
          "output_type": "stream",
          "name": "stdout",
          "text": [
            "Model: \"sequential_3\"\n",
            "_________________________________________________________________\n",
            " Layer (type)                Output Shape              Param #   \n",
            "=================================================================\n",
            " embedding_3 (Embedding)     (None, 600, 32)           640000    \n",
            "                                                                 \n",
            " lstm_3 (LSTM)               (None, 100)               53200     \n",
            "                                                                 \n",
            " dropout_1 (Dropout)         (None, 100)               0         \n",
            "                                                                 \n",
            " dense_1 (Dense)             (None, 1)                 101       \n",
            "                                                                 \n",
            "=================================================================\n",
            "Total params: 693,301\n",
            "Trainable params: 693,301\n",
            "Non-trainable params: 0\n",
            "_________________________________________________________________\n",
            "None\n",
            "Epoch 1/10\n",
            "125/125 [==============================] - 529s 4s/step - loss: 0.3531 - accuracy: 0.8697 - val_loss: 0.2267 - val_accuracy: 0.9100\n",
            "Epoch 2/10\n",
            "125/125 [==============================] - 503s 4s/step - loss: 0.1782 - accuracy: 0.9309 - val_loss: 0.2136 - val_accuracy: 0.9181\n",
            "Epoch 3/10\n",
            "125/125 [==============================] - 508s 4s/step - loss: 0.1463 - accuracy: 0.9445 - val_loss: 0.2199 - val_accuracy: 0.9145\n",
            "Epoch 4/10\n",
            "125/125 [==============================] - 504s 4s/step - loss: 0.1269 - accuracy: 0.9536 - val_loss: 0.2331 - val_accuracy: 0.9128\n",
            "Epoch 5/10\n",
            "125/125 [==============================] - 524s 4s/step - loss: 0.1398 - accuracy: 0.9465 - val_loss: 0.2494 - val_accuracy: 0.9119\n",
            "Epoch 6/10\n",
            "125/125 [==============================] - 511s 4s/step - loss: 0.1031 - accuracy: 0.9639 - val_loss: 0.2577 - val_accuracy: 0.9058\n",
            "Epoch 7/10\n",
            "125/125 [==============================] - 508s 4s/step - loss: 0.0906 - accuracy: 0.9682 - val_loss: 0.2989 - val_accuracy: 0.9081\n",
            "Epoch 8/10\n",
            "125/125 [==============================] - 502s 4s/step - loss: 0.0796 - accuracy: 0.9729 - val_loss: 0.3035 - val_accuracy: 0.9035\n",
            "Epoch 9/10\n",
            "125/125 [==============================] - 513s 4s/step - loss: 0.0713 - accuracy: 0.9756 - val_loss: 0.3277 - val_accuracy: 0.9022\n",
            "Epoch 10/10\n",
            " 68/125 [===============>..............] - ETA: 3:32 - loss: 0.0592 - accuracy: 0.9812"
          ]
        }
      ]
    },
    {
      "cell_type": "code",
      "source": [
        "score = layer_1.evaluate(x_test, y_test, verbose=0) \n",
        "print('Accuracy:', score[1])"
      ],
      "metadata": {
        "colab": {
          "base_uri": "https://localhost:8080/"
        },
        "id": "GHOcM9RIkG4W",
        "outputId": "29db0e36-7b97-4d52-af04-0f6b208ff991"
      },
      "execution_count": 66,
      "outputs": [
        {
          "output_type": "stream",
          "name": "stdout",
          "text": [
            "Accuracy: 0.8981249928474426\n"
          ]
        }
      ]
    },
    {
      "cell_type": "markdown",
      "source": [
        "**Conclusion**"
      ],
      "metadata": {
        "id": "kccYetF8tWuA"
      }
    },
    {
      "cell_type": "markdown",
      "source": [
        "Logistic Regression using TFIDF (F1-Score on test set: 86.5%) performed better than all other models"
      ],
      "metadata": {
        "id": "_2sQPfPDtH1K"
      }
    },
    {
      "cell_type": "markdown",
      "source": [
        "**Loading best ML Model to pickle file**"
      ],
      "metadata": {
        "id": "iINMHeE9tZnh"
      }
    },
    {
      "cell_type": "code",
      "source": [
        "# loading library\n",
        "import pickle"
      ],
      "metadata": {
        "id": "brgLKRG-tVsd"
      },
      "execution_count": 81,
      "outputs": []
    },
    {
      "cell_type": "code",
      "source": [
        "# create an iterator object with write permission - model.pkl\n",
        "with open('lrtfidf_pkl', 'wb') as files:\n",
        "    pickle.dump(LRIDFDF, files)"
      ],
      "metadata": {
        "id": "FwoU6l4rnkn8"
      },
      "execution_count": 87,
      "outputs": []
    }
  ]
}